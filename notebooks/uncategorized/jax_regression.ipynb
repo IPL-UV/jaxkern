{
  "nbformat": 4,
  "nbformat_minor": 0,
  "metadata": {
    "colab": {
      "name": "jax_regression.ipynb",
      "provenance": [],
      "collapsed_sections": []
    },
    "kernelspec": {
      "name": "python3",
      "display_name": "Python 3"
    },
    "accelerator": "GPU"
  },
  "cells": [
    {
      "cell_type": "code",
      "metadata": {
        "id": "DZjcrHYLxwj7",
        "colab_type": "code",
        "colab": {}
      },
      "source": [
        "import numpy as onp\n",
        "import jax\n",
        "import jax.numpy as jnp\n",
        "from jax import grad, jit, vmap\n",
        "from jax import random\n",
        "\n",
        "# plot functions\n",
        "import matplotlib.pyplot as plt\n",
        "plt.style.use(['ggplot'])"
      ],
      "execution_count": null,
      "outputs": []
    },
    {
      "cell_type": "markdown",
      "metadata": {
        "id": "klhuTjJlSeoX",
        "colab_type": "text"
      },
      "source": [
        "## Resources\n",
        "\n",
        "**Theory**\n",
        "\n",
        "* Kernel Methods in Machine Learning - Lecture 2: Regularized learning and kernels - [Slides](https://mycourses.aalto.fi/pluginfile.php/359553/mod_resource/content/1/CS-4830_Lecture2.pdf)\n",
        "* Intro to ML Course - [Colab](https://www.papernot.fr/teaching/w20-ml)\n",
        "\n"
      ]
    },
    {
      "cell_type": "markdown",
      "metadata": {
        "id": "nzw_F7ucC0OJ",
        "colab_type": "text"
      },
      "source": [
        "## Data"
      ]
    },
    {
      "cell_type": "code",
      "metadata": {
        "id": "HDy9nrB03ZHU",
        "colab_type": "code",
        "cellView": "form",
        "colab": {
          "base_uri": "https://localhost:8080/",
          "height": 355
        },
        "outputId": "bf8047a4-ff48-4b17-b016-047f6b02d497"
      },
      "source": [
        "#@title 1D Data\n",
        "\n",
        "rng_key = random.PRNGKey(10)\n",
        "\n",
        "n_samples, n_features = 100, 1\n",
        "\n",
        "# generate X\n",
        "X = random.normal(rng_key, shape=(n_samples, n_features))\n",
        "\n",
        "# generate true w\n",
        "true_w = random.normal(rng_key+1, shape=(n_features,))\n",
        "print(\"True Weights: \", true_w)\n",
        "# generate y = Xw + eps\n",
        "eps = 0.5\n",
        "y_true = jnp.dot(X, true_w) + eps * random.normal(rng_key+2, shape=(n_samples,))\n",
        "\n",
        "X_plot = jnp.linspace(X.min(), X.max(), 1_000)[:, None]\n",
        "print(X.shape, X_plot.shape, y_true.shape)\n",
        "\n",
        "fig, ax = plt.subplots(figsize=(7, 5))\n",
        "ax.scatter(X, y_true)\n",
        "plt.show()"
      ],
      "execution_count": null,
      "outputs": [
        {
          "output_type": "stream",
          "text": [
            "True Weights:  [1.1355438]\n",
            "(100, 1) (1000, 1) (100,)\n"
          ],
          "name": "stdout"
        },
        {
          "output_type": "display_data",
          "data": {
            "image/png": "[encoded data removed]",
            "text/plain": [
              "<Figure size 504x360 with 1 Axes>"
            ]
          },
          "metadata": {
            "tags": []
          }
        }
      ]
    },
    {
      "cell_type": "markdown",
      "metadata": {
        "id": "iKzxp1EcyTi5",
        "colab_type": "text"
      },
      "source": [
        "## Theory\n",
        "\n",
        "### Linear Regression\n",
        "Regression is a form of curve fitting or function approximation. Regression models typically try to solve the following problem: We want to find some latent function $f(\\cdot)$ s.t.\n",
        "\n",
        "$$\\hat{y}=f(\\mathbf{x,w}) + \\epsilon_y$$\n",
        "\n",
        "where:\n",
        "* $\\mathbf{w}$ - weights, unknown parameters (`n_features`)\n",
        "* $\\mathbf{x}$ - are independent variables (`n_features`)\n",
        "    * $\\mathbf{X}$ - are independent variables stacked with samples/realizations (`n_samples, n_features`)\n",
        "* $\\mathbf{y}$ - are dependent variables (`n_targets`)\n",
        "    * $\\mathbf{Y}$ - are dependent variables stacked on top of each other (`n_samples, n_targets`)\n",
        "\n",
        "We hope to approximate $m$- dimensional continuous functions via said $f(\\cdot)$. So if $\\mathbf{x} \\in \\mathbb{R}^{D}$, we want the function to map from to the target space $\\mathbf{y} \\in \\mathbb{R}^{P}$. \n",
        "\n",
        "\n",
        "**How do we choose the weights?**\n",
        "\n",
        "We can use **cross-validation** or we can **minimize a cost function** either by gradient descent or exact solutions.\n",
        "\n"
      ]
    },
    {
      "cell_type": "code",
      "metadata": {
        "id": "4_Fy3M9z3rT3",
        "colab_type": "code",
        "colab": {}
      },
      "source": [
        "#@title Linear Model\n",
        "\n",
        "# Linear Model\n",
        "def linear_model(params, x):\n",
        "    \"\"\"\"\"\"\n",
        "    return jnp.dot(params['w'], x) #+ params['b']\n"
      ],
      "execution_count": null,
      "outputs": []
    },
    {
      "cell_type": "markdown",
      "metadata": {
        "id": "qN0aKRVu5LID",
        "colab_type": "text"
      },
      "source": [
        "### Exact Solution\n",
        "\n",
        "Firstly, we can solve this explicitly in closed-form:\n",
        "\n",
        "$$\\hat{\\mathbf{w}} = (X^\\top X)^{-1}X^\\top\\mathbf{y}$$\n",
        "\n",
        "Fortunately, the jax library has a `np.linalg.pinv` implementation that allows us to calculate the gradients."
      ]
    },
    {
      "cell_type": "code",
      "metadata": {
        "id": "I4C5xI715MaI",
        "colab_type": "code",
        "colab": {
          "base_uri": "https://localhost:8080/",
          "height": 337
        },
        "outputId": "2412b138-0ce3-463c-dc60-65ea70bc4c16"
      },
      "source": [
        "# closed-form solution\n",
        "w_linalg = jnp.dot(jnp.linalg.pinv(X), y_true)\n",
        "print('Weights: ', w_linalg)\n",
        "\n",
        "# add parameters to the weights\n",
        "params = {'w': w_linalg}\n",
        "\n",
        "# create linear model\n",
        "model = linear_model\n",
        "\n",
        "# vectorize the model, w.r.t. inputs\n",
        "model = vmap(model, in_axes=(None, 0))\n",
        "\n",
        "# evaluate linear model\n",
        "y_linalg = model(params, X)\n",
        "\n",
        "# Plot Results\n",
        "fig, ax = plt.subplots(figsize=(7, 5))\n",
        "ax.scatter(X, y_true, label='Data', color='red')\n",
        "ax.plot(X, y_linalg, label='LinAlg Soln', color='black')\n",
        "ax.legend(fontsize=12)\n",
        "plt.show()"
      ],
      "execution_count": null,
      "outputs": [
        {
          "output_type": "stream",
          "text": [
            "Weights:  [1.1138446]\n"
          ],
          "name": "stdout"
        },
        {
          "output_type": "display_data",
          "data": {
            "image/png": "[encoded data removed]",
            "text/plain": [
              "<Figure size 504x360 with 1 Axes>"
            ]
          },
          "metadata": {
            "tags": []
          }
        }
      ]
    },
    {
      "cell_type": "code",
      "metadata": {
        "id": "MCwhiMPigTu_",
        "colab_type": "code",
        "colab": {}
      },
      "source": [
        "from dataclasses import dataclass \n",
        "\n",
        "@dataclass\n",
        "class Params:\n",
        "    # kernel params\n",
        "    sigmas = [0.01, 0.1, 1.0]\n",
        "    var = [10, 100, 1_000]\n",
        "    # experimental params\n",
        "    "
      ],
      "execution_count": null,
      "outputs": []
    },
    {
      "cell_type": "code",
      "metadata": {
        "id": "hPw0T7mhgisi",
        "colab_type": "code",
        "colab": {
          "base_uri": "https://localhost:8080/",
          "height": 34
        },
        "outputId": "e6414223-14f7-4b4f-fc27-f16091319176"
      },
      "source": [
        "Params.sigmas, Params.var"
      ],
      "execution_count": null,
      "outputs": [
        {
          "output_type": "execute_result",
          "data": {
            "text/plain": [
              "([0.01, 0.1, 1.0], [10, 100, 1000])"
            ]
          },
          "metadata": {
            "tags": []
          },
          "execution_count": 6
        }
      ]
    },
    {
      "cell_type": "markdown",
      "metadata": {
        "id": "bLwLFMYcetal",
        "colab_type": "text"
      },
      "source": [
        "```python\n",
        "def f(w, b, x):\n",
        "    return jnp.dot(x, w) + b\n",
        "\n",
        "df_dw = jax.grad(f, argnums=(0))\n",
        "df_db = jax.grad(f, argnums=(1))\n",
        "df_dx = jax.grad(f, argnums=(2))\n",
        "df_dw, df_db = jax.grad(f, argnums=(0, 1))\n",
        "```\n",
        "\n",
        "```python\n",
        "def linear_model(params, x):\n",
        "    return jnp.dot(x, params['w']) + params['b']\n",
        "df_dw = jax.grad(f, argnums=(0))\n",
        "```"
      ]
    },
    {
      "cell_type": "code",
      "metadata": {
        "id": "b1-PFwTgAhoC",
        "colab_type": "code",
        "colab": {
          "base_uri": "https://localhost:8080/",
          "height": 337
        },
        "outputId": "6269a25a-781b-4f98-b5d7-aac3ae587e38"
      },
      "source": [
        "# get gradient of model w.r.t. inputs (NOT params)\n",
        "model_gradx = jax.grad(linear_model, argnums=(1))\n",
        "\n",
        "# vectorize grad function\n",
        "model_gradx = vmap(model_gradx, in_axes=(None, 0))\n",
        "\n",
        "# get gradients w.r.t X\n",
        "dydx = model_gradx(params, X)\n",
        "print(jnp.mean(dydx))\n",
        "\n",
        "# Plot\n",
        "fig, ax = plt.subplots(figsize=(7, 5))\n",
        "ax.plot(X, dydx, label='Gradient', color='red')\n",
        "ax.plot(X, y_linalg, label='LinAlg Soln', color='black')\n",
        "ax.legend(fontsize=12)\n",
        "plt.show()"
      ],
      "execution_count": null,
      "outputs": [
        {
          "output_type": "stream",
          "text": [
            "1.1138446\n"
          ],
          "name": "stdout"
        },
        {
          "output_type": "display_data",
          "data": {
            "image/png": "[encoded data removed]",
            "text/plain": [
              "<Figure size 504x360 with 1 Axes>"
            ]
          },
          "metadata": {
            "tags": []
          }
        }
      ]
    },
    {
      "cell_type": "markdown",
      "metadata": {
        "id": "UhEOVs0W5nf7",
        "colab_type": "text"
      },
      "source": [
        "### Gradient Descent\n",
        "\n",
        "\n",
        "We can also use gradient descent to tackle this problem. If we initialize $\\mathbf{w}_0$ to be something random, then we can update:\n",
        "\n",
        "$$\\mathbf{w}_j = \\mathbf{w}_{j-1} + \\alpha \\nabla \\mathcal{L}(\\mathbf{w}_{j-1})$$\n",
        "\n",
        "where $\\nabla$ is the gradient operator and $\\alpha$ is the learning rate."
      ]
    },
    {
      "cell_type": "code",
      "metadata": {
        "id": "UotJHY1t7cM6",
        "colab_type": "code",
        "colab": {
          "base_uri": "https://localhost:8080/",
          "height": 34
        },
        "outputId": "9d9f554f-8701-4099-f3b4-9d26af80f894"
      },
      "source": [
        "# initialize params\n",
        "def init_params(x):\n",
        "    return {'w': jnp.zeros(len(x))}\n",
        "\n",
        "params = init_params(X[0, :])\n",
        "print(params)"
      ],
      "execution_count": null,
      "outputs": [
        {
          "output_type": "stream",
          "text": [
            "{'w': DeviceArray([0.], dtype=float32)}\n"
          ],
          "name": "stdout"
        }
      ]
    },
    {
      "cell_type": "markdown",
      "metadata": {
        "id": "C5XK9VdOLfpE",
        "colab_type": "text"
      },
      "source": [
        "### Loss Function\n",
        "\n",
        "Recall the model for simple:\n",
        "\n",
        "$$y = X\\mathbf{w}$$\n",
        "\n",
        "We can define a loss function to describe the penalization:\n",
        "\n",
        "$$\\mathcal{L}(\\mathbf{w}) \n",
        "= \\left( f(\\mathbf{w,x}) - y \\right)^2$$\n",
        "\n",
        "where $\\mathbf{x,w} \\in \\mathbb{R}^D$ and $\\mathbf{y} \\in \\mathbb{R}^P$"
      ]
    },
    {
      "cell_type": "code",
      "metadata": {
        "id": "RaNNm5f57b0f",
        "colab_type": "code",
        "colab": {}
      },
      "source": [
        "from typing import Callable, Dict\n",
        "\n",
        "# Linear Function\n",
        "@jax.jit\n",
        "def linear_model(params, x):\n",
        "    \"\"\"\"\"\"\n",
        "    return jnp.dot(params['w'], x) #+ params['b']\n",
        "\n",
        "# MSE Loss Function\n",
        "@jax.jit\n",
        "def squared_loss(\n",
        "    params,\n",
        "    x,\n",
        "    y):\n",
        "    \"\"\"calculates the squared loss\"\"\"\n",
        "    # output of model\n",
        "    out = linear_model(params, x)\n",
        "\n",
        "    # calculate the squared loss\n",
        "    se = jnp.square(out - y)\n",
        "\n",
        "    return  se"
      ],
      "execution_count": null,
      "outputs": []
    },
    {
      "cell_type": "code",
      "metadata": {
        "id": "_eOmtaUMHtXd",
        "colab_type": "code",
        "colab": {
          "base_uri": "https://localhost:8080/",
          "height": 34
        },
        "outputId": "93aaed53-9b78-417d-9d1c-bc9d7437bb7b"
      },
      "source": [
        "# initialize loss function, squared loss\n",
        "loss = squared_loss\n",
        "\n",
        "# test loss function, single sample x\n",
        "params = {'w': jnp.zeros(n_features)}\n",
        "iloss = loss(params, X[0, :], y_true[0])\n",
        "\n",
        "print(iloss, type(iloss))"
      ],
      "execution_count": null,
      "outputs": [
        {
          "output_type": "stream",
          "text": [
            "0.00022611854 <class 'jax.interpreters.xla.DeviceArray'>\n"
          ],
          "name": "stdout"
        }
      ]
    },
    {
      "cell_type": "markdown",
      "metadata": {
        "id": "BCxXEHSYMBmw",
        "colab_type": "text"
      },
      "source": [
        "#### Vectorizing\n",
        "\n",
        "In the above equation, we assumed that we only had one sample $\\mathbf{x}$ of dimension D. What you'll typically see in your textbooks is the following: \n",
        "\n",
        "\n",
        "$$\\mathcal{L}(\\mathbf{w}) \n",
        "= \\frac{1}{N}\\sum_{i=1}^N\\left( f(\\mathbf{w,x_i}) - y_i \\right)^2$$\n",
        "\n",
        "where $N$ is the number of samples, $\\mathbf{X} \\in \\mathbb{R}^{N \\times D}$, $\\mathbf{w} \\in \\mathbb{R}^D$ and $\\mathbf{y} \\in \\mathbb{R}^P$\n",
        "\n",
        "In JAX, we can vectorize this operation via the `vmap` function again so that we can deal with multiple samples."
      ]
    },
    {
      "cell_type": "code",
      "metadata": {
        "id": "_dlCSimzMC4r",
        "colab_type": "code",
        "colab": {
          "base_uri": "https://localhost:8080/",
          "height": 382
        },
        "outputId": "108d73c4-feb5-4233-c112-e200bc67066e"
      },
      "source": [
        "# initialize loss function, squared loss\n",
        "loss = squared_loss\n",
        "\n",
        "# vectorize loss function, w.r.t. inputs\n",
        "loss = jax.jit(jax.vmap(loss, in_axes=(None, 0, 0), out_axes=0))\n",
        "\n",
        "# test loss function, w.r.t. multiple inputs\n",
        "nloss = loss(params, X, y_true)\n",
        "print(nloss)\n",
        "\n",
        "# mean squared loss\n",
        "print(jnp.mean(nloss))"
      ],
      "execution_count": null,
      "outputs": [
        {
          "output_type": "stream",
          "text": [
            "[8.0645442e-02 9.4554238e-02 8.3976537e-02 1.7630138e-02 5.0342840e-01\n",
            " 5.0404724e-03 3.1685731e+00 6.6430980e-01 2.2337744e-02 2.3208328e-02\n",
            " 1.5015393e+00 3.7379956e-01 6.4462519e-01 7.4515611e-01 3.8976738e-01\n",
            " 2.2867156e-05 6.9685459e-02 2.6425380e-01 9.6766524e-02 1.4237852e-03\n",
            " 9.8051831e-02 6.8827639e-03 8.4556288e-01 3.4373805e-02 6.5866634e-02\n",
            " 3.1160021e-01 4.6697313e-01 8.4000355e-01 9.9518001e-02 1.0432125e-02\n",
            " 6.5870367e-02 8.3173111e-02 1.3862267e-01 4.7982308e-01 1.3113645e-01\n",
            " 6.6110724e-01 4.8840046e-02 1.4619049e-01 1.2185501e-01 1.6809237e-01\n",
            " 4.4636085e-04 9.4798086e-03 2.6795484e-02 1.6848260e-01 2.9315330e-02\n",
            " 5.3964442e-01 3.9085913e-02 3.4926262e-01 1.0814760e-01 2.9149374e-01\n",
            " 9.6950477e-01 9.5541972e-01 5.9873456e-01 1.0549072e+00 1.5576355e+00\n",
            " 2.5051956e-03 1.2020152e-01 1.0441923e-02 3.7289292e-03 3.7731159e-02\n",
            " 3.7940878e-01 4.3410741e-02 3.7870684e-01 4.2859063e-01 8.0190808e-02\n",
            " 6.1363888e-01 6.0083166e-02 6.9471574e-01 1.1167380e-01 3.2192516e-01\n",
            " 9.7793862e-03 5.9897143e-01 3.3273250e-03 7.0469689e-01 6.5302797e-02\n",
            " 1.9358270e+00 1.7735863e-02 6.7352511e-02 2.0753915e-04 1.0211194e-01\n",
            " 4.2383394e-01 1.8887591e-02 3.7553245e-01 2.2194915e-02 2.2687789e-04\n",
            " 5.3139832e-02 1.2676840e-03 6.6674644e-01 3.7451327e-01 3.6305958e-01\n",
            " 7.5977676e-02 2.7205974e-01 3.1000806e-03 1.9000946e+00 5.9277501e-02\n",
            " 4.9240555e-04 8.2893503e-01 4.0142161e-01 2.0797843e-02 1.6739529e-02]\n",
            "0.32943642\n"
          ],
          "name": "stdout"
        }
      ]
    },
    {
      "cell_type": "markdown",
      "metadata": {
        "id": "X0bpA7kwOlUz",
        "colab_type": "text"
      },
      "source": [
        "### Loss Gradient"
      ]
    },
    {
      "cell_type": "code",
      "metadata": {
        "id": "aqm2i0SMKAff",
        "colab_type": "code",
        "colab": {
          "base_uri": "https://localhost:8080/",
          "height": 34
        },
        "outputId": "bc48103a-0ae4-4872-862e-2f3defe849c8"
      },
      "source": [
        "# create grad function from loss\n",
        "grad_loss = jax.jit(jax.grad(squared_loss, argnums=(0)))\n",
        "\n",
        "# vectorize grad_loss\n",
        "grad_loss = jax.jit(jax.vmap(grad_loss, in_axes=(None, 0, 0)))\n",
        "\n",
        "# gradients\n",
        "iloss = grad_loss(params, X, y_true)\n",
        "\n",
        "print(jnp.mean(iloss['w']))"
      ],
      "execution_count": null,
      "outputs": [
        {
          "output_type": "stream",
          "text": [
            "-5.2928925e-07\n"
          ],
          "name": "stdout"
        }
      ]
    },
    {
      "cell_type": "markdown",
      "metadata": {
        "id": "CpOkf46DuQ0T",
        "colab_type": "text"
      },
      "source": [
        "### Training"
      ]
    },
    {
      "cell_type": "code",
      "metadata": {
        "id": "M78q6YJGS3CL",
        "colab_type": "code",
        "colab": {
          "base_uri": "https://localhost:8080/",
          "height": 34
        },
        "outputId": "62cd7705-98fb-48be-a750-ee0625f0d5b8"
      },
      "source": [
        "iloss"
      ],
      "execution_count": null,
      "outputs": [
        {
          "output_type": "execute_result",
          "data": {
            "text/plain": [
              "DeviceArray(0.32943642, dtype=float32)"
            ]
          },
          "metadata": {
            "tags": []
          },
          "execution_count": 15
        }
      ]
    },
    {
      "cell_type": "code",
      "metadata": {
        "id": "esLJZYZg5owO",
        "colab_type": "code",
        "colab": {
          "base_uri": "https://localhost:8080/",
          "height": 52
        },
        "outputId": "8bf052dc-900c-48af-cf81-90c7ce05d46d"
      },
      "source": [
        "# do gradient descent\n",
        "params = init_params(X[0, :])\n",
        "print(params['w'])\n",
        "losses = []\n",
        "epsilon = 0.1\n",
        "iterations = 100\n",
        "\n",
        "for _ in range(iterations):\n",
        "    \n",
        "    # calculate the loss\n",
        "    iloss = loss(params, X, y_true)\n",
        "    iloss = jnp.mean(iloss)\n",
        "    \n",
        "    losses.append(iloss)\n",
        "\n",
        "    # calculate the gradients of loss\n",
        "    grad_losses = grad_loss(params, X, y_true)\n",
        "\n",
        "    # average gradients over batch, update params\n",
        "    params['w'] = params['w'] - epsilon * jnp.mean(grad_losses['w'], axis=0)\n",
        "    \n",
        "    # print(iloss, jnp.mean(grad_losses['w'], axis=0))\n",
        "print(params)"
      ],
      "execution_count": null,
      "outputs": [
        {
          "output_type": "stream",
          "text": [
            "[0.]\n",
            "{'w': DeviceArray([1.1138444], dtype=float32)}\n"
          ],
          "name": "stdout"
        }
      ]
    },
    {
      "cell_type": "code",
      "metadata": {
        "id": "34iqAnDZ6ujF",
        "colab_type": "code",
        "colab": {
          "base_uri": "https://localhost:8080/",
          "height": 320
        },
        "outputId": "e5393bfd-44dc-4417-a360-f7915b83bb5a"
      },
      "source": [
        "\n",
        "\n",
        "fig, ax = plt.subplots(ncols=2, figsize=(15, 5))\n",
        "\n",
        "# plot the losses\n",
        "ax[0].plot(losses, label='Losses')\n",
        "ax[0].legend(fontsize=20)\n",
        "\n",
        "# plot the resulting line\n",
        "y_pred = vmap(linear_model, in_axes=(None, 0))(params, X_plot)\n",
        "\n",
        "ax[1].scatter(X, y_true, label='Data', color='red')\n",
        "ax[1].plot(X_plot, y_pred, label='Grad Soln', color='black')\n",
        "ax[1].legend(fontsize=20)\n",
        "\n",
        "plt.show()\n",
        "\n"
      ],
      "execution_count": null,
      "outputs": [
        {
          "output_type": "display_data",
          "data": {
            "image/png": "[encoded data removed]",
            "text/plain": [
              "<Figure size 1080x360 with 2 Axes>"
            ]
          },
          "metadata": {
            "tags": []
          }
        }
      ]
    },
    {
      "cell_type": "markdown",
      "metadata": {
        "id": "hV4rmmxn48lT",
        "colab_type": "text"
      },
      "source": [
        "### Penalized Linear Regression: Ridge Regression\n",
        "\n",
        "For kernel methods, we add a penalty to the loss function.\n",
        "\n",
        "$$\n",
        "\\mathcal{L}(\\mathbf{w, \\lambda}) \n",
        "= \\underset{\\mathbf{w}}{\\text{min}}\n",
        "\\left\\{ \n",
        "    ||\\mathbf{Y}-\\mathbf{Xw} ||^2 + \\lambda ||\\mathbf{w}||^2 \n",
        "\\right\\}\n",
        "$$\n"
      ]
    },
    {
      "cell_type": "code",
      "metadata": {
        "id": "zmzlQGvrbWdz",
        "colab_type": "code",
        "colab": {
          "base_uri": "https://localhost:8080/",
          "height": 34
        },
        "outputId": "a44a04a8-43cd-44f1-8445-5a1954d83874"
      },
      "source": [
        "# initialize params\n",
        "def init_params(x):\n",
        "    return {'w': jnp.ones(len(x)), 'lambda': 0.01 * jnp.ones((1,))}\n",
        "\n",
        "params = init_params(X[0, :])\n",
        "print(params)"
      ],
      "execution_count": null,
      "outputs": [
        {
          "output_type": "stream",
          "text": [
            "{'w': DeviceArray([1.], dtype=float32), 'lambda': DeviceArray([0.01], dtype=float32)}\n"
          ],
          "name": "stdout"
        }
      ]
    },
    {
      "cell_type": "code",
      "metadata": {
        "id": "BTd0c68T4xkA",
        "colab_type": "code",
        "colab": {}
      },
      "source": [
        "from typing import Callable, Dict\n",
        "\n",
        "# Linear Function\n",
        "@jax.jit\n",
        "def linear_model(params, x):\n",
        "    \"\"\"\"\"\"\n",
        "    return jnp.dot(params['w'], x) #+ params['b']\n",
        "\n",
        "# MSE Loss Function\n",
        "@jax.jit\n",
        "def l2_squared_loss(\n",
        "    params,\n",
        "    x,\n",
        "    y,\n",
        "    l2=0.01):\n",
        "    \"\"\"calculates the squared loss\"\"\"\n",
        "    # output of model\n",
        "    out = linear_model(params, x)\n",
        "\n",
        "    # calculate the squared loss\n",
        "    se = jnp.power(out - y, 2)\n",
        "\n",
        "    # add l2 regularization\n",
        "    # print(jnp.square(jnp.linalg.norm(params['w'], 2)))\n",
        "    reg = l2 * jnp.square(jnp.linalg.norm(params['w'], 2))\n",
        "    # print(reg)\n",
        "    return se + reg"
      ],
      "execution_count": null,
      "outputs": []
    },
    {
      "cell_type": "code",
      "metadata": {
        "id": "8s7dNgBRew-G",
        "colab_type": "code",
        "colab": {}
      },
      "source": [
        "def make_loss_n_grad(loss_func, params, X, y_true, test=False, jitted=True):\n",
        "\n",
        "    # =========================\n",
        "    # Loss Function\n",
        "    # =========================\n",
        "\n",
        "    # vectorize loss function, w.r.t. inputs\n",
        "    if jitted == True:\n",
        "        loss = jax.jit(jax.vmap(loss_func, in_axes=(None, 0, 0), out_axes=0))\n",
        "    else:\n",
        "        loss = jax.vmap(loss_func, in_axes=(None, 0, 0), out_axes=0)\n",
        "\n",
        "    if test == True:\n",
        "        # test loss function, w.r.t. multiple inputs\n",
        "        nloss = loss(params, X, y_true)\n",
        "\n",
        "        # mean squared loss\n",
        "        print(jnp.mean(nloss))\n",
        "    \n",
        "    # =========================\n",
        "    # Grad Loss Function\n",
        "    # =========================\n",
        "    \n",
        "    # grad_loss = jax.grad(l2_squared_loss, argnums=(0))\n",
        "    if jitted:\n",
        "        # create grad function from loss\n",
        "        grad_loss = jax.jit(jax.grad(loss_func, argnums=(0)))\n",
        "\n",
        "        # vectorize grad_loss\n",
        "        grad_loss = jax.jit(jax.vmap(grad_loss, in_axes=(None, 0, 0)))\n",
        "    else:\n",
        "        # create grad function from loss\n",
        "        grad_loss = jax.grad(loss_func, argnums=(0))\n",
        "\n",
        "        # vectorize grad_loss\n",
        "        grad_loss = jax.vmap(grad_loss, in_axes=(None, 0, 0))\n",
        "    \n",
        "\n",
        "    if test == True:\n",
        "        # gradients\n",
        "        iloss = grad_loss(params, X, y_true)\n",
        "\n",
        "        print(jnp.mean(iloss['w']))\n",
        "    return loss, grad_loss"
      ],
      "execution_count": null,
      "outputs": []
    },
    {
      "cell_type": "code",
      "metadata": {
        "id": "ueXm-MpUisWD",
        "colab_type": "code",
        "colab": {
          "base_uri": "https://localhost:8080/",
          "height": 69
        },
        "outputId": "99e4bdef-fbdd-4705-d153-c360320bf6f0"
      },
      "source": [
        "# init params\n",
        "params = init_params(X[0, :])\n",
        "print(\"Params:\", params)\n",
        "# create loss functions\n",
        "loss, grad_loss = make_loss_n_grad(l2_squared_loss, params, X, y_true, test=True)"
      ],
      "execution_count": null,
      "outputs": [
        {
          "output_type": "stream",
          "text": [
            "Params: {'w': DeviceArray([1.], dtype=float32), 'lambda': DeviceArray([0.01], dtype=float32)}\n",
            "0.35159916\n",
            "-0.1936729\n"
          ],
          "name": "stdout"
        }
      ]
    },
    {
      "cell_type": "code",
      "metadata": {
        "id": "Tx71CxiibOE9",
        "colab_type": "code",
        "colab": {
          "base_uri": "https://localhost:8080/",
          "height": 34
        },
        "outputId": "567da6ee-5b4e-4f7a-b5d9-25ca0954b2a1"
      },
      "source": [
        "losses = []\n",
        "alpha = 0.1\n",
        "iterations = 100\n",
        "\n",
        "for _ in range(iterations):\n",
        "    \n",
        "    # calculate the loss\n",
        "    iloss = loss(params, X, y_true)\n",
        "    iloss = jnp.mean(iloss)\n",
        "    \n",
        "    losses.append(iloss)\n",
        "\n",
        "    # calculate the gradients of loss\n",
        "    grad_losses = grad_loss(params, X, y_true)\n",
        "\n",
        "    # average gradients over batch, update params\n",
        "    params['w'] = params['w'] - alpha * jnp.mean(grad_losses['w'], axis=0)\n",
        "    # print(iloss, jnp.mean(grad_losses['w'], axis=0))\n",
        "print(params)"
      ],
      "execution_count": null,
      "outputs": [
        {
          "output_type": "stream",
          "text": [
            "{'w': DeviceArray([1.1021005], dtype=float32), 'lambda': DeviceArray([0.01], dtype=float32)}\n"
          ],
          "name": "stdout"
        }
      ]
    },
    {
      "cell_type": "code",
      "metadata": {
        "id": "b6PSGu1XcbC7",
        "colab_type": "code",
        "colab": {
          "base_uri": "https://localhost:8080/",
          "height": 322
        },
        "outputId": "e07278fe-5acb-499e-a1d6-1b291afa5f5c"
      },
      "source": [
        "fig, ax = plt.subplots(ncols=2, figsize=(15, 5))\n",
        "\n",
        "# plot the losses\n",
        "ax[0].plot(losses, label='Losses')\n",
        "ax[0].legend(fontsize=20)\n",
        "\n",
        "# plot the resulting line\n",
        "y_pred = vmap(linear_model, in_axes=(None, 0))(params, X_plot)\n",
        "\n",
        "ax[1].scatter(X, y_true, label='Data', color='red')\n",
        "ax[1].plot(X_plot, y_pred, label='Grad Soln', color='black')\n",
        "ax[1].legend(fontsize=20)\n",
        "\n",
        "plt.show()"
      ],
      "execution_count": null,
      "outputs": [
        {
          "output_type": "display_data",
          "data": {
            "image/png": "[encoded data removed]",
            "text/plain": [
              "<Figure size 1080x360 with 2 Axes>"
            ]
          },
          "metadata": {
            "tags": []
          }
        }
      ]
    }
  ]
}