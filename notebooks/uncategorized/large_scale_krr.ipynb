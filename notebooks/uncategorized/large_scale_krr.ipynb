{
 "cells": [
  {
   "cell_type": "code",
   "execution_count": 2,
   "metadata": {},
   "outputs": [
    {
     "ename": "ModuleNotFoundError",
     "evalue": "No module named 'kernellib.nystrom'",
     "output_type": "error",
     "traceback": [
      "\u001b[0;31m---------------------------------------------------------------------------\u001b[0m",
      "\u001b[0;31mModuleNotFoundError\u001b[0m                       Traceback (most recent call last)",
      "\u001b[0;32m<ipython-input-2-bfeb82c711b2>\u001b[0m in \u001b[0;36m<module>\u001b[0;34m\u001b[0m\n\u001b[1;32m      8\u001b[0m \u001b[0;32mimport\u001b[0m \u001b[0msys\u001b[0m\u001b[0;34m\u001b[0m\u001b[0;34m\u001b[0m\u001b[0m\n\u001b[1;32m      9\u001b[0m \u001b[0msys\u001b[0m\u001b[0;34m.\u001b[0m\u001b[0mpath\u001b[0m\u001b[0;34m.\u001b[0m\u001b[0minsert\u001b[0m\u001b[0;34m(\u001b[0m\u001b[0;36m0\u001b[0m\u001b[0;34m,\u001b[0m \u001b[0;34m'/home/emmanuel/code/kernellib'\u001b[0m\u001b[0;34m)\u001b[0m\u001b[0;34m\u001b[0m\u001b[0;34m\u001b[0m\u001b[0m\n\u001b[0;32m---> 10\u001b[0;31m \u001b[0;32mfrom\u001b[0m \u001b[0mkernellib\u001b[0m\u001b[0;34m.\u001b[0m\u001b[0mnystrom\u001b[0m \u001b[0;32mimport\u001b[0m \u001b[0mRandomizedNystrom\u001b[0m\u001b[0;34m\u001b[0m\u001b[0;34m\u001b[0m\u001b[0m\n\u001b[0m\u001b[1;32m     11\u001b[0m \u001b[0;32mimport\u001b[0m \u001b[0mmatplotlib\u001b[0m\u001b[0;34m.\u001b[0m\u001b[0mpyplot\u001b[0m \u001b[0;32mas\u001b[0m \u001b[0mplt\u001b[0m\u001b[0;34m\u001b[0m\u001b[0;34m\u001b[0m\u001b[0m\n\u001b[1;32m     12\u001b[0m \u001b[0mget_ipython\u001b[0m\u001b[0;34m(\u001b[0m\u001b[0;34m)\u001b[0m\u001b[0;34m.\u001b[0m\u001b[0mrun_line_magic\u001b[0m\u001b[0;34m(\u001b[0m\u001b[0;34m'matplotlib'\u001b[0m\u001b[0;34m,\u001b[0m \u001b[0;34m'inline'\u001b[0m\u001b[0;34m)\u001b[0m\u001b[0;34m\u001b[0m\u001b[0;34m\u001b[0m\u001b[0m\n",
      "\u001b[0;31mModuleNotFoundError\u001b[0m: No module named 'kernellib.nystrom'"
     ]
    }
   ],
   "source": [
    "from sklearn.base import BaseEstimator, TransformerMixin, RegressorMixin\n",
    "from sklearn.exceptions import NotFittedError\n",
    "from scipy.stats import cauchy, laplace\n",
    "from scipy.linalg import cholesky, cho_solve\n",
    "from sklearn.linear_model.ridge import _solve_cholesky_kernel\n",
    "\n",
    "import numpy as np\n",
    "import sys\n",
    "sys.path.insert(0, '/home/emmanuel/code/kernellib')\n",
    "from kernellib.nystrom import RandomizedNystrom\n",
    "import matplotlib.pyplot as plt\n",
    "%matplotlib inline"
   ]
  },
  {
   "cell_type": "markdown",
   "metadata": {},
   "source": [
    "### Random Kitchen Sinks and Kernel Ridge Regression"
   ]
  },
  {
   "cell_type": "markdown",
   "metadata": {},
   "source": [
    "Inspiration\n",
    "* Original Paper at Berkeley - [Blog](https://people.eecs.berkeley.edu/~brecht/kitchensinks.html)\n",
    "* Randomized Kernels for Large Scale Earth Observation Applications - [ISP](https://people.eecs.berkeley.edu/~brecht/kitchensinks.html)"
   ]
  },
  {
   "cell_type": "code",
   "execution_count": 44,
   "metadata": {},
   "outputs": [],
   "source": [
    "class RKSKernelRidge(BaseEstimator, RegressorMixin):\n",
    "    def __init__(self, n_components=10, alpha=1e-3, gamma=1.0,\n",
    "                 random_state=None):\n",
    "        self.n_components = n_components\n",
    "        self.alpha = alpha\n",
    "        self.gamma = gamma\n",
    "        self.random_state = random_state\n",
    "        \n",
    "    def fit(self, X, y):\n",
    "        \n",
    "        rng = np.random.RandomState(self.random_state)\n",
    "        \n",
    "        self.w = self.gamma * rng.randn(self.n_components, X.shape[1])\n",
    "        self.Z = np.exp(1j * np.dot(X, self.w.T))\n",
    "        \n",
    "        K = np.dot(self.Z.T, self.Z) + alpha * np.eye(self.n_components)\n",
    "        \n",
    "        \n",
    "        self.weights_ = np.linalg.solve(K, np.dot(self.Z.T, y))\n",
    "        \n",
    "        return self\n",
    "    def transform(self, X):\n",
    "        \n",
    "        \n",
    "        return np.exp(1j * np.dot(X, self.w.T))\n",
    "    \n",
    "    def predict(self, X):\n",
    "        \n",
    "        K_trans = np.exp(1j * np.dot(X, np.matrix.getH(self.w)))\n",
    "        \n",
    "        return np.real(np.dot(K_trans, self.weights_))\n",
    "    def compute_kernel(self, X):\n",
    "        \n",
    "        L = self.transform(X)\n",
    "        return np.dot(L, L.T)"
   ]
  },
  {
   "cell_type": "markdown",
   "metadata": {},
   "source": [
    "## Random Kitchen Sinks"
   ]
  },
  {
   "cell_type": "code",
   "execution_count": 3,
   "metadata": {},
   "outputs": [],
   "source": [
    "class RandomKitchenSinks(BaseEstimator, TransformerMixin):\n",
    "    def __init__(self, n_components=10, gamma=1.0,\n",
    "                 random_state=None):\n",
    "        self.n_components = n_components\n",
    "        self.gamma = gamma\n",
    "        self.random_state = random_state\n",
    "    \n",
    "    def fit(self, X):\n",
    "        \n",
    "        rng = np.random.RandomState(self.random_state)\n",
    "        \n",
    "        self.w = self.gamma * rng.randn(self.n_components, X.shape[1])\n",
    "        self.Z = np.exp(1j * np.dot(X, self.w.T))\n",
    "        \n",
    "        return self\n",
    "    def transform(self, X):\n",
    "        \n",
    "        return np.exp(1j * np.dot(X, self.w.T))\n",
    "    \n",
    "    def compute_kernel(self, X):\n",
    "        \n",
    "        L = self.transform(X)\n",
    "        return np.dot(L, L.T)"
   ]
  },
  {
   "cell_type": "code",
   "execution_count": 195,
   "metadata": {},
   "outputs": [],
   "source": [
    "class RKSKernelRidge(BaseEstimator, RegressorMixin):\n",
    "    def __init__(self, n_components=10, alpha=1e-3, gamma=1.0,\n",
    "                 random_state=None):\n",
    "        self.n_components = n_components\n",
    "        self.alpha = alpha\n",
    "        self.gamma = gamma\n",
    "        self.random_state = random_state\n",
    "        \n",
    "    def fit(self, X, y):\n",
    "        \n",
    "        rng = np.random.RandomState(self.random_state)\n",
    "        \n",
    "        self.rks = RandomKitchenSinks(\n",
    "            n_components=self.n_components,\n",
    "            gamma=self.gamma,\n",
    "            random_state=self.random_state\n",
    "        )\n",
    "        self.rks.fit(X)\n",
    "        self.L = self.rks.transform(X)\n",
    "        \n",
    "        K = np.dot(self.L.T, self.L) + alpha * np.eye(self.n_components)\n",
    "        \n",
    "        \n",
    "        self.weights_ = np.linalg.solve(\n",
    "            K, np.dot(self.L.T, y)\n",
    "        )\n",
    "        \n",
    "        return self\n",
    "\n",
    "    def predict(self, X):\n",
    "        \n",
    "        K_trans = self.rks.transform(X)\n",
    "        \n",
    "        return np.real(np.dot(K_trans, self.weights_))"
   ]
  },
  {
   "cell_type": "code",
   "execution_count": 196,
   "metadata": {},
   "outputs": [],
   "source": [
    "\n",
    "\n",
    "rkskrr_model = RKSKernelRidge(n_components=n_components, \n",
    "                          alpha=alpha, \n",
    "                          gamma=gamma,\n",
    "                          random_state=seed)\n",
    "rkskrr_model.fit(xtrain, ytrain);\n",
    "y_pred = rkskrr_model.predict(xtest)"
   ]
  },
  {
   "cell_type": "code",
   "execution_count": 197,
   "metadata": {},
   "outputs": [
    {
     "name": "stdout",
     "output_type": "stream",
     "text": [
      "71.8 ms ± 4.1 ms per loop (mean ± std. dev. of 7 runs, 10 loops each)\n",
      "2.13 ms ± 66.1 µs per loop (mean ± std. dev. of 7 runs, 100 loops each)\n"
     ]
    }
   ],
   "source": [
    "%timeit rkskrr_model.fit(xtrain, ytrain)\n",
    "%timeit rkskrr_model.predict(xtest)"
   ]
  },
  {
   "cell_type": "code",
   "execution_count": 198,
   "metadata": {},
   "outputs": [
    {
     "name": "stdout",
     "output_type": "stream",
     "text": [
      "0.099952878719\n"
     ]
    },
    {
     "data": {
      "image/png": "[encoded data removed]",
      "text/plain": [
       "<matplotlib.figure.Figure at 0x1195d0828>"
      ]
     },
     "metadata": {},
     "output_type": "display_data"
    }
   ],
   "source": [
    "rmse = (1 / np.sqrt(n_test)) * np.linalg.norm(y_pred - ytest)\n",
    "print(rmse)\n",
    "\n",
    "fig, ax = plt.subplots()\n",
    "\n",
    "xplot = np.linspace(xtrain.min(), xtest.max(), 100)[:, np.newaxis]\n",
    "yplot = rkskrr_model.predict(xplot)\n",
    "\n",
    "ax.scatter(xtrain, ytrain, color='r', label='Training Data')\n",
    "ax.plot(xplot, yplot, color='k', linewidth=2, label='Predictions')\n",
    "ax.legend()\n",
    "plt.show()"
   ]
  },
  {
   "cell_type": "markdown",
   "metadata": {},
   "source": [
    "## Large Scale Kernel Ridge (General Approximation Schemes)"
   ]
  },
  {
   "cell_type": "code",
   "execution_count": 4,
   "metadata": {},
   "outputs": [],
   "source": [
    "seed = 123\n",
    "rng = np.random.RandomState(seed)\n",
    "n_train, n_test = 10000, 1000\n",
    "d_dimensions = 1\n",
    "noise = 0.1\n",
    "\n",
    "xtrain = rng.randn(n_train, d_dimensions)\n",
    "ytrain = np.sin(xtrain) + noise * rng.randn(n_train, d_dimensions)\n",
    "\n",
    "xtest = rng.randn(n_test, d_dimensions)\n",
    "ytest = np.sin(xtest) + noise * rng.randn(n_test, d_dimensions)\n",
    "\n",
    "# training\n",
    "n_components = 10\n",
    "alpha = 1e-3\n",
    "gamma = 1.0"
   ]
  },
  {
   "cell_type": "code",
   "execution_count": 5,
   "metadata": {},
   "outputs": [],
   "source": [
    "class KernelRidge(BaseEstimator, RegressorMixin):\n",
    "    def __init__(self, n_components=10, alpha=1e-3, gamma=1.0,\n",
    "                 random_state=None, approximation='nystrom',\n",
    "                 k_rank=10):\n",
    "        self.n_components = n_components\n",
    "        self.alpha = alpha\n",
    "        self.gamma = gamma\n",
    "        self.random_state = random_state\n",
    "        self.approximation = approximation\n",
    "        self.k_rank = k_rank\n",
    "        \n",
    "    def fit(self, X, y):\n",
    "        \n",
    "        rng = np.random.RandomState(self.random_state)\n",
    "        \n",
    "        # Do a kernel approximation\n",
    "        self.L = self._kernel_approxmation(X)\n",
    "\n",
    "        # Solve for weights\n",
    "        K = np.dot(self.L.T, self.L)\n",
    "        alpha = np.atleast_1d(self.alpha)\n",
    "        \n",
    "        if len(y.shape) == 1:\n",
    "            y = y.reshape(-1, 1)\n",
    "            ravel = True\n",
    "        \n",
    "        weights = _solve_cholesky_kernel(K, np.dot(self.L.T, y), alpha)\n",
    "        self.weights_ = weights.ravel()\n",
    "        \n",
    "        return self\n",
    "    def _kernel_approxmation(self, X):\n",
    "        \n",
    "        if self.approximation == 'rff':\n",
    "            self.trans = RandomFourierFeatures(\n",
    "                n_components=self.n_components, \n",
    "                gamma=self.gamma\n",
    "            )\n",
    "        elif self.approximation == 'rbfsampler':\n",
    "            self.trans = RBFSampler(\n",
    "                gamma=self.gamma,\n",
    "                n_components=self.n_components, \n",
    "                random_state=self.random_state)\n",
    "        elif self.approximation == 'nystrom':\n",
    "            self.trans = Nystroem(\n",
    "                kernel='rbf',\n",
    "                gamma=self.gamma, \n",
    "                n_components=self.n_components\n",
    "            )\n",
    "        elif self.approximation == 'rnystrom':\n",
    "            self.trans = RandomizedNystrom(\n",
    "                kernel='rbf', sigma=self.gamma,\n",
    "                n_components=self.n_components,\n",
    "                k_rank=self.k_rank,\n",
    "                random_state=self.random_state\n",
    "            )\n",
    "        else:\n",
    "            raise ValueError('Unrecognized algorithm.')\n",
    "            \n",
    "        self.trans.fit(X)\n",
    "        \n",
    "        return self.trans.transform(X)\n",
    "    \n",
    "    def predict(self, X):\n",
    "        \n",
    "        K_trans = self.trans.transform(X)\n",
    "        \n",
    "        return np.real(np.dot(K_trans, self.weights_))"
   ]
  },
  {
   "cell_type": "markdown",
   "metadata": {},
   "source": [
    "## Nystrom"
   ]
  },
  {
   "cell_type": "code",
   "execution_count": 6,
   "metadata": {},
   "outputs": [],
   "source": [
    "from sklearn.kernel_approximation import Nystroem"
   ]
  },
  {
   "cell_type": "code",
   "execution_count": 7,
   "metadata": {},
   "outputs": [],
   "source": [
    "approximation = 'nystrom'\n",
    "krr_model = KernelRidge(n_components=n_components, \n",
    "                           alpha=alpha,\n",
    "                           gamma=gamma,\n",
    "                           random_state=seed, \n",
    "                        approximation=approximation)\n",
    "krr_model.fit(xtrain, ytrain);\n",
    "y_pred = krr_model.predict(xtest)"
   ]
  },
  {
   "cell_type": "code",
   "execution_count": 8,
   "metadata": {},
   "outputs": [
    {
     "name": "stdout",
     "output_type": "stream",
     "text": [
      "2.39 ms ± 52.8 µs per loop (mean ± std. dev. of 7 runs, 100 loops each)\n",
      "292 µs ± 16.1 µs per loop (mean ± std. dev. of 7 runs, 1000 loops each)\n"
     ]
    }
   ],
   "source": [
    "%timeit krr_model.fit(xtrain, ytrain)\n",
    "%timeit krr_model.predict(xtest)"
   ]
  },
  {
   "cell_type": "code",
   "execution_count": 9,
   "metadata": {},
   "outputs": [
    {
     "name": "stdout",
     "output_type": "stream",
     "text": [
      "29.0851376401\n"
     ]
    },
    {
     "data": {
      "image/png": "[encoded data removed]",
      "text/plain": [
       "<matplotlib.figure.Figure at 0x113eb0e80>"
      ]
     },
     "metadata": {},
     "output_type": "display_data"
    }
   ],
   "source": [
    "rmse = (1 / np.sqrt(n_test)) * np.linalg.norm(y_pred - ytest)\n",
    "print(rmse)\n",
    "\n",
    "fig, ax = plt.subplots()\n",
    "\n",
    "xplot = np.linspace(xtrain.min(), xtest.max(), 100)[:, np.newaxis]\n",
    "yplot = krr_model.predict(xplot)\n",
    "\n",
    "ax.scatter(xtrain, ytrain, color='r', label='Training Data')\n",
    "ax.plot(xplot, yplot, color='k', linewidth=2, label='Predictions')\n",
    "ax.legend()\n",
    "plt.show()"
   ]
  },
  {
   "cell_type": "markdown",
   "metadata": {},
   "source": [
    "## Randomized Nystrom"
   ]
  },
  {
   "cell_type": "code",
   "execution_count": 10,
   "metadata": {},
   "outputs": [],
   "source": [
    "from kernellib.nystrom import RandomizedNystrom"
   ]
  },
  {
   "cell_type": "code",
   "execution_count": 19,
   "metadata": {},
   "outputs": [],
   "source": [
    "approximation = 'rnystrom'\n",
    "krr_model = KernelRidge(n_components=n_components, \n",
    "                           alpha=alpha,\n",
    "                           gamma=gamma,\n",
    "                           random_state=seed, \n",
    "                        approximation=approximation, k_rank=10)\n",
    "krr_model.fit(xtrain, ytrain);\n",
    "y_pred = krr_model.predict(xtest)"
   ]
  },
  {
   "cell_type": "code",
   "execution_count": 20,
   "metadata": {},
   "outputs": [
    {
     "name": "stdout",
     "output_type": "stream",
     "text": [
      "2.93 ms ± 157 µs per loop (mean ± std. dev. of 7 runs, 100 loops each)\n",
      "288 µs ± 28.6 µs per loop (mean ± std. dev. of 7 runs, 1000 loops each)\n"
     ]
    }
   ],
   "source": [
    "%timeit krr_model.fit(xtrain, ytrain)\n",
    "%timeit krr_model.predict(xtest)"
   ]
  },
  {
   "cell_type": "code",
   "execution_count": 21,
   "metadata": {},
   "outputs": [
    {
     "name": "stdout",
     "output_type": "stream",
     "text": [
      "29.0807757025\n"
     ]
    },
    {
     "data": {
      "image/png": "[encoded data removed]",
      "text/plain": [
       "<matplotlib.figure.Figure at 0x116a15d30>"
      ]
     },
     "metadata": {},
     "output_type": "display_data"
    }
   ],
   "source": [
    "rmse = (1 / np.sqrt(n_test)) * np.linalg.norm(y_pred - ytest)\n",
    "print(rmse)\n",
    "\n",
    "fig, ax = plt.subplots()\n",
    "\n",
    "xplot = np.linspace(xtrain.min(), xtest.max(), 100)[:, np.newaxis]\n",
    "yplot = krr_model.predict(xplot)\n",
    "\n",
    "ax.scatter(xtrain, ytrain, color='r', label='Training Data')\n",
    "ax.plot(xplot, yplot, color='k', linewidth=2, label='Predictions')\n",
    "ax.legend()\n",
    "plt.show()"
   ]
  },
  {
   "cell_type": "markdown",
   "metadata": {},
   "source": [
    "## RBF Sampler (Variation of Random Kitchen Sinks)"
   ]
  },
  {
   "cell_type": "code",
   "execution_count": 23,
   "metadata": {},
   "outputs": [],
   "source": [
    "from sklearn.kernel_approximation import RBFSampler"
   ]
  },
  {
   "cell_type": "code",
   "execution_count": 24,
   "metadata": {},
   "outputs": [],
   "source": [
    "approximation = 'rbfsampler'\n",
    "krr_model = KernelRidge(n_components=n_components, \n",
    "                           alpha=alpha,\n",
    "                           gamma=gamma,\n",
    "                           random_state=seed,\n",
    "                        approximation=approximation)\n",
    "krr_model.fit(xtrain, ytrain);\n",
    "y_pred = krr_model.predict(xtest)"
   ]
  },
  {
   "cell_type": "code",
   "execution_count": 25,
   "metadata": {},
   "outputs": [
    {
     "name": "stdout",
     "output_type": "stream",
     "text": [
      "1.94 ms ± 186 µs per loop (mean ± std. dev. of 7 runs, 100 loops each)\n",
      "190 µs ± 8.9 µs per loop (mean ± std. dev. of 7 runs, 10000 loops each)\n"
     ]
    }
   ],
   "source": [
    "%timeit krr_model.fit(xtrain, ytrain)\n",
    "%timeit krr_model.predict(xtest)"
   ]
  },
  {
   "cell_type": "code",
   "execution_count": 26,
   "metadata": {},
   "outputs": [
    {
     "name": "stdout",
     "output_type": "stream",
     "text": [
      "29.0937313862\n"
     ]
    },
    {
     "data": {
      "image/png": "[encoded data removed]",
      "text/plain": [
       "<matplotlib.figure.Figure at 0x113e81f28>"
      ]
     },
     "metadata": {},
     "output_type": "display_data"
    }
   ],
   "source": [
    "rmse = (1 / np.sqrt(n_test)) * np.linalg.norm(y_pred - ytest)\n",
    "print(rmse)\n",
    "\n",
    "fig, ax = plt.subplots()\n",
    "\n",
    "xplot = np.linspace(xtrain.min(), xtest.max(), 100)[:, np.newaxis]\n",
    "yplot = krr_model.predict(xplot)\n",
    "\n",
    "ax.scatter(xtrain, ytrain, color='r', label='Training Data')\n",
    "ax.plot(xplot, yplot, color='k', linewidth=2, label='Predictions')\n",
    "ax.legend()\n",
    "plt.show()"
   ]
  },
  {
   "cell_type": "markdown",
   "metadata": {},
   "source": [
    "## Random Fourier Features"
   ]
  },
  {
   "cell_type": "code",
   "execution_count": 27,
   "metadata": {},
   "outputs": [],
   "source": [
    "class RandomFourierFeatures(BaseEstimator):\n",
    "    \"\"\"Random Fourier Features \"\"\"\n",
    "    def __init__(self, n_components=50, gamma = 1.0,\n",
    "                 random_state=None):\n",
    "        self.gamma = gamma\n",
    "        #Dimensionality D (number of MonteCarlo samples)\n",
    "        self.n_components = n_components\n",
    "        self.random_state = random_state\n",
    "        self.fitted = False\n",
    "        \n",
    "    def fit(self, X, y=None):\n",
    "        \"\"\" Generates MonteCarlo random samples \"\"\"\n",
    "        d = X.shape[1]\n",
    "        \n",
    "        rng = np.random.RandomState(self.random_state)\n",
    "        #Generate D iid samples from p(w) \n",
    "        self.w = np.sqrt(2*self.gamma) * \\\n",
    "                 np.random.normal(size=(self.n_components,d))\n",
    "        \n",
    "        #Generate D iid samples from Uniform(0,2*pi) \n",
    "        self.u = 2*np.pi*np.random.rand(self.n_components)\n",
    "        self.fitted = True\n",
    "        return self\n",
    "    \n",
    "    def transform(self,X):\n",
    "        \"\"\" Transforms the data X (n_samples, n_features) to the new map space Z(X) (n_samples, n_components)\"\"\"\n",
    "        if not self.fitted:\n",
    "            raise NotFittedError(\"RBF_MonteCarlo must be fitted beform computing the feature map Z\")\n",
    "        #Compute feature map Z(x):\n",
    "        Z = np.sqrt(2/self.n_components) * \\\n",
    "            np.cos((X.dot(self.w.T) + self.u[np.newaxis,:]))\n",
    "        return Z\n",
    "    \n",
    "    def compute_kernel(self, X):\n",
    "        \"\"\" Computes the approximated kernel matrix K \"\"\"\n",
    "        if not self.fitted:\n",
    "            raise NotFittedError(\"RBF_MonteCarlo must be fitted beform computing the kernel matrix\")\n",
    "        Z = self.transform(X)\n",
    "        return np.dot(Z, Z.T)"
   ]
  },
  {
   "cell_type": "code",
   "execution_count": 28,
   "metadata": {},
   "outputs": [],
   "source": [
    "approximation = 'rff'\n",
    "krr_model = KernelRidge(n_components=n_components, \n",
    "                           alpha=alpha,\n",
    "                           gamma=gamma,\n",
    "                           random_state=seed, \n",
    "                        approximation=approximation)\n",
    "krr_model.fit(xtrain, ytrain);\n",
    "y_pred = krr_model.predict(xtest)"
   ]
  },
  {
   "cell_type": "code",
   "execution_count": 29,
   "metadata": {},
   "outputs": [
    {
     "name": "stdout",
     "output_type": "stream",
     "text": [
      "7.38 ms ± 518 µs per loop (mean ± std. dev. of 7 runs, 100 loops each)\n",
      "173 µs ± 13.1 µs per loop (mean ± std. dev. of 7 runs, 10000 loops each)\n"
     ]
    }
   ],
   "source": [
    "%timeit krr_model.fit(xtrain, ytrain)\n",
    "%timeit krr_model.predict(xtest)"
   ]
  },
  {
   "cell_type": "code",
   "execution_count": 30,
   "metadata": {},
   "outputs": [
    {
     "name": "stdout",
     "output_type": "stream",
     "text": [
      "29.0872186726\n"
     ]
    },
    {
     "data": {
      "image/png": "[encoded data removed]",
      "text/plain": [
       "<matplotlib.figure.Figure at 0x116cd3c18>"
      ]
     },
     "metadata": {},
     "output_type": "display_data"
    }
   ],
   "source": [
    "\n",
    "\n",
    "rmse = (1 / np.sqrt(n_test)) * np.linalg.norm(y_pred - ytest)\n",
    "print(rmse)\n",
    "\n",
    "fig, ax = plt.subplots()\n",
    "\n",
    "xplot = np.linspace(xtrain.min(), xtest.max(), 100)[:, np.newaxis]\n",
    "yplot = krr_model.predict(xplot)\n",
    "\n",
    "ax.scatter(xtrain, ytrain, color='r', label='Training Data')\n",
    "ax.plot(xplot, yplot, color='k', linewidth=2, label='Predictions')\n",
    "ax.legend()\n",
    "plt.show()"
   ]
  },
  {
   "cell_type": "markdown",
   "metadata": {},
   "source": [
    "## Random Kitchen Sinks"
   ]
  },
  {
   "cell_type": "code",
   "execution_count": 31,
   "metadata": {},
   "outputs": [],
   "source": [
    "krr_model = RKSKernelRidge(n_components=n_components, \n",
    "                           alpha=alpha,\n",
    "                           gamma=gamma,\n",
    "                           random_state=seed)\n",
    "krr_model.fit(xtrain, ytrain);\n",
    "y_pred = krr_model.predict(xtest)"
   ]
  },
  {
   "cell_type": "code",
   "execution_count": 32,
   "metadata": {},
   "outputs": [
    {
     "name": "stdout",
     "output_type": "stream",
     "text": [
      "2.87 ms ± 77.7 µs per loop (mean ± std. dev. of 7 runs, 100 loops each)\n",
      "235 µs ± 7.84 µs per loop (mean ± std. dev. of 7 runs, 1000 loops each)\n"
     ]
    }
   ],
   "source": [
    "%timeit krr_model.fit(xtrain, ytrain)\n",
    "%timeit krr_model.predict(xtest)"
   ]
  },
  {
   "cell_type": "code",
   "execution_count": 33,
   "metadata": {},
   "outputs": [
    {
     "name": "stdout",
     "output_type": "stream",
     "text": [
      "0.0999220720328\n"
     ]
    },
    {
     "data": {
      "image/png": "[encoded data removed]",
      "text/plain": [
       "<matplotlib.figure.Figure at 0x116e17e10>"
      ]
     },
     "metadata": {},
     "output_type": "display_data"
    }
   ],
   "source": [
    "rmse = (1 / np.sqrt(n_test)) * np.linalg.norm(y_pred - ytest)\n",
    "print(rmse)\n",
    "\n",
    "fig, ax = plt.subplots()\n",
    "\n",
    "xplot = np.linspace(xtrain.min(), xtest.max(), 100)[:, np.newaxis]\n",
    "yplot = krr_model.predict(xplot)\n",
    "\n",
    "ax.scatter(xtrain, ytrain, color='r', label='Training Data')\n",
    "ax.plot(xplot, yplot, color='k', linewidth=2, label='Predictions')\n",
    "ax.legend()\n",
    "plt.show()"
   ]
  },
  {
   "cell_type": "markdown",
   "metadata": {},
   "source": [
    "# Simulation"
   ]
  },
  {
   "cell_type": "markdown",
   "metadata": {},
   "source": [
    "Inspiration - [github](https://github.com/hichamjanati/srf/blob/master/RFF-I.ipynb)"
   ]
  },
  {
   "cell_type": "code",
   "execution_count": 34,
   "metadata": {},
   "outputs": [],
   "source": [
    "from sklearn.metrics.pairwise import rbf_kernel\n",
    "from sklearn.kernel_approximation import Nystroem, RBFSampler\n",
    "from sklearn.datasets import make_low_rank_matrix \n",
    "import pandas as pd\n",
    "import time"
   ]
  },
  {
   "cell_type": "markdown",
   "metadata": {},
   "source": [
    "We would like to evaluate the kernel approximation quality by computing the MSE between the gram matrices:\n",
    "\n",
    "$$\\text{Mean Squared Error }(K, \\tilde{K}) = \\text{Mean }((K, \\tilde{K})^2) $$\n",
    "\n",
    "In this simulation well will be comparing the following algorithms:\n",
    "* Nystrom Approximation \n",
    "* Randomized Nystrom Approximation\n",
    "* Random Fourier Features (Exponential Projection)\n",
    "* Random Fourier Features (Cosine Projection)"
   ]
  },
  {
   "cell_type": "code",
   "execution_count": 39,
   "metadata": {},
   "outputs": [],
   "source": [
    "n_samples, d_dimensions = 8000, 100\n",
    "effective_rank = 25\n",
    "seed = 123\n",
    "\n",
    "rng = np.random.RandomState(seed)\n",
    "X = make_low_rank_matrix(n_samples=n_samples, n_features=d_dimensions,\n",
    "                         effective_rank=effective_rank)\n",
    "\n",
    "gamma = 2\n",
    "\n",
    "# Number of features (Monte-Carlo samples) \n",
    "n_features = np.arange(1, 1000, 200)\n",
    "\n",
    "K = rbf_kernel(X, gamma=gamma)\n",
    "columns=['rff', 'nystrom', 'rnystrom', 'rks', 'sampler']\n",
    "df_error = pd.DataFrame(columns=columns)\n",
    "df_time = pd.DataFrame(columns=columns)"
   ]
  },
  {
   "cell_type": "code",
   "execution_count": 40,
   "metadata": {},
   "outputs": [
    {
     "name": "stdout",
     "output_type": "stream",
     "text": [
      "Interation: 1\n",
      "Interation: 201\n",
      "Interation: 401\n",
      "Interation: 601\n",
      "Interation: 801\n",
      "CPU times: user 47.9 s, sys: 11.7 s, total: 59.7 s\n",
      "Wall time: 42.4 s\n"
     ]
    }
   ],
   "source": [
    "%%time\n",
    "\n",
    "for ifeature in n_features:\n",
    "    # -------------------------------------\n",
    "    # Random Fourier Feature Approximation\n",
    "    # -------------------------------------\n",
    "    rff = RandomFourierFeatures(gamma=gamma, n_components=ifeature,\n",
    "                                random_state=seed)\n",
    "    \n",
    "    t0_rff = time.time()\n",
    "    \n",
    "    rff.fit(X)\n",
    "    K_approx = rff.compute_kernel(X)\n",
    "    \n",
    "    time_rff = time.time() - t0_rff\n",
    "    \n",
    "    err_rff = ((K_approx-K)**2).mean()\n",
    "    \n",
    "    # -----------------------------\n",
    "    # Random Kitchen Sinks\n",
    "    # -----------------------------\n",
    "    rks = RandomKitchenSinks(gamma=gamma, n_components=ifeature, \n",
    "                            random_state=seed)\n",
    "    \n",
    "    t0_rks = time.time()\n",
    "    \n",
    "    rks.fit(X)\n",
    "    K_approx = np.real(rks.compute_kernel(X))\n",
    "    \n",
    "    time_rks = time.time() - t0_rks\n",
    "    err_rks = ((K_approx-K)**2).mean()\n",
    "    \n",
    "    # ----------------------\n",
    "    # Nystrom Approximation\n",
    "    # ----------------------\n",
    "    nystrom = Nystroem(kernel='rbf', gamma=gamma, n_components=ifeature,\n",
    "                       random_state=seed)\n",
    "    \n",
    "    t0_nys = time.time()\n",
    "    \n",
    "    nystrom.fit(X)\n",
    "    L = nystrom.transform(X)\n",
    "    K_approx = np.dot(L, L.T)\n",
    "    time_nys = time.time() - t0_nys\n",
    "    \n",
    "    err_nys = ((K_approx-K)**2).mean()\n",
    "    \n",
    "    # ---------------------------------\n",
    "    # Randomized Nystrom Approximation\n",
    "    # ---------------------------------\n",
    "    rnystrom = RandomizedNystrom(kernel='rbf', sigma=1/(2*np.sqrt(gamma)),\n",
    "                                 n_components=n_components, \n",
    "                                 k_rank=50,\n",
    "                                 random_state=seed)\n",
    "    t0_rnys = time.time()\n",
    "    \n",
    "    rnystrom.fit(X)\n",
    "    L = rnystrom.transform(X)\n",
    "    K_approx = np.dot(L, L.T)\n",
    "    time_rnys = time.time() - t0_rnys\n",
    "    \n",
    "    err_rnys = ((K_approx-K)**2).mean()\n",
    "    # ------------\n",
    "    # RBF Sampler\n",
    "    # ------------\n",
    "    rbf_sampler = RBFSampler(gamma=1.0, n_components=ifeature, \n",
    "                             random_state=seed)\n",
    "    t0_samp = time.time()\n",
    "    rbf_sampler.fit(X)\n",
    "    L = rbf_sampler.transform(X)\n",
    "    K_approx = np.dot(L, L.T)\n",
    "    time_sampler = time.time() - t0_samp\n",
    "    \n",
    "    err_sampler = ((K_approx-K)**2).mean() \n",
    "    \n",
    "    df2_error = pd.DataFrame({\n",
    "        'rff': err_rff,\n",
    "        'nystrom': err_nys,\n",
    "        'rks': err_rks,\n",
    "        'rnystrom': err_rnys,\n",
    "        'sampler':err_sampler\n",
    "    }, index=[ifeature])\n",
    "    \n",
    "    df2_time = pd.DataFrame({\n",
    "        'rff': time_rff,\n",
    "        'nystrom': time_nys,\n",
    "        'rnystrom': time_rnys,\n",
    "        'rks': time_rks,\n",
    "        'sampler': time_sampler\n",
    "    }, index=[ifeature])\n",
    "    \n",
    "    df_error = df_error.append(df2_error)\n",
    "    df_time = df_time.append(df2_time)\n",
    "    if ifeature % 10:\n",
    "        print('Interation: {}'.format(ifeature))\n",
    "\n"
   ]
  },
  {
   "cell_type": "code",
   "execution_count": 41,
   "metadata": {},
   "outputs": [
    {
     "data": {
      "text/html": [
       "<div>\n",
       "<style scoped>\n",
       "    .dataframe tbody tr th:only-of-type {\n",
       "        vertical-align: middle;\n",
       "    }\n",
       "\n",
       "    .dataframe tbody tr th {\n",
       "        vertical-align: top;\n",
       "    }\n",
       "\n",
       "    .dataframe thead th {\n",
       "        text-align: right;\n",
       "    }\n",
       "</style>\n",
       "<table border=\"1\" class=\"dataframe\">\n",
       "  <thead>\n",
       "    <tr style=\"text-align: right;\">\n",
       "      <th></th>\n",
       "      <th>nystrom</th>\n",
       "      <th>rff</th>\n",
       "      <th>rks</th>\n",
       "      <th>rnystrom</th>\n",
       "      <th>sampler</th>\n",
       "    </tr>\n",
       "  </thead>\n",
       "  <tbody>\n",
       "    <tr>\n",
       "      <th>1</th>\n",
       "      <td>1.603563e-04</td>\n",
       "      <td>0.416671</td>\n",
       "      <td>0.000830</td>\n",
       "      <td>0.000346</td>\n",
       "      <td>0.200678</td>\n",
       "    </tr>\n",
       "    <tr>\n",
       "      <th>201</th>\n",
       "      <td>2.770898e-10</td>\n",
       "      <td>0.018775</td>\n",
       "      <td>38707.631409</td>\n",
       "      <td>0.000346</td>\n",
       "      <td>0.002638</td>\n",
       "    </tr>\n",
       "    <tr>\n",
       "      <th>401</th>\n",
       "      <td>2.764051e-11</td>\n",
       "      <td>0.000761</td>\n",
       "      <td>154897.851264</td>\n",
       "      <td>0.000346</td>\n",
       "      <td>0.002133</td>\n",
       "    </tr>\n",
       "    <tr>\n",
       "      <th>601</th>\n",
       "      <td>1.152778e-11</td>\n",
       "      <td>0.000037</td>\n",
       "      <td>348533.042003</td>\n",
       "      <td>0.000346</td>\n",
       "      <td>0.000015</td>\n",
       "    </tr>\n",
       "    <tr>\n",
       "      <th>801</th>\n",
       "      <td>6.863050e-12</td>\n",
       "      <td>0.000103</td>\n",
       "      <td>619639.970572</td>\n",
       "      <td>0.000346</td>\n",
       "      <td>0.000521</td>\n",
       "    </tr>\n",
       "  </tbody>\n",
       "</table>\n",
       "</div>"
      ],
      "text/plain": [
       "          nystrom       rff            rks  rnystrom   sampler\n",
       "1    1.603563e-04  0.416671       0.000830  0.000346  0.200678\n",
       "201  2.770898e-10  0.018775   38707.631409  0.000346  0.002638\n",
       "401  2.764051e-11  0.000761  154897.851264  0.000346  0.002133\n",
       "601  1.152778e-11  0.000037  348533.042003  0.000346  0.000015\n",
       "801  6.863050e-12  0.000103  619639.970572  0.000346  0.000521"
      ]
     },
     "execution_count": 41,
     "metadata": {},
     "output_type": "execute_result"
    }
   ],
   "source": [
    "df_error.head()\n"
   ]
  },
  {
   "cell_type": "code",
   "execution_count": 42,
   "metadata": {},
   "outputs": [
    {
     "data": {
      "text/html": [
       "<div>\n",
       "<style scoped>\n",
       "    .dataframe tbody tr th:only-of-type {\n",
       "        vertical-align: middle;\n",
       "    }\n",
       "\n",
       "    .dataframe tbody tr th {\n",
       "        vertical-align: top;\n",
       "    }\n",
       "\n",
       "    .dataframe thead th {\n",
       "        text-align: right;\n",
       "    }\n",
       "</style>\n",
       "<table border=\"1\" class=\"dataframe\">\n",
       "  <thead>\n",
       "    <tr style=\"text-align: right;\">\n",
       "      <th></th>\n",
       "      <th>nystrom</th>\n",
       "      <th>rff</th>\n",
       "      <th>rks</th>\n",
       "      <th>rnystrom</th>\n",
       "      <th>sampler</th>\n",
       "    </tr>\n",
       "  </thead>\n",
       "  <tbody>\n",
       "    <tr>\n",
       "      <th>1</th>\n",
       "      <td>0.431144</td>\n",
       "      <td>0.361523</td>\n",
       "      <td>1.794837</td>\n",
       "      <td>0.581632</td>\n",
       "      <td>0.371082</td>\n",
       "    </tr>\n",
       "    <tr>\n",
       "      <th>201</th>\n",
       "      <td>0.783364</td>\n",
       "      <td>0.760442</td>\n",
       "      <td>1.652436</td>\n",
       "      <td>0.637096</td>\n",
       "      <td>0.721435</td>\n",
       "    </tr>\n",
       "    <tr>\n",
       "      <th>401</th>\n",
       "      <td>1.020236</td>\n",
       "      <td>0.940565</td>\n",
       "      <td>2.309070</td>\n",
       "      <td>0.569638</td>\n",
       "      <td>0.880584</td>\n",
       "    </tr>\n",
       "    <tr>\n",
       "      <th>601</th>\n",
       "      <td>1.301809</td>\n",
       "      <td>1.095354</td>\n",
       "      <td>3.139798</td>\n",
       "      <td>0.565889</td>\n",
       "      <td>1.058296</td>\n",
       "    </tr>\n",
       "    <tr>\n",
       "      <th>801</th>\n",
       "      <td>2.209406</td>\n",
       "      <td>1.296994</td>\n",
       "      <td>4.779951</td>\n",
       "      <td>0.665290</td>\n",
       "      <td>1.300549</td>\n",
       "    </tr>\n",
       "  </tbody>\n",
       "</table>\n",
       "</div>"
      ],
      "text/plain": [
       "      nystrom       rff       rks  rnystrom   sampler\n",
       "1    0.431144  0.361523  1.794837  0.581632  0.371082\n",
       "201  0.783364  0.760442  1.652436  0.637096  0.721435\n",
       "401  1.020236  0.940565  2.309070  0.569638  0.880584\n",
       "601  1.301809  1.095354  3.139798  0.565889  1.058296\n",
       "801  2.209406  1.296994  4.779951  0.665290  1.300549"
      ]
     },
     "execution_count": 42,
     "metadata": {},
     "output_type": "execute_result"
    }
   ],
   "source": [
    "df_time.head()"
   ]
  },
  {
   "cell_type": "code",
   "execution_count": 43,
   "metadata": {},
   "outputs": [
    {
     "data": {
      "text/plain": [
       "<matplotlib.figure.Figure at 0x116a4f6a0>"
      ]
     },
     "metadata": {},
     "output_type": "display_data"
    },
    {
     "data": {
      "image/png": "[encoded data removed]",
      "text/plain": [
       "<matplotlib.figure.Figure at 0x1166c2c18>"
      ]
     },
     "metadata": {},
     "output_type": "display_data"
    },
    {
     "data": {
      "text/plain": [
       "<matplotlib.figure.Figure at 0x1166c2ba8>"
      ]
     },
     "metadata": {},
     "output_type": "display_data"
    },
    {
     "data": {
      "image/png": "[encoded data removed]",
      "text/plain": [
       "<matplotlib.figure.Figure at 0x10895ee80>"
      ]
     },
     "metadata": {},
     "output_type": "display_data"
    }
   ],
   "source": [
    "plt.figure();\n",
    "ax1 = df_error.plot(logy=True, title='Error', colormap='Accent');\n",
    "ax1.set_xlabel('N Features');\n",
    "ax1.set_ylabel('Error');\n",
    "\n",
    "\n",
    "plt.figure();\n",
    "ax2 = df_time.plot(logy=True, title='Time', colormap='Accent');\n",
    "ax2.set_xlabel('N Features');\n",
    "ax2.set_ylabel('Time (secs)');"
   ]
  },
  {
   "cell_type": "markdown",
   "metadata": {},
   "source": [
    "## Experimetn (Regression)"
   ]
  },
  {
   "cell_type": "code",
   "execution_count": 235,
   "metadata": {},
   "outputs": [],
   "source": [
    "import numpy as np\n",
    "import pandas as pd\n",
    "from matplotlib import cm\n",
    "import matplotlib as mpl\n",
    "from matplotlib import pyplot as plt\n",
    "\n"
   ]
  },
  {
   "cell_type": "markdown",
   "metadata": {},
   "source": [
    "## Load Data"
   ]
  },
  {
   "cell_type": "code",
   "execution_count": 238,
   "metadata": {},
   "outputs": [],
   "source": [
    "from sklearn.datasets import fetch_mldata\n",
    "from sklearn.model_selection import ShuffleSplit, GridSearchCV\n",
    "from sklearn.pipeline import Pipeline\n",
    "from sklearn.metrics import classification_report, confusion_matrix, accuracy_score\n"
   ]
  },
  {
   "cell_type": "code",
   "execution_count": 239,
   "metadata": {},
   "outputs": [
    {
     "ename": "HTTPError",
     "evalue": "HTTP Error 404: Dataset 'usps' not found on mldata.org.",
     "output_type": "error",
     "traceback": [
      "\u001b[0;31m---------------------------------------------------------------------------\u001b[0m",
      "\u001b[0;31mHTTPError\u001b[0m                                 Traceback (most recent call last)",
      "\u001b[0;32m<ipython-input-239-c7058b156549>\u001b[0m in \u001b[0;36m<module>\u001b[0;34m()\u001b[0m\n\u001b[0;32m----> 1\u001b[0;31m \u001b[0mdigits\u001b[0m \u001b[0;34m=\u001b[0m \u001b[0mfetch_mldata\u001b[0m\u001b[0;34m(\u001b[0m\u001b[0;34m'USPS'\u001b[0m\u001b[0;34m)\u001b[0m\u001b[0;34m\u001b[0m\u001b[0m\n\u001b[0m",
      "\u001b[0;32m~/anaconda3/lib/python3.6/site-packages/sklearn/datasets/mldata.py\u001b[0m in \u001b[0;36mfetch_mldata\u001b[0;34m(dataname, target_name, data_name, transpose_data, data_home)\u001b[0m\n\u001b[1;32m    152\u001b[0m         \u001b[0murlname\u001b[0m \u001b[0;34m=\u001b[0m \u001b[0mMLDATA_BASE_URL\u001b[0m \u001b[0;34m%\u001b[0m \u001b[0mquote\u001b[0m\u001b[0;34m(\u001b[0m\u001b[0mdataname\u001b[0m\u001b[0;34m)\u001b[0m\u001b[0;34m\u001b[0m\u001b[0m\n\u001b[1;32m    153\u001b[0m         \u001b[0;32mtry\u001b[0m\u001b[0;34m:\u001b[0m\u001b[0;34m\u001b[0m\u001b[0m\n\u001b[0;32m--> 154\u001b[0;31m             \u001b[0mmldata_url\u001b[0m \u001b[0;34m=\u001b[0m \u001b[0murlopen\u001b[0m\u001b[0;34m(\u001b[0m\u001b[0murlname\u001b[0m\u001b[0;34m)\u001b[0m\u001b[0;34m\u001b[0m\u001b[0m\n\u001b[0m\u001b[1;32m    155\u001b[0m         \u001b[0;32mexcept\u001b[0m \u001b[0mHTTPError\u001b[0m \u001b[0;32mas\u001b[0m \u001b[0me\u001b[0m\u001b[0;34m:\u001b[0m\u001b[0;34m\u001b[0m\u001b[0m\n\u001b[1;32m    156\u001b[0m             \u001b[0;32mif\u001b[0m \u001b[0me\u001b[0m\u001b[0;34m.\u001b[0m\u001b[0mcode\u001b[0m \u001b[0;34m==\u001b[0m \u001b[0;36m404\u001b[0m\u001b[0;34m:\u001b[0m\u001b[0;34m\u001b[0m\u001b[0m\n",
      "\u001b[0;32m~/anaconda3/lib/python3.6/urllib/request.py\u001b[0m in \u001b[0;36murlopen\u001b[0;34m(url, data, timeout, cafile, capath, cadefault, context)\u001b[0m\n\u001b[1;32m    221\u001b[0m     \u001b[0;32melse\u001b[0m\u001b[0;34m:\u001b[0m\u001b[0;34m\u001b[0m\u001b[0m\n\u001b[1;32m    222\u001b[0m         \u001b[0mopener\u001b[0m \u001b[0;34m=\u001b[0m \u001b[0m_opener\u001b[0m\u001b[0;34m\u001b[0m\u001b[0m\n\u001b[0;32m--> 223\u001b[0;31m     \u001b[0;32mreturn\u001b[0m \u001b[0mopener\u001b[0m\u001b[0;34m.\u001b[0m\u001b[0mopen\u001b[0m\u001b[0;34m(\u001b[0m\u001b[0murl\u001b[0m\u001b[0;34m,\u001b[0m \u001b[0mdata\u001b[0m\u001b[0;34m,\u001b[0m \u001b[0mtimeout\u001b[0m\u001b[0;34m)\u001b[0m\u001b[0;34m\u001b[0m\u001b[0m\n\u001b[0m\u001b[1;32m    224\u001b[0m \u001b[0;34m\u001b[0m\u001b[0m\n\u001b[1;32m    225\u001b[0m \u001b[0;32mdef\u001b[0m \u001b[0minstall_opener\u001b[0m\u001b[0;34m(\u001b[0m\u001b[0mopener\u001b[0m\u001b[0;34m)\u001b[0m\u001b[0;34m:\u001b[0m\u001b[0;34m\u001b[0m\u001b[0m\n",
      "\u001b[0;32m~/anaconda3/lib/python3.6/urllib/request.py\u001b[0m in \u001b[0;36mopen\u001b[0;34m(self, fullurl, data, timeout)\u001b[0m\n\u001b[1;32m    530\u001b[0m         \u001b[0;32mfor\u001b[0m \u001b[0mprocessor\u001b[0m \u001b[0;32min\u001b[0m \u001b[0mself\u001b[0m\u001b[0;34m.\u001b[0m\u001b[0mprocess_response\u001b[0m\u001b[0;34m.\u001b[0m\u001b[0mget\u001b[0m\u001b[0;34m(\u001b[0m\u001b[0mprotocol\u001b[0m\u001b[0;34m,\u001b[0m \u001b[0;34m[\u001b[0m\u001b[0;34m]\u001b[0m\u001b[0;34m)\u001b[0m\u001b[0;34m:\u001b[0m\u001b[0;34m\u001b[0m\u001b[0m\n\u001b[1;32m    531\u001b[0m             \u001b[0mmeth\u001b[0m \u001b[0;34m=\u001b[0m \u001b[0mgetattr\u001b[0m\u001b[0;34m(\u001b[0m\u001b[0mprocessor\u001b[0m\u001b[0;34m,\u001b[0m \u001b[0mmeth_name\u001b[0m\u001b[0;34m)\u001b[0m\u001b[0;34m\u001b[0m\u001b[0m\n\u001b[0;32m--> 532\u001b[0;31m             \u001b[0mresponse\u001b[0m \u001b[0;34m=\u001b[0m \u001b[0mmeth\u001b[0m\u001b[0;34m(\u001b[0m\u001b[0mreq\u001b[0m\u001b[0;34m,\u001b[0m \u001b[0mresponse\u001b[0m\u001b[0;34m)\u001b[0m\u001b[0;34m\u001b[0m\u001b[0m\n\u001b[0m\u001b[1;32m    533\u001b[0m \u001b[0;34m\u001b[0m\u001b[0m\n\u001b[1;32m    534\u001b[0m         \u001b[0;32mreturn\u001b[0m \u001b[0mresponse\u001b[0m\u001b[0;34m\u001b[0m\u001b[0m\n",
      "\u001b[0;32m~/anaconda3/lib/python3.6/urllib/request.py\u001b[0m in \u001b[0;36mhttp_response\u001b[0;34m(self, request, response)\u001b[0m\n\u001b[1;32m    640\u001b[0m         \u001b[0;32mif\u001b[0m \u001b[0;32mnot\u001b[0m \u001b[0;34m(\u001b[0m\u001b[0;36m200\u001b[0m \u001b[0;34m<=\u001b[0m \u001b[0mcode\u001b[0m \u001b[0;34m<\u001b[0m \u001b[0;36m300\u001b[0m\u001b[0;34m)\u001b[0m\u001b[0;34m:\u001b[0m\u001b[0;34m\u001b[0m\u001b[0m\n\u001b[1;32m    641\u001b[0m             response = self.parent.error(\n\u001b[0;32m--> 642\u001b[0;31m                 'http', request, response, code, msg, hdrs)\n\u001b[0m\u001b[1;32m    643\u001b[0m \u001b[0;34m\u001b[0m\u001b[0m\n\u001b[1;32m    644\u001b[0m         \u001b[0;32mreturn\u001b[0m \u001b[0mresponse\u001b[0m\u001b[0;34m\u001b[0m\u001b[0m\n",
      "\u001b[0;32m~/anaconda3/lib/python3.6/urllib/request.py\u001b[0m in \u001b[0;36merror\u001b[0;34m(self, proto, *args)\u001b[0m\n\u001b[1;32m    568\u001b[0m         \u001b[0;32mif\u001b[0m \u001b[0mhttp_err\u001b[0m\u001b[0;34m:\u001b[0m\u001b[0;34m\u001b[0m\u001b[0m\n\u001b[1;32m    569\u001b[0m             \u001b[0margs\u001b[0m \u001b[0;34m=\u001b[0m \u001b[0;34m(\u001b[0m\u001b[0mdict\u001b[0m\u001b[0;34m,\u001b[0m \u001b[0;34m'default'\u001b[0m\u001b[0;34m,\u001b[0m \u001b[0;34m'http_error_default'\u001b[0m\u001b[0;34m)\u001b[0m \u001b[0;34m+\u001b[0m \u001b[0morig_args\u001b[0m\u001b[0;34m\u001b[0m\u001b[0m\n\u001b[0;32m--> 570\u001b[0;31m             \u001b[0;32mreturn\u001b[0m \u001b[0mself\u001b[0m\u001b[0;34m.\u001b[0m\u001b[0m_call_chain\u001b[0m\u001b[0;34m(\u001b[0m\u001b[0;34m*\u001b[0m\u001b[0margs\u001b[0m\u001b[0;34m)\u001b[0m\u001b[0;34m\u001b[0m\u001b[0m\n\u001b[0m\u001b[1;32m    571\u001b[0m \u001b[0;34m\u001b[0m\u001b[0m\n\u001b[1;32m    572\u001b[0m \u001b[0;31m# XXX probably also want an abstract factory that knows when it makes\u001b[0m\u001b[0;34m\u001b[0m\u001b[0;34m\u001b[0m\u001b[0m\n",
      "\u001b[0;32m~/anaconda3/lib/python3.6/urllib/request.py\u001b[0m in \u001b[0;36m_call_chain\u001b[0;34m(self, chain, kind, meth_name, *args)\u001b[0m\n\u001b[1;32m    502\u001b[0m         \u001b[0;32mfor\u001b[0m \u001b[0mhandler\u001b[0m \u001b[0;32min\u001b[0m \u001b[0mhandlers\u001b[0m\u001b[0;34m:\u001b[0m\u001b[0;34m\u001b[0m\u001b[0m\n\u001b[1;32m    503\u001b[0m             \u001b[0mfunc\u001b[0m \u001b[0;34m=\u001b[0m \u001b[0mgetattr\u001b[0m\u001b[0;34m(\u001b[0m\u001b[0mhandler\u001b[0m\u001b[0;34m,\u001b[0m \u001b[0mmeth_name\u001b[0m\u001b[0;34m)\u001b[0m\u001b[0;34m\u001b[0m\u001b[0m\n\u001b[0;32m--> 504\u001b[0;31m             \u001b[0mresult\u001b[0m \u001b[0;34m=\u001b[0m \u001b[0mfunc\u001b[0m\u001b[0;34m(\u001b[0m\u001b[0;34m*\u001b[0m\u001b[0margs\u001b[0m\u001b[0;34m)\u001b[0m\u001b[0;34m\u001b[0m\u001b[0m\n\u001b[0m\u001b[1;32m    505\u001b[0m             \u001b[0;32mif\u001b[0m \u001b[0mresult\u001b[0m \u001b[0;32mis\u001b[0m \u001b[0;32mnot\u001b[0m \u001b[0;32mNone\u001b[0m\u001b[0;34m:\u001b[0m\u001b[0;34m\u001b[0m\u001b[0m\n\u001b[1;32m    506\u001b[0m                 \u001b[0;32mreturn\u001b[0m \u001b[0mresult\u001b[0m\u001b[0;34m\u001b[0m\u001b[0m\n",
      "\u001b[0;32m~/anaconda3/lib/python3.6/urllib/request.py\u001b[0m in \u001b[0;36mhttp_error_default\u001b[0;34m(self, req, fp, code, msg, hdrs)\u001b[0m\n\u001b[1;32m    648\u001b[0m \u001b[0;32mclass\u001b[0m \u001b[0mHTTPDefaultErrorHandler\u001b[0m\u001b[0;34m(\u001b[0m\u001b[0mBaseHandler\u001b[0m\u001b[0;34m)\u001b[0m\u001b[0;34m:\u001b[0m\u001b[0;34m\u001b[0m\u001b[0m\n\u001b[1;32m    649\u001b[0m     \u001b[0;32mdef\u001b[0m \u001b[0mhttp_error_default\u001b[0m\u001b[0;34m(\u001b[0m\u001b[0mself\u001b[0m\u001b[0;34m,\u001b[0m \u001b[0mreq\u001b[0m\u001b[0;34m,\u001b[0m \u001b[0mfp\u001b[0m\u001b[0;34m,\u001b[0m \u001b[0mcode\u001b[0m\u001b[0;34m,\u001b[0m \u001b[0mmsg\u001b[0m\u001b[0;34m,\u001b[0m \u001b[0mhdrs\u001b[0m\u001b[0;34m)\u001b[0m\u001b[0;34m:\u001b[0m\u001b[0;34m\u001b[0m\u001b[0m\n\u001b[0;32m--> 650\u001b[0;31m         \u001b[0;32mraise\u001b[0m \u001b[0mHTTPError\u001b[0m\u001b[0;34m(\u001b[0m\u001b[0mreq\u001b[0m\u001b[0;34m.\u001b[0m\u001b[0mfull_url\u001b[0m\u001b[0;34m,\u001b[0m \u001b[0mcode\u001b[0m\u001b[0;34m,\u001b[0m \u001b[0mmsg\u001b[0m\u001b[0;34m,\u001b[0m \u001b[0mhdrs\u001b[0m\u001b[0;34m,\u001b[0m \u001b[0mfp\u001b[0m\u001b[0;34m)\u001b[0m\u001b[0;34m\u001b[0m\u001b[0m\n\u001b[0m\u001b[1;32m    651\u001b[0m \u001b[0;34m\u001b[0m\u001b[0m\n\u001b[1;32m    652\u001b[0m \u001b[0;32mclass\u001b[0m \u001b[0mHTTPRedirectHandler\u001b[0m\u001b[0;34m(\u001b[0m\u001b[0mBaseHandler\u001b[0m\u001b[0;34m)\u001b[0m\u001b[0;34m:\u001b[0m\u001b[0;34m\u001b[0m\u001b[0m\n",
      "\u001b[0;31mHTTPError\u001b[0m: HTTP Error 404: Dataset 'usps' not found on mldata.org."
     ]
    }
   ],
   "source": [
    "digits = fetch_mldata('USPS')"
   ]
  },
  {
   "cell_type": "code",
   "execution_count": null,
   "metadata": {},
   "outputs": [],
   "source": []
  }
 ],
 "metadata": {
  "kernelspec": {
   "display_name": "Python 3",
   "language": "python",
   "name": "python3"
  },
  "language_info": {
   "codemirror_mode": {
    "name": "ipython",
    "version": 3
   },
   "file_extension": ".py",
   "mimetype": "text/x-python",
   "name": "python",
   "nbconvert_exporter": "python",
   "pygments_lexer": "ipython3",
   "version": "3.7.2"
  }
 },
 "nbformat": 4,
 "nbformat_minor": 2
}
