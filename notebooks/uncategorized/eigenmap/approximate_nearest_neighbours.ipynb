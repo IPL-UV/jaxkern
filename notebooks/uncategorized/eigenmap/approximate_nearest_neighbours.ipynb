{
 "cells": [
  {
   "cell_type": "code",
   "execution_count": 2,
   "metadata": {},
   "outputs": [
    {
     "name": "stdout",
     "output_type": "stream",
     "text": [
      "The autoreload extension is already loaded. To reload it, use:\n",
      "  %reload_ext autoreload\n"
     ]
    }
   ],
   "source": [
    "import numpy as np\n",
    "\n",
    "\n",
    "%load_ext autoreload\n",
    "%autoreload 2"
   ]
  },
  {
   "cell_type": "markdown",
   "metadata": {},
   "source": [
    "## K-Nearest Neighbours Class"
   ]
  },
  {
   "cell_type": "code",
   "execution_count": null,
   "metadata": {},
   "outputs": [],
   "source": [
    "class ApproximateNearestNeighbors(object):\n",
    "    \"\"\"ANNSolver class implements some nearest neighbor algorithms\n",
    "\n",
    "    Parameters\n",
    "    ----------\n",
    "    n_neighbors : int, default = 2\n",
    "        number of nearest neighbors\n",
    "\n",
    "    radius : int, default = 1\n",
    "        length of the radius for the neighbors in distance\n",
    "\n",
    "    algorithm : str, default = 'annoy'\n",
    "        ['brute'|'annoy'|'cyflann']\n",
    "        algorithm to find the k-nearest or radius-nearest neighbors\n",
    "\n",
    "    algorithm_kwargs : dict, default = None\n",
    "        a dictionary of key word values for specific arguments on each algorithm\n",
    "\n",
    "    References\n",
    "    ----------\n",
    "    * sklearn: brute, kd_tree, ball_tree\n",
    "        https://goo.gl/2noI11\n",
    "    * annoy\n",
    "        https://github.com/spotify/annoy\n",
    "    * nmslib (TODO)\n",
    "        https://github.com/nmslib/nmslib\n",
    "    * pynndescent (TODO)\n",
    "        https://github.com/lmcinnes/pynndescent\n",
    "    * cyflann (TODO)\n",
    "        https://github.com/dougalsutherland/cyflann\n",
    "\n",
    "    Information\n",
    "    -----------\n",
    "    Author  : J. Emmanuel Johnson\n",
    "    Date    : 5th February, 2017\n",
    "    Email   : emanjohnson91@gmail.com\n",
    "    \"\"\"\n",
    "    def __init__(self, n_neighbors=2, radius=1.5, method='knn', algorithm='brute',\n",
    "                 random_state=123, algorithm_kwargs=None):\n",
    "        self.n_neighbours       = n_neighbours\n",
    "        self.radius             = radius\n",
    "        self.method             = method\n",
    "        self.algorithm          = algorithm\n",
    "        self.algorithm_kwargs   = algorithm_kwargs\n",
    "        self.random_state       = random_state\n",
    "        \n",
    "    "
   ]
  }
 ],
 "metadata": {
  "kernelspec": {
   "display_name": "Python 3",
   "language": "python",
   "name": "python3"
  },
  "language_info": {
   "codemirror_mode": {
    "name": "ipython",
    "version": 3
   },
   "file_extension": ".py",
   "mimetype": "text/x-python",
   "name": "python",
   "nbconvert_exporter": "python",
   "pygments_lexer": "ipython3",
   "version": "3.7.2"
  },
  "toc": {
   "base_numbering": 1,
   "nav_menu": {},
   "number_sections": true,
   "sideBar": true,
   "skip_h1_title": false,
   "title_cell": "Table of Contents",
   "title_sidebar": "Contents",
   "toc_cell": false,
   "toc_position": {},
   "toc_section_display": true,
   "toc_window_display": false
  },
  "varInspector": {
   "cols": {
    "lenName": 16,
    "lenType": 16,
    "lenVar": 40
   },
   "kernels_config": {
    "python": {
     "delete_cmd_postfix": "",
     "delete_cmd_prefix": "del ",
     "library": "var_list.py",
     "varRefreshCmd": "print(var_dic_list())"
    },
    "r": {
     "delete_cmd_postfix": ") ",
     "delete_cmd_prefix": "rm(",
     "library": "var_list.r",
     "varRefreshCmd": "cat(var_dic_list()) "
    }
   },
   "types_to_exclude": [
    "module",
    "function",
    "builtin_function_or_method",
    "instance",
    "_Feature"
   ],
   "window_display": false
  }
 },
 "nbformat": 4,
 "nbformat_minor": 2
}
