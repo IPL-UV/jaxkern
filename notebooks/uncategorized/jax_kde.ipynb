{
  "nbformat": 4,
  "nbformat_minor": 0,
  "metadata": {
    "colab": {
      "name": " jax_kde.ipynb",
      "provenance": [],
      "collapsed_sections": []
    },
    "kernelspec": {
      "name": "python3",
      "display_name": "Python 3"
    }
  },
  "cells": [
    {
      "cell_type": "markdown",
      "metadata": {
        "id": "hecnCJD1trHy",
        "colab_type": "text"
      },
      "source": [
        "# Jax PlayGround\n",
        "\n",
        "My starting notebook where I install all of the necessary libraries and load some easy 1D/2D Regression data to play around with."
      ]
    },
    {
      "cell_type": "code",
      "metadata": {
        "id": "IgSMWFaNtnjB",
        "colab_type": "code",
        "cellView": "both",
        "colab": {
          "base_uri": "https://localhost:8080/",
          "height": 725
        },
        "outputId": "95a44e54-e514-42a6-976b-86d34704f3de"
      },
      "source": [
        "#@title Install Packages\n",
        "\n",
        "!pip install jax jaxlib numpyro flax \n",
        "!pip install \"git+https://github.com/Information-Fusion-Lab-Umass/NoX.git#egg=NoX\""
      ],
      "execution_count": null,
      "outputs": [
        {
          "output_type": "stream",
          "text": [
            "Requirement already satisfied: jax in /usr/local/lib/python3.6/dist-packages (0.1.62)\n",
            "Requirement already satisfied: jaxlib in /usr/local/lib/python3.6/dist-packages (0.1.42)\n",
            "Collecting numpyro\n",
            "\u001b[?25l  Downloading https://files.pythonhosted.org/packages/b8/58/54e914bb6d8ee9196f8dbf28b81057fea81871fc171dbee03b790336d0c5/numpyro-0.2.4-py3-none-any.whl (159kB)\n",
            "\u001b[K     |████████████████████████████████| 163kB 9.1MB/s \n",
            "\u001b[?25hCollecting flax\n",
            "\u001b[?25l  Downloading https://files.pythonhosted.org/packages/0e/8f/6d772aba2fa63aa6c1fd10d267324c44288c1c5705ac971c7d79cea219bb/flax-0.1.0rc2-py3-none-any.whl (66kB)\n",
            "\u001b[K     |████████████████████████████████| 71kB 6.6MB/s \n",
            "\u001b[?25hRequirement already satisfied: absl-py in /usr/local/lib/python3.6/dist-packages (from jax) (0.9.0)\n",
            "Requirement already satisfied: numpy>=1.12 in /usr/local/lib/python3.6/dist-packages (from jax) (1.18.2)\n",
            "Requirement already satisfied: opt-einsum in /usr/local/lib/python3.6/dist-packages (from jax) (3.2.1)\n",
            "Requirement already satisfied: scipy in /usr/local/lib/python3.6/dist-packages (from jaxlib) (1.4.1)\n",
            "Requirement already satisfied: tqdm in /usr/local/lib/python3.6/dist-packages (from numpyro) (4.38.0)\n",
            "Requirement already satisfied: matplotlib in /usr/local/lib/python3.6/dist-packages (from flax) (3.2.1)\n",
            "Requirement already satisfied: msgpack in /usr/local/lib/python3.6/dist-packages (from flax) (1.0.0)\n",
            "Requirement already satisfied: dataclasses in /usr/local/lib/python3.6/dist-packages (from flax) (0.7)\n",
            "Requirement already satisfied: six in /usr/local/lib/python3.6/dist-packages (from absl-py->jax) (1.12.0)\n",
            "Requirement already satisfied: kiwisolver>=1.0.1 in /usr/local/lib/python3.6/dist-packages (from matplotlib->flax) (1.2.0)\n",
            "Requirement already satisfied: cycler>=0.10 in /usr/local/lib/python3.6/dist-packages (from matplotlib->flax) (0.10.0)\n",
            "Requirement already satisfied: pyparsing!=2.0.4,!=2.1.2,!=2.1.6,>=2.0.1 in /usr/local/lib/python3.6/dist-packages (from matplotlib->flax) (2.4.7)\n",
            "Requirement already satisfied: python-dateutil>=2.1 in /usr/local/lib/python3.6/dist-packages (from matplotlib->flax) (2.8.1)\n",
            "\u001b[31mERROR: numpyro 0.2.4 has requirement jax==0.1.57, but you'll have jax 0.1.62 which is incompatible.\u001b[0m\n",
            "\u001b[31mERROR: numpyro 0.2.4 has requirement jaxlib==0.1.37, but you'll have jaxlib 0.1.42 which is incompatible.\u001b[0m\n",
            "Installing collected packages: numpyro, flax\n",
            "Successfully installed flax-0.1.0rc2 numpyro-0.2.4\n",
            "Collecting NoX\n",
            "  Cloning https://github.com/Information-Fusion-Lab-Umass/NoX.git to /tmp/pip-install-89gucx9r/NoX\n",
            "  Running command git clone -q https://github.com/Information-Fusion-Lab-Umass/NoX.git /tmp/pip-install-89gucx9r/NoX\n",
            "\u001b[33m  WARNING: Generating metadata for package NoX produced metadata for project name nox-if. Fix your #egg=NoX fragments.\u001b[0m\n",
            "Building wheels for collected packages: nox-if, nox-if\n",
            "  Building wheel for nox-if (setup.py) ... \u001b[?25l\u001b[?25hdone\n",
            "  Created wheel for nox-if: filename=nox_if-0.0.12-cp36-none-any.whl size=32574 sha256=2675a5fbf4d8e6e963c1b1c0d415121ecfa00097cbc19431602b4b22ceaf34d4\n",
            "  Stored in directory: /tmp/pip-ephem-wheel-cache-ec74yz9h/wheels/94/40/b6/99e0f4753e677e3e1c634005f07c71c620968d499cc510d77e\n",
            "  Building wheel for nox-if (setup.py) ... \u001b[?25lerror\n",
            "\u001b[31m  ERROR: Failed building wheel for nox-if\u001b[0m\n",
            "\u001b[?25h  Running setup.py clean for nox-if\n",
            "\u001b[31m  ERROR: Failed cleaning build dir for nox-if\u001b[0m\n",
            "Successfully built nox-if\n",
            "Failed to build nox-if\n",
            "Installing collected packages: nox-if\n",
            "Successfully installed nox-if-0.0.12\n"
          ],
          "name": "stdout"
        }
      ]
    },
    {
      "cell_type": "code",
      "metadata": {
        "id": "c5TKBjGbumu6",
        "colab_type": "code",
        "colab": {
          "base_uri": "https://localhost:8080/",
          "height": 52
        },
        "outputId": "93783a0e-869e-45d0-db9d-d6dddee942e6"
      },
      "source": [
        "#@title Load Packages\n",
        "from typing import Tuple, Optional, Dict, Callable\n",
        "import jax\n",
        "import jax.numpy as np\n",
        "import jax.random as random\n",
        "import numpy as onp\n",
        "\n",
        "import numpyro\n",
        "import numpyro.distributions as dist\n",
        "from numpyro.infer import SVI\n",
        "\n",
        "import logging\n",
        "logger = logging.getLogger()\n",
        "logger.setLevel(logging.DEBUG)\n",
        "\n",
        "import matplotlib.pyplot as plt\n",
        "import seaborn as sns\n",
        "\n",
        "sns.reset_defaults()\n",
        "#sns.set_style('whitegrid')\n",
        "#sns.set_context('talk')\n",
        "sns.set_context(context='talk',font_scale=0.7)\n",
        "%matplotlib inline"
      ],
      "execution_count": null,
      "outputs": [
        {
          "output_type": "stream",
          "text": [
            "/usr/local/lib/python3.6/dist-packages/statsmodels/tools/_testing.py:19: FutureWarning: pandas.util.testing is deprecated. Use the functions in the public API at pandas.testing instead.\n",
            "  import pandas.util.testing as tm\n"
          ],
          "name": "stderr"
        }
      ]
    },
    {
      "cell_type": "code",
      "metadata": {
        "id": "RSMP8Vr6x51L",
        "colab_type": "code",
        "cellView": "form",
        "colab": {}
      },
      "source": [
        "#@title Data\n",
        "def get_data(\n",
        "    N: int = 30,\n",
        "    input_noise: float = 0.15,\n",
        "    output_noise: float = 0.15,\n",
        "    N_test: int = 400,\n",
        ") -> Tuple[np.ndarray, np.ndarray, np.ndarray, None]:\n",
        "    onp.random.seed(0)\n",
        "    X = np.linspace(-1, 1, N)\n",
        "    Y = X + 0.2 * np.power(X, 3.0) + 0.5 * np.power(0.5 + X, 2.0) * np.sin(4.0 * X)\n",
        "    Y += output_noise * onp.random.randn(N)\n",
        "    Y -= np.mean(Y)\n",
        "    Y /= np.std(Y)\n",
        "\n",
        "    X += input_noise * onp.random.randn(N)\n",
        "\n",
        "    assert X.shape == (N,)\n",
        "    assert Y.shape == (N,)\n",
        "\n",
        "    X_test = np.linspace(-1.2, 1.2, N_test)\n",
        "\n",
        "    return X[:, None], Y[:, None], X_test[:, None]\n"
      ],
      "execution_count": null,
      "outputs": []
    },
    {
      "cell_type": "code",
      "metadata": {
        "id": "F6c6h8XjY648",
        "colab_type": "code",
        "cellView": "form",
        "colab": {
          "base_uri": "https://localhost:8080/",
          "height": 274
        },
        "outputId": "470b2f26-89f2-4e08-e142-7e52073edead"
      },
      "source": [
        "#@title Distribution Data\n",
        "from scipy.stats import beta\n",
        "\n",
        "a, b = 3.0, 10.0\n",
        "data_dist = beta(a, b)\n",
        "\n",
        "\n",
        "x_samples = data_dist.rvs(1_000, 123)\n",
        "\n",
        "# x_samples = data_dist.rvs(1_000, 123)\n",
        "\n",
        "plt.hist(x_samples, bins=100);"
      ],
      "execution_count": null,
      "outputs": [
        {
          "output_type": "display_data",
          "data": {
            "image/png": "[encoded data removed]",
            "text/plain": [
              "<Figure size 432x288 with 1 Axes>"
            ]
          },
          "metadata": {
            "tags": [],
            "needs_background": "light"
          }
        }
      ]
    },
    {
      "cell_type": "markdown",
      "metadata": {
        "id": "nMbn2EGgZDJf",
        "colab_type": "text"
      },
      "source": [
        "# KDE Transformation"
      ]
    },
    {
      "cell_type": "markdown",
      "metadata": {
        "id": "TGIZrAqqZjy5",
        "colab_type": "text"
      },
      "source": [
        "## PDF Estimation\n",
        "\n",
        "$$\n",
        "\\hat{f}(x) = \\frac{1}{n}\\sum_{i}f_i(x)\n",
        "$$"
      ]
    },
    {
      "cell_type": "code",
      "metadata": {
        "id": "5dQhr4xmZEJY",
        "colab_type": "code",
        "colab": {
          "base_uri": "https://localhost:8080/",
          "height": 274
        },
        "outputId": "797c5f02-2988-449b-91e3-977cd4740b87"
      },
      "source": [
        "from scipy import stats\n",
        "\n",
        "precision = 1_000\n",
        "x = onp.linspace(-.1, 1.0, precision)\n",
        "kde_clf_scipy = stats.gaussian_kde(x_samples, bw_method='silverman')\n",
        "\n",
        "x_pdf_sci = kde_clf_scipy.evaluate(x)\n",
        "\n",
        "plt.figure()\n",
        "plt.plot(x, x_pdf_sci, label='Estimated PDF (Scipy)')\n",
        "plt.plot(x, data_dist.pdf(x), label='Actual PDF')\n",
        "plt.legend()\n",
        "plt.show()"
      ],
      "execution_count": null,
      "outputs": [
        {
          "output_type": "display_data",
          "data": {
            "image/png": "[encoded data removed]",
            "text/plain": [
              "<Figure size 432x288 with 1 Axes>"
            ]
          },
          "metadata": {
            "tags": [],
            "needs_background": "light"
          }
        }
      ]
    },
    {
      "cell_type": "code",
      "metadata": {
        "id": "AJygH7wneSLW",
        "colab_type": "code",
        "colab": {
          "base_uri": "https://localhost:8080/",
          "height": 52
        },
        "outputId": "d3dce061-b224-4643-f4ef-8f5617c8d42c"
      },
      "source": [
        "precision = 2_000\n",
        "x = onp.linspace(-.1, 1.0, precision)\n",
        "\n",
        "%timeit _ = kde_clf_scipy.evaluate(x)\n",
        "%timeit _ = kde_clf_sm.evaluate(x)"
      ],
      "execution_count": null,
      "outputs": [
        {
          "output_type": "stream",
          "text": [
            "10 loops, best of 3: 55.1 ms per loop\n",
            "10 loops, best of 3: 48.4 ms per loop\n"
          ],
          "name": "stdout"
        }
      ]
    },
    {
      "cell_type": "markdown",
      "metadata": {
        "id": "lcc752eObQUQ",
        "colab_type": "text"
      },
      "source": [
        "### CDF Estimation\n",
        "\n",
        "* A KDE is a mixture density\n",
        "* CDF is a mixture of CDFs"
      ]
    },
    {
      "cell_type": "code",
      "metadata": {
        "id": "AA7OVYWekNGg",
        "colab_type": "code",
        "colab": {
          "base_uri": "https://localhost:8080/",
          "height": 35
        },
        "outputId": "2823eb79-38fb-4131-e1ab-80906fa4fe73"
      },
      "source": [
        "%timeit _ = kde_cdf_f(x)"
      ],
      "execution_count": null,
      "outputs": [
        {
          "output_type": "stream",
          "text": [
            "10 loops, best of 3: 65.9 ms per loop\n"
          ],
          "name": "stdout"
        }
      ]
    },
    {
      "cell_type": "code",
      "metadata": {
        "id": "g-ninEGyfWeF",
        "colab_type": "code",
        "colab": {
          "base_uri": "https://localhost:8080/",
          "height": 291
        },
        "outputId": "2b3f359f-79aa-4a56-94d9-5c05c65e61c7"
      },
      "source": [
        "np.vectorize(lambda x: ag.integrate_box_1d(-np.inf, x))\n",
        "\n",
        "from scipy import stats\n",
        "\n",
        "precision = 1_000\n",
        "x = onp.linspace(-.1, 1.0, precision)\n",
        "kde_clf_scipy = stats.gaussian_kde(x_samples, bw_method='silverman')\n",
        "\n",
        "x_pdf_sci = kde_clf_scipy.evaluate(x)\n",
        "kde_cdf_f = onp.vectorize(lambda x: kde_clf_scipy.integrate_box_1d(-onp.inf, x))\n",
        "x_cdf_sci = kde_cdf_f(x)\n",
        "\n",
        "plt.plot(x, x_cdf_sci)"
      ],
      "execution_count": null,
      "outputs": [
        {
          "output_type": "execute_result",
          "data": {
            "text/plain": [
              "[<matplotlib.lines.Line2D at 0x7f1095152908>]"
            ]
          },
          "metadata": {
            "tags": []
          },
          "execution_count": 69
        },
        {
          "output_type": "display_data",
          "data": {
            "image/png": "[encoded data removed]",
            "text/plain": [
              "<Figure size 432x288 with 1 Axes>"
            ]
          },
          "metadata": {
            "tags": [],
            "needs_background": "light"
          }
        }
      ]
    },
    {
      "cell_type": "markdown",
      "metadata": {
        "id": "vlI21xFAlPAl",
        "colab_type": "text"
      },
      "source": [
        "### Quantile Function"
      ]
    },
    {
      "cell_type": "code",
      "metadata": {
        "id": "1VNk7F15lQpQ",
        "colab_type": "code",
        "colab": {}
      },
      "source": [
        "from scipy import stats\n",
        "n_quantiles = 1_000\n",
        "x_icdf = stats.mstats.mquantiles(x, np.linspace(0, 1, n_quantiles))"
      ],
      "execution_count": null,
      "outputs": []
    },
    {
      "cell_type": "code",
      "metadata": {
        "id": "1VY8FO0_lq96",
        "colab_type": "code",
        "colab": {
          "base_uri": "https://localhost:8080/",
          "height": 291
        },
        "outputId": "f9cdc503-6418-42c3-a1a6-3427f329c0d5"
      },
      "source": [
        "plt.plot(x_cdf_sci, x_icdf)"
      ],
      "execution_count": null,
      "outputs": [
        {
          "output_type": "execute_result",
          "data": {
            "text/plain": [
              "[<matplotlib.lines.Line2D at 0x7f1095842e48>]"
            ]
          },
          "metadata": {
            "tags": []
          },
          "execution_count": 81
        },
        {
          "output_type": "display_data",
          "data": {
            "image/png": "[encoded data removed]",
            "text/plain": [
              "<Figure size 432x288 with 1 Axes>"
            ]
          },
          "metadata": {
            "tags": [],
            "needs_background": "light"
          }
        }
      ]
    },
    {
      "cell_type": "code",
      "metadata": {
        "id": "_D-i9fo_dK7d",
        "colab_type": "code",
        "colab": {}
      },
      "source": [
        "import statsmodels.api as sm"
      ],
      "execution_count": null,
      "outputs": []
    },
    {
      "cell_type": "code",
      "metadata": {
        "id": "9_hhXo-qdP_z",
        "colab_type": "code",
        "colab": {}
      },
      "source": [
        "kde_clf = sm.nonparametric.KDEUnivariate(x_samples)\n",
        "kde_clf.fit()\n",
        "t = kde_clf.endog"
      ],
      "execution_count": null,
      "outputs": []
    },
    {
      "cell_type": "code",
      "metadata": {
        "id": "P7UYSPgfkmS9",
        "colab_type": "code",
        "colab": {}
      },
      "source": [
        "x"
      ],
      "execution_count": null,
      "outputs": []
    },
    {
      "cell_type": "code",
      "metadata": {
        "id": "JacuFgR-kevC",
        "colab_type": "code",
        "colab": {
          "base_uri": "https://localhost:8080/",
          "height": 291
        },
        "outputId": "8bacd59f-0ef7-4aa6-c4c7-2b71e2a2139a"
      },
      "source": [
        "plt.plot(t)"
      ],
      "execution_count": null,
      "outputs": [
        {
          "output_type": "execute_result",
          "data": {
            "text/plain": [
              "[<matplotlib.lines.Line2D at 0x7f10954cda20>]"
            ]
          },
          "metadata": {
            "tags": []
          },
          "execution_count": 76
        },
        {
          "output_type": "display_data",
          "data": {
            "image/png": "[encoded data removed]",
            "text/plain": [
              "<Figure size 432x288 with 1 Axes>"
            ]
          },
          "metadata": {
            "tags": [],
            "needs_background": "light"
          }
        }
      ]
    },
    {
      "cell_type": "code",
      "metadata": {
        "id": "uesU2waeZGX0",
        "colab_type": "code",
        "colab": {
          "base_uri": "https://localhost:8080/",
          "height": 641
        },
        "outputId": "77e1bc23-94af-4ba2-9cf4-2646b147d58f"
      },
      "source": [
        "kde_clf_sm = sm.nonparametric.KDEUnivariate(x_samples)\n",
        "kde_clf_sm.fit()\n",
        "\n",
        "precision = 1_000\n",
        "x = onp.linspace(-.1, 1.0, precision)\n",
        "\n",
        "x_pdf_sm = kde_clf_sm.evaluate(x)\n",
        "x_cdf_cm = kde_clf_sm.cdf\n",
        "\n",
        "plt.plot(x, x_cdf_cm)\n",
        "\n",
        "# plt."
      ],
      "execution_count": null,
      "outputs": [
        {
          "output_type": "error",
          "ename": "ValueError",
          "evalue": "ignored",
          "traceback": [
            "\u001b[0;31m---------------------------------------------------------------------------\u001b[0m",
            "\u001b[0;31mValueError\u001b[0m                                Traceback (most recent call last)",
            "\u001b[0;32m<ipython-input-57-63a83ce6988b>\u001b[0m in \u001b[0;36m<module>\u001b[0;34m()\u001b[0m\n\u001b[1;32m      8\u001b[0m \u001b[0mx_cdf_cm\u001b[0m \u001b[0;34m=\u001b[0m \u001b[0mkde_clf_sm\u001b[0m\u001b[0;34m.\u001b[0m\u001b[0mcdf\u001b[0m\u001b[0;34m\u001b[0m\u001b[0;34m\u001b[0m\u001b[0m\n\u001b[1;32m      9\u001b[0m \u001b[0;34m\u001b[0m\u001b[0m\n\u001b[0;32m---> 10\u001b[0;31m \u001b[0mplt\u001b[0m\u001b[0;34m.\u001b[0m\u001b[0mplot\u001b[0m\u001b[0;34m(\u001b[0m\u001b[0mx\u001b[0m\u001b[0;34m,\u001b[0m \u001b[0mx_cdf_cm\u001b[0m\u001b[0;34m)\u001b[0m\u001b[0;34m\u001b[0m\u001b[0;34m\u001b[0m\u001b[0m\n\u001b[0m\u001b[1;32m     11\u001b[0m \u001b[0;34m\u001b[0m\u001b[0m\n\u001b[1;32m     12\u001b[0m \u001b[0;31m# plt.\u001b[0m\u001b[0;34m\u001b[0m\u001b[0;34m\u001b[0m\u001b[0;34m\u001b[0m\u001b[0m\n",
            "\u001b[0;32m/usr/local/lib/python3.6/dist-packages/matplotlib/pyplot.py\u001b[0m in \u001b[0;36mplot\u001b[0;34m(scalex, scaley, data, *args, **kwargs)\u001b[0m\n\u001b[1;32m   2761\u001b[0m     return gca().plot(\n\u001b[1;32m   2762\u001b[0m         *args, scalex=scalex, scaley=scaley, **({\"data\": data} if data\n\u001b[0;32m-> 2763\u001b[0;31m         is not None else {}), **kwargs)\n\u001b[0m\u001b[1;32m   2764\u001b[0m \u001b[0;34m\u001b[0m\u001b[0m\n\u001b[1;32m   2765\u001b[0m \u001b[0;34m\u001b[0m\u001b[0m\n",
            "\u001b[0;32m/usr/local/lib/python3.6/dist-packages/matplotlib/axes/_axes.py\u001b[0m in \u001b[0;36mplot\u001b[0;34m(self, scalex, scaley, data, *args, **kwargs)\u001b[0m\n\u001b[1;32m   1644\u001b[0m         \"\"\"\n\u001b[1;32m   1645\u001b[0m         \u001b[0mkwargs\u001b[0m \u001b[0;34m=\u001b[0m \u001b[0mcbook\u001b[0m\u001b[0;34m.\u001b[0m\u001b[0mnormalize_kwargs\u001b[0m\u001b[0;34m(\u001b[0m\u001b[0mkwargs\u001b[0m\u001b[0;34m,\u001b[0m \u001b[0mmlines\u001b[0m\u001b[0;34m.\u001b[0m\u001b[0mLine2D\u001b[0m\u001b[0;34m)\u001b[0m\u001b[0;34m\u001b[0m\u001b[0;34m\u001b[0m\u001b[0m\n\u001b[0;32m-> 1646\u001b[0;31m         \u001b[0mlines\u001b[0m \u001b[0;34m=\u001b[0m \u001b[0;34m[\u001b[0m\u001b[0;34m*\u001b[0m\u001b[0mself\u001b[0m\u001b[0;34m.\u001b[0m\u001b[0m_get_lines\u001b[0m\u001b[0;34m(\u001b[0m\u001b[0;34m*\u001b[0m\u001b[0margs\u001b[0m\u001b[0;34m,\u001b[0m \u001b[0mdata\u001b[0m\u001b[0;34m=\u001b[0m\u001b[0mdata\u001b[0m\u001b[0;34m,\u001b[0m \u001b[0;34m**\u001b[0m\u001b[0mkwargs\u001b[0m\u001b[0;34m)\u001b[0m\u001b[0;34m]\u001b[0m\u001b[0;34m\u001b[0m\u001b[0;34m\u001b[0m\u001b[0m\n\u001b[0m\u001b[1;32m   1647\u001b[0m         \u001b[0;32mfor\u001b[0m \u001b[0mline\u001b[0m \u001b[0;32min\u001b[0m \u001b[0mlines\u001b[0m\u001b[0;34m:\u001b[0m\u001b[0;34m\u001b[0m\u001b[0;34m\u001b[0m\u001b[0m\n\u001b[1;32m   1648\u001b[0m             \u001b[0mself\u001b[0m\u001b[0;34m.\u001b[0m\u001b[0madd_line\u001b[0m\u001b[0;34m(\u001b[0m\u001b[0mline\u001b[0m\u001b[0;34m)\u001b[0m\u001b[0;34m\u001b[0m\u001b[0;34m\u001b[0m\u001b[0m\n",
            "\u001b[0;32m/usr/local/lib/python3.6/dist-packages/matplotlib/axes/_base.py\u001b[0m in \u001b[0;36m__call__\u001b[0;34m(self, *args, **kwargs)\u001b[0m\n\u001b[1;32m    214\u001b[0m                 \u001b[0mthis\u001b[0m \u001b[0;34m+=\u001b[0m \u001b[0margs\u001b[0m\u001b[0;34m[\u001b[0m\u001b[0;36m0\u001b[0m\u001b[0;34m]\u001b[0m\u001b[0;34m,\u001b[0m\u001b[0;34m\u001b[0m\u001b[0;34m\u001b[0m\u001b[0m\n\u001b[1;32m    215\u001b[0m                 \u001b[0margs\u001b[0m \u001b[0;34m=\u001b[0m \u001b[0margs\u001b[0m\u001b[0;34m[\u001b[0m\u001b[0;36m1\u001b[0m\u001b[0;34m:\u001b[0m\u001b[0;34m]\u001b[0m\u001b[0;34m\u001b[0m\u001b[0;34m\u001b[0m\u001b[0m\n\u001b[0;32m--> 216\u001b[0;31m             \u001b[0;32myield\u001b[0m \u001b[0;32mfrom\u001b[0m \u001b[0mself\u001b[0m\u001b[0;34m.\u001b[0m\u001b[0m_plot_args\u001b[0m\u001b[0;34m(\u001b[0m\u001b[0mthis\u001b[0m\u001b[0;34m,\u001b[0m \u001b[0mkwargs\u001b[0m\u001b[0;34m)\u001b[0m\u001b[0;34m\u001b[0m\u001b[0;34m\u001b[0m\u001b[0m\n\u001b[0m\u001b[1;32m    217\u001b[0m \u001b[0;34m\u001b[0m\u001b[0m\n\u001b[1;32m    218\u001b[0m     \u001b[0;32mdef\u001b[0m \u001b[0mget_next_color\u001b[0m\u001b[0;34m(\u001b[0m\u001b[0mself\u001b[0m\u001b[0;34m)\u001b[0m\u001b[0;34m:\u001b[0m\u001b[0;34m\u001b[0m\u001b[0;34m\u001b[0m\u001b[0m\n",
            "\u001b[0;32m/usr/local/lib/python3.6/dist-packages/matplotlib/axes/_base.py\u001b[0m in \u001b[0;36m_plot_args\u001b[0;34m(self, tup, kwargs)\u001b[0m\n\u001b[1;32m    340\u001b[0m \u001b[0;34m\u001b[0m\u001b[0m\n\u001b[1;32m    341\u001b[0m         \u001b[0;32mif\u001b[0m \u001b[0mx\u001b[0m\u001b[0;34m.\u001b[0m\u001b[0mshape\u001b[0m\u001b[0;34m[\u001b[0m\u001b[0;36m0\u001b[0m\u001b[0;34m]\u001b[0m \u001b[0;34m!=\u001b[0m \u001b[0my\u001b[0m\u001b[0;34m.\u001b[0m\u001b[0mshape\u001b[0m\u001b[0;34m[\u001b[0m\u001b[0;36m0\u001b[0m\u001b[0;34m]\u001b[0m\u001b[0;34m:\u001b[0m\u001b[0;34m\u001b[0m\u001b[0;34m\u001b[0m\u001b[0m\n\u001b[0;32m--> 342\u001b[0;31m             raise ValueError(f\"x and y must have same first dimension, but \"\n\u001b[0m\u001b[1;32m    343\u001b[0m                              f\"have shapes {x.shape} and {y.shape}\")\n\u001b[1;32m    344\u001b[0m         \u001b[0;32mif\u001b[0m \u001b[0mx\u001b[0m\u001b[0;34m.\u001b[0m\u001b[0mndim\u001b[0m \u001b[0;34m>\u001b[0m \u001b[0;36m2\u001b[0m \u001b[0;32mor\u001b[0m \u001b[0my\u001b[0m\u001b[0;34m.\u001b[0m\u001b[0mndim\u001b[0m \u001b[0;34m>\u001b[0m \u001b[0;36m2\u001b[0m\u001b[0;34m:\u001b[0m\u001b[0;34m\u001b[0m\u001b[0;34m\u001b[0m\u001b[0m\n",
            "\u001b[0;31mValueError\u001b[0m: x and y must have same first dimension, but have shapes (1000,) and (1024,)"
          ]
        },
        {
          "output_type": "display_data",
          "data": {
            "image/png": "[encoded data removed]",
            "text/plain": [
              "<Figure size 432x288 with 1 Axes>"
            ]
          },
          "metadata": {
            "tags": [],
            "needs_background": "light"
          }
        }
      ]
    },
    {
      "cell_type": "code",
      "metadata": {
        "id": "Suh1de8Hc0LI",
        "colab_type": "code",
        "colab": {
          "base_uri": "https://localhost:8080/",
          "height": 35
        },
        "outputId": "a77a9482-4e5d-4cd8-bdb3-753a88c8e69e"
      },
      "source": [
        "quantiles.min(), quantiles.max()"
      ],
      "execution_count": null,
      "outputs": [
        {
          "output_type": "execute_result",
          "data": {
            "text/plain": [
              "(-0.1, -0.08900000000000001)"
            ]
          },
          "metadata": {
            "tags": []
          },
          "execution_count": 32
        }
      ]
    },
    {
      "cell_type": "code",
      "metadata": {
        "id": "V5GqjV0ccChs",
        "colab_type": "code",
        "colab": {
          "base_uri": "https://localhost:8080/",
          "height": 291
        },
        "outputId": "701b4260-84df-4f55-dbee-0ccfc6ef779d"
      },
      "source": [
        "plt.plot(quantiles, references)\n",
        "# plt.plot(x, data_dist.cdf(x))"
      ],
      "execution_count": null,
      "outputs": [
        {
          "output_type": "execute_result",
          "data": {
            "text/plain": [
              "[<matplotlib.lines.Line2D at 0x7f109f721048>]"
            ]
          },
          "metadata": {
            "tags": []
          },
          "execution_count": 33
        },
        {
          "output_type": "display_data",
          "data": {
            "image/png": "[encoded data removed]",
            "text/plain": [
              "<Figure size 432x288 with 1 Axes>"
            ]
          },
          "metadata": {
            "tags": [],
            "needs_background": "light"
          }
        }
      ]
    },
    {
      "cell_type": "code",
      "metadata": {
        "id": "keS6b0FMcIEL",
        "colab_type": "code",
        "colab": {}
      },
      "source": [
        ""
      ],
      "execution_count": null,
      "outputs": []
    }
  ]
}