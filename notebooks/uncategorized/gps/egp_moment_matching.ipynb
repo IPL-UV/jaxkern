{
 "cells": [
  {
   "cell_type": "markdown",
   "metadata": {},
   "source": [
    "# Kernel Quadratures\n",
    "\n",
    "\n",
    "**resources**\n",
    "\n",
    "* [Doc](https://docs.google.com/document/d/1ZdYyq2q22FhzW_4KuZU6Mp8Pccg5sUGH6v3QZxo8b2E/edit)"
   ]
  },
  {
   "cell_type": "code",
   "execution_count": 1,
   "metadata": {},
   "outputs": [],
   "source": [
    "import sys, os\n",
    "from pyprojroot import here\n",
    "from wandb.sdk import wandb_config\n",
    "\n",
    "# spyder up to find the root\n",
    "root = here(project_files=[\".here\", \".env\"])\n",
    "# append to path\n",
    "sys.path.append(str(root))\n",
    "\n",
    "%load_ext lab_black\n",
    "%load_ext autoreload\n",
    "%autoreload 2"
   ]
  },
  {
   "cell_type": "code",
   "execution_count": 2,
   "metadata": {},
   "outputs": [],
   "source": [
    "# from pathlib import Path\n",
    "\n",
    "# print(Path.cwd(), root)"
   ]
  },
  {
   "cell_type": "markdown",
   "metadata": {},
   "source": [
    "## Toy Data"
   ]
  },
  {
   "cell_type": "code",
   "execution_count": 3,
   "metadata": {},
   "outputs": [
    {
     "name": "stderr",
     "output_type": "stream",
     "text": [
      "WARNING:absl:No GPU/TPU found, falling back to CPU. (Set TF_CPP_MIN_LOG_LEVEL=0 and rerun for more info.)\n"
     ]
    }
   ],
   "source": [
    "import jax\n",
    "import jax.random as jr\n",
    "import jax.numpy as jnp\n",
    "\n",
    "seed = 123\n",
    "key = jr.PRNGKey(seed)\n",
    "\n",
    "ntrain = 60\n",
    "ntest = 1_000\n",
    "\n",
    "f = lambda x: jnp.sin(1.0 * jnp.pi / 1.6 * jnp.cos(5 + 0.5 * x))\n",
    "\n",
    "X = jnp.linspace(-10, 10, ntrain).reshape(-1, 1)\n",
    "X_cov = jnp.array([0.1]).reshape(-1, 1)\n",
    "\n",
    "key, y_rng = jr.split(key, 2)\n",
    "y = f(X)\n",
    "\n",
    "\n",
    "Xtest = jnp.linspace(-10.1, 10.1, ntest).reshape(-1, 1)"
   ]
  },
  {
   "cell_type": "markdown",
   "metadata": {},
   "source": [
    "## GP Model"
   ]
  },
  {
   "cell_type": "code",
   "execution_count": 4,
   "metadata": {},
   "outputs": [],
   "source": [
    "from gpjax.gps import Prior\n",
    "from gpjax.mean_functions import Zero\n",
    "from gpjax.kernels import RBF\n",
    "from gpjax.likelihoods import Gaussian\n",
    "from gpjax.types import Dataset\n",
    "from gpjax.parameters import initialise"
   ]
  },
  {
   "cell_type": "code",
   "execution_count": 5,
   "metadata": {},
   "outputs": [],
   "source": [
    "# GP Prior\n",
    "mean_function = Zero()\n",
    "kernel = RBF()\n",
    "prior = Prior(mean_function=mean_function, kernel=kernel)\n",
    "\n",
    "# GP Likelihood\n",
    "lik = Gaussian()\n",
    "\n",
    "# GP Posterior\n",
    "posterior = prior * lik\n",
    "\n",
    "# initialize training dataset\n",
    "training_ds = Dataset(X=X, y=y)"
   ]
  },
  {
   "cell_type": "code",
   "execution_count": 6,
   "metadata": {},
   "outputs": [],
   "source": [
    "# initialize parameters\n",
    "params = initialise(posterior)\n",
    "\n",
    "params = {\"obs_noise\": 0.003321, \"lengthscale\": 1.849, \"variance\": 0.9014}"
   ]
  },
  {
   "cell_type": "markdown",
   "metadata": {},
   "source": [
    "## Predictions"
   ]
  },
  {
   "cell_type": "code",
   "execution_count": 7,
   "metadata": {},
   "outputs": [],
   "source": [
    "from gpjax import mean, variance\n",
    "\n",
    "meanf = mean(posterior, params, training_ds)\n",
    "covarf = variance(posterior, params, training_ds)\n",
    "varf = lambda x: jnp.atleast_1d(jnp.diag(covarf(x)))\n",
    "\n",
    "\n",
    "mu = meanf(Xtest).squeeze()\n",
    "var = varf(Xtest).squeeze()"
   ]
  },
  {
   "cell_type": "code",
   "execution_count": 8,
   "metadata": {},
   "outputs": [],
   "source": [
    "n_features = 1\n",
    "\n",
    "\n",
    "xtest_sample = Xtest[0]\n",
    "xtrain_sample = X[0]\n",
    "\n",
    "xtest_sample = jnp.atleast_1d(xtest_sample)\n",
    "xtrain_sample = jnp.atleast_1d(xtrain_sample)"
   ]
  },
  {
   "cell_type": "markdown",
   "metadata": {},
   "source": [
    "### Moment Transform"
   ]
  },
  {
   "cell_type": "code",
   "execution_count": 9,
   "metadata": {},
   "outputs": [],
   "source": [
    "from jaxkern.gp.uncertain.mcmc import MCMomentTransform\n",
    "from jaxkern.gp.uncertain.unscented import UnscentedTransform, SphericalRadialTransform\n",
    "from jaxkern.gp.uncertain.quadrature import GaussHermite\n",
    "\n",
    "# mm_transform = MCMomentTransform(n_features=1, n_samples=1_000, seed=123)\n",
    "# mm_transform = UnscentedTransform(n_features=1, alpha=1.0, beta=2.0, kappa=None)\n",
    "# mm_transform = GaussHermite(n_features=1, degree=20)\n",
    "mm_transform = SphericalRadialTransform(n_features=1)"
   ]
  },
  {
   "cell_type": "markdown",
   "metadata": {},
   "source": [
    "## Mean Expectations"
   ]
  },
  {
   "cell_type": "code",
   "execution_count": 10,
   "metadata": {},
   "outputs": [],
   "source": [
    "from typing import Callable, Dict\n",
    "import chex\n",
    "from jaxkern.kernels.expectations import e_Mx, e_Kx, e_Kxy"
   ]
  },
  {
   "cell_type": "code",
   "execution_count": 11,
   "metadata": {},
   "outputs": [],
   "source": [
    "# initialize function\n",
    "f = e_Mx(meanf, mm_transform,)\n",
    "\n",
    "y_mu = f(xtest_sample, X_cov)\n",
    "\n",
    "\n",
    "chex.assert_shape(y_mu, (n_features,))"
   ]
  },
  {
   "cell_type": "code",
   "execution_count": 12,
   "metadata": {},
   "outputs": [],
   "source": [
    "f = e_Mx(meanf, mm_transform,)\n",
    "\n",
    "\n",
    "f = jax.jit(jax.vmap(f, in_axes=(0, None)))"
   ]
  },
  {
   "cell_type": "code",
   "execution_count": 13,
   "metadata": {},
   "outputs": [
    {
     "name": "stdout",
     "output_type": "stream",
     "text": [
      "CPU times: user 84.5 ms, sys: 4 ms, total: 88.5 ms\n",
      "Wall time: 84.4 ms\n"
     ]
    }
   ],
   "source": [
    "%%time\n",
    "\n",
    "y_mu = f( Xtest.block_until_ready(), X_cov.block_until_ready())\n",
    "\n",
    "chex.assert_shape(y_mu, (ntest, n_features,))"
   ]
  },
  {
   "cell_type": "code",
   "execution_count": 14,
   "metadata": {},
   "outputs": [
    {
     "data": {
      "text/plain": [
       "[<matplotlib.lines.Line2D at 0x7f8d3d4780d0>]"
      ]
     },
     "execution_count": 14,
     "metadata": {},
     "output_type": "execute_result"
    },
    {
     "data": {
      "image/png": "[encoded data removed]",
      "text/plain": [
       "<Figure size 432x288 with 1 Axes>"
      ]
     },
     "metadata": {
      "needs_background": "light"
     },
     "output_type": "display_data"
    }
   ],
   "source": [
    "import matplotlib.pyplot as plt\n",
    "\n",
    "%matplotlib inline\n",
    "plt.plot(Xtest, y_mu)\n",
    "plt.plot(Xtest, mu)"
   ]
  },
  {
   "cell_type": "markdown",
   "metadata": {},
   "source": [
    "## Mean Prediction"
   ]
  },
  {
   "cell_type": "markdown",
   "metadata": {},
   "source": [
    "\n",
    "$$\n",
    "\\tilde{\\boldsymbol{\\mu}}_{MMGP}(\\mathbf{x_*}) = \\Psi_1^\\top\\alpha \n",
    "$$"
   ]
  },
  {
   "cell_type": "code",
   "execution_count": 15,
   "metadata": {},
   "outputs": [],
   "source": [
    "from jaxkern.gp.predictive import moment_matching_mean"
   ]
  },
  {
   "cell_type": "code",
   "execution_count": 16,
   "metadata": {},
   "outputs": [],
   "source": [
    "mm_mean_f = moment_matching_mean(posterior, params, training_ds, mm_transform)"
   ]
  },
  {
   "cell_type": "code",
   "execution_count": 17,
   "metadata": {},
   "outputs": [],
   "source": [
    "y_mm_mu = mm_mean_f(Xtest, X_cov)"
   ]
  },
  {
   "cell_type": "code",
   "execution_count": 18,
   "metadata": {},
   "outputs": [
    {
     "data": {
      "text/plain": [
       "[<matplotlib.lines.Line2D at 0x7f8c481c63d0>]"
      ]
     },
     "execution_count": 18,
     "metadata": {},
     "output_type": "execute_result"
    },
    {
     "data": {
      "image/png": "[encoded data removed]",
      "text/plain": [
       "<Figure size 432x288 with 1 Axes>"
      ]
     },
     "metadata": {
      "needs_background": "light"
     },
     "output_type": "display_data"
    }
   ],
   "source": [
    "%matplotlib inline\n",
    "\n",
    "plt.plot(Xtest, y_mu)\n",
    "plt.plot(Xtest, mu, color=\"black\")\n",
    "plt.plot(Xtest, y_mm_mu, linestyle=\"--\", color=\"red\")"
   ]
  },
  {
   "cell_type": "markdown",
   "metadata": {},
   "source": [
    "## Predictive Variance Function\n",
    "\n",
    "\n",
    "$$\n",
    "\\tilde{\\mathbf{\\Sigma}}^2_{MMGP}(\\mathbf{x}_*)\n",
    "=\n",
    "\\psi_0 - \\text{Tr}\\left( \\left(\\mathbf{K}_{GP}^{-1}  - \\alpha\\alpha^\\top\\right) \\Psi_2\\right) - \\text{Tr}\\left( \\Psi_1\\Psi_1^\\top\\alpha\\alpha^\\top \\right),\n",
    "$$"
   ]
  },
  {
   "cell_type": "code",
   "execution_count": 26,
   "metadata": {},
   "outputs": [],
   "source": [
    "from gpjax.gps import ConjugatePosterior\n",
    "from chex import dataclass, Array\n",
    "from gpjax.kernels import gram\n",
    "from gpjax.utils import I\n",
    "from jax.scipy.linalg import cho_factor, cho_solve\n",
    "from jaxkern.kernels.expectations import e_Mx, e_Kx, e_Kxy, e_Kxy_Kxz\n",
    "\n",
    "\n",
    "def moment_matching_variance(\n",
    "    gp: ConjugatePosterior,\n",
    "    param: dict,\n",
    "    training: Dataset,\n",
    "    mm_transform: dataclass,\n",
    "    obs_noise: bool = True,\n",
    ") -> Callable:\n",
    "    X, y = training.X, training.y\n",
    "    sigma = param[\"obs_noise\"]\n",
    "    n_train = training.n\n",
    "    Kff = gram(gp.prior.kernel, X, param)\n",
    "    Kinv = jnp.linalg.inv(Kff + I(n_train) * sigma)\n",
    "    L = cho_factor(Kff + I(n_train) * sigma, lower=True)\n",
    "    prior_mean = gp.prior.mean_function(X)\n",
    "    prior_distance = y - prior_mean\n",
    "    weights = cho_solve(L, prior_distance)\n",
    "\n",
    "    if obs_noise:\n",
    "        noise_constant = sigma\n",
    "    else:\n",
    "        noise_constant = 1.0\n",
    "\n",
    "    # Term 1, vectorized\n",
    "    term1 = e_Kx(gp.prior.kernel, param, mm_transform=mm_transform)\n",
    "    psi0 = jax.vmap(term1, in_axes=(0, None))\n",
    "\n",
    "    # Term 2, vectorized\n",
    "    term2 = e_Kxy(gp.prior.kernel, param, mm_transform=mm_transform)\n",
    "\n",
    "    mv = jax.vmap(term2, in_axes=(0, None, None), out_axes=(0))\n",
    "    psi1 = jax.vmap(mv, in_axes=(None, None, 0), out_axes=(1))\n",
    "\n",
    "    # Term 3, vectorized\n",
    "    term3 = e_Kxy_Kxz(\n",
    "        gp.prior.kernel, param, gp.prior.kernel, param, mm_transform=mm_transform\n",
    "    )\n",
    "    mvv = jax.vmap(term3, in_axes=(0, None, None, None), out_axes=(0))\n",
    "    mmv = jax.vmap(mvv, in_axes=(None, None, 0, None), out_axes=(1))\n",
    "    psi2 = jax.vmap(mmv, in_axes=(None, None, None, 0), out_axes=(2))\n",
    "\n",
    "    def varf(test_inputs: Array, test_cov: Array) -> Array:\n",
    "\n",
    "        # term 1\n",
    "        t1 = psi0(test_inputs, test_cov)[..., 0]\n",
    "\n",
    "        # term 2\n",
    "        t2 = Kinv - weights @ weights.T\n",
    "        t2 = t2 @ psi2(test_inputs, test_cov, X, X)[..., 0]\n",
    "        t2 = jnp.trace(t2, axis1=1, axis2=2)\n",
    "\n",
    "        # Term 3\n",
    "        t3 = psi1(test_inputs, test_cov, X)[..., 0] @ weights\n",
    "        t3 = t3 ** 2\n",
    "\n",
    "        return t1.squeeze() - t2.squeeze() - t3.squeeze() + noise_constant\n",
    "\n",
    "    return varf"
   ]
  },
  {
   "cell_type": "code",
   "execution_count": 27,
   "metadata": {},
   "outputs": [],
   "source": [
    "mm_mean_f = moment_matching_mean(posterior, params, training_ds, mm_transform)\n",
    "mm_var_f = moment_matching_variance(posterior, params, training_ds, mm_transform)\n",
    "y_mm_mu = mm_mean_f(Xtest, X_cov).squeeze()\n",
    "y_mm_var = mm_var_f(Xtest, X_cov).squeeze()\n",
    "\n",
    "y_mm_std = 1.96 * jnp.sqrt(y_mm_var).squeeze()"
   ]
  },
  {
   "cell_type": "code",
   "execution_count": 28,
   "metadata": {},
   "outputs": [
    {
     "data": {
      "text/plain": [
       "[<matplotlib.lines.Line2D at 0x7f8c3058a220>]"
      ]
     },
     "execution_count": 28,
     "metadata": {},
     "output_type": "execute_result"
    },
    {
     "data": {
      "image/png": "[encoded data removed]",
      "text/plain": [
       "<Figure size 720x360 with 1 Axes>"
      ]
     },
     "metadata": {
      "needs_background": "light"
     },
     "output_type": "display_data"
    }
   ],
   "source": [
    "fig, ax = plt.subplots(figsize=(10, 5))\n",
    "\n",
    "ax.plot(Xtest, y_mm_mu.squeeze() - y_mm_std.squeeze(), linestyle=\"--\", color=\"tab:blue\")\n",
    "ax.fill_between(\n",
    "    Xtest.ravel(),\n",
    "    y_mm_mu.ravel() - y_mm_std,\n",
    "    y_mm_mu.ravel() + y_mm_std,\n",
    "    alpha=0.4,\n",
    "    color=\"tab:blue\",\n",
    ")\n",
    "ax.plot(Xtest, y_mm_mu.squeeze())\n",
    "ax.plot(Xtest, y_mm_mu.squeeze() + y_mm_std.squeeze(), linestyle=\"--\", color=\"tab:blue\")"
   ]
  },
  {
   "cell_type": "code",
   "execution_count": null,
   "metadata": {},
   "outputs": [],
   "source": []
  }
 ],
 "metadata": {
  "kernelspec": {
   "display_name": "Python [conda env:.conda-jax_py38]",
   "language": "python",
   "name": "conda-env-.conda-jax_py38-py"
  },
  "language_info": {
   "codemirror_mode": {
    "name": "ipython",
    "version": 3
   },
   "file_extension": ".py",
   "mimetype": "text/x-python",
   "name": "python",
   "nbconvert_exporter": "python",
   "pygments_lexer": "ipython3",
   "version": "3.8.5"
  }
 },
 "nbformat": 4,
 "nbformat_minor": 4
}
