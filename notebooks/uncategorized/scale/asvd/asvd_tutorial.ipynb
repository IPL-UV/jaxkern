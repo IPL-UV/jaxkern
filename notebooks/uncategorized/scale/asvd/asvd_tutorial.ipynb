{
 "cells": [
  {
   "cell_type": "markdown",
   "metadata": {},
   "source": [
    "# Approximate Singular Value Decomposition "
   ]
  },
  {
   "cell_type": "markdown",
   "metadata": {},
   "source": [
    "### Synopsis"
   ]
  },
  {
   "cell_type": "markdown",
   "metadata": {},
   "source": [
    "I use the eigenvalue decomposition method whenever I implement any Manifold Learning method. The general steps one must take in order to implement these methods would be:\n",
    "\n",
    "1. Construct a Connectivity Matrix\n",
    "2. Solve the Eigenvalue Decomposition Problem\n",
    "3. Extract the k-smallest nontrivial eigenvalues and the corresponding eigenvectors to either extract the embedding or project the data into the new space where the embedding is present.\n",
    "\n",
    "Now, step 2 is very computationally heavy so I am looking for methods which can reduce the computaitonal burden. From my understanding, the Approximate Singular Value Decomposition (ASVD) method uses the theory of random approximations of spectral decompositions to find the best rank-k  approximation of a matrix A. This sounds particularly useful because it will speed up the entire algorithm process and it is a method that has some pretty good theoretical guarantees to ensure that we have a good solution."
   ]
  },
  {
   "cell_type": "markdown",
   "metadata": {},
   "source": [
    "### Resources"
   ]
  },
  {
   "cell_type": "markdown",
   "metadata": {},
   "source": [
    "I will be using the following papers to complete my self tutorial:\n",
    "\n",
    "# Theory\n",
    "\n",
    "* Randomized Approximate of Operators and their Spectral Decomposition for Diffusion Based Embeddings of Hetergeneous Data\n",
    "    - Czaja et al. - [Paper][1]\n",
    "* A randomized algorithm for principal component analysis\n",
    "    - Rokhlin et al. - [Paper][2]\n",
    "* Finding Structure with Randomness: Probabilistic Algorithms for Constructing Approximate Matrix Decompositions\n",
    "    - Halko et al. - [Paper][3]\n",
    "* A randomized algorithm for the decomposition of matrices\n",
    "    - Martisson et al. - [Paper][8]\n",
    "   \n",
    "# Practical\n",
    "\n",
    "* A Practical Guide to Randomized Algorithms in MATLAB\n",
    "    - [Paper][10] | [Code][11]\n",
    "* Course: Fast AI - Randomized SVD \n",
    "    - [github](https://github.com/fastai/randomized-SVD)\n",
    "\n",
    "\n",
    "# Source Codes\n",
    "\n",
    "I will use the following code as a guide for implementing the steps in the paper:\n",
    "\n",
    "* Github user - [gist][4]\n",
    "* Github user - [github][6]\n",
    "* Facebook: Fast Randomized PCA/SVD - [github][5]\n",
    "* Scikit-Learn: Randomized SVD - [github][7]\n",
    "* Mu Li: Randomized SVD - [github][9]\n",
    "    \n",
    "    \n",
    "[1]: http://ieeexplore.ieee.org/xpls/abs_all.jsp?arnumber=7330267&tag=1\n",
    "[2]: http://arxiv.org/pdf/0809.2274.pdf\n",
    "[3]: https://arxiv.org/pdf/0909.4061\n",
    "[4]: https://gist.github.com/alextp/662433\n",
    "[5]: https://github.com/facebook/fbpca/blob/master/fbpca.py\n",
    "[6]: https://github.com/ktaneishi/pyredsvd\n",
    "[7]: https://github.com/scikit-learn/scikit-learn/blob/51a765acfa4c5d1ec05fc4b406968ad233c75162/sklearn/utils/extmath.py\n",
    "[8]: https://math.berkeley.edu/~strain/273.F10/martinsson.tygert.rokhlin.randomized.decomposition.pdf\n",
    "[9]: https://github.com/mli/nystrom/blob/master/rsvd.m\n",
    "[10]: https://arxiv.org/pdf/1505.07570.pdf\n",
    "[11]: https://github.com/wangshusen/RandMatrixMatlab"
   ]
  },
  {
   "cell_type": "markdown",
   "metadata": {},
   "source": [
    "## Algorithm Walkthrough"
   ]
  },
  {
   "cell_type": "markdown",
   "metadata": {},
   "source": [
    "Suppose we have a real matrix A of size $m\\times n$. This can be typically decomposed via regular SVD as\n",
    "\n",
    "$$A=U\\Sigma V^T$$\n",
    "\n",
    "where:\n",
    "* $U$ is a real unitary $m\\times m$ matrix\n",
    "* $V$ is a real unitary $n \\times n$ matrix\n",
    "* $\\Sigma$ is a real $m\\times n$ diagonal matrix\n",
    "\n",
    "A well known idea is that the best rank-$k$ approximation of A is given by\n",
    "\n",
    "$$A=\\tilde{U}\\tilde{\\Sigma}\\tilde{V}^T$$\n",
    "\n",
    "where:\n",
    "* $\\tilde{U}$ is a real unitary $m\\times k$ matrix\n",
    "* $\\tilde{V}$ is a real unitary $n \\times k$ matrix\n",
    "* $\\tilde{\\Sigma}$ is a real $k\\times k$ diagonal matrix\n",
    "We now want to form a Gaussian matrix"
   ]
  },
  {
   "cell_type": "markdown",
   "metadata": {},
   "source": [
    "### Step 1 - Gaussian Matrix"
   ]
  },
  {
   "cell_type": "markdown",
   "metadata": {},
   "source": [
    "Let $A$ be a real $m\\times n$ matrix. "
   ]
  },
  {
   "cell_type": "code",
   "execution_count": 39,
   "metadata": {},
   "outputs": [],
   "source": [
    "# get some random matrix\n",
    "from sklearn.datasets import make_spd_matrix\n",
    "\n",
    "A = make_spd_matrix(100, random_state=0)\n",
    "\n",
    "m = A.shape[0]  # left dimension of A\n",
    "n = A.shape[1]  # right dimension of A\n",
    "\n",
    "# choose some k singular values we want\n",
    "k = 10"
   ]
  },
  {
   "cell_type": "markdown",
   "metadata": {},
   "source": [
    "Construct a matrix, $G$, of i.i.d. standard Gaussian random variables, s.t. the matrix is size $l\\times m$ where $k<l\\leq m-k$."
   ]
  },
  {
   "cell_type": "code",
   "execution_count": 40,
   "metadata": {},
   "outputs": [],
   "source": [
    "# choose some l that satisfies the inequality listed above\n",
    "l = 20\n",
    "\n",
    "# assert that the inequality is satisfied\n",
    "def check_l(l):\n",
    "    assert l > k and l <= (m-k), \"Your choice of l must satisfy the inequality.\"\n",
    "    return l\n",
    "\n",
    "# check my value of l\n",
    "l = check_l(l)\n",
    "\n",
    "# create gaussian matrix\n",
    "import numpy as np\n",
    "\n",
    "G = np.random.normal(size=(l,m))"
   ]
  },
  {
   "cell_type": "markdown",
   "metadata": {},
   "source": [
    "### Step 2 - Compute Product"
   ]
  },
  {
   "cell_type": "markdown",
   "metadata": {},
   "source": [
    "Compute the product of the following:\n",
    "\n",
    "$$S=G(AA^T)^iA$$\n",
    "\n",
    "where $i \\in \\mathbb{N}$. To get an idea of the dimensions, it is:\n",
    "\n",
    "$$S=G_{l\\times m}(A_{m \\times n}A_{n \\times m}^T)^iA_{m \\times n}$$\n",
    "\n",
    "This is actually a pretty involved product so I'm going to break down the steps even further."
   ]
  },
  {
   "cell_type": "markdown",
   "metadata": {},
   "source": [
    "##### Compute the square matrix\n",
    "\n",
    "It would seem that the product $AA^T$ is only need because $A$ is an $m \\times n$ matrix. This would not be needed if $A=A^T$, i.e. a symmetric matrix. In fact, it might be the case that doing $AA^T$ for a symmetric matrix would count as doing an extra iteration for the next step."
   ]
  },
  {
   "cell_type": "code",
   "execution_count": 41,
   "metadata": {},
   "outputs": [],
   "source": [
    "# compute the square matrix\n",
    "A_square = np.dot(A, A.T)"
   ]
  },
  {
   "cell_type": "markdown",
   "metadata": {},
   "source": [
    "##### Compute the Power of the square matrix\n",
    "\n",
    "This involves the $(AA^T)^{i}$. I'm pretty sure that $i \\in \\mathbb{N}$ and by increasing $i$ increases the accuracy of the method."
   ]
  },
  {
   "cell_type": "code",
   "execution_count": 42,
   "metadata": {},
   "outputs": [],
   "source": [
    "# compute the matrix power\n",
    "i = 2\n",
    "A_power = np.linalg.matrix_power(A_square,i)"
   ]
  },
  {
   "cell_type": "markdown",
   "metadata": {},
   "source": [
    "##### Now Compute the actual product"
   ]
  },
  {
   "cell_type": "code",
   "execution_count": 43,
   "metadata": {},
   "outputs": [],
   "source": [
    "# compute the product for step 2\n",
    "S = np.dot(G,np.dot(A_square,A))"
   ]
  },
  {
   "cell_type": "markdown",
   "metadata": {},
   "source": [
    "### Step 3. Compute the Pivoted QR-Decomposition"
   ]
  },
  {
   "cell_type": "markdown",
   "metadata": {},
   "source": [
    "So, we need to use a pivoted $QR$-decomposition on the $S^T$ matrix computed in step 2 so that we get\n",
    "\n",
    "$$S^T=QR$$\n",
    "\n",
    "where $Q$ is an $n \\times l$ matrix with orthonormal columns. "
   ]
  },
  {
   "cell_type": "code",
   "execution_count": 44,
   "metadata": {},
   "outputs": [],
   "source": [
    "# compute the QR-decomposition on S transpose\n",
    "Q, R = np.linalg.qr(S.T,mode='complete')"
   ]
  },
  {
   "cell_type": "markdown",
   "metadata": {},
   "source": [
    "There are so many options for the QR decomposition in the numpy package. The 'reduced' mode returns with reduced dimensions so I decided to use the 'complete' mode just in case it cuts some stuff out that we need for later. I could do some experiments later because I suspect that the reduced method may be a little bit faster. \n",
    "\n",
    "**Note:** Not sure if they have a sparse package in the scipy library. May have to figure out another way to do it."
   ]
  },
  {
   "cell_type": "markdown",
   "metadata": {},
   "source": [
    "### Step 4. Compute the SVD of $T:=AQ$"
   ]
  },
  {
   "cell_type": "markdown",
   "metadata": {},
   "source": [
    "Now we compute the following SVD\n",
    "\n",
    "$$T=\\tilde{U}\\tilde{\\Sigma}W^T$$\n",
    "\n",
    "If we let $T:=AQ$, we get a much faster SVD computation than just performing SVD on $A$ alone because $T$ is size $m \\times l$."
   ]
  },
  {
   "cell_type": "code",
   "execution_count": 45,
   "metadata": {},
   "outputs": [],
   "source": [
    "T = np.dot(A,Q)\n",
    "U_hat, Sigma_hat, W = np.linalg.svd(T)"
   ]
  },
  {
   "cell_type": "markdown",
   "metadata": {},
   "source": [
    "### Step 5. Compute $\\tilde{V}$"
   ]
  },
  {
   "cell_type": "markdown",
   "metadata": {},
   "source": [
    "This is done by the following assignment:\n",
    "\n",
    "$$\\tilde{V}:=QW$$"
   ]
  },
  {
   "cell_type": "code",
   "execution_count": 46,
   "metadata": {},
   "outputs": [],
   "source": [
    "V_hat = np.dot(Q,W)"
   ]
  },
  {
   "cell_type": "markdown",
   "metadata": {},
   "source": [
    "### Step 6. Extract $U$, $\\Sigma$, and $V$"
   ]
  },
  {
   "cell_type": "markdown",
   "metadata": {},
   "source": [
    "Now we can extract the necessary SVD from our algorithm.\n",
    "\n",
    "* Extract upper left $m\\times k$ block from $\\tilde{U}$\n",
    "* Extract upper left $n\\times k$ block from $\\tilde{V}$\n",
    "* Extract upper left $k\\times k$ block from $\\tilde{\\Sigma}$\n"
   ]
  },
  {
   "cell_type": "code",
   "execution_count": 47,
   "metadata": {},
   "outputs": [],
   "source": [
    "U = U_hat[:m, :k]\n",
    "V = V_hat[:n, :k]\n",
    "Sigma = Sigma_hat[:k]"
   ]
  },
  {
   "cell_type": "markdown",
   "metadata": {},
   "source": [
    "## ASVD Function"
   ]
  },
  {
   "cell_type": "markdown",
   "metadata": {},
   "source": [
    "To get away from the imperative style tutorial above, I'm defining a function that contains all of the elements that I outlined above."
   ]
  },
  {
   "cell_type": "code",
   "execution_count": 48,
   "metadata": {},
   "outputs": [],
   "source": [
    "def asvd(A, n_components, size_gauss, pow_iter):\n",
    "    \n",
    "    # get components\n",
    "    m = A.shape[0]; n = A.shape[1]\n",
    "    k = n_components\n",
    "    l = size_gauss\n",
    "    i = pow_iter\n",
    "    assert l > k and l <= (m-k), \"Your choice of l must satisfy the inequality.\"\n",
    "    \n",
    "    # perform ASVD\n",
    "    G = np.random.normal(size=(l,m))\n",
    "    A_square = np.dot(A, A.T)\n",
    "    A_power = np.linalg.matrix_power(A_square,i)\n",
    "    S = np.dot(G,np.dot(A_square,A))\n",
    "    Q, R = np.linalg.qr(S.T,mode='complete')\n",
    "    T = np.dot(A,Q)\n",
    "    U_hat, Sigma_hat, W = np.linalg.svd(T)\n",
    "    V_hat = np.dot(Q,W)\n",
    "    \n",
    "    # extract n_components\n",
    "    U = U_hat[:m, :k]\n",
    "    V = V_hat[:n, :k]\n",
    "    Sigma = Sigma_hat[:k]\n",
    "    \n",
    "    return U, Sigma, V"
   ]
  },
  {
   "cell_type": "markdown",
   "metadata": {},
   "source": [
    "## More Compact ASVD Function"
   ]
  },
  {
   "cell_type": "markdown",
   "metadata": {},
   "source": [
    "The next step is to reduce the memory used for this function. I don't need to be implementing all these  assignments when I can keep those contained within functions; really one of the highlights of python."
   ]
  },
  {
   "cell_type": "markdown",
   "metadata": {},
   "source": [
    "## Smallest Eigenvalues and Eigenvectors"
   ]
  },
  {
   "cell_type": "markdown",
   "metadata": {},
   "source": [
    "So the above method computes the largest eigenvalues of the given matrix. In order to compute the smallest eigenvalues, we have to do a trick:\n",
    "\n",
    "1. Let $k=1$. \n",
    "2. Use ASVD to compute the largest $k$ eigenvalues of the matrix, i.e. $\\sigma_1$.\n",
    "3. Transform A like so: $\\mathbf{A}' = 2\\sigma_1 \\mathbf{I}-\\mathbf{A}$.\n",
    "4. Use ASVD to solve for the largest $k$' eigenvalues and eigenvectors of the matrix, $\\mathbf{A}'$.\n",
    "5. The smallest eigenvalues and eigenvectors are given by: $\\Sigma=2\\sigma_1 \\mathbf{I}-\\Sigma'$\n",
    "\n",
    "**Note**: We can actually keep the same eigenvectors as the $\\mathbf{A}'$ matrix for the smallest eigenvalues.\n",
    "\n",
    "Let's have the following eigenvalue formula:\n",
    "\n",
    "\\begin{equation}\n",
    "\\mathbf{A}\\vec{x}=\\lambda\\vec{x}\n",
    "\\end{equation}\n",
    "\n",
    "Now let's add some arbitrary scaling parameter $\\gamma \\mathbf{I}$ to the $\\mathbf{A}$. Using the above equation, we can deduce that:\n",
    "\n",
    "\\begin{align}\n",
    "\\left(\\gamma \\mathbf{I+A}\\right)\\vec{x} &= \\gamma \\mathbf{I} \\vec{x} + \\mathbf{A}\\vec{x} \\\\\n",
    "    &= \\gamma \\vec{x} + \\lambda \\vec{x}\\\\\n",
    "    &= \\left( \\gamma + \\lambda \\right) \\vec{x}\n",
    "\\end{align}\n",
    "\n",
    "Therefore, $\\gamma + \\lambda$ is an eigenvalue but $\\vec{x}$ is still the same eigenvector.\n",
    "\n",
    "\n",
    " "
   ]
  },
  {
   "cell_type": "markdown",
   "metadata": {},
   "source": [
    "##### Example"
   ]
  },
  {
   "cell_type": "code",
   "execution_count": 49,
   "metadata": {},
   "outputs": [
    {
     "name": "stdout",
     "output_type": "stream",
     "text": [
      "The largest 5 eigenvalues for A:\n",
      "[100.49708086   0.99603269   0.99283061   0.98404493   0.97890796]\n",
      "Using the SVD function:\n",
      "[100.49708086   0.99603269   0.99283061   0.98404493   0.97890796]\n",
      "The same? True\n",
      "The smallest 5 eigenvalues for A:\n",
      "[0.00258032 0.00694713 0.01430953 0.02844083 0.03210657]\n",
      "Using the SVD function:\n",
      "[0.00258032 0.00694713 0.01430953 0.02844083 0.03210657]\n",
      "The same? True\n"
     ]
    }
   ],
   "source": [
    "# set parameters\n",
    "n_components = 5  # i'm looking for the 5 smallest and largest eigenvectors for the same matrix A\n",
    "size_gauss = 30\n",
    "pow_iter = 20\n",
    "\n",
    "# solve for the largest eigenvalue\n",
    "_, Sigma_large, _ = asvd(A, n_components=n_components,\n",
    "                   size_gauss=size_gauss, \n",
    "                   pow_iter=pow_iter)\n",
    "\n",
    "# transform the original matrix A to A'\n",
    "A_new = 2*Sigma_large[0]*np.eye(A.shape[0])-A\n",
    "\n",
    "# solve for the largest k components of the matrix A'\n",
    "_, Sigma, _ = asvd(A_new, n_components=n_components,\n",
    "                   size_gauss=size_gauss,\n",
    "                   pow_iter=pow_iter)\n",
    "\n",
    "# use transformation to find the smallest eigenvalues\n",
    "Sigma_small = 2*Sigma_large[0]-Sigma\n",
    "\n",
    "# find all of the eigenvalues\n",
    "_, Sigma, _ = np.linalg.svd(A)\n",
    "\n",
    "# just check to see if the results are the same\n",
    "print('The largest {k} eigenvalues for A:\\n{eig}'.format(k=n_components,eig=Sigma_large))\n",
    "print('Using the SVD function:\\n{eig}'.format(eig=Sigma[:n_components]))\n",
    "print('The same? {ans}'.format(ans=np.linalg.norm(Sigma_large - Sigma[:n_components])<1E-10))\n",
    "print('The smallest {k} eigenvalues for A:\\n{eig}'.format(k=n_components,eig=Sigma_small))\n",
    "print('Using the SVD function:\\n{eig}'.format(eig=Sigma[::-1][:n_components]))\n",
    "print('The same? {ans}'.format(ans=np.linalg.norm(Sigma_small - Sigma[::-1][:n_components])<1E-10))"
   ]
  },
  {
   "cell_type": "markdown",
   "metadata": {},
   "source": [
    "#### Where are the eigenvectors in an SVD?"
   ]
  },
  {
   "cell_type": "markdown",
   "metadata": {},
   "source": [
    "I'll just do an experiment where I compute the solution to the generalized eigenvalue problem using SVD and some other method."
   ]
  },
  {
   "cell_type": "code",
   "execution_count": 50,
   "metadata": {
    "scrolled": true
   },
   "outputs": [
    {
     "name": "stdout",
     "output_type": "stream",
     "text": [
      "(100, 100) (100, 10) (100, 100)\n",
      "[[-0.05956788 -0.08791196 -0.17417145 -0.04740637  0.00759859]\n",
      " [-0.00759328 -0.23749074 -0.05009837 -0.08681157 -0.08235621]\n",
      " [ 0.11349362  0.0180285  -0.10913929 -0.17421939 -0.07026755]\n",
      " [-0.1997493   0.01389396  0.0518404   0.07702102 -0.17090324]\n",
      " [ 0.00489798  0.00536418  0.1232994   0.10461716 -0.19734486]]\n",
      "[[-0.05956139  0.16587084  0.19881521 -0.10309956 -0.12184645]\n",
      " [-0.08791162  0.07951956  0.00039253 -0.09658149  0.0015464 ]\n",
      " [-0.17417317  0.05115577  0.06641891  0.009945    0.18215605]\n",
      " [-0.04740436 -0.07802608  0.00304858  0.2878056   0.03702041]\n",
      " [ 0.00759136 -0.01111304 -0.20716936 -0.04216575  0.10729865]]\n",
      "[[ 0.05956788 -0.00759328  0.11349362 -0.1997493  -0.00489798]\n",
      " [ 0.08791196 -0.23749074  0.0180285   0.01389396 -0.00536418]\n",
      " [ 0.17417145 -0.05009837 -0.10913929  0.0518404  -0.1232994 ]\n",
      " [ 0.04740637 -0.08681157 -0.17421939  0.07702102 -0.10461716]\n",
      " [-0.00759859 -0.08235621 -0.07026755 -0.17090324  0.19734486]]\n",
      "\n",
      "\n",
      "\n",
      "\n",
      "[100.49708086   0.99603269   0.99283061   0.98404493   0.97890796]\n",
      "[100.49708086   0.99603269   0.99283061   0.98404493   0.97890796]\n",
      "[100.49708086+0.j   0.99603269+0.j   0.99283061+0.j   0.98404493+0.j\n",
      "   0.97890796+0.j]\n"
     ]
    }
   ],
   "source": [
    "from scipy.linalg import eig\n",
    "U={}; Sigma={}; V={}\n",
    "U['np'], Sigma['np'], V['np'] = np.linalg.svd(A)\n",
    "U['asvd'], Sigma['asvd'], V['asvd'] = asvd(A, n_components=10,\n",
    "                                           size_gauss=size_gauss,\n",
    "                                           pow_iter=pow_iter)\n",
    "eigVals = {}; eigVecs = {}\n",
    "eigVals['scipy'], eigVecs['scipy'] = eig(a=A)\n",
    "print(V['np'].shape, V['asvd'].shape, eigVecs['scipy'].shape)\n",
    "print(V['np'][:5, :n_components])\n",
    "print(V['asvd'][:5, :n_components])\n",
    "print(eigVecs['scipy'][:5, :n_components])\n",
    "print('\\n\\n\\n')\n",
    "print(Sigma['np'][:5])\n",
    "print(Sigma['asvd'][:5])\n",
    "print(eigVals['scipy'][:5])"
   ]
  },
  {
   "cell_type": "code",
   "execution_count": 51,
   "metadata": {},
   "outputs": [
    {
     "name": "stderr",
     "output_type": "stream",
     "text": [
      "/Users/eman/anaconda3/envs/kernellib/lib/python3.6/site-packages/numpy/core/numeric.py:501: ComplexWarning: Casting complex values to real discards the imaginary part\n",
      "  return array(a, dtype, copy=False, order=order)\n"
     ]
    },
    {
     "data": {
      "image/png": "[encoded data removed]",
      "text/plain": [
       "<Figure size 432x288 with 1 Axes>"
      ]
     },
     "metadata": {},
     "output_type": "display_data"
    }
   ],
   "source": [
    "# plot the two solutions and compare the values\n",
    "import matplotlib.pyplot as plt\n",
    "%matplotlib inline\n",
    "plt.style.use('ggplot')\n",
    "\n",
    "fig, ax = plt.subplots()\n",
    "\n",
    "ax.plot(Sigma['np'][1:10], label=\"SVD\")\n",
    "ax.plot(Sigma['asvd'][1:10], label='ASVD')\n",
    "ax.plot(eigVals['scipy'][1:10], label='Generalized Eigenvalue Problem')\n",
    "ax.set_title('First {k} Eigenvalues of Matrix A'.format(k=k))\n",
    "ax.set_ylabel('$\\lambda_i$')\n",
    "ax.set_xlabel('Number $i$')\n",
    "plt.legend(loc='upper right')\n",
    "\n",
    "plt.show()"
   ]
  },
  {
   "cell_type": "markdown",
   "metadata": {},
   "source": [
    "## Comparing Implementations"
   ]
  },
  {
   "cell_type": "code",
   "execution_count": 52,
   "metadata": {},
   "outputs": [],
   "source": [
    "# get some random matrix\n",
    "from sklearn.datasets import make_spd_matrix\n",
    "\n",
    "A = make_spd_matrix(100, random_state=0)\n",
    "\n",
    "m = A.shape[0]  # left dimension of A\n",
    "n = A.shape[1]  # right dimension of A\n",
    "\n",
    "# choose some k singular values we want\n",
    "k = 20\n",
    "\n",
    "# set parameters\n",
    "size_gauss = 60\n",
    "pow_iter = 50\n",
    "\n",
    "# initialize the dictionary of values\n",
    "U={}; Sigma={}; V={}"
   ]
  },
  {
   "cell_type": "markdown",
   "metadata": {},
   "source": [
    "##### Numpy's Implementation"
   ]
  },
  {
   "cell_type": "code",
   "execution_count": 53,
   "metadata": {},
   "outputs": [],
   "source": [
    "import numpy as np\n",
    "\n",
    "U['np'], Sigma['np'], V['np'] = np.linalg.svd(A)\n",
    "\n",
    "Sigma['np'] = Sigma['np'][:k]\n",
    "V['np'] = V['np'].T[:,:k]"
   ]
  },
  {
   "cell_type": "markdown",
   "metadata": {},
   "source": [
    "##### Facebook PCA's Implementation"
   ]
  },
  {
   "cell_type": "code",
   "execution_count": 54,
   "metadata": {},
   "outputs": [],
   "source": [
    "# import fbpca as fbpca\n",
    "\n",
    "\n",
    "# Sigma['fbpca'], V['fbpca'] = fbpca.eigenn(A=A, k=k)"
   ]
  },
  {
   "cell_type": "markdown",
   "metadata": {},
   "source": [
    "##### Scikit-Learn's Implementation"
   ]
  },
  {
   "cell_type": "code",
   "execution_count": 55,
   "metadata": {},
   "outputs": [],
   "source": [
    "from sklearn.utils.extmath import randomized_svd\n",
    "# randomized SVD\n",
    "U['rscikit'], Sigma['rscikit'], V['rscikit'] = randomized_svd(M=A, n_components=k,\n",
    "                                                           n_iter=pow_iter)\n",
    "V['rscikit'] = V['rscikit'].T"
   ]
  },
  {
   "cell_type": "markdown",
   "metadata": {},
   "source": [
    "##### My Implementation"
   ]
  },
  {
   "cell_type": "code",
   "execution_count": 56,
   "metadata": {},
   "outputs": [],
   "source": [
    "U['asvd'], Sigma['asvd'], V['asvd'] = asvd(A, n_components=k,\n",
    "                                           size_gauss=size_gauss,\n",
    "                                           pow_iter=pow_iter)"
   ]
  },
  {
   "cell_type": "markdown",
   "metadata": {},
   "source": [
    "##### Scipy Sparse Implementation"
   ]
  },
  {
   "cell_type": "code",
   "execution_count": 57,
   "metadata": {},
   "outputs": [],
   "source": [
    "from scipy.sparse.linalg import svds\n",
    "from scipy.sparse import csr_matrix\n",
    "\n",
    "U['scipy'], Sigma['scipy'], V['scipy'] = svds(A=csr_matrix(A),k=20,\n",
    "                                              which='LM', \n",
    "                                              maxiter=pow_iter)\n",
    "\n",
    "V['scipy'] = V['scipy'].T"
   ]
  },
  {
   "cell_type": "markdown",
   "metadata": {},
   "source": [
    "### Computing the Spectral Norms"
   ]
  },
  {
   "cell_type": "code",
   "execution_count": 58,
   "metadata": {},
   "outputs": [],
   "source": [
    "# Copied from FBPCA algorithm\n",
    "import scipy \n",
    "\n",
    "def diffsnorms(A, S, V, n_iter=20):\n",
    "    \"\"\"\n",
    "    2-norm accuracy of a Schur decomp. of a matrix.\n",
    "    Computes an estimate snorm of the spectral norm (the operator norm\n",
    "    induced by the Euclidean vector norm) of A-VSV', using n_iter\n",
    "    iterations of the power method started with a random vector;\n",
    "    n_iter must be a positive integer.\n",
    "    Increasing n_iter improves the accuracy of the estimate snorm of\n",
    "    the spectral norm of A-VSV'.\n",
    "    Notes\n",
    "    -----\n",
    "    To obtain repeatable results, reset the seed for the pseudorandom\n",
    "    number generator.\n",
    "    Parameters\n",
    "    ----------\n",
    "    A : array_like\n",
    "        first matrix in A-VSV' whose spectral norm is being estimated\n",
    "    S : array_like\n",
    "        third matrix in A-VSV' whose spectral norm is being estimated\n",
    "    V : array_like\n",
    "        second matrix in A-VSV' whose spectral norm is being estimated\n",
    "    n_iter : int, optional\n",
    "        number of iterations of the power method to conduct;\n",
    "        n_iter must be a positive integer, and defaults to 20\n",
    "    Returns\n",
    "    -------\n",
    "    float\n",
    "        an estimate of the spectral norm of A-VSV' (the estimate fails\n",
    "        to be accurate with exponentially low probability as n_iter\n",
    "        increases; see references DS1_, DS2_, and DS3_ below)\n",
    "    Examples\n",
    "    --------\n",
    "    >>> from fbpca import diffsnorms, eigenn\n",
    "    >>> from numpy import diag\n",
    "    >>> from numpy.random import uniform\n",
    "    >>> from scipy.linalg import svd\n",
    "    >>>\n",
    "    >>> A = uniform(low=-1.0, high=1.0, size=(2, 100))\n",
    "    >>> A = A.T.dot(A)\n",
    "    >>> (U, s, Va) = svd(A, full_matrices=False)\n",
    "    >>> A = A / s[0]\n",
    "    >>>\n",
    "    >>> (d, V) = eigenn(A, 2)\n",
    "    >>> err = diffsnorms(A, diag(d), V)\n",
    "    >>> print(err)\n",
    "    This example produces a rank-2 approximation V diag(d) V' to A\n",
    "    such that the columns of V are orthonormal and the entries of d\n",
    "    are nonnegative and are nonincreasing.\n",
    "    diffsnorms(A, diag(d), V) outputs an estimate of the spectral norm\n",
    "    of A - V diag(d) V', which should be close to the machine\n",
    "    precision.\n",
    "    References\n",
    "    ----------\n",
    "    .. [DS1] Jacek Kuczynski and Henryk Wozniakowski, Estimating the\n",
    "             largest eigenvalues by the power and Lanczos methods with\n",
    "             a random start, SIAM Journal on Matrix Analysis and\n",
    "             Applications, 13 (4): 1094-1122, 1992.\n",
    "    .. [DS2] Edo Liberty, Franco Woolfe, Per-Gunnar Martinsson,\n",
    "             Vladimir Rokhlin, and Mark Tygert, Randomized algorithms\n",
    "             for the low-rank approximation of matrices, Proceedings of\n",
    "             the National Academy of Sciences (USA), 104 (51):\n",
    "             20167-20172, 2007. (See the appendix.)\n",
    "    .. [DS3] Franco Woolfe, Edo Liberty, Vladimir Rokhlin, and Mark\n",
    "             Tygert, A fast randomized algorithm for the approximation\n",
    "             of matrices, Applied and Computational Harmonic Analysis,\n",
    "             25 (3): 335-366, 2008. (See Section 3.4.)\n",
    "    See also\n",
    "    --------\n",
    "    eigenn, eigens\n",
    "    \"\"\"\n",
    "\n",
    "    (m, n) = A.shape\n",
    "    (m2, k) = V.shape\n",
    "    (k2, k3) = S.shape\n",
    "\n",
    "    assert m == n\n",
    "    assert m == m2\n",
    "    assert k == k2\n",
    "    assert k2 == k3\n",
    "\n",
    "    assert n_iter >= 1\n",
    "\n",
    "    if np.isrealobj(A) and np.isrealobj(V) and np.isrealobj(S):\n",
    "        isreal = True\n",
    "    else:\n",
    "        isreal = False\n",
    "\n",
    "    # Promote the types of integer data to float data.\n",
    "    dtype = (A * 1.0).dtype\n",
    "\n",
    "    #\n",
    "    # Generate a random vector x.\n",
    "    #\n",
    "    if isreal:\n",
    "        x = np.random.normal(size=(n, 1)).astype(dtype)\n",
    "    else:\n",
    "        x = np.random.normal(size=(n, 1)).astype(dtype) \\\n",
    "            + 1j * np.random.normal(size=(n, 1)).astype(dtype)\n",
    "\n",
    "    x = x / scipy.linalg.norm(x)\n",
    "\n",
    "    #\n",
    "    # Run n_iter iterations of the power method.\n",
    "    #\n",
    "    for it in range(n_iter):\n",
    "        #\n",
    "        # Set y = (A-VSV')x.\n",
    "        #\n",
    "        y = np.dot(A, x) - V.dot(S.dot(V.conj().T.dot(x)))\n",
    "        #\n",
    "        # Set x = (A'-VS'V')y.\n",
    "        #\n",
    "        x = np.dot(y.conj().T, A).conj().T \\\n",
    "            - V.dot(S.conj().T.dot(V.conj().T.dot(y)))\n",
    "\n",
    "        #\n",
    "        # Normalize x, memorizing its Euclidean norm.\n",
    "        #\n",
    "        snorm = scipy.linalg.norm(x)\n",
    "        if snorm == 0:\n",
    "            return 0\n",
    "        x = x / snorm\n",
    "\n",
    "    snorm = np.sqrt(snorm)\n",
    "\n",
    "    return snorm"
   ]
  },
  {
   "cell_type": "code",
   "execution_count": 59,
   "metadata": {},
   "outputs": [
    {
     "name": "stdout",
     "output_type": "stream",
     "text": [
      "Norm for rscikit method: 0.8394632337936275\n",
      "Norm for asvd method: 0.9374835480196004\n",
      "Norm for np method: 0.8347980612755976\n",
      "Norm for scipy method: 0.8270229685200706\n"
     ]
    }
   ],
   "source": [
    "# compute the norm for the difference between implementations\n",
    "norm = {}\n",
    "\n",
    "methods = ['rscikit', 'asvd', 'np', 'scipy']\n",
    "\n",
    "for method in methods:\n",
    "#     S = Sigma[method]\n",
    "#     v = V[method]\n",
    "#     print(S, v)\n",
    "    norm[method] = diffsnorms(A, np.diag(Sigma[method]), V[method])\n",
    "    print('Norm for {m} method: {n}'.format(m=method,n=norm[method]))\n",
    "    "
   ]
  },
  {
   "cell_type": "markdown",
   "metadata": {},
   "source": [
    "I'll be honest, I have no idea what's a good or bad spectral norm value. Typically the lower the number the better. But both numbers are so close to 1 so maybe the higher the number the better? Who knows.."
   ]
  },
  {
   "cell_type": "code",
   "execution_count": null,
   "metadata": {
    "collapsed": true
   },
   "outputs": [],
   "source": []
  },
  {
   "cell_type": "code",
   "execution_count": null,
   "metadata": {},
   "outputs": [],
   "source": []
  },
  {
   "cell_type": "code",
   "execution_count": null,
   "metadata": {},
   "outputs": [],
   "source": []
  }
 ],
 "metadata": {
  "anaconda-cloud": {},
  "kernelspec": {
   "display_name": "Python 3",
   "language": "python",
   "name": "python3"
  },
  "language_info": {
   "codemirror_mode": {
    "name": "ipython",
    "version": 3
   },
   "file_extension": ".py",
   "mimetype": "text/x-python",
   "name": "python",
   "nbconvert_exporter": "python",
   "pygments_lexer": "ipython3",
   "version": "3.6.6"
  },
  "toc": {
   "base_numbering": 1,
   "nav_menu": {},
   "number_sections": true,
   "sideBar": true,
   "skip_h1_title": false,
   "title_cell": "Table of Contents",
   "title_sidebar": "Contents",
   "toc_cell": false,
   "toc_position": {},
   "toc_section_display": true,
   "toc_window_display": false
  },
  "varInspector": {
   "cols": {
    "lenName": 16,
    "lenType": 16,
    "lenVar": 40
   },
   "kernels_config": {
    "python": {
     "delete_cmd_postfix": "",
     "delete_cmd_prefix": "del ",
     "library": "var_list.py",
     "varRefreshCmd": "print(var_dic_list())"
    },
    "r": {
     "delete_cmd_postfix": ") ",
     "delete_cmd_prefix": "rm(",
     "library": "var_list.r",
     "varRefreshCmd": "cat(var_dic_list()) "
    }
   },
   "types_to_exclude": [
    "module",
    "function",
    "builtin_function_or_method",
    "instance",
    "_Feature"
   ],
   "window_display": false
  }
 },
 "nbformat": 4,
 "nbformat_minor": 2
}
