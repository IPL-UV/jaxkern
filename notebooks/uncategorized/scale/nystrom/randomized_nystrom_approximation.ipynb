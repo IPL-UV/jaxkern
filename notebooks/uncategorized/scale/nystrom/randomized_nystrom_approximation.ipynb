{
 "cells": [
  {
   "cell_type": "markdown",
   "metadata": {},
   "source": [
    "# Nystrom + Randomized SVD"
   ]
  },
  {
   "cell_type": "markdown",
   "metadata": {},
   "source": [
    "In this notebook, I will developing the Nystrom method with the inclusion of the randomized SVD (rSVD) algorithm to speed up the Nystrom calculations.\n"
   ]
  },
  {
   "cell_type": "markdown",
   "metadata": {},
   "source": [
    "### Speed Stats\n",
    "\n",
    "**Let**:\n",
    "* k = rank\n",
    "* N = Size of Kernel matrix\n",
    "* m = subsample\n",
    "\n",
    "**Order**:\n",
    "\n",
    "* Nystrom: $O(Nmk + m^3)$\n",
    "* Ensemble Nystrom: $O(Nmk + N_ek^3 + C_{\\mu})$\n",
    "* Randomized SVD: $O(N^2k + k^3)$\n",
    "* Nystrom + rSVD: $O(Nmk + k^3)$"
   ]
  },
  {
   "cell_type": "markdown",
   "metadata": {},
   "source": [
    "### Algorithm"
   ]
  },
  {
   "cell_type": "markdown",
   "metadata": {},
   "source": [
    "**Input**:\n",
    "\n",
    "* K = Positive Semidefinite (PSD) Kernel matrix $\\in \\mathbb{R}^{NxN}$\n",
    "* M = Number of subsamples (columns)\n",
    "* r = rank\n",
    "* P = oversampling parameter\n",
    "* q = power parameter\n",
    "\n",
    "**Output**:\n",
    "* $L$"
   ]
  },
  {
   "cell_type": "code",
   "execution_count": 1,
   "metadata": {},
   "outputs": [],
   "source": [
    "import numpy as np\n",
    "import warnings \n",
    "from sklearn.model_selection import train_test_split\n",
    "from sklearn.datasets import make_regression\n",
    "import scipy as scio\n",
    "from scipy.spatial.distance import pdist\n",
    "from scipy.linalg import cho_factor, cho_solve, cholesky\n",
    "from sklearn.metrics.pairwise import rbf_kernel, pairwise_kernels\n",
    "from sklearn.metrics import mean_squared_error\n",
    "from sklearn.utils import check_array, check_random_state\n",
    "from sklearn.linear_model.ridge import _solve_cholesky_kernel as kernel_solve\n",
    "from time import time\n",
    "from sklearn.decomposition import TruncatedSVD\n",
    "from sklearn.utils.extmath import randomized_svd\n",
    "# import fbpca\n",
    "\n",
    "%matplotlib inline\n",
    "import matplotlib.pyplot as plt\n",
    "\n",
    "warnings.filterwarnings('ignore')"
   ]
  },
  {
   "cell_type": "markdown",
   "metadata": {},
   "source": [
    "## Resources"
   ]
  },
  {
   "cell_type": "markdown",
   "metadata": {},
   "source": [
    "#### Original Formulation\n",
    "\n"
   ]
  },
  {
   "cell_type": "markdown",
   "metadata": {},
   "source": [
    "## Generate Data"
   ]
  },
  {
   "cell_type": "code",
   "execution_count": 2,
   "metadata": {},
   "outputs": [
    {
     "name": "stdout",
     "output_type": "stream",
     "text": [
      "Size of data: (4435, 36)\n"
     ]
    }
   ],
   "source": [
    "# Import dataset\n",
    "from scipy.io import loadmat\n",
    "\n",
    "\n",
    "data_path = '/home/emmanuel/code/kernellib/dev/scale/nystrom/satire.mat'\n",
    "data = scio.io.loadmat(data_path)['D'].toarray()\n",
    "print('Size of data: {}'.format(data.shape))\n",
    "\n",
    "n_samples = data.shape[0]\n",
    "random_state = 123"
   ]
  },
  {
   "cell_type": "markdown",
   "metadata": {},
   "source": [
    "## Nystrom Approximation of a Kernel Matrix"
   ]
  },
  {
   "cell_type": "markdown",
   "metadata": {},
   "source": [
    "#### Kernel Matrix of Data"
   ]
  },
  {
   "cell_type": "code",
   "execution_count": 3,
   "metadata": {},
   "outputs": [
    {
     "name": "stdout",
     "output_type": "stream",
     "text": [
      "(4435, 4435)\n"
     ]
    }
   ],
   "source": [
    "# Linear Kernel\n",
    "K = data @ data.T\n",
    "\n",
    "print(K.shape)"
   ]
  },
  {
   "cell_type": "code",
   "execution_count": 4,
   "metadata": {},
   "outputs": [],
   "source": [
    "n_samples, d_dimensions = data.shape  # Data stats\n",
    "m_subsamples = 200                    # M subsamples\n",
    "n_components = 100                    # rank of matrix\n",
    "random_state = 1234                   # random state for subsampling; rsvd"
   ]
  },
  {
   "cell_type": "markdown",
   "metadata": {},
   "source": [
    "#### Sampling"
   ]
  },
  {
   "cell_type": "code",
   "execution_count": 15,
   "metadata": {},
   "outputs": [
    {
     "name": "stdout",
     "output_type": "stream",
     "text": [
      "Size of the sampled K matrix, C:  (4435, 200)\n",
      "Size of m-by-m intersection matrix, W:  (200, 200)\n"
     ]
    }
   ],
   "source": [
    "# uniform sampling without replacement\n",
    "rng = check_random_state(random_state)\n",
    "random_indices = rng.permutation(n_samples)\n",
    "\n",
    "# column subsample matrix\n",
    "column_indices = random_indices[:m_subsamples]\n",
    "\n",
    "# choose the columns randomly from the matrix\n",
    "C = K[:, column_indices]\n",
    "\n",
    "print('Size of the sampled K matrix, C: ', C.shape)\n",
    "\n",
    "# get the other sampled columns\n",
    "W = C[column_indices, :]\n",
    "\n",
    "print('Size of m-by-m intersection matrix, W: ', W.shape)"
   ]
  },
  {
   "cell_type": "markdown",
   "metadata": {},
   "source": [
    "### SVD"
   ]
  },
  {
   "cell_type": "code",
   "execution_count": 41,
   "metadata": {},
   "outputs": [
    {
     "name": "stdout",
     "output_type": "stream",
     "text": [
      "Error: 5.47e-11\n"
     ]
    }
   ],
   "source": [
    "# %%timeit\n",
    "\n",
    "# Perform SVD\n",
    "U, D, V = np.linalg.svd(W, full_matrices=False)\n",
    "\n",
    "# Form approximation\n",
    "U_approx = np.sqrt(m_subsamples / n_samples) * C @ U @ np.diag(np.power(D, -1))\n",
    "D_approx = (n_samples / m_subsamples) * np.diag(D)\n",
    "# print(U_approx.shape, D_approx.shape)\n",
    "\n",
    "# Compute approximate error\n",
    "err_svd = np.linalg.norm(K - U_approx @ D_approx @ U_approx.T, 'fro')\n",
    "\n",
    "print(f'Error: {err_svd:.2e}')"
   ]
  },
  {
   "cell_type": "markdown",
   "metadata": {},
   "source": [
    "### SVD + k components"
   ]
  },
  {
   "cell_type": "code",
   "execution_count": 40,
   "metadata": {},
   "outputs": [
    {
     "name": "stdout",
     "output_type": "stream",
     "text": [
      "Error: 4.45e-11\n"
     ]
    }
   ],
   "source": [
    "# %%timeit\n",
    "\n",
    "# Perform SVD\n",
    "U, D, V = np.linalg.svd(W, full_matrices=False)\n",
    "\n",
    "# Take components of matrices\n",
    "U = U[:, :n_components]\n",
    "D = D[:n_components]\n",
    "V = V[:, :n_components]\n",
    "\n",
    "# Form approximation\n",
    "U_approx = np.sqrt(m_subsamples / n_samples) * C @ U @ np.diag(np.power(D, -1))\n",
    "D_approx = (n_samples / m_subsamples) * np.diag(D)\n",
    "# print(U_approx.shape, D_approx.shape)\n",
    "\n",
    "# Compute approximate error\n",
    "err_ksvd = np.linalg.norm(K - U_approx @ D_approx @ U_approx.T, 'fro')\n",
    "\n",
    "print(f'Error: {err_ksvd:.2e}')"
   ]
  },
  {
   "cell_type": "markdown",
   "metadata": {},
   "source": [
    "### rSVD"
   ]
  },
  {
   "cell_type": "code",
   "execution_count": 42,
   "metadata": {},
   "outputs": [
    {
     "name": "stdout",
     "output_type": "stream",
     "text": [
      "Error: 1.62e-11\n"
     ]
    }
   ],
   "source": [
    "# %%timeit \n",
    "\n",
    "# Perform SVD\n",
    "U, D, V = randomized_svd(W, n_components=n_components)\n",
    "\n",
    "# # Take components of matrices\n",
    "# U = U[:, :n_components]\n",
    "# D = D[:n_components]\n",
    "# V = V[:, :n_components]\n",
    "\n",
    "# Form approximation\n",
    "U_approx = np.sqrt(m_subsamples / n_samples) * C @ U @ np.diag(np.power(D, -1))\n",
    "D_approx = (n_samples / m_subsamples) * np.diag(D)\n",
    "# print(U_approx.shape, D_approx.shape)\n",
    "\n",
    "# Compute approximate error\n",
    "err_rsvd = np.linalg.norm(K - U_approx @ D_approx @ U_approx.T, 'fro')\n",
    "\n",
    "print(f'Error: {err_rsvd:.2e}')"
   ]
  },
  {
   "cell_type": "code",
   "execution_count": 13,
   "metadata": {},
   "outputs": [
    {
     "name": "stdout",
     "output_type": "stream",
     "text": [
      "Time Experiment for normal SVD.\n",
      "4.11 ms ± 34.3 µs per loop (mean ± std. dev. of 7 runs, 100 loops each)\n",
      "\n",
      "Time Experiment for randomized SVD (scikit).\n",
      "9.18 ms ± 12.7 µs per loop (mean ± std. dev. of 7 runs, 100 loops each)\n"
     ]
    }
   ],
   "source": [
    "print('Time Experiment for normal SVD.')\n",
    "%timeit np.linalg.svd(W, full_matrices=False);\n",
    "\n",
    "# print('\\nTime Experiment for randomized SVD (fb).')\n",
    "# %timeit fbpca.pca(W, k=k_components, raw=True, n_iter=3);\n",
    "\n",
    "print('\\nTime Experiment for randomized SVD (scikit).')\n",
    "%timeit randomized_svd(W, n_components=n_components);"
   ]
  },
  {
   "cell_type": "markdown",
   "metadata": {},
   "source": [
    "### Maybe Faster"
   ]
  },
  {
   "cell_type": "code",
   "execution_count": 70,
   "metadata": {},
   "outputs": [
    {
     "name": "stdout",
     "output_type": "stream",
     "text": [
      "(4435, 200)\n"
     ]
    }
   ],
   "source": [
    "# Nystrom approximation of K\n",
    "eps = 1e-12\n",
    "\n",
    "# size of the data\n",
    "n_samples = data.shape[0]\n",
    "\n",
    "# choose the number of components\n",
    "m_subsamples = min(n_samples, m_subsamples)\n",
    "\n",
    "# perform rnadom uniform sampling without replacement\n",
    "indices = np.random.permutation(n_samples)\n",
    "basis_indices = indices[:m_subsamples]\n",
    "basis = data[basis_indices]\n",
    "\n",
    "# Construct Kernel Matrix\n",
    "basis_kernel = data @ basis.T\n",
    "\n",
    "print(basis_kernel.shape)"
   ]
  },
  {
   "cell_type": "markdown",
   "metadata": {},
   "source": [
    "## Data Approximation"
   ]
  },
  {
   "cell_type": "markdown",
   "metadata": {},
   "source": [
    "Input:\n",
    "* $X\\in \\mathbb{R}^{NxN}$\n",
    "* \n",
    "\n"
   ]
  },
  {
   "cell_type": "markdown",
   "metadata": {},
   "source": [
    "#### Scikit-Learn Implementation"
   ]
  },
  {
   "cell_type": "markdown",
   "metadata": {},
   "source": [
    "##### Sampling"
   ]
  },
  {
   "cell_type": "code",
   "execution_count": 49,
   "metadata": {},
   "outputs": [],
   "source": [
    "# Nystrom approximation of K\n",
    "eps = 1e-12\n",
    "\n",
    "# size of the data\n",
    "n_samples = data.shape[0]\n",
    "\n",
    "# choose the number of components\n",
    "m_subsamples = min(n_samples, m_subsamples)\n",
    "\n",
    "# perform rnadom uniform sampling without replacement\n",
    "indices = np.random.permutation(n_samples)\n",
    "basis_indices = indices[:m_subsamples]\n",
    "basis = data[basis_indices]"
   ]
  },
  {
   "cell_type": "code",
   "execution_count": 50,
   "metadata": {},
   "outputs": [
    {
     "name": "stdout",
     "output_type": "stream",
     "text": [
      "(4435, 36) (200, 36)\n"
     ]
    }
   ],
   "source": [
    "print(data.shape, basis.shape)"
   ]
  },
  {
   "cell_type": "markdown",
   "metadata": {},
   "source": [
    "##### Construct Kernel Matrices"
   ]
  },
  {
   "cell_type": "code",
   "execution_count": 55,
   "metadata": {},
   "outputs": [
    {
     "name": "stdout",
     "output_type": "stream",
     "text": [
      "(200, 200)\n"
     ]
    }
   ],
   "source": [
    "# Construct Kernel Matrix\n",
    "basis_kernel = basis @ basis.T\n",
    "\n",
    "print(basis_kernel.shape)\n",
    "# # construct the basis kernel\n",
    "# basis_gamma = 1 / (2 * np.mean(pdist(basis, metric='euclidean')))\n",
    "# basis_kernel = pairwise_kernels(basis, metric=kernel, n_jobs=n_jobs, gamma=gamma)"
   ]
  },
  {
   "cell_type": "markdown",
   "metadata": {},
   "source": [
    "##### SVD - Get the basis vectors"
   ]
  },
  {
   "cell_type": "code",
   "execution_count": 56,
   "metadata": {},
   "outputs": [
    {
     "name": "stdout",
     "output_type": "stream",
     "text": [
      "Perform Normal SVD...\n"
     ]
    }
   ],
   "source": [
    "# get the basis vectors\n",
    "\n",
    "# Perform the normal SVD\n",
    "print('Perform Normal SVD...')\n",
    "U, D, V = np.linalg.svd(basis_kernel, full_matrices=False)\n",
    "\n",
    "# use toleraance for eigenvalues\n",
    "S = np.maximum(D, eps)"
   ]
  },
  {
   "cell_type": "code",
   "execution_count": 57,
   "metadata": {},
   "outputs": [
    {
     "name": "stdout",
     "output_type": "stream",
     "text": [
      "Size of normalization: (200, 200)\n",
      "Size of components: (200, 36)\n",
      "Size of component indices: (200,)\n"
     ]
    }
   ],
   "source": [
    "# Get normalization\n",
    "normalization = np.dot(U / np.sqrt(S), V)\n",
    "\n",
    "# get components and indices\n",
    "components = basis\n",
    "component_indices = basis_indices\n",
    "\n",
    "print('Size of normalization: {}'.format(normalization.shape))\n",
    "print('Size of components: {}'.format(components.shape))\n",
    "print('Size of component indices: {}'.format(component_indices.shape))"
   ]
  },
  {
   "cell_type": "code",
   "execution_count": 63,
   "metadata": {},
   "outputs": [
    {
     "name": "stdout",
     "output_type": "stream",
     "text": [
      "(4435, 200)\n",
      "Error: 3.67e-05\n"
     ]
    }
   ],
   "source": [
    "L = data @ basis.T @ normalization\n",
    "\n",
    "print(L.shape)\n",
    "\n",
    "K_approx = L @ L.T\n",
    "\n",
    "# Compute approximate error\n",
    "err_rsvd = np.linalg.norm(K - K_approx, 'fro')\n",
    "\n",
    "print(f'Error: {err_rsvd:.2e}')"
   ]
  },
  {
   "cell_type": "markdown",
   "metadata": {},
   "source": [
    "##### Randomized SVD"
   ]
  },
  {
   "cell_type": "code",
   "execution_count": 67,
   "metadata": {},
   "outputs": [
    {
     "name": "stdout",
     "output_type": "stream",
     "text": [
      "Perform scikit RSVD...\n",
      "Size of normalization: (200, 200)\n",
      "Size of components: (200, 36)\n",
      "Size of component indices: (200,)\n"
     ]
    }
   ],
   "source": [
    "print('Perform scikit RSVD...')\n",
    "U_rand, D_rand, V_rand = randomized_svd(basis_kernel, n_components=n_components)\n",
    "\n",
    "# use toleraance for eigenvalues\n",
    "S_rand = np.maximum(D_rand, eps)\n",
    "\n",
    "normalization_r = np.dot(U_rand / np.sqrt(S_rand), V_rand)\n",
    "\n",
    "print('Size of normalization: {}'.format(normalization_r.shape))\n",
    "print('Size of components: {}'.format(components.shape))\n",
    "print('Size of component indices: {}'.format(component_indices.shape))"
   ]
  },
  {
   "cell_type": "markdown",
   "metadata": {},
   "source": [
    "#### Transform New Data"
   ]
  },
  {
   "cell_type": "code",
   "execution_count": 68,
   "metadata": {},
   "outputs": [
    {
     "name": "stdout",
     "output_type": "stream",
     "text": [
      "(4435, 200)\n",
      "Error: 1.33e-05\n"
     ]
    }
   ],
   "source": [
    "L = data @ basis.T @ normalization_r\n",
    "\n",
    "print(L.shape)\n",
    "\n",
    "K_approx = L @ L.T\n",
    "\n",
    "# Compute approximate error\n",
    "err_rsvd = np.linalg.norm(K - K_approx, 'fro')\n",
    "\n",
    "print(f'Error: {err_rsvd:.2e}')"
   ]
  },
  {
   "cell_type": "code",
   "execution_count": null,
   "metadata": {},
   "outputs": [],
   "source": []
  }
 ],
 "metadata": {
  "kernelspec": {
   "display_name": "Python 3",
   "language": "python",
   "name": "python3"
  },
  "language_info": {
   "codemirror_mode": {
    "name": "ipython",
    "version": 3
   },
   "file_extension": ".py",
   "mimetype": "text/x-python",
   "name": "python",
   "nbconvert_exporter": "python",
   "pygments_lexer": "ipython3",
   "version": "3.7.2"
  },
  "toc": {
   "nav_menu": {},
   "number_sections": true,
   "sideBar": true,
   "skip_h1_title": false,
   "toc_cell": false,
   "toc_position": {},
   "toc_section_display": "block",
   "toc_window_display": false
  },
  "varInspector": {
   "cols": {
    "lenName": 16,
    "lenType": 16,
    "lenVar": 40
   },
   "kernels_config": {
    "python": {
     "delete_cmd_postfix": "",
     "delete_cmd_prefix": "del ",
     "library": "var_list.py",
     "varRefreshCmd": "print(var_dic_list())"
    },
    "r": {
     "delete_cmd_postfix": ") ",
     "delete_cmd_prefix": "rm(",
     "library": "var_list.r",
     "varRefreshCmd": "cat(var_dic_list()) "
    }
   },
   "types_to_exclude": [
    "module",
    "function",
    "builtin_function_or_method",
    "instance",
    "_Feature"
   ],
   "window_display": false
  }
 },
 "nbformat": 4,
 "nbformat_minor": 2
}
