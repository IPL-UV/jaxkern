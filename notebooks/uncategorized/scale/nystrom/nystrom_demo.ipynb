{
 "cells": [
  {
   "cell_type": "code",
   "execution_count": 1,
   "metadata": {},
   "outputs": [
    {
     "ename": "ModuleNotFoundError",
     "evalue": "No module named 'nystrom'",
     "output_type": "error",
     "traceback": [
      "\u001b[0;31m---------------------------------------------------------------------------\u001b[0m",
      "\u001b[0;31mModuleNotFoundError\u001b[0m                       Traceback (most recent call last)",
      "\u001b[0;32m<ipython-input-1-01314a739e3c>\u001b[0m in \u001b[0;36m<module>\u001b[0;34m()\u001b[0m\n\u001b[1;32m      4\u001b[0m \u001b[0;32mfrom\u001b[0m \u001b[0msklearn\u001b[0m\u001b[0;34m.\u001b[0m\u001b[0mmetrics\u001b[0m\u001b[0;34m.\u001b[0m\u001b[0mpairwise\u001b[0m \u001b[0;32mimport\u001b[0m \u001b[0mpairwise_kernels\u001b[0m\u001b[0;34m\u001b[0m\u001b[0m\n\u001b[1;32m      5\u001b[0m \u001b[0;32mimport\u001b[0m \u001b[0mos\u001b[0m\u001b[0;34m\u001b[0m\u001b[0m\n\u001b[0;32m----> 6\u001b[0;31m \u001b[0;32mfrom\u001b[0m \u001b[0mnystrom\u001b[0m \u001b[0;32mimport\u001b[0m \u001b[0mgenerate_nystrom_data\u001b[0m\u001b[0;34m,\u001b[0m \u001b[0mnystrom_kernel\u001b[0m\u001b[0;34m\u001b[0m\u001b[0m\n\u001b[0m\u001b[1;32m      7\u001b[0m \u001b[0;34m\u001b[0m\u001b[0m\n\u001b[1;32m      8\u001b[0m \u001b[0mwarnings\u001b[0m\u001b[0;34m.\u001b[0m\u001b[0mfilterwarnings\u001b[0m\u001b[0;34m(\u001b[0m\u001b[0;34m'ignore'\u001b[0m\u001b[0;34m)\u001b[0m\u001b[0;34m\u001b[0m\u001b[0m\n",
      "\u001b[0;31mModuleNotFoundError\u001b[0m: No module named 'nystrom'"
     ]
    }
   ],
   "source": [
    "import numpy as np\n",
    "import warnings \n",
    "from scipy.spatial.distance import pdist\n",
    "from sklearn.metrics.pairwise import pairwise_kernels\n",
    "import os\n",
    "from nystrom import generate_nystrom_data, nystrom_kernel\n",
    "\n",
    "warnings.filterwarnings('ignore')"
   ]
  },
  {
   "cell_type": "markdown",
   "metadata": {},
   "source": [
    "### Get Data"
   ]
  },
  {
   "cell_type": "code",
   "execution_count": null,
   "metadata": {},
   "outputs": [],
   "source": [
    "data = generate_nystrom_data()"
   ]
  },
  {
   "cell_type": "markdown",
   "metadata": {},
   "source": [
    "### Kernel Nystrom Approximation"
   ]
  },
  {
   "cell_type": "code",
   "execution_count": 3,
   "metadata": {},
   "outputs": [
    {
     "name": "stdout",
     "output_type": "stream",
     "text": [
      "Error (randomized): 4.915\n",
      "Error (arpack): 3.620\n"
     ]
    }
   ],
   "source": [
    "sigma = np.mean(pdist(data, metric='euclidean'))\n",
    "gamma = 1 / (2 * sigma**2)\n",
    "n_jobs = 1\n",
    "kernel = 'rbf'\n",
    "\n",
    "K = pairwise_kernels(data, metric=kernel, n_jobs=n_jobs, gamma=gamma)\n",
    "\n",
    "# -------------------\n",
    "# Randomized\n",
    "# -------------------\n",
    "\n",
    "n_col_indices = 200 # number of columns to sample\n",
    "n_components = 100  # rank\n",
    "random_state = 123  # reproducibility\n",
    "svd = 'randomized'  # svd algorithm\n",
    "\n",
    "U_approx, D_approx, C = nystrom_kernel(\n",
    "    K, n_col_indices, n_components=n_components, \n",
    "    random_state=random_state, \n",
    "    svd=svd)\n",
    "\n",
    "K_approx = U_approx.dot(D_approx).dot(U_approx.T)\n",
    "\n",
    "err = np.linalg.norm(K - K_approx, 'fro')\n",
    "print('Error ({}): {:.3f}'.format(svd, err))\n",
    "\n",
    "# --------------------\n",
    "# ARPACK\n",
    "# --------------------\n",
    "\n",
    "svd = 'arpack'\n",
    "\n",
    "U_approx, D_approx, C = nystrom_kernel(\n",
    "    K, n_col_indices, n_components=None, \n",
    "    random_state=random_state, \n",
    "    svd=svd)\n",
    "\n",
    "K_approx = U_approx.dot(D_approx).dot(U_approx.T)\n",
    "\n",
    "err = np.linalg.norm(K - K_approx, 'fro')\n",
    "print('Error ({}): {:.3f}'.format(svd, err))"
   ]
  },
  {
   "cell_type": "code",
   "execution_count": 4,
   "metadata": {},
   "outputs": [
    {
     "name": "stdout",
     "output_type": "stream",
     "text": [
      "ARPACK Version\n",
      "53.2 ms ± 964 µs per loop (mean ± std. dev. of 7 runs, 10 loops each)\n",
      "Randomized Version\n",
      "53.1 ms ± 1.48 ms per loop (mean ± std. dev. of 7 runs, 10 loops each)\n"
     ]
    }
   ],
   "source": [
    "print('ARPACK Version')\n",
    "%timeit nystrom_kernel(K, n_col_indices, n_components=None, random_state=random_state, svd=svd)\n",
    "\n",
    "print('Randomized Version')\n",
    "%timeit nystrom_kernel(K, n_col_indices, n_components=None, random_state=random_state, svd=svd)"
   ]
  },
  {
   "cell_type": "code",
   "execution_count": null,
   "metadata": {},
   "outputs": [],
   "source": []
  }
 ],
 "metadata": {
  "kernelspec": {
   "display_name": "Python 3",
   "language": "python",
   "name": "python3"
  },
  "language_info": {
   "codemirror_mode": {
    "name": "ipython",
    "version": 3
   },
   "file_extension": ".py",
   "mimetype": "text/x-python",
   "name": "python",
   "nbconvert_exporter": "python",
   "pygments_lexer": "ipython3",
   "version": "3.7.2"
  }
 },
 "nbformat": 4,
 "nbformat_minor": 2
}
