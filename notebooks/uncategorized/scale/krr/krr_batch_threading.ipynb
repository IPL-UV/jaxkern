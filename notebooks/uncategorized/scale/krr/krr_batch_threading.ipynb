{
 "cells": [
  {
   "cell_type": "code",
   "execution_count": 5,
   "metadata": {
    "collapsed": true
   },
   "outputs": [],
   "source": [
    "from sklearn.datasets import make_regression\n",
    "from sklearn.model_selection import train_test_split\n",
    "\n",
    "import numpy as np\n",
    "import matplotlib.pyplot as plt\n",
    "\n",
    "%matplotlib inline\n",
    "\n",
    "import warnings \n",
    "warnings.filterwarnings('ignore')\n",
    "\n",
    "import sys\n",
    "sys.path.insert(0, '/Users/eman/Documents/' +\n",
    "                'code_projects/kernellib/kernellib/regression/')\n",
    "\n",
    "sys.path.insert(0, '/home/emmanuel/github_repos/kernellib/kernellib/')"
   ]
  },
  {
   "cell_type": "code",
   "execution_count": 7,
   "metadata": {},
   "outputs": [],
   "source": [
    "from regression.krr import KRR"
   ]
  },
  {
   "cell_type": "markdown",
   "metadata": {},
   "source": [
    "### Experiment with Sample Size"
   ]
  },
  {
   "cell_type": "code",
   "execution_count": 8,
   "metadata": {},
   "outputs": [
    {
     "name": "stdout",
     "output_type": "stream",
     "text": [
      "Iteration: 0.0\n"
     ]
    },
    {
     "ename": "NameError",
     "evalue": "name 'n_features' is not defined",
     "output_type": "error",
     "traceback": [
      "\u001b[0;31m---------------------------------------------------------------------------\u001b[0m",
      "\u001b[0;31mNameError\u001b[0m                                 Traceback (most recent call last)",
      "\u001b[0;32m<ipython-input-8-e3e86258b7a5>\u001b[0m in \u001b[0;36m<module>\u001b[0;34m()\u001b[0m\n\u001b[1;32m     12\u001b[0m     \u001b[0;31m# create data\u001b[0m\u001b[0;34m\u001b[0m\u001b[0;34m\u001b[0m\u001b[0m\n\u001b[1;32m     13\u001b[0m     x_data, y_data = make_regression(n_samples=n_samples, \n\u001b[0;32m---> 14\u001b[0;31m                                      \u001b[0mn_features\u001b[0m\u001b[0;34m=\u001b[0m\u001b[0mn_features\u001b[0m\u001b[0;34m,\u001b[0m\u001b[0;34m\u001b[0m\u001b[0m\n\u001b[0m\u001b[1;32m     15\u001b[0m                                      random_state=random_state)\n\u001b[1;32m     16\u001b[0m \u001b[0;34m\u001b[0m\u001b[0m\n",
      "\u001b[0;31mNameError\u001b[0m: name 'n_features' is not defined"
     ]
    }
   ],
   "source": [
    "sample_sizes = 10000 * np.arange(1, 10)\n",
    "random_state = 123\n",
    "\n",
    "batch_times = []\n",
    "naive_times = []\n",
    "\n",
    "\n",
    "for iteration, n_samples in enumerate(sample_sizes):\n",
    "    \n",
    "    print('Iteration: {}'.format(100*iteration/len(sample_sizes)))\n",
    "    \n",
    "    # create data\n",
    "    x_data, y_data = make_regression(n_samples=n_samples, \n",
    "                                     n_features=n_features,\n",
    "                                     random_state=random_state)\n",
    "    \n",
    "    # split data into training and testing\n",
    "    train_percent = 0.2\n",
    "\n",
    "    x_train, x_test, y_train, y_test = train_test_split(\n",
    "        x_data, y_data, train_size=train_percent,\n",
    "        random_state=random_state\n",
    "    )\n",
    "    \n",
    "    # remove the mean from the training data\n",
    "    y_mean = np.mean(y_train)\n",
    "\n",
    "    y_train -= y_mean\n",
    "    y_test -= y_mean\n",
    "\n",
    "\n",
    "    # initialize the kernel ridge regression model\n",
    "    krr_model = KRR(n_batches=1)\n",
    "\n",
    "    # fit model to data\n",
    "    krr_model.fit(x_train, y_train)\n",
    "\n",
    "    \n",
    "    # PREDICTING TIMES\n",
    "    # predict using the krr model\n",
    "    start = time()\n",
    "    y_pred = krr_model.predict(x_test)\n",
    "    naive_times.append(time() - start)\n",
    "    \n",
    "    # initialize the kernel ridge regression model\n",
    "    krr_model = KRR(n_batches=10)\n",
    "\n",
    "    # fit model to data\n",
    "    krr_model.fit(x_train, y_train)\n",
    "\n",
    "    \n",
    "    # PREDICTING TIMES\n",
    "    # predict using the krr model\n",
    "    start = time()\n",
    "    y_pred = krr_model.predict(x_test)\n",
    "    batch_times.append(time() - start)\n",
    "    \n",
    "    "
   ]
  },
  {
   "cell_type": "code",
   "execution_count": 12,
   "metadata": {},
   "outputs": [
    {
     "name": "stdout",
     "output_type": "stream",
     "text": [
      "(2000, 100) (2000,)\n",
      "(8000, 100) (8000,)\n"
     ]
    }
   ],
   "source": [
    "\n",
    "\n",
    "\n",
    "print(x_train.shape, y_train.shape)\n",
    "print(x_test.shape, y_test.shape)"
   ]
  },
  {
   "cell_type": "code",
   "execution_count": 13,
   "metadata": {
    "collapsed": true
   },
   "outputs": [],
   "source": [
    "# initialize the kernel ridge regression model\n",
    "krr_model = KRR(n_batches=1)\n",
    "\n",
    "# fit model to data\n",
    "krr_model.fit(x_train, y_train)\n",
    "\n",
    "# predict using the krr model\n",
    "y_pred = krr_model.predict(x_test)"
   ]
  },
  {
   "cell_type": "code",
   "execution_count": null,
   "metadata": {
    "collapsed": true
   },
   "outputs": [],
   "source": []
  },
  {
   "cell_type": "code",
   "execution_count": 29,
   "metadata": {
    "collapsed": true
   },
   "outputs": [],
   "source": [
    "import numpy as np\n",
    "import warnings \n",
    "from sklearn.model_selection import train_test_split\n",
    "import scipy as scio\n",
    "from scipy.spatial.distance import pdist\n",
    "from scipy.linalg import cho_factor, cho_solve, cholesky\n",
    "from sklearn.model_selection import KFold\n",
    "from sklearn.metrics.pairwise import rbf_kernel\n",
    "from sklearn.metrics import mean_squared_error\n",
    "from sklearn.utils import check_array, check_random_state\n",
    "from sklearn.linear_model.ridge import _solve_cholesky_kernel as kernel_solve\n",
    "from time import time\n",
    "\n",
    "%matplotlib inline\n",
    "import matplotlib.pyplot as plt\n",
    "\n",
    "warnings.filterwarnings('ignore')"
   ]
  },
  {
   "cell_type": "code",
   "execution_count": 31,
   "metadata": {
    "collapsed": true
   },
   "outputs": [],
   "source": [
    "# parameter heuristics\n",
    "mean_sigma = np.mean(pdist(x_train, metric='euclidean'))\n",
    "lam = 1e-04\n",
    "\n",
    "mean_gamma = 1 / (2 * mean_sigma ** 2)\n",
    "\n",
    "# construct kernel matrices\n",
    "K_train = rbf_kernel(X=x_train, gamma=mean_gamma)"
   ]
  },
  {
   "cell_type": "markdown",
   "metadata": {},
   "source": [
    "### Different Solvers"
   ]
  },
  {
   "cell_type": "code",
   "execution_count": 32,
   "metadata": {
    "collapsed": true
   },
   "outputs": [],
   "source": [
    "weights = {}\n",
    "times = {}"
   ]
  },
  {
   "cell_type": "code",
   "execution_count": 33,
   "metadata": {},
   "outputs": [
    {
     "name": "stdout",
     "output_type": "stream",
     "text": [
      "Time taken for solve: 1.1514 secs\n"
     ]
    }
   ],
   "source": [
    "# slow method: solve problem\n",
    "t0 = time()\n",
    "weights['solver'] = \\\n",
    "    scio.linalg.solve(K_train + lam * np.eye(x_train.shape[0]), \n",
    "                      y_train)\n",
    "t1 = time() - t0\n",
    "print('Time taken for solve: {:.4f} secs'.format(t1))"
   ]
  },
  {
   "cell_type": "code",
   "execution_count": 34,
   "metadata": {},
   "outputs": [
    {
     "name": "stdout",
     "output_type": "stream",
     "text": [
      "Time taken for scikit-solver: 0.9169 secs\n"
     ]
    }
   ],
   "source": [
    "# scikit kernel cholesky solver\n",
    "t0 = time()\n",
    "weights['scikit_solver'] = kernel_solve(K_train, y_train, lam)\n",
    "t1 = time() - t0\n",
    "print('Time taken for scikit-solver: {:.4f} secs'.format(t1))"
   ]
  },
  {
   "cell_type": "code",
   "execution_count": 35,
   "metadata": {},
   "outputs": [
    {
     "name": "stdout",
     "output_type": "stream",
     "text": [
      "Time taken for cholesky manually: 2.2474 secs\n"
     ]
    }
   ],
   "source": [
    "# cholesky: decomposition: manually\n",
    "t0 = time()\n",
    "R = cholesky(K_train + lam * np.eye(x_train.shape[0]))\n",
    "weights['chol_solver'] = scio.linalg.solve(R, scio.linalg.solve(R.T, y_train))\n",
    "t1 = time() - t0\n",
    "print('Time taken for cholesky manually: {:.4f} secs'.format(t1))"
   ]
  },
  {
   "cell_type": "code",
   "execution_count": 36,
   "metadata": {},
   "outputs": [
    {
     "name": "stdout",
     "output_type": "stream",
     "text": [
      "\n",
      "Time taken for cholesky with functions: 0.5631 secs\n",
      "\n"
     ]
    }
   ],
   "source": [
    "# cholesky decomposition: with functions\n",
    "t0 = time()\n",
    "R, lower = cho_factor(K_train + lam * np.eye(x_train.shape[0]))\n",
    "weights['chol_factor'] = cho_solve((R, lower), y_train)\n",
    "t1 = time() - t0\n",
    "print('\\nTime taken for cholesky with functions: {:.4f} secs\\n'.format(t1))"
   ]
  },
  {
   "cell_type": "markdown",
   "metadata": {},
   "source": [
    "#### Are they the same?"
   ]
  },
  {
   "cell_type": "code",
   "execution_count": 37,
   "metadata": {},
   "outputs": [
    {
     "name": "stdout",
     "output_type": "stream",
     "text": [
      "Scikit Solver: True\n",
      "Cholesky Solver: True\n",
      "Cholesky Factor: True\n"
     ]
    }
   ],
   "source": [
    "print('Scikit Solver: {}'.format(\n",
    "    np.allclose(weights['scikit_solver'],\n",
    "                weights['solver'])))\n",
    "\n",
    "print('Cholesky Solver: {}'.format(\n",
    "    np.allclose(weights['chol_solver'],\n",
    "                weights['solver'])))\n",
    "\n",
    "print('Cholesky Factor: {}'.format(\n",
    "    np.allclose(weights['chol_factor'],\n",
    "                weights['solver'])))"
   ]
  },
  {
   "cell_type": "markdown",
   "metadata": {},
   "source": [
    "#### Are they faster?"
   ]
  },
  {
   "cell_type": "code",
   "execution_count": 38,
   "metadata": {},
   "outputs": [
    {
     "name": "stdout",
     "output_type": "stream",
     "text": [
      "1.19 s ± 104 ms per loop (mean ± std. dev. of 7 runs, 1 loop each)\n",
      "783 ms ± 33.6 ms per loop (mean ± std. dev. of 7 runs, 1 loop each)\n"
     ]
    }
   ],
   "source": [
    "solver_time = %timeit -o scio.linalg.solve(K_train + lam * np.eye(x_train.shape[0]), y_train)\n",
    "scikit_time = %timeit -o kernel_solve(K_train, y_train, lam)"
   ]
  },
  {
   "cell_type": "code",
   "execution_count": 39,
   "metadata": {},
   "outputs": [
    {
     "name": "stdout",
     "output_type": "stream",
     "text": [
      "2.46 s ± 124 ms per loop (mean ± std. dev. of 7 runs, 1 loop each)\n"
     ]
    }
   ],
   "source": [
    "%%timeit\n",
    "\n",
    "# Cholesky Manual Solve\n",
    "R = cholesky(K_train + lam * np.eye(x_train.shape[0]))\n",
    "weights['chol_solver'] = scio.linalg.solve(R, scio.linalg.solve(R.T, y_train))\n",
    "t1 = time() - t0"
   ]
  },
  {
   "cell_type": "code",
   "execution_count": 40,
   "metadata": {},
   "outputs": [
    {
     "name": "stdout",
     "output_type": "stream",
     "text": [
      "555 ms ± 10 ms per loop (mean ± std. dev. of 7 runs, 1 loop each)\n"
     ]
    }
   ],
   "source": [
    "%%timeit\n",
    "\n",
    "# Cholesky Factor Solve\n",
    "R, lower = cho_factor(K_train + lam * np.eye(x_train.shape[0]))\n",
    "weights['chol_factor'] = cho_solve((R, lower), y_train)"
   ]
  },
  {
   "cell_type": "markdown",
   "metadata": {},
   "source": [
    "### Predictions (Normal)\n"
   ]
  },
  {
   "cell_type": "code",
   "execution_count": 41,
   "metadata": {},
   "outputs": [
    {
     "name": "stdout",
     "output_type": "stream",
     "text": [
      "11.4 s ± 1.08 s per loop (mean ± std. dev. of 7 runs, 1 loop each)\n"
     ]
    }
   ],
   "source": [
    "%%timeit\n",
    "\n",
    "# calculate the kernel test matrix\n",
    "K_test = rbf_kernel(X=x_test, gamma=mean_gamma)\n",
    "\n",
    "# calculate the inverse matrix\n",
    "K_train_inv = np.linalg.inv(K_train)\n",
    "\n",
    "# calculate the train-test Kernel matrix\n",
    "K_traintest = rbf_kernel(x_train, x_test, gamma=mean_gamma)\n",
    "\n",
    "# calculate the predictions\n",
    "y_pred = K_traintest.T @ weights['solver']\n",
    "\n",
    "# calculate the variance\n",
    "y_var = np.diag(K_test) - np.diag(K_traintest.T @ K_train_inv @ K_traintest)"
   ]
  },
  {
   "cell_type": "markdown",
   "metadata": {},
   "source": [
    "### Predictions (Batch)"
   ]
  },
  {
   "cell_type": "code",
   "execution_count": 42,
   "metadata": {},
   "outputs": [
    {
     "name": "stdout",
     "output_type": "stream",
     "text": [
      "Number of Test samples:  6000\n",
      "Number of samples per batch:  100\n",
      "Number of batches: 60\n"
     ]
    }
   ],
   "source": [
    "# split testing data (K-fold)\n",
    "n_samples, n_dimensions = x_test.shape\n",
    "n_samples_per_batch = 100\n",
    "n_batches = int(np.round(n_samples / n_samples_per_batch))\n",
    "\n",
    "print(\"Number of Test samples: \", n_samples)\n",
    "print(\"Number of samples per batch: \", n_samples_per_batch)\n",
    "print(\"Number of batches: {}\".format(n_batches))"
   ]
  },
  {
   "cell_type": "code",
   "execution_count": 43,
   "metadata": {},
   "outputs": [
    {
     "name": "stdout",
     "output_type": "stream",
     "text": [
      "6.9 s ± 349 ms per loop (mean ± std. dev. of 7 runs, 1 loop each)\n"
     ]
    }
   ],
   "source": [
    "%%timeit\n",
    "\n",
    "# Create Batch Iterator Object\n",
    "BatchIterator = KFold(n_splits=n_batches)\n",
    "\n",
    "# predefine matrices\n",
    "y_pred = np.empty(y_test.shape)\n",
    "variance = np.empty(y_test.shape) \n",
    "\n",
    "# calculate the inverse matrix\n",
    "K_train_inv = np.linalg.inv(K_train)\n",
    "\n",
    "for (ibatch, (_, ibatch_index)) in enumerate(BatchIterator.split(x_test)):\n",
    "    \n",
    "    # calculate the train-test kernel\n",
    "    K_traintest = rbf_kernel(x_train, x_test[ibatch_index], \n",
    "                             gamma=mean_gamma)\n",
    "    \n",
    "    # calculate the predictions\n",
    "    y_pred[ibatch_index] = K_traintest.T @ weights['solver']\n",
    "    \n",
    "    # calculate the variance\n",
    "    K_batch = rbf_kernel(x_test[ibatch_index], gamma=mean_gamma)\n",
    "    \n",
    "    variance[ibatch_index, 0] = np.diag(K_batch) - \\\n",
    "        np.diag(K_traintest.T @ K_train_inv @ K_traintest)"
   ]
  },
  {
   "cell_type": "code",
   "execution_count": 44,
   "metadata": {
    "collapsed": true
   },
   "outputs": [],
   "source": [
    "BatchIterator = KFold(n_splits=n_batches)\n",
    "\n",
    "# predefine matrices\n",
    "y_pred = np.empty(y_test.shape)\n",
    "variance = np.empty(y_test.shape) \n",
    "\n",
    "# calculate the inverse matrix\n",
    "K_train_inv = np.linalg.inv(K_train)\n",
    "\n",
    "for (ibatch, (_, ibatch_index)) in enumerate(BatchIterator.split(x_test)):\n",
    "    \n",
    "    # calculate the train-test kernel\n",
    "    K_traintest = rbf_kernel(x_train, x_test[ibatch_index], \n",
    "                             gamma=mean_gamma)\n",
    "    \n",
    "    # calculate the predictions\n",
    "    y_pred[ibatch_index] = K_traintest.T @ weights['solver']\n",
    "    \n",
    "    # calculate the variance\n",
    "    K_batch = rbf_kernel(x_test[ibatch_index], gamma=mean_gamma)\n",
    "    \n",
    "    variance[ibatch_index, 0] = np.diag(K_batch) - \\\n",
    "        np.diag(K_traintest.T @ K_train_inv @ K_traintest)"
   ]
  },
  {
   "cell_type": "code",
   "execution_count": 45,
   "metadata": {},
   "outputs": [
    {
     "data": {
      "image/png": "[encoded data removed]",
      "text/plain": [
       "<matplotlib.figure.Figure at 0x11d0c35c0>"
      ]
     },
     "metadata": {},
     "output_type": "display_data"
    }
   ],
   "source": [
    "fig, ax = plt.subplots()\n",
    "\n",
    "ax.scatter(x_test[::20], y_test[::20], color='b', label='Test Points')\n",
    "ax.scatter(x_test[::20], y_pred[::20], color='g', label='KRR Predictions')\n",
    "\n",
    "\n",
    "ax.legend()\n",
    "plt.show()"
   ]
  },
  {
   "cell_type": "code",
   "execution_count": null,
   "metadata": {
    "collapsed": true
   },
   "outputs": [],
   "source": []
  }
 ],
 "metadata": {
  "kernelspec": {
   "display_name": "Python 3",
   "language": "python",
   "name": "python3"
  },
  "language_info": {
   "codemirror_mode": {
    "name": "ipython",
    "version": 3
   },
   "file_extension": ".py",
   "mimetype": "text/x-python",
   "name": "python",
   "nbconvert_exporter": "python",
   "pygments_lexer": "ipython3",
   "version": "3.6.1"
  },
  "toc": {
   "nav_menu": {},
   "number_sections": true,
   "sideBar": true,
   "skip_h1_title": false,
   "toc_cell": false,
   "toc_position": {},
   "toc_section_display": "block",
   "toc_window_display": false
  }
 },
 "nbformat": 4,
 "nbformat_minor": 2
}
