{
 "cells": [
  {
   "cell_type": "markdown",
   "metadata": {},
   "source": [
    "# Kernel Ridge Regression (Batch Predictions in Parallel)"
   ]
  },
  {
   "cell_type": "code",
   "execution_count": 80,
   "metadata": {
    "collapsed": true,
    "hide_input": false
   },
   "outputs": [],
   "source": [
    "import numpy as np\n",
    "import warnings \n",
    "from sklearn.model_selection import train_test_split\n",
    "import scipy as scio\n",
    "from scipy.spatial.distance import pdist\n",
    "from scipy.linalg import cho_factor, cho_solve, cholesky\n",
    "from sklearn.model_selection import KFold\n",
    "from sklearn.metrics.pairwise import rbf_kernel\n",
    "from sklearn.metrics import mean_squared_error\n",
    "from sklearn.utils import check_array, check_random_state\n",
    "from sklearn.linear_model.ridge import _solve_cholesky_kernel as kernel_solve\n",
    "from time import time\n",
    "import multiprocessing as mp\n",
    "\n",
    "\n",
    "%matplotlib inline\n",
    "import matplotlib.pyplot as plt\n",
    "\n",
    "warnings.filterwarnings('ignore')\n",
    "\n",
    "\n",
    "import sys\n",
    "sys.path.insert(0, '/Users/eman/Documents/' +\n",
    "                'code_projects/kernellib/kernellib/regression/')\n",
    "\n",
    "sys.path.insert(0, '/home/emmanuel/github_repos/kernellib/kernellib/')"
   ]
  },
  {
   "cell_type": "markdown",
   "metadata": {},
   "source": [
    "## Generate Data"
   ]
  },
  {
   "cell_type": "code",
   "execution_count": 81,
   "metadata": {
    "collapsed": false,
    "scrolled": true
   },
   "outputs": [
    {
     "data": {
      "image/png": "[encoded data removed]",
      "text/plain": [
       "<matplotlib.figure.Figure at 0x7fe382e908d0>"
      ]
     },
     "metadata": {},
     "output_type": "display_data"
    },
    {
     "name": "stdout",
     "output_type": "stream",
     "text": [
      "(10000, 1) (10000, 1)\n",
      "(40000, 1) (40000, 1)\n"
     ]
    }
   ],
   "source": [
    "# generate datasets\n",
    "random_state = 123\n",
    "num_points = 50000\n",
    "\n",
    "x_data = np.linspace(-2*np.pi, 2*np.pi, num=num_points)\n",
    "y_data = np.sin(x_data)\n",
    "\n",
    "# add some noise\n",
    "generator = check_random_state(random_state)\n",
    "y_data += 0.1 * generator.randn(num_points)\n",
    "\n",
    "# convert to 2D, float array for scikit-learn input\n",
    "x_data = x_data[:, np.newaxis].astype(np.float)\n",
    "y_data = y_data[:, np.newaxis].astype(np.float)\n",
    "\n",
    "\n",
    "# split data into training and testing\n",
    "train_percent = 0.2\n",
    "\n",
    "x_train, x_test, y_train, y_test = train_test_split(\n",
    "    x_data, y_data, train_size=train_percent,\n",
    "    random_state=random_state\n",
    ")\n",
    "\n",
    "# plot the training data\n",
    "fig, ax = plt.subplots()\n",
    "\n",
    "ax.scatter(x_train[::10], y_train[::10], color='k', label='Training')\n",
    "ax.scatter(x_test[::10], y_test[::10], color='r', marker='+', label='Testing')\n",
    "\n",
    "ax.legend()\n",
    "plt.show()\n",
    "\n",
    "# remove the mean from the training data\n",
    "y_mean = np.mean(y_train)\n",
    "\n",
    "y_train -= y_mean\n",
    "y_test -= y_mean\n",
    "\n",
    "print(x_train.shape, y_train.shape)\n",
    "print(x_test.shape, y_test.shape)"
   ]
  },
  {
   "cell_type": "markdown",
   "metadata": {},
   "source": [
    "## Tune Parameters"
   ]
  },
  {
   "cell_type": "code",
   "execution_count": 82,
   "metadata": {
    "collapsed": true
   },
   "outputs": [],
   "source": [
    "# parameter heuristics\n",
    "mean_sigma = np.mean(pdist(x_train, metric='euclidean'))\n",
    "lam = 1e-04\n",
    "\n",
    "mean_gamma = 1 / (2 * mean_sigma ** 2)\n",
    "\n",
    "# construct kernel matrices\n",
    "K_train = rbf_kernel(X=x_train, gamma=mean_gamma)"
   ]
  },
  {
   "cell_type": "markdown",
   "metadata": {},
   "source": [
    "## Solve the Decomposition"
   ]
  },
  {
   "cell_type": "code",
   "execution_count": 83,
   "metadata": {
    "collapsed": false
   },
   "outputs": [
    {
     "name": "stdout",
     "output_type": "stream",
     "text": [
      "\n",
      "Time taken for cholesky with functions: 4.2801 secs\n",
      "\n"
     ]
    }
   ],
   "source": [
    "# cholesky decomposition: with functions\n",
    "t0 = time()\n",
    "R, lower = cho_factor(K_train + lam * np.eye(x_train.shape[0]))\n",
    "weights = cho_solve((R, lower), y_train)\n",
    "t1 = time() - t0\n",
    "print('\\nTime taken for cholesky with functions: {:.4f} secs\\n'.format(t1))"
   ]
  },
  {
   "cell_type": "markdown",
   "metadata": {},
   "source": [
    "## Predictions (Batch)"
   ]
  },
  {
   "cell_type": "code",
   "execution_count": 84,
   "metadata": {
    "collapsed": false
   },
   "outputs": [
    {
     "name": "stdout",
     "output_type": "stream",
     "text": [
      "Number of Test samples:  40000\n",
      "Number of samples per batch:  1000\n",
      "Number of batches: 40\n"
     ]
    }
   ],
   "source": [
    "# split testing data (K-fold)\n",
    "n_samples, n_dimensions = x_test.shape\n",
    "n_samples_per_batch = 1000\n",
    "n_batches = int(n_samples // n_samples_per_batch)\n",
    "\n",
    "print(\"Number of Test samples: \", n_samples)\n",
    "print(\"Number of samples per batch: \", n_samples_per_batch)\n",
    "print(\"Number of batches: {}\".format(n_batches))"
   ]
  },
  {
   "cell_type": "markdown",
   "metadata": {},
   "source": [
    "#### Predictions in Serial"
   ]
  },
  {
   "cell_type": "code",
   "execution_count": 85,
   "metadata": {
    "collapsed": false
   },
   "outputs": [
    {
     "name": "stdout",
     "output_type": "stream",
     "text": [
      "Serial Processing time: 9.17 secs\n"
     ]
    }
   ],
   "source": [
    "BatchIterator = KFold(n_splits=n_batches)\n",
    "\n",
    "# predefine matrices\n",
    "y_pred = np.empty(y_test.shape)\n",
    "variance = np.empty(y_test.shape) \n",
    "\n",
    "# calculate the inverse matrix\n",
    "K_train_inv = np.linalg.inv(K_train)\n",
    "\n",
    "start_time = time()\n",
    "\n",
    "for (ibatch, (_, ibatch_index)) in enumerate(BatchIterator.split(x_test)):\n",
    "    \n",
    "    \n",
    "    # calculate the train-test kernel\n",
    "    K_traintest = rbf_kernel(x_train, x_test[ibatch_index], \n",
    "                             gamma=mean_gamma)\n",
    "    \n",
    "    # calculate the predictions\n",
    "    y_pred[ibatch_index] = K_traintest.T @ weights\n",
    "        \n",
    "end_time = time() - start_time\n",
    "print('Serial Processing time: {:.2f} secs'.format(end_time))"
   ]
  },
  {
   "cell_type": "code",
   "execution_count": 86,
   "metadata": {
    "collapsed": true
   },
   "outputs": [],
   "source": [
    "# fig, ax = plt.subplots()\n",
    "\n",
    "# ax.scatter(x_test[::20], y_test[::20], color='b', label='Test Points')\n",
    "# ax.scatter(x_test[::20], y_pred[::20], color='g', label='KRR Predictions')\n",
    "\n",
    "\n",
    "# ax.legend()\n",
    "# plt.show()"
   ]
  },
  {
   "cell_type": "markdown",
   "metadata": {},
   "source": [
    "#### Batch Predictions in Parallel (Joblib)"
   ]
  },
  {
   "cell_type": "code",
   "execution_count": 87,
   "metadata": {
    "collapsed": false
   },
   "outputs": [
    {
     "name": "stdout",
     "output_type": "stream",
     "text": [
      "1000\n"
     ]
    }
   ],
   "source": [
    "print(n_samples // n_batches)"
   ]
  },
  {
   "cell_type": "code",
   "execution_count": 88,
   "metadata": {
    "collapsed": true
   },
   "outputs": [],
   "source": [
    "def generate_batches(n_samples, batch_size):\n",
    "    \n",
    "    start = 0\n",
    "    \n",
    "    # calculate the number of samples per batch\n",
    "    n_samples_per_batch = int(n_samples // batch_size)\n",
    "    \n",
    "    # loop through\n",
    "    for _ in range(n_samples_per_batch):\n",
    "        \n",
    "        end = start + batch_size\n",
    "        \n",
    "        yield start, end\n",
    "        \n",
    "        start = end\n",
    "        \n",
    "    # special case at the end of the segment\n",
    "    if start < n_samples:\n",
    "\n",
    "        yield start, n_samples"
   ]
  },
  {
   "cell_type": "code",
   "execution_count": 90,
   "metadata": {
    "collapsed": false
   },
   "outputs": [
    {
     "name": "stdout",
     "output_type": "stream",
     "text": [
      "Number of Test samples:  40000\n",
      "Number of batches: 10\n",
      "Number of samples per batch:  4000\n",
      "Number of jobs:  2\n",
      "0 4000\n",
      "4000 8000\n",
      "8000 12000\n",
      "12000 16000\n",
      "16000 20000\n",
      "20000 24000\n",
      "24000 28000\n",
      "28000 32000\n",
      "32000 36000\n",
      "36000 40000\n"
     ]
    }
   ],
   "source": [
    "# calculate the number of samples per batch\n",
    "n_batches = 10\n",
    "n_samples, n_dimensions = x_test.shape\n",
    "batch_size = int(n_samples // n_batches)\n",
    "n_jobs = 2\n",
    "\n",
    "print(\"Number of Test samples: \", n_samples)\n",
    "print(\"Number of batches: {}\".format(n_batches))\n",
    "print(\"Number of samples per batch: \", batch_size)\n",
    "print(\"Number of jobs: \", n_jobs)\n",
    "\n",
    "for (start, end) in generate_batches(n_samples, batch_size):\n",
    "    \n",
    "    print(start, end)"
   ]
  },
  {
   "cell_type": "code",
   "execution_count": 73,
   "metadata": {
    "collapsed": true
   },
   "outputs": [],
   "source": [
    "def krr_batch_predictions(x_train, x_test, weights, gamma, \n",
    "                          calculate_variance=False, K_traininverse=None):\n",
    "    \n",
    "    variance_predictions = None\n",
    "    \n",
    "    # calculate train_test kernel\n",
    "    K_traintest = rbf_kernel(x_train, x_test, gamma)\n",
    "    \n",
    "    # calculate the predictions\n",
    "    mean_predictions = K_traintest.T @ weights\n",
    "    \n",
    "    # calculate the variance\n",
    "    if calculate_variance:\n",
    "        \n",
    "        # calculate the kernel for test points\n",
    "        K_batch = rbf_kernel(x_test, gamma=gamma)\n",
    "        \n",
    "        # calculate K_traininverse if necessary\n",
    "        if K_traininverse is None:\n",
    "            K_train_inverse = np.inv(rbf_kernel(x_train, gamma=gamma))\n",
    "        \n",
    "        # calculate the variance \n",
    "        variance_predictions = np.diag(K_batch) - \\\n",
    "            np.diag(K_traintest.T @ K_traininverse @ K_train)\n",
    "        \n",
    "    \n",
    "    return mean_predictions, variance_predictions"
   ]
  },
  {
   "cell_type": "code",
   "execution_count": 74,
   "metadata": {
    "collapsed": false
   },
   "outputs": [
    {
     "name": "stdout",
     "output_type": "stream",
     "text": [
      "Number of Test samples:  40000\n",
      "Number of batches: 10\n",
      "Number of samples per batch:  4000\n",
      "Number of jobs:  2\n"
     ]
    }
   ],
   "source": [
    "from joblib import Parallel, delayed\n",
    "\n",
    "# calculate the number of samples per batch\n",
    "n_batches = 10\n",
    "n_samples, n_dimensions = x_test.shape\n",
    "batch_size = int(n_samples // n_batches)\n",
    "n_jobs = 2\n",
    "\n",
    "print(\"Number of Test samples: \", n_samples)\n",
    "print(\"Number of batches: {}\".format(n_batches))\n",
    "print(\"Number of samples per batch: \", batch_size)\n",
    "print(\"Number of jobs: \", n_jobs)"
   ]
  },
  {
   "cell_type": "code",
   "execution_count": 75,
   "metadata": {
    "collapsed": false
   },
   "outputs": [
    {
     "name": "stderr",
     "output_type": "stream",
     "text": [
      "[Parallel(n_jobs=4)]: Done   5 out of  10 | elapsed:    6.6s remaining:    6.6s\n",
      "[Parallel(n_jobs=4)]: Done   7 out of  10 | elapsed:    8.7s remaining:    3.7s\n"
     ]
    },
    {
     "name": "stdout",
     "output_type": "stream",
     "text": [
      "Joblib Multi-processing time: 12.19 secs\n"
     ]
    },
    {
     "name": "stderr",
     "output_type": "stream",
     "text": [
      "[Parallel(n_jobs=4)]: Done  10 out of  10 | elapsed:   11.7s finished\n"
     ]
    }
   ],
   "source": [
    "# calculate the inverse matrix\n",
    "K_train_inv = np.linalg.inv(K_train)\n",
    "\n",
    "start_time = time()\n",
    "\n",
    "results = Parallel(n_jobs=4, verbose=10)(\n",
    "    delayed(krr_batch_predictions)(\n",
    "        x_train, x_test[start:end], weights,\n",
    "        mean_gamma, calculate_variance=False,\n",
    "        K_traininverse=K_train_inv)\n",
    "    for (start, end) in generate_batches(n_samples, batch_size)\n",
    ")\n",
    "\n",
    "end_time = time() - start_time\n",
    "print('Joblib Multi-processing time: {:.2f} secs'.format(end_time))"
   ]
  },
  {
   "cell_type": "code",
   "execution_count": 76,
   "metadata": {
    "collapsed": false
   },
   "outputs": [
    {
     "name": "stdout",
     "output_type": "stream",
     "text": [
      "(40000, 1) (40000, 1)\n"
     ]
    }
   ],
   "source": [
    "preds, _ = tuple(zip(*results))\n",
    "y_pred = np.vstack(preds)\n",
    "print(y_pred.shape, x_test.shape)"
   ]
  },
  {
   "cell_type": "markdown",
   "metadata": {},
   "source": [
    "### Batch Predictions in Parallel (Multiprocessing)"
   ]
  },
  {
   "cell_type": "code",
   "execution_count": 92,
   "metadata": {
    "collapsed": false
   },
   "outputs": [
    {
     "name": "stdout",
     "output_type": "stream",
     "text": [
      "8\n"
     ]
    }
   ],
   "source": [
    "import multiprocessing as mp\n",
    "\n",
    "print(mp.cpu_count())"
   ]
  },
  {
   "cell_type": "code",
   "execution_count": 97,
   "metadata": {
    "collapsed": false
   },
   "outputs": [
    {
     "name": "stdout",
     "output_type": "stream",
     "text": [
      "MultiProcess Pools time: 29.25024 secs\n",
      "False\n"
     ]
    }
   ],
   "source": [
    "start_time = time()\n",
    "\n",
    "threads = []\n",
    "\n",
    "num_process = mp.cpu_count()\n",
    "\n",
    "calculate_variance=False\n",
    "\n",
    "Pool = mp.Pool(processes=4)\n",
    "# distribute results in multiprocessing\n",
    "y_pred_mp = np.empty(y_test.shape)\n",
    "\n",
    "results = \\\n",
    "    [Pool.apply(krr_batch_predictions, args=(\n",
    "        x_train, x_test[start:end], weights,\n",
    "        mean_gamma, calculate_variance,\n",
    "        K_train_inv)) \n",
    "        for (start, end) in generate_batches(n_samples, batch_size)]\n",
    "\n",
    "\n",
    "\n",
    "end_time = time() - start_time\n",
    "print('MultiProcess Pools time: {:.5f} secs'.format(end_time))\n",
    "print(np.allclose(y_pred, y_pred_mp))"
   ]
  },
  {
   "cell_type": "code",
   "execution_count": 98,
   "metadata": {
    "collapsed": false
   },
   "outputs": [
    {
     "name": "stdout",
     "output_type": "stream",
     "text": [
      "(40000, 1) (40000, 1)\n"
     ]
    }
   ],
   "source": [
    "preds, _ = tuple(zip(*results))\n",
    "y_pred = np.vstack(preds)\n",
    "print(y_pred.shape, x_test.shape)"
   ]
  },
  {
   "cell_type": "code",
   "execution_count": 7,
   "metadata": {
    "collapsed": true
   },
   "outputs": [],
   "source": [
    "import multiprocessing as mp\n",
    "\n",
    "def calculate_predictions(x_train, x_test, indices, weights, gamma):\n",
    "    \n",
    "    # calculate train-test kernel\n",
    "    K_traintest = rbf_kernel(x_train, x_test[indices, :],\n",
    "                             gamma=gamma)\n",
    "    \n",
    "    # calculate the predictions\n",
    "    return K_traintest.T @ weights\n",
    "\n",
    "def calculate_variance(x_train, x_test, indices, \n",
    "                       K_traintest, K_train_inverse, gamma):\n",
    "    \n",
    "    \n",
    "    K_batch = rbf_kernel(x_test[indices, :], gamma=gamma)\n",
    "    \n",
    "    variance = np.diag(K_batch) - np.diag(K_traintest.T @\n",
    "                                          K_traininverse @\n",
    "                                          K_traintest)\n",
    "    \n",
    "    return variance\n",
    "\n",
    "def krr_batch_prediction_multi(x_train, x_test, weights, gamma,\n",
    "                               n_batches=None, n_jobs=1, \n",
    "                               calculate_variance=False):\n",
    "    \n",
    "    # check for num of proc vs n_jobs selected\n",
    "    num_procs = mp.cpu_count()\n",
    "    \n",
    "    if num_procs < n_jobs:\n",
    "        Pool = mp.Pool(processes=n_jobs)\n",
    "    else:\n",
    "        Pool = mp.Pool(processes=num_procs)\n",
    "    \n",
    "    # get dimensions of the data\n",
    "    n_samples, n_dimensions = x_test.shape\n",
    "\n",
    "    # default batch number\n",
    "    if n_batches is None:\n",
    "        n_batches = int(np.round(n_samples / 500))\n",
    "\n",
    "    variance = None\n",
    "\n",
    "    # check variance\n",
    "    if calculate_variance is True:\n",
    "        K_train = rbf_kernel(x_train, gamma=gamma)\n",
    "        K_train_inverse = np.linalg.inv(K_train)\n",
    "        variance = np.empty(shape=(n_samples, 1))\n",
    "        \n",
    "    # create a batch iterator generator\n",
    "    BatchIterator = KFold(n_splits=n_batches)\n",
    "    \n",
    "    # predefine matrices \n",
    "    y_pred = np.empty(shape=(n_samples, 1))\n",
    "    \n",
    "    pred_pool = \\\n",
    "        [Pool.apply(calculate_predictions, args=(\n",
    "            x_train, x_test, indices, weights, gamma)) \n",
    "         for _, indices in BatchIterator.split(x_test)]\n",
    "        \n",
    "    # get pooled results\n",
    "    for i, (_, indices) in enumerate(BatchIterator.split(x_test)):\n",
    "        y_pred[indices] = pred_pool[i]\n",
    "        \n",
    "        \n",
    "    # Calculate Variance\n",
    "    if calculate_variance is True:\n",
    "        \n",
    "        # calculate train-test kernel\n",
    "        K_traintest = rbf_kernel(x_train, x_test,\n",
    "                                 gamma=gamma)\n",
    "        # \n",
    "        var_pool = \\\n",
    "            [Pool.apply(calculate_variance, args=(\n",
    "                x_train, x_test, indices, K_traintest, \n",
    "                K_train_inverse, gamma)) \n",
    "             for _, indices in BatchIterator.split(x_test)]\n",
    "            \n",
    "        # get pooled results\n",
    "        for i, (_, indices) in enumerate(BatchIterator.split(x_test)):\n",
    "            variance[indices] = var_pool[i]\n",
    "            \n",
    "    return y_pred, variance\n",
    "        \n",
    "    \n",
    "    "
   ]
  },
  {
   "cell_type": "code",
   "execution_count": 8,
   "metadata": {
    "collapsed": false
   },
   "outputs": [
    {
     "name": "stdout",
     "output_type": "stream",
     "text": [
      "MultiProcess Pools time: 10.87141 secs\n",
      "True\n"
     ]
    }
   ],
   "source": [
    "\n",
    "\n",
    "start_time = time()\n",
    "\n",
    "threads = []\n",
    "\n",
    "num_process = mp.cpu_count()\n",
    "\n",
    "Pool = mp.Pool(processes=num_process-2)\n",
    "# distribute results in multiprocessing\n",
    "y_pred_mp = np.empty(y_test.shape)\n",
    "\n",
    "results_pool = \\\n",
    "    [Pool.apply(calculate_predictions, args=(\n",
    "    x_train, x_test, indices, weights, mean_gamma)) \n",
    "           for _, indices in BatchIterator.split(x_test)]\n",
    "\n",
    "\n",
    "\n",
    "# reshape array\n",
    "for i, (_, indices) in enumerate(BatchIterator.split(x_test)):\n",
    "\n",
    "    y_pred_mp[indices] = results_pool[i]\n",
    "\n",
    "end_time = time() - start_time\n",
    "print('MultiProcess Pools time: {:.5f} secs'.format(end_time))\n",
    "print(np.allclose(y_pred, y_pred_mp))"
   ]
  },
  {
   "cell_type": "markdown",
   "metadata": {},
   "source": [
    "### MPI"
   ]
  },
  {
   "cell_type": "code",
   "execution_count": 9,
   "metadata": {
    "collapsed": true
   },
   "outputs": [],
   "source": [
    "from mpi4py import MPI"
   ]
  },
  {
   "cell_type": "code",
   "execution_count": 23,
   "metadata": {
    "collapsed": false
   },
   "outputs": [
    {
     "name": "stdout",
     "output_type": "stream",
     "text": [
      "0\n",
      "1\n"
     ]
    }
   ],
   "source": [
    "rank = MPI.COMM_WORLD.Get_rank()\n",
    "size = MPI.COMM_WORLD.Get_size()\n",
    "\n",
    "print(rank)\n",
    "print(size)"
   ]
  },
  {
   "cell_type": "code",
   "execution_count": null,
   "metadata": {
    "collapsed": true
   },
   "outputs": [],
   "source": [
    "# split testing data (K-fold)\n",
    "n_samples, n_dimensions = x_test.shape\n",
    "n_samples_per_batch = 1000\n",
    "n_batches = int(np.round(n_samples / n_samples_per_batch))\n",
    "\n",
    "print(\"Number of Test samples: \", n_samples)\n",
    "print(\"Number of samples per batch: \", n_samples_per_batch)\n",
    "print(\"Number of batches: {}\".format(n_batches))"
   ]
  },
  {
   "cell_type": "code",
   "execution_count": null,
   "metadata": {
    "collapsed": true
   },
   "outputs": [],
   "source": [
    "# predefine matrices\n",
    "y_pred = np.empty(y_test.shape)\n",
    "variance = np.empty(y_test.shape) \n",
    "\n",
    "# calculate the inverse matrix\n",
    "K_train_inv = np.linalg.inv(K_train"
   ]
  },
  {
   "cell_type": "code",
   "execution_count": null,
   "metadata": {
    "collapsed": true
   },
   "outputs": [],
   "source": []
  },
  {
   "cell_type": "code",
   "execution_count": null,
   "metadata": {
    "collapsed": true
   },
   "outputs": [],
   "source": []
  },
  {
   "cell_type": "code",
   "execution_count": null,
   "metadata": {
    "collapsed": true
   },
   "outputs": [],
   "source": []
  },
  {
   "cell_type": "code",
   "execution_count": null,
   "metadata": {
    "collapsed": true
   },
   "outputs": [],
   "source": []
  },
  {
   "cell_type": "code",
   "execution_count": null,
   "metadata": {
    "collapsed": true
   },
   "outputs": [],
   "source": []
  },
  {
   "cell_type": "code",
   "execution_count": null,
   "metadata": {
    "collapsed": true
   },
   "outputs": [],
   "source": []
  },
  {
   "cell_type": "code",
   "execution_count": null,
   "metadata": {
    "collapsed": true
   },
   "outputs": [],
   "source": []
  },
  {
   "cell_type": "code",
   "execution_count": null,
   "metadata": {
    "collapsed": true
   },
   "outputs": [],
   "source": [
    "# PLOT RESULTS\n",
    "fig, ax = plt.subplots()\n",
    "\n",
    "ax.scatter(x_test[::20], y_test[::20], color='b', label='Test Points')\n",
    "ax.scatter(x_test[::20], y_pred_mp[::20], color='g', label='KRR Predictions (Thread)')\n",
    "\n",
    "\n",
    "ax.legend()\n",
    "plt.show()"
   ]
  },
  {
   "cell_type": "code",
   "execution_count": null,
   "metadata": {
    "collapsed": true
   },
   "outputs": [],
   "source": [
    "# The original batch function\n",
    "\n",
    "for (ibatch, (_, ibatch_index)) in enumerate(BatchIterator.split(x_test)):\n",
    "    \n",
    "    # calculate the train-test kernel\n",
    "    K_traintest = rbf_kernel(x_train, x_test[ibatch_index], \n",
    "                             gamma=mean_gamma)\n",
    "    \n",
    "    # calculate the predictions\n",
    "    y_pred[ibatch_index] = K_traintest.T @ weights"
   ]
  },
  {
   "cell_type": "code",
   "execution_count": 62,
   "metadata": {
    "collapsed": true
   },
   "outputs": [],
   "source": [
    "# Modified\n",
    "# Create Batch Iterator Object\n",
    "BatchIterator = KFold(n_splits=n_batches)\n",
    "\n",
    "batch_list = []\n",
    "\n",
    "for _, ibatch in BatchIterator.split(x_test):\n",
    "    batch_list.append(ibatch)\n",
    "\n",
    "for ibatch_index in batch_list:\n",
    "    \n",
    "    # calculate the train-test kernel\n",
    "    K_traintest = rbf_kernel(x_train, x_test[ibatch_index, :], \n",
    "                             gamma=mean_gamma)\n",
    "    \n",
    "    # calculate the predictions\n",
    "    y_pred[ibatch_index] = K_traintest.T @ weights\n",
    "    \n"
   ]
  },
  {
   "cell_type": "markdown",
   "metadata": {},
   "source": [
    "#### Multiprocessing (Pool Function)"
   ]
  },
  {
   "cell_type": "markdown",
   "metadata": {},
   "source": [
    "#### Threading"
   ]
  },
  {
   "cell_type": "code",
   "execution_count": 108,
   "metadata": {
    "collapsed": false,
    "scrolled": true
   },
   "outputs": [
    {
     "name": "stdout",
     "output_type": "stream",
     "text": [
      "Threads time: 0.00175 secs\n",
      "<bound method Thread.join of <Thread(Thread-381, initial)>>\n"
     ]
    },
    {
     "ename": "TypeError",
     "evalue": "float() argument must be a string or a number, not 'method'",
     "output_type": "error",
     "traceback": [
      "\u001b[0;31m---------------------------------------------------------------------------\u001b[0m",
      "\u001b[0;31mTypeError\u001b[0m                                 Traceback (most recent call last)",
      "\u001b[0;32m<ipython-input-108-94a4b677d1d8>\u001b[0m in \u001b[0;36m<module>\u001b[0;34m()\u001b[0m\n\u001b[1;32m     23\u001b[0m \u001b[0;32mfor\u001b[0m \u001b[0mi\u001b[0m \u001b[0;34m,\u001b[0m \u001b[0mindices\u001b[0m \u001b[0;32min\u001b[0m \u001b[0menumerate\u001b[0m\u001b[0;34m(\u001b[0m\u001b[0mBatchIterator\u001b[0m\u001b[0;34m.\u001b[0m\u001b[0msplit\u001b[0m\u001b[0;34m(\u001b[0m\u001b[0mx_test\u001b[0m\u001b[0;34m)\u001b[0m\u001b[0;34m)\u001b[0m\u001b[0;34m:\u001b[0m\u001b[0;34m\u001b[0m\u001b[0m\n\u001b[1;32m     24\u001b[0m     \u001b[0mprint\u001b[0m\u001b[0;34m(\u001b[0m\u001b[0mresults\u001b[0m\u001b[0;34m[\u001b[0m\u001b[0mi\u001b[0m\u001b[0;34m]\u001b[0m\u001b[0;34m)\u001b[0m\u001b[0;34m\u001b[0m\u001b[0m\n\u001b[0;32m---> 25\u001b[0;31m     \u001b[0my_pred_thread\u001b[0m\u001b[0;34m[\u001b[0m\u001b[0mindices\u001b[0m\u001b[0;34m]\u001b[0m \u001b[0;34m=\u001b[0m \u001b[0mresults\u001b[0m\u001b[0;34m[\u001b[0m\u001b[0mi\u001b[0m\u001b[0;34m]\u001b[0m\u001b[0;34m\u001b[0m\u001b[0m\n\u001b[0m\u001b[1;32m     26\u001b[0m \u001b[0;34m\u001b[0m\u001b[0m\n\u001b[1;32m     27\u001b[0m \u001b[0;34m\u001b[0m\u001b[0m\n",
      "\u001b[0;31mTypeError\u001b[0m: float() argument must be a string or a number, not 'method'"
     ]
    }
   ],
   "source": [
    "import threading\n",
    "\n",
    "start_time = time()\n",
    "\n",
    "threads = []\n",
    "# initialize thread\n",
    "threads = [threading.Thread(target=calculate_predictions, args=(\n",
    "    x_train, x_test, indices, weights, mean_gamma)) \n",
    "           for _, indices in BatchIterator.split(x_test)]\n",
    "\n",
    "# start threads\n",
    "resuts = [thread.start for thread in threads]\n",
    "\n",
    "# join results to one thread\n",
    "results = [thread.join for thread in threads]\n",
    "\n",
    "end_time = time() - start_time\n",
    "print('Threads time: {:.5f} secs'.format(end_time))\n",
    "\n",
    "# concatentate results\n",
    "y_pred_thread = np.empty(y_test.shape)\n",
    "\n",
    "for i , indices in enumerate(BatchIterator.split(x_test)):\n",
    "    y_pred_thread[indices] = results[i]\n",
    "\n",
    "\n",
    "# PLOT RESULTS\n",
    "fig, ax = plt.subplots()\n",
    "\n",
    "ax.scatter(x_test, y_test, color='b', label='Test Points')\n",
    "ax.scatter(x_test, y_pred_thread, color='g', label='KRR Predictions (Thread)')\n",
    "\n",
    "\n",
    "ax.legend()\n",
    "plt.show()"
   ]
  },
  {
   "cell_type": "markdown",
   "metadata": {},
   "source": [
    "#### Muiltiprocessing Module"
   ]
  },
  {
   "cell_type": "code",
   "execution_count": 61,
   "metadata": {
    "collapsed": true
   },
   "outputs": [],
   "source": [
    "# Simplier\n",
    "def calculate_predictions(ibatch, batch_indices, x_train, x_test, weights, gamma):\n",
    "    \n",
    "    test_indices = batch_indices[ibatch]\n",
    "    \n",
    "    K = rbf_kernel(x_train, x_test[test_indices], gamma)\n",
    "    predictions = K.T @ weights\n",
    "    return predictions"
   ]
  },
  {
   "cell_type": "markdown",
   "metadata": {},
   "source": [
    "### Serial"
   ]
  },
  {
   "cell_type": "code",
   "execution_count": 67,
   "metadata": {
    "collapsed": true
   },
   "outputs": [],
   "source": [
    "import os\n",
    "import threading\n"
   ]
  },
  {
   "cell_type": "code",
   "execution_count": 69,
   "metadata": {
    "collapsed": false
   },
   "outputs": [
    {
     "name": "stdout",
     "output_type": "stream",
     "text": [
      "Number of batches: 20\n"
     ]
    }
   ],
   "source": [
    "import threading\n",
    "n_batches = 20\n",
    "print('Number of batches: {}'.format(n_batches))\n",
    "\n",
    "# Create Batch Iterator Object\n",
    "BatchIterator = KFold(n_splits=n_batches)\n",
    "\n",
    "batch_list = []\n",
    "\n",
    "for _, ibatch in BatchIterator.split(x_train):\n",
    "    batch_list.append(ibatch)\n",
    "\n",
    "# predefine matrices\n",
    "y_pred = np.empty(y_test.shape)\n",
    "variance = np.empty(y_test.shape) \n",
    "\n",
    "# calculate the inverse matrix\n",
    "K_train_inv = np.linalg.inv(K_train)"
   ]
  },
  {
   "cell_type": "code",
   "execution_count": null,
   "metadata": {
    "collapsed": true
   },
   "outputs": [],
   "source": [
    "fig, ax = plt.subplots()\n",
    "\n",
    "ax.scatter(x_test, y_test, color='b', label='Test Points')\n",
    "ax.scatter(x_test, y_pred_serial, color='g', label='KRR Predictions (Serial)')\n",
    "\n",
    "\n",
    "ax.legend()\n",
    "plt.show()"
   ]
  },
  {
   "cell_type": "markdown",
   "metadata": {},
   "source": [
    "### Simple Calculation"
   ]
  },
  {
   "cell_type": "code",
   "execution_count": 26,
   "metadata": {
    "collapsed": true
   },
   "outputs": [],
   "source": [
    "def calculate_predictions(ibatch, batch_indices, x_train, x_test, weights, gamma):\n",
    "    \n",
    "    test_indices = batch_indices[ibatch]\n",
    "    \n",
    "    K = rbf_kernel(x_train, x_test[test_indices], gamma)\n",
    "    predictions = K.T @ weights\n",
    "    return predictions"
   ]
  },
  {
   "cell_type": "markdown",
   "metadata": {},
   "source": [
    "### Serial Code"
   ]
  },
  {
   "cell_type": "code",
   "execution_count": 27,
   "metadata": {
    "collapsed": false
   },
   "outputs": [
    {
     "name": "stdout",
     "output_type": "stream",
     "text": [
      "Shape of x_data: (600, 1)\n",
      "Serial Time: 0.0084 secs\n",
      "20\n",
      "Shape of y_data: (600, 1)\n"
     ]
    }
   ],
   "source": [
    "# serial implementation\n",
    "start_time = time()\n",
    "\n",
    "print('Shape of x_data: {}'.format(x_test.shape))\n",
    "y_pred_serial = np.empty(y_test.shape)\n",
    "\n",
    "\n",
    "results_serial = []\n",
    "for ibatch in range(len(batch_list)):\n",
    "    results_serial.append(calculate_predictions(ibatch,\n",
    "                                         batch_list,\n",
    "                                         x_train,\n",
    "                                         x_train,\n",
    "                                         weights,\n",
    "                                         mean_gamma))\n",
    "    \n",
    "end_time = time() - start_time\n",
    "print('Serial Time: {:.4f} secs'.format(end_time))\n",
    "print(len(results_serial))\n",
    "\n",
    "# concatentate results\n",
    "for i in results_serial:\n",
    "    y_pred_serial[batch_list[ibatch]] = i\n",
    "\n",
    "print('Shape of y_data: {}'.format(y_pred_serial.shape))"
   ]
  },
  {
   "cell_type": "code",
   "execution_count": 28,
   "metadata": {
    "collapsed": false
   },
   "outputs": [
    {
     "data": {
      "image/png": "[encoded data removed]",
      "text/plain": [
       "<matplotlib.figure.Figure at 0x112bd1518>"
      ]
     },
     "metadata": {},
     "output_type": "display_data"
    }
   ],
   "source": [
    "fig, ax = plt.subplots()\n",
    "\n",
    "ax.scatter(x_test, y_test, color='b', label='Test Points')\n",
    "ax.scatter(x_test, y_pred_serial, color='g', label='KRR Predictions (Serial)')\n",
    "\n",
    "\n",
    "ax.legend()\n",
    "plt.show()"
   ]
  },
  {
   "cell_type": "code",
   "execution_count": null,
   "metadata": {
    "collapsed": true
   },
   "outputs": [],
   "source": [
    "import multiprocessing as mp"
   ]
  },
  {
   "cell_type": "code",
   "execution_count": null,
   "metadata": {
    "collapsed": true
   },
   "outputs": [],
   "source": [
    "# define output queue\n",
    "output = mp.Queue\n",
    "\n"
   ]
  },
  {
   "cell_type": "code",
   "execution_count": null,
   "metadata": {
    "collapsed": true
   },
   "outputs": [],
   "source": [
    "#Preliminary Stuff\n",
    "\n",
    "\n",
    "\n",
    "\n",
    "\n",
    "\n",
    "for _, ibatch in BatchIterator.split(x_train):\n",
    "    \n",
    "    K = rbf_kernel(x_train, x_test[ibatch], mean_gamma)\n"
   ]
  },
  {
   "cell_type": "code",
   "execution_count": null,
   "metadata": {
    "collapsed": true
   },
   "outputs": [],
   "source": []
  },
  {
   "cell_type": "markdown",
   "metadata": {},
   "source": [
    "### Threads"
   ]
  },
  {
   "cell_type": "code",
   "execution_count": null,
   "metadata": {
    "collapsed": true
   },
   "outputs": [],
   "source": [
    "import os\n",
    "import threading\n",
    "import multiprocessing"
   ]
  },
  {
   "cell_type": "code",
   "execution_count": null,
   "metadata": {
    "collapsed": true
   },
   "outputs": [],
   "source": [
    "num_workers = 2\n",
    "\n",
    "def calculate_predictions(ibatch, batch_indices, x_train, x_test, weights, gamma):\n",
    "    \n",
    "    print(\"PID: %s, Process Name: %s, Thread Name: %s\" % (\n",
    "        os.getpid(),\n",
    "        multiprocessing.current_process().name,\n",
    "        threading.current_thread().name)\n",
    "    )\n",
    "    \n",
    "    test_indices = batch_indices[ibatch]\n",
    "    \n",
    "    K = rbf_kernel(x_train, x_test[test_indices], gamma)\n",
    "    predictions = K.T @ weights\n",
    "    \n",
    "    return predictions\n"
   ]
  },
  {
   "cell_type": "code",
   "execution_count": null,
   "metadata": {
    "collapsed": true
   },
   "outputs": [],
   "source": [
    "start_time = time()\n",
    "\n",
    "threads = []\n",
    "# initialize thread\n",
    "threads = [threading.Thread(target=calculate_predictions, args=(\n",
    "    ibatch, batch_list, x_train, x_test, weights, mean_gamma)) \n",
    "           for ibatch in range(len(batch_list))]\n",
    "\n",
    "# start threads\n",
    "resuts = [thread.start for thread in threads]\n",
    "\n",
    "# join results to one thread\n",
    "results = [thread.join for thread in threads]\n",
    "\n",
    "end_time = time() - start_time\n",
    "print('Threads time: {:.5f} secs'.format(end_time))"
   ]
  },
  {
   "cell_type": "code",
   "execution_count": null,
   "metadata": {
    "collapsed": true
   },
   "outputs": [],
   "source": [
    "print(len(threads))\n",
    "print(results)"
   ]
  },
  {
   "cell_type": "code",
   "execution_count": null,
   "metadata": {
    "collapsed": true
   },
   "outputs": [],
   "source": [
    "start_time = time()\n",
    "\n",
    "Pool = mp.Pool(processes=1)\n",
    "print('Shape of x_data: {}'.format(x_test.shape))\n",
    "y_pred_mp = np.empty(y_test.shape)\n",
    "\n",
    "# distribute results in multiprocessing\n",
    "results_pools = []\n",
    "\n",
    "results_pools = \\\n",
    "    [Pool.apply(calculate_predictions,\n",
    "                args=(ibatch, \n",
    "                      batch_list, \n",
    "                      x_train, \n",
    "                      x_test, \n",
    "                      weights, \n",
    "                      mean_gamma)) \n",
    "           for ibatch in range(len(batch_list))]\n",
    "\n",
    "end_time = time() - start_time\n",
    "print('Serial Time: {:.4f} secs'.format(end_time))\n",
    "\n",
    "# concatentate results\n",
    "for i in results_pools:\n",
    "    y_pred_mp[batch_list[ibatch]] = i\n",
    "\n",
    "print('Shape of y_data: {}'.format(y_pred_mp.shape))"
   ]
  },
  {
   "cell_type": "code",
   "execution_count": null,
   "metadata": {
    "collapsed": true
   },
   "outputs": [],
   "source": [
    "# are they the same?\n",
    "print(np.allclose(y_pred_mp, y_pred_serial))"
   ]
  },
  {
   "cell_type": "code",
   "execution_count": null,
   "metadata": {
    "collapsed": true
   },
   "outputs": [],
   "source": [
    "print(y_pred_mp[:10])\n",
    "print(y_pred_serial[:10])"
   ]
  },
  {
   "cell_type": "code",
   "execution_count": null,
   "metadata": {
    "collapsed": true
   },
   "outputs": [],
   "source": [
    "start_time = time()\n",
    "\n",
    "Pool = mp.Pool(processes=2)\n",
    "\n",
    "results_pools = []\n",
    "results_pools = \\\n",
    "        [Pool.apply(calculate_predictions,\n",
    "                args=(ibatch, \n",
    "                      batch_list, \n",
    "                      x_train, \n",
    "                      x_test, \n",
    "                      weights, \n",
    "                      mean_gamma)) \n",
    "           for ibatch in range(len(batch_list))]"
   ]
  },
  {
   "cell_type": "code",
   "execution_count": null,
   "metadata": {
    "collapsed": true
   },
   "outputs": [],
   "source": [
    "def calculate_predictions(ibatch, batch_indices, x_train, x_test, weights, gamma):\n",
    "    \n",
    "    test_indices = batch_indices[ibatch]\n",
    "    print(len(test_indices))\n",
    "    print(x_train.shape)\n",
    "    print(x_test.shape)\n",
    "    print(x_test[test_indices].shape)\n",
    "    K = rbf_kernel(x_train, x_test[test_indices], gamma)\n",
    "    predictions = K.T @ weights\n",
    "    output.put(predictions)"
   ]
  },
  {
   "cell_type": "code",
   "execution_count": null,
   "metadata": {
    "collapsed": true
   },
   "outputs": [],
   "source": []
  }
 ],
 "metadata": {
  "kernelspec": {
   "display_name": "Python 3",
   "language": "python",
   "name": "python3"
  },
  "language_info": {
   "codemirror_mode": {
    "name": "ipython",
    "version": 3
   },
   "file_extension": ".py",
   "mimetype": "text/x-python",
   "name": "python",
   "nbconvert_exporter": "python",
   "pygments_lexer": "ipython3",
   "version": "3.6.0"
  },
  "toc": {
   "nav_menu": {},
   "number_sections": true,
   "sideBar": true,
   "skip_h1_title": false,
   "toc_cell": false,
   "toc_position": {},
   "toc_section_display": "block",
   "toc_window_display": false
  },
  "varInspector": {
   "cols": {
    "lenName": 16,
    "lenType": 16,
    "lenVar": 40
   },
   "kernels_config": {
    "python": {
     "delete_cmd_postfix": "",
     "delete_cmd_prefix": "del ",
     "library": "var_list.py",
     "varRefreshCmd": "print(var_dic_list())"
    },
    "r": {
     "delete_cmd_postfix": ") ",
     "delete_cmd_prefix": "rm(",
     "library": "var_list.r",
     "varRefreshCmd": "cat(var_dic_list()) "
    }
   },
   "types_to_exclude": [
    "module",
    "function",
    "builtin_function_or_method",
    "instance",
    "_Feature"
   ],
   "window_display": false
  }
 },
 "nbformat": 4,
 "nbformat_minor": 2
}
