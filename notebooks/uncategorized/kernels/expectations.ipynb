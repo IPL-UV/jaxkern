{
 "cells": [
  {
   "cell_type": "markdown",
   "metadata": {},
   "source": [
    "# Kernel Quadratures\n",
    "\n",
    "\n",
    "**resources**\n",
    "\n",
    "* [Doc](https://docs.google.com/document/d/1ZdYyq2q22FhzW_4KuZU6Mp8Pccg5sUGH6v3QZxo8b2E/edit)"
   ]
  },
  {
   "cell_type": "code",
   "execution_count": 1,
   "metadata": {},
   "outputs": [],
   "source": [
    "import sys, os\n",
    "from pyprojroot import here\n",
    "from wandb.sdk import wandb_config\n",
    "\n",
    "# spyder up to find the root\n",
    "root = here(project_files=[\".here\", \".env\"])\n",
    "# append to path\n",
    "sys.path.append(str(root))\n",
    "\n",
    "%load_ext lab_black\n",
    "%load_ext autoreload\n",
    "%autoreload 2"
   ]
  },
  {
   "cell_type": "code",
   "execution_count": 2,
   "metadata": {},
   "outputs": [
    {
     "name": "stdout",
     "output_type": "stream",
     "text": [
      "/home/emmanuel/code/jax_kern/notebooks/uncategorized/kernels /home/emmanuel/code/jax_kern\n"
     ]
    }
   ],
   "source": [
    "from pathlib import Path\n",
    "\n",
    "print(Path.cwd(), root)"
   ]
  },
  {
   "cell_type": "markdown",
   "metadata": {},
   "source": [
    "## Toy Data"
   ]
  },
  {
   "cell_type": "code",
   "execution_count": 117,
   "metadata": {},
   "outputs": [],
   "source": [
    "import jax\n",
    "import jax.random as jr\n",
    "import jax.numpy as jnp\n",
    "\n",
    "seed = 123\n",
    "key = jr.PRNGKey(seed)\n",
    "\n",
    "ntrain = 60\n",
    "ntest = 1_000\n",
    "\n",
    "f = lambda x: jnp.sin(1.0 * jnp.pi / 1.6 * jnp.cos(5 + 0.5 * x))\n",
    "\n",
    "X = jnp.linspace(-10, 10, ntrain).reshape(-1, 1)\n",
    "X_cov = jnp.array([0.1]).reshape(-1, 1)\n",
    "\n",
    "key, y_rng = jr.split(key, 2)\n",
    "y = f(X)\n",
    "\n",
    "\n",
    "Xtest = jnp.linspace(-10.1, 10.1, ntest).reshape(-1, 1)"
   ]
  },
  {
   "cell_type": "markdown",
   "metadata": {},
   "source": [
    "## GP Model"
   ]
  },
  {
   "cell_type": "code",
   "execution_count": 118,
   "metadata": {},
   "outputs": [],
   "source": [
    "from gpjax.gps import Prior\n",
    "from gpjax.mean_functions import Zero\n",
    "from gpjax.kernels import RBF\n",
    "from gpjax.likelihoods import Gaussian\n",
    "from gpjax.types import Dataset\n",
    "from gpjax.parameters import initialise"
   ]
  },
  {
   "cell_type": "code",
   "execution_count": 119,
   "metadata": {},
   "outputs": [],
   "source": [
    "# GP Prior\n",
    "mean_function = Zero()\n",
    "kernel = RBF()\n",
    "prior = Prior(mean_function=mean_function, kernel=kernel)\n",
    "\n",
    "# GP Likelihood\n",
    "lik = Gaussian()\n",
    "\n",
    "# GP Posterior\n",
    "posterior = prior * lik\n",
    "\n",
    "# initialize training dataset\n",
    "training_ds = Dataset(X=X, y=y)"
   ]
  },
  {
   "cell_type": "code",
   "execution_count": 120,
   "metadata": {},
   "outputs": [],
   "source": [
    "# initialize parameters\n",
    "params = initialise(posterior)\n",
    "\n",
    "params = {\"obs_noise\": 0.003321, \"lengthscale\": 1.849, \"variance\": 0.9014}"
   ]
  },
  {
   "cell_type": "markdown",
   "metadata": {},
   "source": [
    "## Predictions"
   ]
  },
  {
   "cell_type": "code",
   "execution_count": 121,
   "metadata": {},
   "outputs": [],
   "source": [
    "from gpjax import mean, variance\n",
    "\n",
    "meanf = mean(posterior, params, training_ds)\n",
    "covarf = variance(posterior, params, training_ds)\n",
    "varf = lambda x: jnp.atleast_1d(jnp.diag(covarf(x)))\n",
    "\n",
    "\n",
    "mu = meanf(Xtest).squeeze()\n",
    "var = varf(Xtest).squeeze()"
   ]
  },
  {
   "cell_type": "code",
   "execution_count": 122,
   "metadata": {},
   "outputs": [],
   "source": [
    "n_features = 1\n",
    "\n",
    "\n",
    "xtest_sample = Xtest[0]\n",
    "xtrain_sample = X[0]\n",
    "\n",
    "xtest_sample = jnp.atleast_1d(xtest_sample)\n",
    "xtrain_sample = jnp.atleast_1d(xtrain_sample)"
   ]
  },
  {
   "cell_type": "markdown",
   "metadata": {},
   "source": [
    "### Moment Transform"
   ]
  },
  {
   "cell_type": "code",
   "execution_count": 179,
   "metadata": {},
   "outputs": [],
   "source": [
    "from jaxkern.gp.uncertain.mcmc import MCMomentTransform\n",
    "from jaxkern.gp.uncertain.unscented import UnscentedTransform, SphericalRadialTransform\n",
    "from jaxkern.gp.uncertain.quadrature import GaussHermite\n",
    "\n",
    "# mm_transform = MCMomentTransform(n_features=1, n_samples=1_000, seed=123)\n",
    "# mm_transform = UnscentedTransform(n_features=1, alpha=1.0, beta=2.0, kappa=None)\n",
    "# mm_transform = GaussHermite(n_features=1, degree=20)\n",
    "mm_transform = SphericalRadialTransform(n_features=1)"
   ]
  },
  {
   "cell_type": "markdown",
   "metadata": {},
   "source": [
    "## Mean Expectations"
   ]
  },
  {
   "cell_type": "code",
   "execution_count": 180,
   "metadata": {},
   "outputs": [],
   "source": [
    "from typing import Callable, Dict\n",
    "\n",
    "\n",
    "def e_Mx(mean: Callable, mm_transform: Callable) -> Callable:\n",
    "    def body(x):\n",
    "        # calculate kernel\n",
    "        y_mu = mean(x).squeeze()\n",
    "\n",
    "        # ensure size\n",
    "        y_mu = jnp.atleast_1d(y_mu)\n",
    "\n",
    "        return y_mu\n",
    "\n",
    "    def f(key, x, x_cov):\n",
    "\n",
    "        x_mu = mm_transform.mean(body, x, x_cov)\n",
    "\n",
    "        return x_mu\n",
    "\n",
    "    return f"
   ]
  },
  {
   "cell_type": "code",
   "execution_count": 181,
   "metadata": {},
   "outputs": [],
   "source": [
    "# initialize function\n",
    "f = e_Mx(meanf, mm_transform,)\n",
    "\n",
    "y_mu = f(key, xtest_sample, X_cov)\n",
    "\n",
    "\n",
    "chex.assert_shape(y_mu, (n_features,))"
   ]
  },
  {
   "cell_type": "code",
   "execution_count": 182,
   "metadata": {},
   "outputs": [],
   "source": [
    "f = e_Mx(meanf, mm_transform,)\n",
    "\n",
    "\n",
    "f = jax.jit(jax.vmap(f, in_axes=(None, 0, None)))"
   ]
  },
  {
   "cell_type": "code",
   "execution_count": 183,
   "metadata": {},
   "outputs": [
    {
     "name": "stdout",
     "output_type": "stream",
     "text": [
      "CPU times: user 90.2 ms, sys: 2.63 ms, total: 92.8 ms\n",
      "Wall time: 87.3 ms\n"
     ]
    }
   ],
   "source": [
    "%%time\n",
    "\n",
    "y_mu = f(key, Xtest.block_until_ready(), X_cov.block_until_ready())\n",
    "\n",
    "chex.assert_shape(y_mu, (ntest, n_features,))"
   ]
  },
  {
   "cell_type": "code",
   "execution_count": 184,
   "metadata": {},
   "outputs": [
    {
     "data": {
      "text/plain": [
       "[<matplotlib.lines.Line2D at 0x7f61b4248c10>]"
      ]
     },
     "execution_count": 184,
     "metadata": {},
     "output_type": "execute_result"
    },
    {
     "data": {
      "image/png": "[encoded data removed]",
      "text/plain": [
       "<Figure size 432x288 with 1 Axes>"
      ]
     },
     "metadata": {
      "needs_background": "light"
     },
     "output_type": "display_data"
    }
   ],
   "source": [
    "import matplotlib.pyplot as plt\n",
    "\n",
    "%matplotlib inline\n",
    "plt.plot(Xtest, y_mu)\n",
    "plt.plot(Xtest, mu)"
   ]
  },
  {
   "cell_type": "markdown",
   "metadata": {},
   "source": [
    "## Kernel Expectations"
   ]
  },
  {
   "cell_type": "markdown",
   "metadata": {},
   "source": [
    "#### Kernel Expectation - $\\Psi_0$"
   ]
  },
  {
   "cell_type": "markdown",
   "metadata": {},
   "source": []
  },
  {
   "cell_type": "markdown",
   "metadata": {},
   "source": [
    "#### Univariate\n",
    "\n",
    "$$\n",
    "\\psi_{0_i} = \\left\\langle k(\\mathbf{x}_i, \\mathbf{x}_i) \\right\\rangle_{p(\\mathbf{x}_i)}\n",
    "$$"
   ]
  },
  {
   "cell_type": "code",
   "execution_count": 185,
   "metadata": {},
   "outputs": [],
   "source": [
    "import chex\n",
    "\n",
    "n_features = 1\n",
    "\n",
    "f = lambda x: jnp.atleast_1d(kernel(x, x, params))\n",
    "\n",
    "t = f(xtest_sample)\n",
    "\n",
    "\n",
    "chex.assert_shape(t, (n_features,))"
   ]
  },
  {
   "cell_type": "markdown",
   "metadata": {},
   "source": [
    "$$\n",
    "\\psi_{0} = \\sum_{i=1}^N\\left\\langle k(\\mathbf{x}_i, \\mathbf{x}_i) \\right\\rangle_{p(\\mathbf{x}_i)}\n",
    "$$"
   ]
  },
  {
   "cell_type": "code",
   "execution_count": 186,
   "metadata": {},
   "outputs": [],
   "source": [
    "from typing import Callable, Dict\n",
    "\n",
    "\n",
    "def e_kx(kernel: Callable, params: Dict, mm_transform: Callable) -> Callable:\n",
    "    def body(x):\n",
    "        # calculate kernel\n",
    "        kx = kernel(x, x, params)\n",
    "\n",
    "        # ensure size\n",
    "        kx = jnp.atleast_1d(kx)\n",
    "\n",
    "        return kx\n",
    "\n",
    "    def f(key, x, x_cov):\n",
    "\n",
    "        x_mu = mm_transform.mean(body, x, x_cov)\n",
    "\n",
    "        return x_mu\n",
    "\n",
    "    return f"
   ]
  },
  {
   "cell_type": "code",
   "execution_count": 187,
   "metadata": {},
   "outputs": [],
   "source": [
    "# initialize function\n",
    "f = e_kx(kernel, params, mm_transform,)\n",
    "\n",
    "kx_mu = f(key, xtest_sample, X_cov)\n",
    "\n",
    "\n",
    "chex.assert_shape(kx_mu, (n_features,))"
   ]
  },
  {
   "cell_type": "markdown",
   "metadata": {},
   "source": [
    "##### Vectorize Batch Dimension"
   ]
  },
  {
   "cell_type": "code",
   "execution_count": 188,
   "metadata": {},
   "outputs": [],
   "source": [
    "f = e_kx(kernel, params, mm_transform,)\n",
    "\n",
    "\n",
    "f = jax.jit(jax.vmap(f, in_axes=(None, 0, None)))"
   ]
  },
  {
   "cell_type": "code",
   "execution_count": 189,
   "metadata": {},
   "outputs": [
    {
     "name": "stdout",
     "output_type": "stream",
     "text": [
      "CPU times: user 52.5 ms, sys: 1.21 ms, total: 53.7 ms\n",
      "Wall time: 51.4 ms\n"
     ]
    }
   ],
   "source": [
    "%%time\n",
    "\n",
    "Kx_mu = f(key, Xtest.block_until_ready(), X_cov.block_until_ready())\n",
    "\n",
    "chex.assert_shape(Kx_mu, (ntest, n_features,))"
   ]
  },
  {
   "cell_type": "markdown",
   "metadata": {},
   "source": [
    "#### Kernel Expectation - $\\Psi_1$\n",
    "\n",
    "\n",
    "$$\n",
    "\\psi_{1} = \\sum_{i=1}^N\\left\\langle k(\\mathbf{x}_i, \\mathbf{y}) \\right\\rangle_{p(\\mathbf{x}_i)}\n",
    "$$"
   ]
  },
  {
   "cell_type": "code",
   "execution_count": 190,
   "metadata": {},
   "outputs": [],
   "source": [
    "kf = lambda x: jnp.atleast_1d(kernel(x, y, params))\n",
    "\n",
    "kx_mu = mm_transform.mean(kf, xtest_sample, X_cov)\n",
    "\n",
    "chex.assert_shape(kx_mu, (n_features,))"
   ]
  },
  {
   "cell_type": "code",
   "execution_count": 191,
   "metadata": {},
   "outputs": [],
   "source": [
    "from chex import Array\n",
    "\n",
    "\n",
    "def e_kxy(kernel: Callable, params: Dict, mm_transform: Callable) -> Callable:\n",
    "    def body(y, x):\n",
    "        # calculate kernel\n",
    "        kxy = kernel(x, y, params)\n",
    "\n",
    "        # ensure size\n",
    "        kxy = jnp.atleast_1d(kxy)\n",
    "\n",
    "        return kxy\n",
    "\n",
    "    def f(x, x_cov, y):\n",
    "\n",
    "        f = jax.partial(body, y)\n",
    "\n",
    "        x_mu = mm_transform.mean(f, x, x_cov)\n",
    "\n",
    "        return jnp.atleast_1d(x_mu)\n",
    "\n",
    "    return f"
   ]
  },
  {
   "cell_type": "code",
   "execution_count": null,
   "metadata": {},
   "outputs": [],
   "source": []
  },
  {
   "cell_type": "code",
   "execution_count": 192,
   "metadata": {},
   "outputs": [],
   "source": [
    "# initialize function\n",
    "f = e_kxy(kernel, params, mm_transform=mm_transform,)\n",
    "\n",
    "kx_mu = f(xtest_sample, X_cov, xtrain_sample)\n",
    "\n",
    "\n",
    "chex.assert_shape(kx_mu, (n_features,))"
   ]
  },
  {
   "cell_type": "code",
   "execution_count": 193,
   "metadata": {},
   "outputs": [],
   "source": [
    "# initialize function\n",
    "f = e_kxy(kernel, params, mm_transform=mm_transform)\n",
    "\n",
    "mv = jax.vmap(f, in_axes=(0, None, None), out_axes=(0))\n",
    "mm = jax.vmap(mv, in_axes=(None, None, 0), out_axes=(1))\n",
    "\n",
    "mm = jax.jit(mm)"
   ]
  },
  {
   "cell_type": "code",
   "execution_count": 194,
   "metadata": {},
   "outputs": [
    {
     "name": "stdout",
     "output_type": "stream",
     "text": [
      "CPU times: user 97.4 ms, sys: 7.74 ms, total: 105 ms\n",
      "Wall time: 91.1 ms\n"
     ]
    }
   ],
   "source": [
    "%%time\n",
    "\n",
    "kx_mu = mm(Xtest, X_cov, X)[..., 0]\n",
    "\n",
    "\n",
    "chex.assert_shape(kx_mu, (ntest, ntrain,))"
   ]
  },
  {
   "cell_type": "code",
   "execution_count": null,
   "metadata": {},
   "outputs": [],
   "source": []
  },
  {
   "cell_type": "code",
   "execution_count": null,
   "metadata": {},
   "outputs": [],
   "source": []
  },
  {
   "cell_type": "code",
   "execution_count": null,
   "metadata": {},
   "outputs": [],
   "source": []
  },
  {
   "cell_type": "markdown",
   "metadata": {},
   "source": [
    "#### Kernel Expectation - $\\Psi_2$"
   ]
  },
  {
   "cell_type": "code",
   "execution_count": 195,
   "metadata": {},
   "outputs": [],
   "source": [
    "from chex import Array\n",
    "\n",
    "\n",
    "def e_kxykxz(\n",
    "    kernel1: Callable,\n",
    "    params1: Dict,\n",
    "    kernel2: Callable,\n",
    "    params2: Dict,\n",
    "    mm_transform: Callable,\n",
    ") -> Callable:\n",
    "    def body(y, z, x):\n",
    "        # calculate kernel\n",
    "        kxy = kernel1(x, y, params1)\n",
    "\n",
    "        kxz = kernel2(x, z, params2)\n",
    "\n",
    "        kxykxz = kxy * kxz\n",
    "\n",
    "        # ensure size\n",
    "        kxy = jnp.atleast_1d(kxy)\n",
    "\n",
    "        return kxy\n",
    "\n",
    "    def f(x, x_cov, y, z):\n",
    "\n",
    "        f = jax.partial(body, y, z)\n",
    "\n",
    "        x_mu = mm_transform.mean(f, x, x_cov)\n",
    "\n",
    "        return jnp.atleast_1d(x_mu)\n",
    "\n",
    "    return f"
   ]
  },
  {
   "cell_type": "code",
   "execution_count": 196,
   "metadata": {},
   "outputs": [],
   "source": [
    "# initialize function\n",
    "f = e_kxykxz(kernel, params, kernel, params, mm_transform=mm_transform)\n",
    "\n",
    "mvv = jax.vmap(f, in_axes=(0, None, None, None), out_axes=(0))\n",
    "mmv = jax.vmap(mvv, in_axes=(None, None, 0, None), out_axes=(1))\n",
    "mmm = jax.vmap(mmv, in_axes=(None, None, None, 0), out_axes=(2))\n",
    "mmm = jax.jit(mmm)"
   ]
  },
  {
   "cell_type": "code",
   "execution_count": 198,
   "metadata": {},
   "outputs": [
    {
     "name": "stdout",
     "output_type": "stream",
     "text": [
      "CPU times: user 25.1 ms, sys: 12 ms, total: 37.2 ms\n",
      "Wall time: 8.02 ms\n"
     ]
    }
   ],
   "source": [
    "%%time\n",
    "\n",
    "kxykxz_mu = mmm(Xtest, X_cov, X, X[10:])[..., 0]\n",
    "\n",
    "\n",
    "chex.assert_shape(kxykxz_mu, (ntest, ntrain, ntrain-10))"
   ]
  },
  {
   "cell_type": "code",
   "execution_count": null,
   "metadata": {},
   "outputs": [],
   "source": []
  }
 ],
 "metadata": {
  "kernelspec": {
   "display_name": "Python [conda env:.conda-jax_py38]",
   "language": "python",
   "name": "conda-env-.conda-jax_py38-py"
  },
  "language_info": {
   "codemirror_mode": {
    "name": "ipython",
    "version": 3
   },
   "file_extension": ".py",
   "mimetype": "text/x-python",
   "name": "python",
   "nbconvert_exporter": "python",
   "pygments_lexer": "ipython3",
   "version": "3.8.5"
  }
 },
 "nbformat": 4,
 "nbformat_minor": 4
}
