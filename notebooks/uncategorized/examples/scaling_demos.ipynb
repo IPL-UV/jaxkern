{
 "cells": [
  {
   "cell_type": "code",
   "execution_count": null,
   "metadata": {},
   "outputs": [],
   "source": [
    "import numpy as np\n",
    "import time as time\n",
    "from scipy.spatial.distance import pdist\n",
    "from scale.nystrom import KRRNystrom, generate_data\n",
    "from scale.rff import KRRRFF, KRRRBFSampler\n",
    "from sklearn.kernel_ridge import KernelRidge\n",
    "from sklearn.metrics import mean_squared_error, pairwise_kernels"
   ]
  },
  {
   "cell_type": "markdown",
   "metadata": {},
   "source": [
    "### Get Data"
   ]
  },
  {
   "cell_type": "code",
   "execution_count": 2,
   "metadata": {},
   "outputs": [],
   "source": [
    "random_state = 123      # reproducibility\n",
    "\n",
    "x_train, x_test, y_train, y_test = generate_data(random_state=random_state)"
   ]
  },
  {
   "cell_type": "markdown",
   "metadata": {},
   "source": [
    "### Experimental Parameters"
   ]
  },
  {
   "cell_type": "code",
   "execution_count": 3,
   "metadata": {},
   "outputs": [],
   "source": [
    "n_components = 100          # number of sample components to keep\n",
    "k_rank =20                 # rank of the matrix for rsvd\n",
    "lam = 1e-3                  # regularization parameter\n",
    "kernel = 'rbf'              # rbf kernel matrix\n",
    "sigma = np.mean(pdist(x_train, metric='euclidean'))\n",
    "gamma = 1 / (2 * sigma**2)  # length scale for rbf kernel"
   ]
  },
  {
   "cell_type": "markdown",
   "metadata": {},
   "source": [
    "### Naive KRR "
   ]
  },
  {
   "cell_type": "code",
   "execution_count": 4,
   "metadata": {},
   "outputs": [
    {
     "name": "stdout",
     "output_type": "stream",
     "text": [
      "Sklearn KRR (Time): 12.098781 secs\n",
      "Sklearn KRR (MSE): 0.004343\n"
     ]
    }
   ],
   "source": [
    "t0 = time.time()\n",
    "\n",
    "krr_model = KernelRidge(alpha=lam, kernel=kernel, gamma=gamma)\n",
    "krr_model.fit(x_train, y_train)\n",
    "\n",
    "y_pred = krr_model.predict(x_test)\n",
    "\n",
    "t1 = time.time() - t0\n",
    "print('Sklearn KRR (Time): {:2f} secs'.format(t1))\n",
    "\n",
    "error_normal = mean_squared_error(y_pred.squeeze(),\n",
    "                                y_test.squeeze())\n",
    "print('Sklearn KRR (MSE): {:5f}'.format(error_normal))"
   ]
  },
  {
   "cell_type": "markdown",
   "metadata": {},
   "source": [
    "### Random Fourier Features"
   ]
  },
  {
   "cell_type": "code",
   "execution_count": 5,
   "metadata": {},
   "outputs": [
    {
     "name": "stdout",
     "output_type": "stream",
     "text": [
      "RFF (time): 0.0794 secs\n",
      "RFF (MSE): 0.004343\n"
     ]
    }
   ],
   "source": [
    "t0 = time.time()\n",
    "\n",
    "krr_rff = KRRRFF(lam=lam, sigma=sigma,\n",
    "                 n_components=n_components,\n",
    "                 random_state=random_state)\n",
    "\n",
    "krr_rff.fit(x_train, y_train)\n",
    "\n",
    "y_pred_rff = krr_rff.predict(x_test)\n",
    "\n",
    "t1 = time.time() - t0\n",
    "print('RFF (time): {:.4f} secs'.format(t1))\n",
    "\n",
    "error_rff = mean_squared_error(y_pred_rff.squeeze(), y_test.squeeze())\n",
    "print('RFF (MSE): {:5f}'.format(error_rff))"
   ]
  },
  {
   "cell_type": "markdown",
   "metadata": {},
   "source": [
    "### Nystrom Approximation (Normal)"
   ]
  },
  {
   "cell_type": "code",
   "execution_count": 6,
   "metadata": {},
   "outputs": [
    {
     "name": "stdout",
     "output_type": "stream",
     "text": [
      "Nystrom (time): 1.7862 secs\n",
      "Nystrom (MSE): 0.004380\n"
     ]
    }
   ],
   "source": [
    "t0 = time.time()\n",
    "\n",
    "krr_nystrom = KRRNystrom(lam=lam, kernel=kernel, sigma=sigma,\n",
    "                         n_components=n_components, \n",
    "                         svd='arpack',\n",
    "                         random_state=random_state)\n",
    "\n",
    "krr_nystrom.fit(x_train, y_train)\n",
    "\n",
    "y_pred = krr_nystrom.predict(x_test)\n",
    "\n",
    "t1 = time.time() - t0\n",
    "print('Nystrom (time): {:.4f} secs'.format(t1))\n",
    "\n",
    "error_nystrom = mean_squared_error(y_pred.squeeze(), y_test.squeeze())\n",
    "print('Nystrom (MSE): {:5f}'.format(error_nystrom))"
   ]
  },
  {
   "cell_type": "markdown",
   "metadata": {},
   "source": [
    "### Nystrom Approximation (Randomized)"
   ]
  },
  {
   "cell_type": "code",
   "execution_count": 7,
   "metadata": {},
   "outputs": [
    {
     "name": "stdout",
     "output_type": "stream",
     "text": [
      "Nystrom (time): 2.0591 secs\n",
      "Nystrom (MSE): 0.004380\n"
     ]
    }
   ],
   "source": [
    "t0 = time.time()\n",
    "\n",
    "krr_nystrom = KRRNystrom(lam=lam, kernel=kernel, sigma=sigma,\n",
    "                         n_components=n_components, \n",
    "                         svd='randomized', k_rank=k_rank,\n",
    "                         random_state=random_state)\n",
    "\n",
    "krr_nystrom.fit(x_train, y_train)\n",
    "\n",
    "y_pred = krr_nystrom.predict(x_test)\n",
    "\n",
    "t1 = time.time() - t0\n",
    "print('Nystrom (time): {:.4f} secs'.format(t1))\n",
    "\n",
    "error_nystrom = mean_squared_error(y_pred.squeeze(), y_test.squeeze())\n",
    "print('Nystrom (MSE): {:5f}'.format(error_nystrom))"
   ]
  },
  {
   "cell_type": "markdown",
   "metadata": {},
   "source": [
    "### RBF Sampler"
   ]
  },
  {
   "cell_type": "code",
   "execution_count": 8,
   "metadata": {},
   "outputs": [
    {
     "name": "stdout",
     "output_type": "stream",
     "text": [
      "RBF Sampler (time): 3.3447 secs\n",
      "RBF Sampler (MSE): 0.004967\n"
     ]
    }
   ],
   "source": [
    "t0 = time.time()\n",
    "\n",
    "krr_nystrom = KRRRBFSampler(lam=lam, kernel=kernel, sigma=sigma,\n",
    "                         n_components=2000,\n",
    "                         random_state=random_state)\n",
    "\n",
    "krr_nystrom.fit(x_train, y_train)\n",
    "\n",
    "y_pred_rbf = krr_nystrom.predict(x_test)\n",
    "\n",
    "t1 = time.time() - t0\n",
    "print('RBF Sampler (time): {:.4f} secs'.format(t1))\n",
    "\n",
    "error_rbf = mean_squared_error(y_pred_rbf.squeeze(), y_test.squeeze())\n",
    "print('RBF Sampler (MSE): {:5f}'.format(error_rbf))"
   ]
  },
  {
   "cell_type": "code",
   "execution_count": 9,
   "metadata": {},
   "outputs": [
    {
     "name": "stderr",
     "output_type": "stream",
     "text": [
      "/Users/eman/anaconda3/envs/py36/lib/python3.6/site-packages/sklearn/kernel_approximation.py:470: UserWarning: n_components > n_samples. This is not possible.\n",
      "n_components was set to n_samples, which results in inefficient evaluation of the full kernel.\n",
      "  warnings.warn(\"n_components > n_samples. This is not possible.\\n\"\n"
     ]
    }
   ],
   "source": [
    "#size of data\n",
    "import numpy as np\n",
    "from sklearn.metrics.pairwise import rbf_kernel\n",
    "from rff import RFF\n",
    "from nystrom import RandomizedNystrom\n",
    "from sklearn.kernel_approximation import Nystroem\n",
    "\n",
    "N_SAMPLES, DIM = 1000, 200 \n",
    "X = np.random.randn(N_SAMPLES,DIM)\n",
    "\n",
    "n_components = 50\n",
    "k_rank = 50\n",
    "\n",
    "#Number of monte carlo samples D\n",
    "Ds = np.arange(1,5000,200)\n",
    "K_rbf = rbf_kernel(X, gamma=gamma)\n",
    "errors_rff, errors_rnystrom, errors_nystrom = [] , [], []\n",
    "\n",
    "for D in Ds:\n",
    "    krr_nystrom = RandomizedNystrom(kernel=kernel, sigma=sigma,\n",
    "                                    n_components=D, k_rank=k_rank,\n",
    "                                    random_state=random_state)\n",
    "    \n",
    "    krr_nystrom.fit(X)\n",
    "    K_rnystrom = krr_nystrom.compute_kernel(X)\n",
    "    errors_rnystrom.append(((K_rnystrom-K_rbf)**2).mean())\n",
    "    \n",
    "    krr_nystrom = Nystroem(kernel=kernel,gamma=gamma, n_components=D)\n",
    "    krr_nystrom.fit(X)\n",
    "    L = krr_nystrom.transform(X)\n",
    "    K_nystrom = np.dot(L, L.T)\n",
    "    \n",
    "    errors_nystrom.append(((K_nystrom-K_rbf)**2).mean())\n",
    "\n",
    "    \n",
    "    krr_rff = RFF(sigma=sigma,\n",
    "                  n_components=D,\n",
    "                  random_state=random_state,\n",
    "                  projection='cos')\n",
    "    krr_rff.fit(X)\n",
    "    K_rff = krr_rff.compute_kernel(X)\n",
    "\n",
    "    errors_rff.append(((K_rff-K_rbf)**2).mean())\n",
    "    \n"
   ]
  },
  {
   "cell_type": "code",
   "execution_count": 10,
   "metadata": {},
   "outputs": [
    {
     "data": {
      "image/png": "[encoded data removed]",
      "text/plain": [
       "<matplotlib.figure.Figure at 0x10e39b7f0>"
      ]
     },
     "metadata": {},
     "output_type": "display_data"
    }
   ],
   "source": [
    "%matplotlib inline\n",
    "import matplotlib.pyplot as plt\n",
    "\n",
    "errors_rff, errors_rnystrom, errors_nystrom = np.array(errors_rff), np.array(errors_rnystrom), np.array(errors_nystrom)\n",
    "\n",
    "\n",
    "fig, ax = plt.subplots(figsize=(12,8))\n",
    "\n",
    "ax.plot(Ds, errors_rff, label='RFF', linewidth=2, color='k')\n",
    "ax.plot(Ds, errors_nystrom, label='Nystrom', linewidth=2, color='r')\n",
    "ax.plot(Ds, errors_rnystrom, label='Randomized Nystrom', linewidth=2, color='g')\n",
    "ax.set_xlabel('Number of Samples')\n",
    "ax.set_ylabel('MSE')\n",
    "ax.set_yscale(\"log\")\n",
    "ax.set_title('Errors')\n",
    "ax.legend(fontsize=20)\n",
    "plt.show()"
   ]
  },
  {
   "cell_type": "code",
   "execution_count": null,
   "metadata": {},
   "outputs": [],
   "source": []
  }
 ],
 "metadata": {
  "kernelspec": {
   "display_name": "Python 3",
   "language": "python",
   "name": "python3"
  },
  "language_info": {
   "codemirror_mode": {
    "name": "ipython",
    "version": 3
   },
   "file_extension": ".py",
   "mimetype": "text/x-python",
   "name": "python",
   "nbconvert_exporter": "python",
   "pygments_lexer": "ipython3",
   "version": "3.7.2"
  }
 },
 "nbformat": 4,
 "nbformat_minor": 2
}
