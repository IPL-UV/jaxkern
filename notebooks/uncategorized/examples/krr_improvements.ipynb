{
 "cells": [
  {
   "cell_type": "code",
   "execution_count": 13,
   "metadata": {},
   "outputs": [],
   "source": [
    "import numpy as np\n",
    "import warnings \n",
    "from sklearn.model_selection import train_test_split\n",
    "import scipy as scio\n",
    "from scipy.spatial.distance import pdist\n",
    "from scipy.linalg import cho_factor, cho_solve, cholesky\n",
    "from sklearn.metrics.pairwise import rbf_kernel\n",
    "from sklearn.metrics import mean_squared_error\n",
    "from sklearn.utils import check_array, check_random_state\n",
    "from sklearn.linear_model.ridge import _solve_cholesky_kernel as kernel_solve\n",
    "from time import time\n",
    "\n",
    "%matplotlib inline\n",
    "import matplotlib.pyplot as plt\n",
    "\n",
    "warnings.filterwarnings('ignore')\n",
    "\n",
    "import sys\n",
    "sys.path.insert(0, '/Users/eman/Documents/' +\n",
    "                'code_projects/kernellib/kernellib/regression/')\n",
    "\n",
    "from krr import get_sample_data"
   ]
  },
  {
   "cell_type": "code",
   "execution_count": 14,
   "metadata": {},
   "outputs": [
    {
     "data": {
      "image/png": "[encoded data removed]",
      "text/plain": [
       "<matplotlib.figure.Figure at 0x112490198>"
      ]
     },
     "metadata": {},
     "output_type": "display_data"
    }
   ],
   "source": [
    "# generate datasets\n",
    "random_state = 123\n",
    "num_points = 2000\n",
    "\n",
    "x_data, y_data = get_sample_data(random_state=random_state,\n",
    "                                 num_points=num_points)\n",
    "\n",
    "\n",
    "# split data into training and testing\n",
    "train_percent = 0.5\n",
    "\n",
    "x_train, x_test, y_train, y_test = train_test_split(\n",
    "    x_data, y_data, train_size=train_percent,\n",
    "    random_state=random_state\n",
    ")\n",
    "\n",
    "# plot the training data\n",
    "fig, ax = plt.subplots()\n",
    "\n",
    "ax.scatter(x_train[::5], y_train[::5], color='k', label='Training')\n",
    "ax.scatter(x_test[::5], y_test[::5], color='r', marker='+', label='Testing')\n",
    "\n",
    "ax.legend()\n",
    "plt.show()\n",
    "\n",
    "# remove the mean from the training data\n",
    "y_mean = np.mean(y_train)\n",
    "\n",
    "y_train -= y_mean\n",
    "y_test -= y_mean"
   ]
  },
  {
   "cell_type": "code",
   "execution_count": 15,
   "metadata": {},
   "outputs": [],
   "source": [
    "# parameter heuristics\n",
    "sigma = np.mean(pdist(x_train, metric='euclidean'))\n",
    "lam = 1e-04\n",
    "\n",
    "gamma = 1 / (2 * sigma ** 2)\n",
    "\n",
    "# construct kernel matrices\n",
    "K_train = rbf_kernel(X=x_train, gamma=mean_gamma)\n",
    "K_test = rbf_kernel(X=x_train, Y=x_test, gamma=mean_gamma)"
   ]
  },
  {
   "cell_type": "markdown",
   "metadata": {},
   "source": [
    "### Different Solvers"
   ]
  },
  {
   "cell_type": "code",
   "execution_count": 19,
   "metadata": {},
   "outputs": [
    {
     "name": "stdout",
     "output_type": "stream",
     "text": [
      "Time taken for solve: 0.0617 secs\n"
     ]
    }
   ],
   "source": [
    "weights = {}\n",
    "\n",
    "# slow method: solve problem\n",
    "t0 = time()\n",
    "weights['solver'] = scio.linalg.solve(K_train + lam * np.eye(x_train.shape[0]), \n",
    "                      y_train)\n",
    "t1 = time() - t0\n",
    "print('Time taken for solve: {:.4f} secs'.format(t1))"
   ]
  },
  {
   "cell_type": "code",
   "execution_count": 20,
   "metadata": {},
   "outputs": [
    {
     "name": "stdout",
     "output_type": "stream",
     "text": [
      "Time taken for scikit-solver: 0.0464 secs\n"
     ]
    }
   ],
   "source": [
    "# scikit kernel cholesky solver\n",
    "t0 = time()\n",
    "weights['scikit_solver'] = kernel_solve(K_train, y_train, lam)\n",
    "t1 = time() - t0\n",
    "print('Time taken for scikit-solver: {:.4f} secs'.format(t1))"
   ]
  },
  {
   "cell_type": "code",
   "execution_count": 21,
   "metadata": {},
   "outputs": [
    {
     "name": "stdout",
     "output_type": "stream",
     "text": [
      "Time taken for cholesky manually: 0.0973 secs\n"
     ]
    }
   ],
   "source": [
    "# cholesky: decomposition: manually\n",
    "t0 = time()\n",
    "R = cholesky(K_train + lam * np.eye(x_train.shape[0]))\n",
    "weights['chol_solver'] = scio.linalg.solve(R, scio.linalg.solve(R.T, y_train))\n",
    "t1 = time() - t0\n",
    "print('Time taken for cholesky manually: {:.4f} secs'.format(t1))"
   ]
  },
  {
   "cell_type": "code",
   "execution_count": 22,
   "metadata": {},
   "outputs": [
    {
     "name": "stdout",
     "output_type": "stream",
     "text": [
      "Time taken for cholesky with functions: 0.0274 secs\n"
     ]
    }
   ],
   "source": [
    "# cholesky decomposition: with functions\n",
    "t0 = time()\n",
    "R, lower = cho_factor(K_train + lam * np.eye(x_train.shape[0]))\n",
    "weights['chol_factor'] = cho_solve((R, lower), y_train)\n",
    "t1 = time() - t0\n",
    "print('Time taken for cholesky with functions: {:.4f} secs'.format(t1))"
   ]
  },
  {
   "cell_type": "markdown",
   "metadata": {},
   "source": [
    "#### Are they the same?"
   ]
  },
  {
   "cell_type": "code",
   "execution_count": 23,
   "metadata": {},
   "outputs": [
    {
     "name": "stdout",
     "output_type": "stream",
     "text": [
      "Scikit Solver: True\n",
      "Cholesky Solver: True\n",
      "Cholesky Factor: True\n"
     ]
    }
   ],
   "source": [
    "print('Scikit Solver: {}'.format(\n",
    "    np.allclose(weights['scikit_solver'],\n",
    "                weights['solver'])))\n",
    "\n",
    "print('Cholesky Solver: {}'.format(\n",
    "    np.allclose(weights['chol_solver'],\n",
    "                weights['solver'])))\n",
    "\n",
    "print('Cholesky Factor: {}'.format(\n",
    "    np.allclose(weights['chol_factor'],\n",
    "                weights['solver'])))"
   ]
  },
  {
   "cell_type": "markdown",
   "metadata": {},
   "source": [
    "#### Are they faster?"
   ]
  },
  {
   "cell_type": "code",
   "execution_count": 24,
   "metadata": {},
   "outputs": [
    {
     "name": "stdout",
     "output_type": "stream",
     "text": [
      "42.8 ms ± 648 µs per loop (mean ± std. dev. of 7 runs, 10 loops each)\n",
      "36.6 ms ± 4.21 ms per loop (mean ± std. dev. of 7 runs, 10 loops each)\n"
     ]
    }
   ],
   "source": [
    "solver_time = %timeit -o scio.linalg.solve(K_train + lam * np.eye(x_train.shape[0]), y_train)\n",
    "scikit_time = %timeit -o kernel_solve(K_train, y_train, lam)"
   ]
  },
  {
   "cell_type": "code",
   "execution_count": 25,
   "metadata": {},
   "outputs": [
    {
     "name": "stdout",
     "output_type": "stream",
     "text": [
      "106 ms ± 11.3 ms per loop (mean ± std. dev. of 7 runs, 10 loops each)\n"
     ]
    }
   ],
   "source": [
    "%%timeit\n",
    "\n",
    "# Cholesky Manual Solve\n",
    "R = cholesky(K_train + lam * np.eye(x_train.shape[0]))\n",
    "weights['chol_solver'] = scio.linalg.solve(R, scio.linalg.solve(R.T, y_train))\n",
    "t1 = time() - t0"
   ]
  },
  {
   "cell_type": "code",
   "execution_count": 26,
   "metadata": {},
   "outputs": [
    {
     "name": "stdout",
     "output_type": "stream",
     "text": [
      "18.1 ms ± 959 µs per loop (mean ± std. dev. of 7 runs, 100 loops each)\n"
     ]
    }
   ],
   "source": [
    "%%timeit\n",
    "\n",
    "# Cholesky Factor Solve\n",
    "R, lower = cho_factor(K_train + lam * np.eye(x_train.shape[0]))\n",
    "weights['chol_factor'] = cho_solve((R, lower), y_train)"
   ]
  },
  {
   "cell_type": "markdown",
   "metadata": {},
   "source": [
    "### Predictions\n"
   ]
  },
  {
   "cell_type": "code",
   "execution_count": 27,
   "metadata": {},
   "outputs": [],
   "source": [
    "y_pred = K_test.T @ weights['solver']"
   ]
  },
  {
   "cell_type": "code",
   "execution_count": 28,
   "metadata": {},
   "outputs": [
    {
     "name": "stdout",
     "output_type": "stream",
     "text": [
      "(1000, 1)\n"
     ]
    }
   ],
   "source": [
    "print(weights['solver'].shape)"
   ]
  },
  {
   "cell_type": "code",
   "execution_count": 29,
   "metadata": {},
   "outputs": [
    {
     "data": {
      "image/png": "[encoded data removed]",
      "text/plain": [
       "<matplotlib.figure.Figure at 0x1128ccf98>"
      ]
     },
     "metadata": {},
     "output_type": "display_data"
    }
   ],
   "source": [
    "fig, ax = plt.subplots()\n",
    "\n",
    "ax.scatter(x_test[::5], y_test[::5], color='b', label='Test Points')\n",
    "ax.scatter(x_test, y_pred, color='g', label='KRR Predictions')\n",
    "\n",
    "\n",
    "ax.legend()\n",
    "plt.show()"
   ]
  },
  {
   "cell_type": "markdown",
   "metadata": {},
   "source": [
    "#### Cross Validation"
   ]
  },
  {
   "cell_type": "code",
   "execution_count": 37,
   "metadata": {},
   "outputs": [],
   "source": [
    "# split training data into training and validation\n",
    "validation_percent = 0.2\n",
    "x_train, x_valid, y_train, y_valid = train_test_split(\n",
    "    x_train, y_train, test_size=validation_percent,\n",
    "    random_state=random_state)\n",
    "\n",
    "num_parameters = 20\n",
    "\n",
    "# sigma values\n",
    "mean_sigma = np.mean(pdist(x_train, metric='euclidean'))\n",
    "\n",
    "mean_gamma = 1 / (2 * mean_sigma ** 2)\n",
    "\n",
    "min_sigma = np.log(mean_sigma * 0.1)\n",
    "max_sigma = np.log(mean_sigma * 10)\n",
    "sigma_values = np.logspace(min_sigma, max_sigma, num_parameters)\n",
    "gamma_values = 1 / (2 * sigma_values ** 2)\n",
    "\n",
    "# lambda values\n",
    "lam_values = np.logspace(-7, 2, num_parameters)"
   ]
  },
  {
   "cell_type": "code",
   "execution_count": 38,
   "metadata": {},
   "outputs": [],
   "source": [
    "\n",
    "\n",
    "lowest_error = np.inf\n",
    "\n",
    "t0 = time()\n",
    "for igamma in gamma_values:\n",
    "    for ilam in lam_values:\n",
    "        \n",
    "        # Construct Kernel Matrices\n",
    "        K_train = rbf_kernel(X=x_train, gamma=igamma)\n",
    "        K_valid = rbf_kernel(X=x_train, Y=x_valid, gamma=igamma)\n",
    "        \n",
    "        # find the weights\n",
    "        R, lower = cho_factor(K_train + lam * np.eye(x_train.shape[0]))\n",
    "        weights = cho_solve((R, lower), y_train)\n",
    "        \n",
    "        # predict new datapoints\n",
    "        y_pred = K_valid.T @ weights\n",
    "        \n",
    "        # get error measure\n",
    "        mse = mean_squared_error(y_pred, y_valid)\n",
    "        \n",
    "        # grab best value\n",
    "        if mse < lowest_error:\n",
    "            lowest_error = mse\n",
    "            best_gamma = igamma\n",
    "            best_lam = ilam\n",
    "        \n",
    "t1 = time() - t0"
   ]
  },
  {
   "cell_type": "code",
   "execution_count": 39,
   "metadata": {},
   "outputs": [
    {
     "name": "stdout",
     "output_type": "stream",
     "text": [
      "Lowest Mean Squared Error: 0.04072760271636643\n",
      "Best sigma: 1.238, lam: 1e-07\n",
      "Time Taken for parameters: 1.3127 secs\n"
     ]
    },
    {
     "data": {
      "image/png": "[encoded data removed]",
      "text/plain": [
       "<matplotlib.figure.Figure at 0x11a03e6d8>"
      ]
     },
     "metadata": {},
     "output_type": "display_data"
    }
   ],
   "source": [
    "print('Lowest Mean Squared Error: {}'.format(lowest_error))\n",
    "best_sigma = np.sqrt(1 / (2 * best_gamma))\n",
    "print('Best sigma: {:.3f}, lam: {}'.format(best_sigma, best_lam))\n",
    "print('Time Taken for parameters: {:.4f} secs'.format(t1))\n",
    "\n",
    "# Construct Kernel Matrices\n",
    "K_train = rbf_kernel(X=x_train, gamma=best_gamma)\n",
    "K_test = rbf_kernel(X=x_train, Y=x_test, gamma=best_gamma)\n",
    "\n",
    "# find the weights\n",
    "weights = scio.linalg.solve(\n",
    "    K_train + best_lam * np.eye(x_train.shape[0]),y_train)\n",
    "\n",
    "# predict new datapoints\n",
    "y_pred = K_test.T @ weights\n",
    "\n",
    "# plot the results\n",
    "fig, ax = plt.subplots()\n",
    "\n",
    "ax.scatter(x_test[::5], y_test[::5], color='b', label='Test Points')\n",
    "ax.scatter(x_test, y_pred, color='g', label='KRR Predictions')\n",
    "\n",
    "\n",
    "ax.legend()\n",
    "plt.show()"
   ]
  },
  {
   "cell_type": "code",
   "execution_count": null,
   "metadata": {},
   "outputs": [],
   "source": []
  }
 ],
 "metadata": {
  "kernelspec": {
   "display_name": "Python 3",
   "language": "python",
   "name": "python3"
  },
  "language_info": {
   "codemirror_mode": {
    "name": "ipython",
    "version": 3
   },
   "file_extension": ".py",
   "mimetype": "text/x-python",
   "name": "python",
   "nbconvert_exporter": "python",
   "pygments_lexer": "ipython3",
   "version": "3.5.4"
  },
  "toc": {
   "nav_menu": {},
   "number_sections": true,
   "sideBar": true,
   "skip_h1_title": false,
   "toc_cell": false,
   "toc_position": {},
   "toc_section_display": "block",
   "toc_window_display": false
  },
  "varInspector": {
   "cols": {
    "lenName": 16.0,
    "lenType": 16.0,
    "lenVar": 40.0
   },
   "kernels_config": {
    "python": {
     "delete_cmd_postfix": "",
     "delete_cmd_prefix": "del ",
     "library": "var_list.py",
     "varRefreshCmd": "print(var_dic_list())"
    },
    "r": {
     "delete_cmd_postfix": ") ",
     "delete_cmd_prefix": "rm(",
     "library": "var_list.r",
     "varRefreshCmd": "cat(var_dic_list()) "
    }
   },
   "types_to_exclude": [
    "module",
    "function",
    "builtin_function_or_method",
    "instance",
    "_Feature"
   ],
   "window_display": false
  }
 },
 "nbformat": 4,
 "nbformat_minor": 2
}
