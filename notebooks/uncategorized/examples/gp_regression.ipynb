{
 "cells": [
  {
   "cell_type": "markdown",
   "metadata": {},
   "source": [
    "# Gaussian Process Regression from Scratch"
   ]
  },
  {
   "cell_type": "markdown",
   "metadata": {},
   "source": [
    "In this notebook, I would like to go through a gaussian process (GP) regression implementation from scratch. The main components of the algorithm consist of:\n",
    "\n",
    "* Parameter initialization\n",
    "* Training via hyperparameter optimization\n",
    "* Predictions with Variance Estimates\n",
    "\n",
    "I will use inspiration from a few sources:\n",
    "\n",
    "* Algorithm 2.1 \n",
    "    - [Gaussian Processes for Machine Learning](http://www.gaussianprocess.org/gpml/) - Rasmussen and Williams\n",
    "* Chapter 18 \n",
    "    - [Machine Learning: An Algorithmic Perspective](https://seat.massey.ac.nz/personal/s.r.marsland/MLBook.html) - Stephen Marsland"
   ]
  },
  {
   "cell_type": "code",
   "execution_count": 30,
   "metadata": {},
   "outputs": [],
   "source": [
    "%matplotlib inline\n",
    "import matplotlib.pyplot as plt\n",
    "import numpy as np\n",
    "from scipy.spatial.distance import pdist, cdist"
   ]
  },
  {
   "cell_type": "markdown",
   "metadata": {},
   "source": [
    "### Sample Data"
   ]
  },
  {
   "cell_type": "code",
   "execution_count": 12,
   "metadata": {},
   "outputs": [
    {
     "name": "stdout",
     "output_type": "stream",
     "text": [
      "X training data: (30, 1)\n",
      "X testing data: (400, 1)\n"
     ]
    }
   ],
   "source": [
    "n_train = 30\n",
    "n_test = 400\n",
    "xtrain = np.linspace(-4, 5, n_train).reshape(n_train, 1)\n",
    "xtest = np.linspace(-4, 5, n_test).reshape(n_test, 1)\n",
    "print('X training data:', xtrain.shape)\n",
    "print('X testing data:', xtest.shape)\n",
    "\n",
    "# Labels\n",
    "ytrain = np.sin(xtrain) * np.exp(0.2 * xtrain) + np.random.randn(n_train, 1) * 0.3"
   ]
  },
  {
   "cell_type": "code",
   "execution_count": 16,
   "metadata": {},
   "outputs": [
    {
     "data": {
      "image/png": "[encoded data removed]",
      "text/plain": [
       "<matplotlib.figure.Figure at 0x7ff36df010f0>"
      ]
     },
     "metadata": {},
     "output_type": "display_data"
    }
   ],
   "source": [
    "fig, ax = plt.subplots()\n",
    "\n",
    "ax.scatter(xtrain, ytrain, color='orange', label='Data')\n",
    "ax.legend(loc='best')\n",
    "ax.set_title('Original Data')\n",
    "plt.show()"
   ]
  },
  {
   "cell_type": "markdown",
   "metadata": {},
   "source": [
    "## Gaussian Process Class"
   ]
  },
  {
   "cell_type": "code",
   "execution_count": 158,
   "metadata": {},
   "outputs": [],
   "source": [
    "class GaussianProcessRegressor(object):\n",
    "    def __init__(self, kernel='ard'):\n",
    "        self.kernel = 'ard'\n",
    "    \n",
    "    def fit(self, x, y):\n",
    "        self.y_fit_ = y\n",
    "        self.x_fit_ = x\n",
    "        self.n_samples = x.shape[0]\n",
    "        \n",
    "        # initialize with heuristics\n",
    "        self.length_scale = np.mean(pdist(x, metric='euclidean'))\n",
    "        self.likelihood_variance = 1.0\n",
    "        \n",
    "        return self\n",
    "    \n",
    "    # Kernel Matrix\n",
    "    def ard_kernel(self, x, y=None, length_scale):\n",
    "        \n",
    "        if y is None:\n",
    "            dists = pdist( x / self.length_scale, metric='sqeuclidean')\n",
    "            K = np.exp(-.5)\n",
    "            K"
   ]
  },
  {
   "cell_type": "markdown",
   "metadata": {},
   "source": [
    "### Kernel Function"
   ]
  },
  {
   "cell_type": "code",
   "execution_count": 38,
   "metadata": {},
   "outputs": [],
   "source": [
    "from sklearn.metrics.pairwise import rbf_kernel"
   ]
  },
  {
   "cell_type": "markdown",
   "metadata": {},
   "source": [
    "Taken from [stackoverflow](https://stackoverflow.com/questions/47271662/what-is-the-fastest-way-to-compute-an-rbf-kernel-in-python/47271663#47271663) post."
   ]
  },
  {
   "cell_type": "code",
   "execution_count": 131,
   "metadata": {},
   "outputs": [],
   "source": [
    "import numexpr as ne\n",
    "from scipy.spatial.distance import pdist, squareform\n",
    "\n",
    "# def rbf_kernelnumexp(x, gamma, var=1.0):\n",
    "#     x_norm = - gamma * np.sum(x**2, axis=-1)\n",
    "#     return ne.evaluate('v * exp(A + B + C)', {\n",
    "#         'A': x_norm[:, None],\n",
    "#         'B': x_norm[None, :],\n",
    "#         'C': 2.0 * gamma * np.dot(x, x.T),\n",
    "#         'g': gamma, \n",
    "#         'v': var\n",
    "#     })\n",
    "#     return None\n",
    "\n",
    "def ard_kernel(x, length_scale, var=1.0):\n",
    "    dists = pdist(x/length_scale,'sqeuclidean')\n",
    "    K = np.exp(-.5 * dists)\n",
    "    return squareform(K)"
   ]
  },
  {
   "cell_type": "code",
   "execution_count": 123,
   "metadata": {},
   "outputs": [
    {
     "name": "stdout",
     "output_type": "stream",
     "text": [
      "29.5 µs ± 600 ns per loop (mean ± std. dev. of 7 runs, 10000 loops each)\n"
     ]
    }
   ],
   "source": [
    "%timeit ard_kernel(x, length_scale=length_scale)"
   ]
  },
  {
   "cell_type": "markdown",
   "metadata": {},
   "source": [
    "### Parameters (Heuristic Initializations)"
   ]
  },
  {
   "cell_type": "code",
   "execution_count": 26,
   "metadata": {},
   "outputs": [
    {
     "name": "stdout",
     "output_type": "stream",
     "text": [
      "Number of training points: 30\n",
      "Lengthscale: 3.207\n",
      "Likelihood Variance: 1\n"
     ]
    }
   ],
   "source": [
    "n_points = xtrain.shape[0]\n",
    "x_fit = xtrain\n",
    "length_scale = np.mean(pdist(x_fit, metric='euclidean'))\n",
    "likelihood_variance = 1\n",
    "\n",
    "print('Number of training points: {}'.format(n_points))\n",
    "print('Lengthscale: {:.3f}'.format(length_scale))\n",
    "print('Likelihood Variance: {}'.format(likelihood_variance))"
   ]
  },
  {
   "cell_type": "markdown",
   "metadata": {},
   "source": [
    "### Gradiant Descent (Marginal Likelihood)"
   ]
  },
  {
   "cell_type": "markdown",
   "metadata": {},
   "source": [
    "#### Parameters"
   ]
  },
  {
   "cell_type": "code",
   "execution_count": 29,
   "metadata": {},
   "outputs": [],
   "source": [
    "param_lengthscale = length_scale\n",
    "length_scale_bounds = ((1e-20, None))\n",
    "param_likelihood_variance = likelihood_variance\n",
    "likelihood_variance_bounds = ((1e-10, None))\n",
    "\n",
    "        \n",
    "        theta0 = np.array([self.length_scale,\n",
    "                           self.likelihood_variance])\n",
    "        \n",
    "        bounds = ((1e-20, None), # length scale\n",
    "                  (1e-10, None)) # likelihood variance\n",
    "        \n",
    "        # gradient descent on marginal likelihood"
   ]
  },
  {
   "cell_type": "markdown",
   "metadata": {},
   "source": [
    "#### Function to minimize"
   ]
  },
  {
   "cell_type": "markdown",
   "metadata": {},
   "source": [
    "##### Marginal Log Likelihood"
   ]
  },
  {
   "cell_type": "markdown",
   "metadata": {},
   "source": [
    "$$-\\frac{1}{2}y^{\\top}\\left[{\\bf K}+\\sigma_y^2{\\bf I}\\right]y - \\frac{1}{2}\\log \\left| {\\bf K}+\\sigma_y^2{\\bf I} \\right| - \\frac{n}{2}\\log 2\\pi$$"
   ]
  },
  {
   "cell_type": "code",
   "execution_count": 157,
   "metadata": {},
   "outputs": [],
   "source": [
    "from scipy.linalg import cholesky, solve\n",
    "\n",
    "def log_posterior(theta, args):\n",
    "    x, y = args\n",
    "    print(x.shape, y.shape)\n",
    "    n_samples = x.shape[0]\n",
    "    # extract parameters\n",
    "    length_scale_param = theta[0]\n",
    "    likelihood_variance_param = theta[1]\n",
    "    \n",
    "    K = ard_kernel(x, length_scale=length_scale)\n",
    "\n",
    "    # calculate the cholesky\n",
    "    L = cholesky(K + theta[1]*np.eye(n_samples), lower=True)\n",
    "    \n",
    "    # solve for alpha\n",
    "    weights = solve(L.T, solve(L, y))\n",
    "    \n",
    "    # solve for the log posterior\n",
    "    log_p = -0.5 * np.dot(y.T, weights) \\\n",
    "            - np.sum( np.log( np.diag(L) )) \\\n",
    "            - 0.5 * n_samples * np.log(2 * np.pi)\n",
    "\n",
    "    return -log_p"
   ]
  },
  {
   "cell_type": "code",
   "execution_count": 156,
   "metadata": {},
   "outputs": [
    {
     "name": "stdout",
     "output_type": "stream",
     "text": [
      "(30, 1) (30, 1)\n",
      "(1, 1)\n",
      "(1, 1)\n"
     ]
    }
   ],
   "source": [
    "length_scale = np.ones(shape=x.shape[0])\n",
    "variance = 1.0\n",
    "theta = np.array([length_scale, variance])\n",
    "args = (xtrain, ytrain)\n",
    "temp = log_posterior(theta, args)\n",
    "print(temp.shape)"
   ]
  },
  {
   "cell_type": "code",
   "execution_count": null,
   "metadata": {},
   "outputs": [],
   "source": [
    "def grad_log_posterior(theta, args):\n",
    "    x, y = args\n",
    "    "
   ]
  },
  {
   "cell_type": "markdown",
   "metadata": {},
   "source": [
    "#### Scipy Solution"
   ]
  },
  {
   "cell_type": "code",
   "execution_count": null,
   "metadata": {},
   "outputs": [],
   "source": []
  }
 ],
 "metadata": {
  "kernelspec": {
   "display_name": "Python 3",
   "language": "python",
   "name": "python3"
  },
  "language_info": {
   "codemirror_mode": {
    "name": "ipython",
    "version": 3
   },
   "file_extension": ".py",
   "mimetype": "text/x-python",
   "name": "python",
   "nbconvert_exporter": "python",
   "pygments_lexer": "ipython3",
   "version": "3.6.4"
  }
 },
 "nbformat": 4,
 "nbformat_minor": 2
}
