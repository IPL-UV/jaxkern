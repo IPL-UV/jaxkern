{
 "cells": [
  {
   "cell_type": "code",
   "execution_count": 425,
   "metadata": {},
   "outputs": [],
   "source": [
    "import numpy as np\n",
    "from sklearn.base import BaseEstimator, RegressorMixin, clone\n",
    "from sklearn.metrics.pairwise import rbf_kernel\n",
    "from sklearn.utils.validation import check_X_y, check_array, check_is_fitted\n",
    "import sys\n",
    "sys.path.insert(0,'/Users/eman/Documents/code_projects/kernellib/')\n",
    "\n",
    "import matplotlib.pyplot as plt\n",
    "%matplotlib inline"
   ]
  },
  {
   "cell_type": "code",
   "execution_count": 426,
   "metadata": {
    "code_folding": []
   },
   "outputs": [],
   "source": [
    "def sample_data():\n",
    "    \"\"\"Gets some sample data.\"\"\"\n",
    "    d_dimensions = 1\n",
    "    n_samples = 20\n",
    "    noise_std = 0.1\n",
    "    seed = 123\n",
    "    rng = np.random.RandomState(seed)\n",
    "\n",
    "\n",
    "    n_train = 20\n",
    "    n_test = 5000\n",
    "    xtrain = np.linspace(-4, 5, n_train).reshape(n_train, 1)\n",
    "    xtest = np.linspace(-4, 5, n_test).reshape(n_test, 1)\n",
    "\n",
    "    f = lambda x: np.sin(x) * np.exp(0.2 * x)\n",
    "    ytrain = f(xtrain) + noise_std * rng.randn(n_train, 1)\n",
    "    ytest = f(xtest)\n",
    "\n",
    "    return xtrain, xtest, ytrain, ytest"
   ]
  },
  {
   "cell_type": "code",
   "execution_count": 427,
   "metadata": {},
   "outputs": [],
   "source": [
    "random_state = 0\n",
    "rng = np.random.RandomState(random_state)\n",
    "\n",
    "x_train, x_test, y_train, y_test = sample_data()\n",
    "\n",
    "# # Training data is 11 points in [0,1] inclusive regularly spaced# Traini \n",
    "# x_train = np.linspace(0, 1, 25).reshape(-1, 1)\n",
    "\n",
    "# # True function is sin(2*pi*x) with Gaussian noise\n",
    "# y_train = np.sin(x_train * (4 * np.pi)) + rng.randn(x_train.shape[0], 1) * 0.3\n",
    "# y_train = np.squeeze(y_train)\n",
    "\n",
    "# x_test = np.linspace(0, 1, 1000).reshape(-1, 1)"
   ]
  },
  {
   "cell_type": "code",
   "execution_count": 428,
   "metadata": {},
   "outputs": [
    {
     "data": {
      "image/png": "[encoded data removed]",
      "text/plain": [
       "<Figure size 432x288 with 1 Axes>"
      ]
     },
     "metadata": {},
     "output_type": "display_data"
    }
   ],
   "source": [
    "fig, ax = plt.subplots()\n",
    "\n",
    "ax.scatter(x_train, y_train)\n",
    "\n",
    "plt.show()"
   ]
  },
  {
   "cell_type": "markdown",
   "metadata": {},
   "source": [
    "### RBF Kernel"
   ]
  },
  {
   "cell_type": "code",
   "execution_count": 429,
   "metadata": {},
   "outputs": [],
   "source": [
    "from scipy.spatial.distance import pdist, cdist, squareform\n",
    "from sklearn.metrics.pairwise import euclidean_distances\n",
    "from sklearn.metrics.pairwise import rbf_kernel"
   ]
  },
  {
   "cell_type": "markdown",
   "metadata": {},
   "source": [
    "## KRR with Cross Validation"
   ]
  },
  {
   "cell_type": "code",
   "execution_count": 430,
   "metadata": {},
   "outputs": [],
   "source": [
    "from sklearn.base import BaseEstimator, RegressorMixin\n",
    "from sklearn.metrics.pairwise import check_pairwise_arrays\n",
    "from sklearn.linear_model.ridge import _solve_cholesky_kernel\n",
    "from sklearn.utils import check_array, check_X_y\n",
    "from sklearn.utils.validation import check_is_fitted\n",
    "from sklearn.kernel_ridge import KernelRidge"
   ]
  },
  {
   "cell_type": "code",
   "execution_count": 431,
   "metadata": {},
   "outputs": [],
   "source": [
    "from sklearn.model_selection import GridSearchCV"
   ]
  },
  {
   "cell_type": "code",
   "execution_count": 432,
   "metadata": {},
   "outputs": [
    {
     "name": "stdout",
     "output_type": "stream",
     "text": [
      "[1.00000000e+00 1.29154967e+01 1.66810054e+02 2.15443469e+03\n",
      " 2.78255940e+04 3.59381366e+05 4.64158883e+06 5.99484250e+07\n",
      " 7.74263683e+08 1.00000000e+10]\n"
     ]
    }
   ],
   "source": [
    "print(np.logspace(0, 10, 10))"
   ]
  },
  {
   "cell_type": "code",
   "execution_count": 433,
   "metadata": {},
   "outputs": [
    {
     "name": "stdout",
     "output_type": "stream",
     "text": [
      "0.1623776739188721 0.01\n",
      "CPU times: user 105 ms, sys: 122 ms, total: 227 ms\n",
      "Wall time: 418 ms\n"
     ]
    }
   ],
   "source": [
    "%%time\n",
    "krr_grid = GridSearchCV(KernelRidge(kernel='rbf'), cv=2, n_jobs=2,\n",
    "                  param_grid={\"alpha\": [1e0, 0.1, 1e-2, 1e-3],\n",
    "                              \"gamma\": np.logspace(-3, 3, 20)})\n",
    "krr_grid.fit(x_train, y_train)\n",
    "krr_model = krr_grid.best_estimator_\n",
    "\n",
    "print(krr_model.gamma, krr_model.alpha)\n",
    "\n",
    "weights = krr_model.dual_coef_\n",
    "gamma = krr_model.gamma\n",
    "alpha = krr_model.alpha\n",
    "K = rbf_kernel(x_test, x_train, gamma=gamma)\n",
    "\n",
    "y_pred = krr_model.predict(x_test)"
   ]
  },
  {
   "cell_type": "markdown",
   "metadata": {},
   "source": [
    "# Full Derivative Map"
   ]
  },
  {
   "cell_type": "markdown",
   "metadata": {},
   "source": [
    "[Nx dx] = size(x);\n",
    "[Ns ds] = size(sv);\n",
    "Kreg = kernel2(x,sv,sigma);\n",
    "% for p=1:Nx\n",
    "%     for q=1:Ns\n",
    "%         for xxx = 1:dx\n",
    "%             map0(xxx,p,q) = alpha(q) * (x(p,xxx)-sv(q,xxx)) * Kreg(p,q);\n",
    "%         end\n",
    "%     end\n",
    "% end"
   ]
  },
  {
   "cell_type": "markdown",
   "metadata": {},
   "source": [
    "map2 = zeros(dx,Nx,Ns);\n",
    "for p=1:Nx\n",
    "        map2(:,p,:) = (repmat(alpha,1,size(sv,2)) .* (repmat(x(p,:),size(sv,1),1)-sv) .* repmat(Kreg(p,:)',1,size(sv,2)))';\n",
    "        %p\n",
    "end"
   ]
  },
  {
   "cell_type": "code",
   "execution_count": 434,
   "metadata": {},
   "outputs": [],
   "source": [
    "import sys\n",
    "sys.path.insert(0, '/home/emmanuel/Drives/erc/code/kernellib')\n",
    "\n",
    "from kernellib.derivatives import ard_derivative"
   ]
  },
  {
   "cell_type": "code",
   "execution_count": 435,
   "metadata": {},
   "outputs": [
    {
     "name": "stdout",
     "output_type": "stream",
     "text": [
      "2\n"
     ]
    }
   ],
   "source": [
    "print(np.ndim(x_test))"
   ]
  },
  {
   "cell_type": "markdown",
   "metadata": {
    "heading_collapsed": true
   },
   "source": [
    "## Pure Python"
   ]
  },
  {
   "cell_type": "code",
   "execution_count": 436,
   "metadata": {
    "hidden": true
   },
   "outputs": [],
   "source": [
    "def rbf_full_py(x_train, x_function, K, weights, gamma):\n",
    "    \n",
    "    n_test, d_dims = x_function.shape\n",
    "    n_train, d_dims = x_train.shape\n",
    "    \n",
    "    derivative = np.zeros(shape=(n_test, n_train, d_dims))\n",
    "    \n",
    "    constant = - 2* gamma\n",
    "    for itest in range(n_test):\n",
    "        for itrain in range(n_train):\n",
    "            for idim in range(d_dims):\n",
    "                derivative[itest, itrain, idim] = \\\n",
    "                    weights[itrain] \\\n",
    "                    * (x_function[itest, idim] - x_train[itrain, idim]) \\\n",
    "                    * K[itest, itrain]\n",
    "    \n",
    "    derivative *= constant\n",
    "    \n",
    "    return derivative"
   ]
  },
  {
   "cell_type": "code",
   "execution_count": 437,
   "metadata": {
    "hidden": true
   },
   "outputs": [
    {
     "name": "stdout",
     "output_type": "stream",
     "text": [
      "(5000, 1)\n"
     ]
    }
   ],
   "source": [
    "d1_map_py = rbf_full_py(x_train, x_test, K, weights, gamma)\n",
    "d1_der_py = d1_map_py.sum(axis=1)\n",
    "print(d1_der_py.shape)"
   ]
  },
  {
   "cell_type": "code",
   "execution_count": 438,
   "metadata": {
    "hidden": true
   },
   "outputs": [
    {
     "name": "stdout",
     "output_type": "stream",
     "text": [
      "392 ms ± 31.8 ms per loop (mean ± std. dev. of 7 runs, 1 loop each)\n"
     ]
    }
   ],
   "source": [
    "pyed = %timeit -o rbf_full_py(x_train, x_test, K, weights, gamma)"
   ]
  },
  {
   "cell_type": "code",
   "execution_count": 439,
   "metadata": {
    "hidden": true
   },
   "outputs": [
    {
     "data": {
      "image/png": "[encoded data removed]",
      "text/plain": [
       "<Figure size 432x288 with 1 Axes>"
      ]
     },
     "metadata": {},
     "output_type": "display_data"
    }
   ],
   "source": [
    "fig, ax = plt.subplots()\n",
    "\n",
    "ax.scatter(x_train, y_train, color='r', label='Training Data')\n",
    "ax.plot(x_test, y_pred, color='k', label='Predictions')\n",
    "ax.plot(x_test, d1_der_py, color='b', label='Derivatives')\n",
    "\n",
    "ax.legend()\n",
    "plt.show()"
   ]
  },
  {
   "cell_type": "markdown",
   "metadata": {
    "heading_collapsed": true,
    "hidden": true
   },
   "source": [
    "#### Check Gradient"
   ]
  },
  {
   "cell_type": "code",
   "execution_count": 197,
   "metadata": {
    "hidden": true
   },
   "outputs": [],
   "source": [
    "from scipy.optimize import check_grad, approx_fprime"
   ]
  },
  {
   "cell_type": "code",
   "execution_count": 198,
   "metadata": {
    "code_folding": [],
    "hidden": true
   },
   "outputs": [
    {
     "data": {
      "image/png": "[encoded data removed]",
      "text/plain": [
       "<Figure size 432x288 with 1 Axes>"
      ]
     },
     "metadata": {},
     "output_type": "display_data"
    },
    {
     "data": {
      "image/png": "[encoded data removed]",
      "text/plain": [
       "<Figure size 432x288 with 1 Axes>"
      ]
     },
     "metadata": {},
     "output_type": "display_data"
    }
   ],
   "source": [
    "def my_grad(X):\n",
    "    full_d = rbf_full_py(x_train, X.reshape(-1,1), K, weights, gamma)\n",
    "    d1 = full_d.sum(axis=1).flatten()\n",
    "    return d1\n",
    "\n",
    "def my_pred(X):\n",
    "    pred = krr_model.predict(X.reshape(-1, 1)).flatten()\n",
    "    return pred.flatten()\n",
    "\n",
    "d1_numerical = list()\n",
    "for i in x_test:\n",
    "    d1_numerical.append(approx_fprime(i, my_pred, [eps]))\n",
    "\n",
    "d1_numerical = np.array(d1_numerical)\n",
    "eps = np.sqrt(np.finfo(float).eps)\n",
    "\n",
    "x = np.linspace(0, 1, 100)\n",
    "\n",
    "errs = list()\n",
    "for i in x_test:\n",
    "    \n",
    "    errs.append(check_grad(my_pred, my_grad, i))\n",
    "\n",
    "    \n",
    "fig, ax = plt.subplots()\n",
    "\n",
    "ax.plot(x_test, d1_numerical)\n",
    "ax.plot(x_test, d1_der_py)\n",
    "plt.show()\n",
    "\n",
    "fig, ax = plt.subplots()\n",
    "\n",
    "ax.plot(x_test, np.array(errs))\n",
    "\n",
    "plt.show()"
   ]
  },
  {
   "cell_type": "markdown",
   "metadata": {},
   "source": [
    "## Numpy"
   ]
  },
  {
   "cell_type": "code",
   "execution_count": 199,
   "metadata": {
    "code_folding": [
     8
    ]
   },
   "outputs": [],
   "source": [
    "def rbf_full_numpy(x_train, x_function, K, weights, gamma):\n",
    "\n",
    "    n_test, d_dims = x_function.shape\n",
    "    n_train, d_dims = x_train.shape\n",
    "    derivative = np.zeros(shape=(n_test, n_train, d_dims))\n",
    "    \n",
    "    constant = -2*gamma\n",
    "    \n",
    "    for itest in range(n_test):\n",
    "        term1 = (np.tile(x_function[itest, :], (n_train, 1)) - x_train)\n",
    "        term2 = np.tile(weights, (1, d_dims))\n",
    "        term3 = np.tile(K[itest, :].T, (1, d_dims)).T\n",
    "        derivative[itest, :, :] = term1 * term2 * term3\\\n",
    "\n",
    "    derivative *= constant\n",
    "    return derivative"
   ]
  },
  {
   "cell_type": "code",
   "execution_count": 200,
   "metadata": {},
   "outputs": [],
   "source": [
    "d1_map_np = rbf_full_numpy(x_train, x_test, K,  weights, gamma)"
   ]
  },
  {
   "cell_type": "code",
   "execution_count": 210,
   "metadata": {},
   "outputs": [
    {
     "name": "stdout",
     "output_type": "stream",
     "text": [
      "78 ms ± 8.59 ms per loop (mean ± std. dev. of 7 runs, 10 loops each)\n"
     ]
    }
   ],
   "source": [
    "npyed = %timeit -o rbf_full_numpy(x_train, x_test, K, weights, gamma)"
   ]
  },
  {
   "cell_type": "code",
   "execution_count": 215,
   "metadata": {},
   "outputs": [
    {
     "name": "stdout",
     "output_type": "stream",
     "text": [
      "Numpy Speed up:  5.473331135328124\n"
     ]
    }
   ],
   "source": [
    "print('Numpy Speed up: ', pyed.best / npyed.best)"
   ]
  },
  {
   "cell_type": "code",
   "execution_count": 205,
   "metadata": {},
   "outputs": [],
   "source": [
    "np.testing.assert_array_equal(d1_map_py, d1_map_np)"
   ]
  },
  {
   "cell_type": "markdown",
   "metadata": {},
   "source": [
    "## Numba"
   ]
  },
  {
   "cell_type": "code",
   "execution_count": 471,
   "metadata": {},
   "outputs": [],
   "source": [
    "import numba\n",
    "from numba import njit, jit, prange, double"
   ]
  },
  {
   "cell_type": "code",
   "execution_count": 472,
   "metadata": {},
   "outputs": [],
   "source": [
    "K = rbf_kernel(x_test, x_train, gamma=gamma)\n",
    "weights = krr_model.dual_coef_"
   ]
  },
  {
   "cell_type": "code",
   "execution_count": 473,
   "metadata": {},
   "outputs": [],
   "source": [
    "import numba\n",
    "\n",
    "\n",
    "@njit(fastmath=True)\n",
    "def rbf_full_numba(x_train, x_function, K, weights, gamma):\n",
    "    \n",
    "    n_test, d_dims = x_function.shape\n",
    "    n_train, d_dims = x_train.shape\n",
    "    \n",
    "    derivative = np.zeros(shape=(n_test, n_train, d_dims))\n",
    "    \n",
    "    for idim in prange(d_dims):\n",
    "        for itrain in range(n_train):\n",
    "            w = weights[itrain]\n",
    "            for itest in range(n_test):      \n",
    "#                 print(weights.shape)\n",
    "                derivative[itest, itrain, idim] = \\\n",
    "                     w * (x_function[itest, idim] - x_train[itrain, idim]) * K[itest, itrain]\n",
    "    \n",
    "    derivative *= - 2 * gamma\n",
    "    \n",
    "    return derivative"
   ]
  },
  {
   "cell_type": "code",
   "execution_count": 474,
   "metadata": {},
   "outputs": [],
   "source": [
    "d1_map_numba = rbf_full_numba(x_train, x_test, K, weights.flatten(), gamma)"
   ]
  },
  {
   "cell_type": "code",
   "execution_count": 475,
   "metadata": {},
   "outputs": [
    {
     "name": "stdout",
     "output_type": "stream",
     "text": [
      "807 µs ± 63.9 µs per loop (mean ± std. dev. of 7 runs, 1000 loops each)\n"
     ]
    }
   ],
   "source": [
    "jitted = %timeit -o rbf_full_numba(x_train, x_test, K, weights.flatten(), gamma)"
   ]
  },
  {
   "cell_type": "code",
   "execution_count": 476,
   "metadata": {},
   "outputs": [
    {
     "name": "stdout",
     "output_type": "stream",
     "text": [
      "Jitted Speed up (Numpy):  87.12118554565923\n",
      "Numba Speed up (Python):  464.53758692055965\n"
     ]
    }
   ],
   "source": [
    "print('Jitted Speed up (Numpy): ', npyed.best / jitted.best)\n",
    "print('Numba Speed up (Python): ', pyed.best / jitted.best)"
   ]
  },
  {
   "cell_type": "code",
   "execution_count": 477,
   "metadata": {},
   "outputs": [],
   "source": [
    "np.testing.assert_array_equal(d1_map_py, d1_map_numba)"
   ]
  },
  {
   "cell_type": "markdown",
   "metadata": {},
   "source": [
    "# Derivative"
   ]
  },
  {
   "cell_type": "code",
   "execution_count": null,
   "metadata": {},
   "outputs": [],
   "source": []
  },
  {
   "cell_type": "markdown",
   "metadata": {
    "heading_collapsed": true
   },
   "source": [
    "## Pure Python"
   ]
  },
  {
   "cell_type": "code",
   "execution_count": 221,
   "metadata": {
    "hidden": true
   },
   "outputs": [],
   "source": [
    "def rbf_derivative_py(x_train, x_function, weights, gamma):\n",
    "    if np.ndim(x_function) == 1:\n",
    "        x_function = x_function[np.newaxis, :]\n",
    "    if np.ndim(weights) == 1:\n",
    "        weights = weights[:, np.newaxis]\n",
    "    n_test, d_dims = x_function.shape\n",
    "    n_train, d_dims = x_train.shape\n",
    "    derivative = np.zeros(shape=(n_test, n_train, d_dims))\n",
    "    \n",
    "    K = rbf_kernel(x_function, x_train, gamma=gamma)\n",
    "    constant = -2*gamma\n",
    "    \n",
    "    for itest in range(n_test):\n",
    "        term1 = (np.tile(x_function[itest, :], (n_train, 1)) - x_train)\n",
    "        term2 = np.tile(weights, (1, d_dims))\n",
    "        term3 = np.tile(K[itest, :].T, (1, d_dims)).T\n",
    "        derivative[itest, :, :] = term1 * term2 * term3\\\n",
    "\n",
    "    derivative *= constant\n",
    "    derivative = np.sum(derivative, axis=1)\n",
    "    return derivative"
   ]
  },
  {
   "cell_type": "code",
   "execution_count": 222,
   "metadata": {
    "hidden": true
   },
   "outputs": [],
   "source": [
    "d1_der_py = rbf_derivative_py(x_train, x_test, weights, gamma)"
   ]
  },
  {
   "cell_type": "code",
   "execution_count": 223,
   "metadata": {
    "hidden": true
   },
   "outputs": [
    {
     "name": "stdout",
     "output_type": "stream",
     "text": [
      "73.2 ms ± 7.64 ms per loop (mean ± std. dev. of 7 runs, 10 loops each)\n"
     ]
    }
   ],
   "source": [
    "pyedd = %timeit -o rbf_derivative_py(x_train, x_test, weights, gamma)"
   ]
  },
  {
   "cell_type": "markdown",
   "metadata": {},
   "source": [
    "## Numpy"
   ]
  },
  {
   "cell_type": "code",
   "execution_count": 297,
   "metadata": {},
   "outputs": [],
   "source": [
    "def rbf_derivative_np(x_train, x_function, K, weights, gamma):\n",
    "    \n",
    "#     # check the sizes of x_train and x_test\n",
    "#     err_msg = \"xtrain and xtest d dimensions are not equivalent.\"\n",
    "#     np.testing.assert_equal(x_function.shape[1], x_train.shape[1], err_msg=err_msg)\n",
    "    \n",
    "#     # check the n_samples for x_train and weights are equal\n",
    "#     err_msg = \"Number of training samples for xtrain and weights are not equal.\"\n",
    "#     np.testing.assert_equal(x_train.shape[0], weights.shape[0], err_msg=err_msg)\n",
    "\n",
    "    \n",
    "    \n",
    "    n_test, n_dims = x_function.shape\n",
    "\n",
    "    derivative = np.zeros(shape=x_function.shape)\n",
    "    \n",
    "    for itest in range(n_test):\n",
    "        derivative[itest, :] = np.dot((x_function[itest, :] - x_train).T,  \n",
    "                                      (K[itest, :].reshape(-1, 1) * weights))\n",
    "\n",
    "    derivative *= - 2 * gamma\n",
    "        \n",
    "    return derivative"
   ]
  },
  {
   "cell_type": "code",
   "execution_count": 298,
   "metadata": {},
   "outputs": [],
   "source": [
    "# K = pairwise_kernels(x_function, x_train, gamma=gamma, metric='rbf')\n",
    "K = rbf_kernel(x_test, x_train, gamma=gamma)\n",
    "weights = krr_model.dual_coef_.reshape(-1, 1)\n",
    "\n",
    "d1_der_np = rbf_derivative_np(x_train, x_test, K, weights, gamma)"
   ]
  },
  {
   "cell_type": "code",
   "execution_count": 304,
   "metadata": {},
   "outputs": [],
   "source": [
    "np.testing.assert_array_almost_equal(d1_der_py, d1_der_np, decimal=12)"
   ]
  },
  {
   "cell_type": "code",
   "execution_count": 301,
   "metadata": {},
   "outputs": [
    {
     "name": "stdout",
     "output_type": "stream",
     "text": [
      "98.5 µs ± 6.4 µs per loop (mean ± std. dev. of 7 runs, 10000 loops each)\n"
     ]
    }
   ],
   "source": [
    "npyedd = %timeit -o rbf_derivative_np(x_train, x_train, K, weights, gamma)"
   ]
  },
  {
   "cell_type": "code",
   "execution_count": 302,
   "metadata": {},
   "outputs": [
    {
     "name": "stdout",
     "output_type": "stream",
     "text": [
      "Numpy Speed up:  695.097790585193\n"
     ]
    }
   ],
   "source": [
    "print('Numpy Speed up: ', pyedd.best / npyedd.best)"
   ]
  },
  {
   "cell_type": "markdown",
   "metadata": {
    "heading_collapsed": true
   },
   "source": [
    "#### Version II"
   ]
  },
  {
   "cell_type": "code",
   "execution_count": 287,
   "metadata": {
    "hidden": true
   },
   "outputs": [],
   "source": [
    "# def rbf_derivative_np2(x_train, x_function, K, weights, gamma):\n",
    "    \n",
    "# #     # check the sizes of x_train and x_test\n",
    "# #     err_msg = \"xtrain and xtest d dimensions are not equivalent.\"\n",
    "# #     np.testing.assert_equal(x_function.shape[1], x_train.shape[1], err_msg=err_msg)\n",
    "    \n",
    "# #     # check the n_samples for x_train and weights are equal\n",
    "# #     err_msg = \"Number of training samples for xtrain and weights are not equal.\"\n",
    "# #     np.testing.assert_equal(x_train.shape[0], weights.shape[0], err_msg=err_msg)\n",
    "\n",
    "    \n",
    "    \n",
    "#     n_test, n_dims = x_function.shape\n",
    "\n",
    "#     derivative = np.zeros(shape=x_function.shape)\n",
    "\n",
    "#     constant = - 2 * gamma\n",
    "# #     print(x_train.T.shape)\n",
    "# #     print(np.diag(weights.flatten()).shape, K.T.shape)\n",
    "# #     print(weights.T.shape, K.T.shape)\n",
    "#     derivative = x_train.T.dot(np.diag(weights.flatten()).dot(K.T) - np.diag(weights.T.dot(K.T))).T\n",
    "\n",
    "#     derivative *= constant\n",
    "        \n",
    "#     return derivative"
   ]
  },
  {
   "cell_type": "code",
   "execution_count": 288,
   "metadata": {
    "hidden": true
   },
   "outputs": [],
   "source": [
    "d1_der_np2 = rbf_derivative_np2(x_train, x_train, K, weights, gamma)"
   ]
  },
  {
   "cell_type": "code",
   "execution_count": 289,
   "metadata": {
    "hidden": true
   },
   "outputs": [
    {
     "name": "stdout",
     "output_type": "stream",
     "text": [
      "185 µs ± 6.82 µs per loop (mean ± std. dev. of 7 runs, 1000 loops each)\n"
     ]
    }
   ],
   "source": [
    "npyedd2 = %timeit -o rbf_derivative_np2(x_train, x_train, K, weights, gamma)"
   ]
  },
  {
   "cell_type": "code",
   "execution_count": 290,
   "metadata": {
    "hidden": true
   },
   "outputs": [
    {
     "name": "stdout",
     "output_type": "stream",
     "text": [
      "Numpy2 Speed up:  361.86849062941303\n"
     ]
    }
   ],
   "source": [
    "print('Numpy2 Speed up: ', pyedd.best / npyedd2.best)"
   ]
  },
  {
   "cell_type": "code",
   "execution_count": 291,
   "metadata": {
    "hidden": true
   },
   "outputs": [
    {
     "ename": "AssertionError",
     "evalue": "\nArrays are not almost equal to 3 decimals\n\n(mismatch 99.96%)\n x: array([-0.129, -0.13 , -0.131, ..., -0.439, -0.436, -0.434])\n y: array([1.471, 1.472, 1.472, ..., 5.593, 5.593, 5.593])",
     "output_type": "error",
     "traceback": [
      "\u001b[0;31m---------------------------------------------------------------------------\u001b[0m",
      "\u001b[0;31mAssertionError\u001b[0m                            Traceback (most recent call last)",
      "\u001b[0;32m<ipython-input-291-b6ef3ff687ed>\u001b[0m in \u001b[0;36m<module>\u001b[0;34m()\u001b[0m\n\u001b[0;32m----> 1\u001b[0;31m \u001b[0mnp\u001b[0m\u001b[0;34m.\u001b[0m\u001b[0mtesting\u001b[0m\u001b[0;34m.\u001b[0m\u001b[0massert_almost_equal\u001b[0m\u001b[0;34m(\u001b[0m\u001b[0md1_der_py\u001b[0m\u001b[0;34m,\u001b[0m \u001b[0md1_der_np2\u001b[0m\u001b[0;34m,\u001b[0m \u001b[0mdecimal\u001b[0m\u001b[0;34m=\u001b[0m\u001b[0;36m3\u001b[0m\u001b[0;34m)\u001b[0m\u001b[0;34m\u001b[0m\u001b[0m\n\u001b[0m",
      "\u001b[0;32m~/anaconda3/envs/kernellib/lib/python3.6/site-packages/numpy/testing/_private/utils.py\u001b[0m in \u001b[0;36massert_almost_equal\u001b[0;34m(actual, desired, decimal, err_msg, verbose)\u001b[0m\n\u001b[1;32m    566\u001b[0m     \u001b[0;32mif\u001b[0m \u001b[0misinstance\u001b[0m\u001b[0;34m(\u001b[0m\u001b[0mactual\u001b[0m\u001b[0;34m,\u001b[0m \u001b[0;34m(\u001b[0m\u001b[0mndarray\u001b[0m\u001b[0;34m,\u001b[0m \u001b[0mtuple\u001b[0m\u001b[0;34m,\u001b[0m \u001b[0mlist\u001b[0m\u001b[0;34m)\u001b[0m\u001b[0;34m)\u001b[0m\u001b[0;31m \u001b[0m\u001b[0;31m\\\u001b[0m\u001b[0;34m\u001b[0m\u001b[0m\n\u001b[1;32m    567\u001b[0m             \u001b[0;32mor\u001b[0m \u001b[0misinstance\u001b[0m\u001b[0;34m(\u001b[0m\u001b[0mdesired\u001b[0m\u001b[0;34m,\u001b[0m \u001b[0;34m(\u001b[0m\u001b[0mndarray\u001b[0m\u001b[0;34m,\u001b[0m \u001b[0mtuple\u001b[0m\u001b[0;34m,\u001b[0m \u001b[0mlist\u001b[0m\u001b[0;34m)\u001b[0m\u001b[0;34m)\u001b[0m\u001b[0;34m:\u001b[0m\u001b[0;34m\u001b[0m\u001b[0m\n\u001b[0;32m--> 568\u001b[0;31m         \u001b[0;32mreturn\u001b[0m \u001b[0massert_array_almost_equal\u001b[0m\u001b[0;34m(\u001b[0m\u001b[0mactual\u001b[0m\u001b[0;34m,\u001b[0m \u001b[0mdesired\u001b[0m\u001b[0;34m,\u001b[0m \u001b[0mdecimal\u001b[0m\u001b[0;34m,\u001b[0m \u001b[0merr_msg\u001b[0m\u001b[0;34m)\u001b[0m\u001b[0;34m\u001b[0m\u001b[0m\n\u001b[0m\u001b[1;32m    569\u001b[0m     \u001b[0;32mtry\u001b[0m\u001b[0;34m:\u001b[0m\u001b[0;34m\u001b[0m\u001b[0m\n\u001b[1;32m    570\u001b[0m         \u001b[0;31m# If one of desired/actual is not finite, handle it specially here:\u001b[0m\u001b[0;34m\u001b[0m\u001b[0;34m\u001b[0m\u001b[0m\n",
      "\u001b[0;32m~/anaconda3/envs/kernellib/lib/python3.6/site-packages/numpy/testing/_private/utils.py\u001b[0m in \u001b[0;36massert_array_almost_equal\u001b[0;34m(x, y, decimal, err_msg, verbose)\u001b[0m\n\u001b[1;32m    962\u001b[0m     assert_array_compare(compare, x, y, err_msg=err_msg, verbose=verbose,\n\u001b[1;32m    963\u001b[0m              \u001b[0mheader\u001b[0m\u001b[0;34m=\u001b[0m\u001b[0;34m(\u001b[0m\u001b[0;34m'Arrays are not almost equal to %d decimals'\u001b[0m \u001b[0;34m%\u001b[0m \u001b[0mdecimal\u001b[0m\u001b[0;34m)\u001b[0m\u001b[0;34m,\u001b[0m\u001b[0;34m\u001b[0m\u001b[0m\n\u001b[0;32m--> 964\u001b[0;31m              precision=decimal)\n\u001b[0m\u001b[1;32m    965\u001b[0m \u001b[0;34m\u001b[0m\u001b[0m\n\u001b[1;32m    966\u001b[0m \u001b[0;34m\u001b[0m\u001b[0m\n",
      "\u001b[0;32m~/anaconda3/envs/kernellib/lib/python3.6/site-packages/numpy/testing/_private/utils.py\u001b[0m in \u001b[0;36massert_array_compare\u001b[0;34m(comparison, x, y, err_msg, verbose, header, precision, equal_nan, equal_inf)\u001b[0m\n\u001b[1;32m    778\u001b[0m                                 \u001b[0mverbose\u001b[0m\u001b[0;34m=\u001b[0m\u001b[0mverbose\u001b[0m\u001b[0;34m,\u001b[0m \u001b[0mheader\u001b[0m\u001b[0;34m=\u001b[0m\u001b[0mheader\u001b[0m\u001b[0;34m,\u001b[0m\u001b[0;34m\u001b[0m\u001b[0m\n\u001b[1;32m    779\u001b[0m                                 names=('x', 'y'), precision=precision)\n\u001b[0;32m--> 780\u001b[0;31m             \u001b[0;32mraise\u001b[0m \u001b[0mAssertionError\u001b[0m\u001b[0;34m(\u001b[0m\u001b[0mmsg\u001b[0m\u001b[0;34m)\u001b[0m\u001b[0;34m\u001b[0m\u001b[0m\n\u001b[0m\u001b[1;32m    781\u001b[0m     \u001b[0;32mexcept\u001b[0m \u001b[0mValueError\u001b[0m\u001b[0;34m:\u001b[0m\u001b[0;34m\u001b[0m\u001b[0m\n\u001b[1;32m    782\u001b[0m         \u001b[0;32mimport\u001b[0m \u001b[0mtraceback\u001b[0m\u001b[0;34m\u001b[0m\u001b[0m\n",
      "\u001b[0;31mAssertionError\u001b[0m: \nArrays are not almost equal to 3 decimals\n\n(mismatch 99.96%)\n x: array([-0.129, -0.13 , -0.131, ..., -0.439, -0.436, -0.434])\n y: array([1.471, 1.472, 1.472, ..., 5.593, 5.593, 5.593])"
     ]
    }
   ],
   "source": [
    "np.testing.assert_almost_equal(d1_der_py, d1_der_np2, decimal=3)"
   ]
  },
  {
   "cell_type": "markdown",
   "metadata": {},
   "source": [
    "## Numba"
   ]
  },
  {
   "cell_type": "code",
   "execution_count": 478,
   "metadata": {},
   "outputs": [],
   "source": [
    "@njit(fastmath=True)\n",
    "def rbf_derivative_numba(x_train, x_function, K, weights, gamma):\n",
    "    \n",
    "#     # check the sizes of x_train and x_test\n",
    "#     err_msg = \"xtrain and xtest d dimensions are not equivalent.\"\n",
    "#     np.testing.assert_equal(x_function.shape[1], x_train.shape[1], err_msg=err_msg)\n",
    "    \n",
    "#     # check the n_samples for x_train and weights are equal\n",
    "#     err_msg = \"Number of training samples for xtrain and weights are not equal.\"\n",
    "#     np.testing.assert_equal(x_train.shape[0], weights.shape[0], err_msg=err_msg)\n",
    "\n",
    "    \n",
    "    \n",
    "    n_test, n_dims = x_function.shape\n",
    "\n",
    "    derivative = np.zeros(shape=x_function.shape)\n",
    "\n",
    "    constant = - 2 * gamma\n",
    "    \n",
    "    for itest in prange(n_test):\n",
    "        derivative[itest, :] = np.dot((x_function[itest, :] - x_train).T,  \n",
    "                                      (K[itest, :].reshape(-1, 1) * weights))\n",
    "\n",
    "    derivative *= constant\n",
    "        \n",
    "    return derivative"
   ]
  },
  {
   "cell_type": "code",
   "execution_count": 479,
   "metadata": {},
   "outputs": [],
   "source": [
    "d1_der_nmb = rbf_derivative_numba(x_train, x_test, K, weights, gamma)\n",
    "np.testing.assert_array_almost_equal(d1_der_py, d1_der_nmb, decimal=10)"
   ]
  },
  {
   "cell_type": "code",
   "execution_count": 480,
   "metadata": {},
   "outputs": [
    {
     "name": "stdout",
     "output_type": "stream",
     "text": [
      "15.9 µs ± 509 ns per loop (mean ± std. dev. of 7 runs, 100000 loops each)\n"
     ]
    }
   ],
   "source": [
    "jittedd = %timeit -o rbf_derivative_numba(x_train, x_train, K, weights, gamma)"
   ]
  },
  {
   "cell_type": "code",
   "execution_count": 481,
   "metadata": {},
   "outputs": [
    {
     "name": "stdout",
     "output_type": "stream",
     "text": [
      "Numpy Speed up:  6.070084974227466\n",
      "Python Speed up:  4219.30265424989\n"
     ]
    }
   ],
   "source": [
    "print('Numpy Speed up: ', npyedd.best / jittedd.best)\n",
    "print('Python Speed up: ', pyedd.best / jittedd.best)"
   ]
  },
  {
   "cell_type": "markdown",
   "metadata": {},
   "source": [
    "# 2nd Map Derivative"
   ]
  },
  {
   "cell_type": "markdown",
   "metadata": {},
   "source": [
    "$$\\frac{\\partial^2f}{x^2}=2\\gamma \\left[2 \\gamma( x^j - y^j )^2 - 1  \\right] K(x,y)$$"
   ]
  },
  {
   "cell_type": "markdown",
   "metadata": {},
   "source": [
    "## Pure Python"
   ]
  },
  {
   "cell_type": "code",
   "execution_count": 482,
   "metadata": {},
   "outputs": [],
   "source": [
    "def rbf_full2_py(x_train, x_function, K, weights, gamma):\n",
    "    \n",
    "    n_test, d_dims = x_function.shape\n",
    "    n_train, d_dims = x_train.shape\n",
    "    \n",
    "    derivative = np.zeros(shape=(n_test, n_train, d_dims))\n",
    "    \n",
    "    constant = 2* gamma\n",
    "    for itest in range(n_test):\n",
    "        for itrain in range(n_train):\n",
    "            for idim in range(d_dims):\n",
    "                derivative[itest, itrain, idim] = \\\n",
    "                    weights[itrain, 0] \\\n",
    "                    * (constant * (x_function[itest, idim] - x_train[itrain, idim])**2 - 1) \\\n",
    "                    * K[itest, itrain]\n",
    "    \n",
    "    derivative *= constant\n",
    "    \n",
    "    return derivative"
   ]
  },
  {
   "cell_type": "code",
   "execution_count": 483,
   "metadata": {},
   "outputs": [
    {
     "name": "stdout",
     "output_type": "stream",
     "text": [
      "(5000, 1)\n"
     ]
    }
   ],
   "source": [
    "d2_map_py = rbf_full2_py(x_train, x_test, K, weights, gamma)\n",
    "d2_der_py = d2_map_py.sum(axis=1)\n",
    "print(d2_der_py.shape)"
   ]
  },
  {
   "cell_type": "code",
   "execution_count": 484,
   "metadata": {},
   "outputs": [
    {
     "name": "stdout",
     "output_type": "stream",
     "text": [
      "173 ms ± 15.5 ms per loop (mean ± std. dev. of 7 runs, 10 loops each)\n"
     ]
    }
   ],
   "source": [
    "pyed2 = %timeit -o rbf_full2_py(x_train, x_test, K, weights, gamma)"
   ]
  },
  {
   "cell_type": "code",
   "execution_count": 485,
   "metadata": {},
   "outputs": [
    {
     "data": {
      "image/png": "[encoded data removed]",
      "text/plain": [
       "<Figure size 432x288 with 1 Axes>"
      ]
     },
     "metadata": {},
     "output_type": "display_data"
    }
   ],
   "source": [
    "fig, ax = plt.subplots()\n",
    "\n",
    "ax.scatter(x_train, y_train, color='r', label='Training Data')\n",
    "ax.plot(x_test, y_pred, color='k', label='Predictions')\n",
    "ax.plot(x_test, d1_der_py, color='b', label='1st Derivative')\n",
    "ax.plot(x_test, d2_der_py, color='g', label='2nd Derivative')\n",
    "\n",
    "\n",
    "ax.legend()\n",
    "plt.show()"
   ]
  },
  {
   "cell_type": "markdown",
   "metadata": {},
   "source": [
    "## Numpy"
   ]
  },
  {
   "cell_type": "code",
   "execution_count": 486,
   "metadata": {},
   "outputs": [],
   "source": [
    "def rbf_full2_numpy(x_train, x_function, K, weights, gamma):\n",
    "\n",
    "    n_test, d_dims = x_function.shape\n",
    "    n_train, d_dims = x_train.shape\n",
    "    derivative = np.zeros(shape=(n_test, n_train, d_dims))\n",
    "    \n",
    "    constant = 2*gamma\n",
    "    \n",
    "    term2 = np.tile(weights, (1, d_dims))\n",
    "    \n",
    "    for itest in range(n_test):\n",
    "        \n",
    "        term1 = constant * (np.tile(x_function[itest, :], (n_train, 1)) - x_train)**2 - 1\n",
    "#         print(term1.shape)\n",
    "        \n",
    "#         print(term2.shape)\n",
    "        term3 = np.tile(K[itest, :].T, (1, d_dims)).T\n",
    "#         print(term3.shape)\n",
    "        derivative[itest, :, :] = term1 * term2 * term3\n",
    "#         break\n",
    "\n",
    "    derivative *= constant\n",
    "    return derivative"
   ]
  },
  {
   "cell_type": "code",
   "execution_count": 487,
   "metadata": {},
   "outputs": [],
   "source": [
    "d2_map_np = rbf_full2_numpy(x_train, x_test, K,  weights, gamma)"
   ]
  },
  {
   "cell_type": "code",
   "execution_count": 488,
   "metadata": {},
   "outputs": [
    {
     "name": "stdout",
     "output_type": "stream",
     "text": [
      "85.5 ms ± 12.8 ms per loop (mean ± std. dev. of 7 runs, 10 loops each)\n"
     ]
    }
   ],
   "source": [
    "npyed2 = %timeit -o rbf_full2_numpy(x_train, x_test, K, weights, gamma)"
   ]
  },
  {
   "cell_type": "code",
   "execution_count": 489,
   "metadata": {},
   "outputs": [
    {
     "name": "stdout",
     "output_type": "stream",
     "text": [
      "Numpy Speed up:  2.1434430050232196\n"
     ]
    }
   ],
   "source": [
    "print('Numpy Speed up: ', pyed2.best / npyed2.best)"
   ]
  },
  {
   "cell_type": "code",
   "execution_count": 490,
   "metadata": {},
   "outputs": [],
   "source": [
    "np.testing.assert_array_almost_equal(d2_map_py, d2_map_np)"
   ]
  },
  {
   "cell_type": "markdown",
   "metadata": {},
   "source": [
    "## Numba"
   ]
  },
  {
   "cell_type": "code",
   "execution_count": 509,
   "metadata": {},
   "outputs": [],
   "source": [
    "@njit(fastmath=True)\n",
    "def rbf_full2_numba(x_train, x_function, K, weights, gamma):\n",
    "    \n",
    "    n_test, d_dims = x_function.shape\n",
    "    n_train, d_dims = x_train.shape\n",
    "    \n",
    "    derivative = np.zeros(shape=(n_test, n_train, d_dims))\n",
    "    \n",
    "    constant = 2* gamma\n",
    "    for idim in range(d_dims):\n",
    "        for itrain in range(n_train):\n",
    "            for itest in prange(n_test):\n",
    "                derivative[itest, itrain, idim] = \\\n",
    "                     weights[itrain]\\\n",
    "                    * (constant * (x_function[itest, idim] - x_train[itrain, idim])**2 - 1) \\\n",
    "                    * K[itest, itrain]\n",
    "    \n",
    "    derivative *= constant\n",
    "    \n",
    "    return derivative"
   ]
  },
  {
   "cell_type": "code",
   "execution_count": 510,
   "metadata": {},
   "outputs": [],
   "source": [
    "d2_map_numba = rbf_full2_numba(x_train, x_test, K,  weights.flatten(), gamma)"
   ]
  },
  {
   "cell_type": "code",
   "execution_count": 511,
   "metadata": {},
   "outputs": [
    {
     "name": "stdout",
     "output_type": "stream",
     "text": [
      "787 µs ± 35.8 µs per loop (mean ± std. dev. of 7 runs, 1000 loops each)\n"
     ]
    }
   ],
   "source": [
    "jitted2 = %timeit -o rbf_full2_numba(x_train, x_test, K, weights.flatten(), gamma)"
   ]
  },
  {
   "cell_type": "code",
   "execution_count": 512,
   "metadata": {},
   "outputs": [
    {
     "name": "stdout",
     "output_type": "stream",
     "text": [
      "Python Speed up:  205.34268751987753\n",
      "Numpy Speed up:  95.80039545658602\n"
     ]
    }
   ],
   "source": [
    "print('Python Speed up: ', pyed2.best / jitted2.best)\n",
    "print('Numpy Speed up: ', npyed2.best / jitted2.best)"
   ]
  },
  {
   "cell_type": "code",
   "execution_count": null,
   "metadata": {},
   "outputs": [],
   "source": []
  }
 ],
 "metadata": {
  "kernelspec": {
   "display_name": "Python 3",
   "language": "python",
   "name": "python3"
  },
  "language_info": {
   "codemirror_mode": {
    "name": "ipython",
    "version": 3
   },
   "file_extension": ".py",
   "mimetype": "text/x-python",
   "name": "python",
   "nbconvert_exporter": "python",
   "pygments_lexer": "ipython3",
   "version": "3.6.6"
  },
  "toc": {
   "base_numbering": 1,
   "nav_menu": {},
   "number_sections": true,
   "sideBar": true,
   "skip_h1_title": false,
   "title_cell": "Table of Contents",
   "title_sidebar": "Contents",
   "toc_cell": false,
   "toc_position": {
    "height": "calc(100% - 180px)",
    "left": "10px",
    "top": "150px",
    "width": "320px"
   },
   "toc_section_display": true,
   "toc_window_display": true
  },
  "varInspector": {
   "cols": {
    "lenName": 16,
    "lenType": 16,
    "lenVar": 40
   },
   "kernels_config": {
    "python": {
     "delete_cmd_postfix": "",
     "delete_cmd_prefix": "del ",
     "library": "var_list.py",
     "varRefreshCmd": "print(var_dic_list())"
    },
    "r": {
     "delete_cmd_postfix": ") ",
     "delete_cmd_prefix": "rm(",
     "library": "var_list.r",
     "varRefreshCmd": "cat(var_dic_list()) "
    }
   },
   "types_to_exclude": [
    "module",
    "function",
    "builtin_function_or_method",
    "instance",
    "_Feature"
   ],
   "window_display": false
  }
 },
 "nbformat": 4,
 "nbformat_minor": 2
}
