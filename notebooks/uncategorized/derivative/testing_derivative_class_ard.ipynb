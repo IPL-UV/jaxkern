{
 "cells": [
  {
   "cell_type": "markdown",
   "metadata": {},
   "source": [
    "# Testing Derivative Class"
   ]
  },
  {
   "cell_type": "markdown",
   "metadata": {},
   "source": [
    "This notebook is where I test my new derivative class. There are two: \n",
    "\n",
    "1. This will take a KernelRidge model from a fully trained KRR model from the scikit-learn library that has been trained with my custom RBF kernel.\n",
    "2. This will take a GP model"
   ]
  },
  {
   "cell_type": "code",
   "execution_count": 1,
   "metadata": {},
   "outputs": [],
   "source": [
    "import warnings\n",
    "warnings.simplefilter('ignore')\n",
    "\n",
    "from dask.distributed import Client, LocalCluster\n",
    "from dask_jobqueue import SLURMCluster"
   ]
  },
  {
   "cell_type": "code",
   "execution_count": 2,
   "metadata": {},
   "outputs": [],
   "source": [
    "# cluster = LocalCluster(n_workers=1, \n",
    "#                        processes=False)\n",
    "\n",
    "# cluster = SLURMCluster(memory=\"50GB\",\n",
    "#                        env_extra=['export LANG=\"en_US.utf8\"',\n",
    "#                                   'export LANGUAGE=\"en_US.utf8\"',\n",
    "#                                   'export LC_ALL=\"en_US.utf8\"'],\n",
    "#                        cores=1, job_cpu=16, walltime='3:00:00', name='derivative_test')\n",
    "# # cluster = SLURMCluster(processes=1, cores=1, memory=\"150GB\",\n",
    "# #                        job_cpu=24, walltime='3:00:00', name='cross_preds')\n",
    "# cluster.scale(1)\n",
    "client = Client('192.168.2.18:51120')\n",
    "# client = Client(address=\"nodo08:3008\")\n",
    "# client = Client(cluster)\n",
    "address = client.scheduler.address"
   ]
  },
  {
   "cell_type": "code",
   "execution_count": 3,
   "metadata": {},
   "outputs": [],
   "source": [
    "import sys\n",
    "sys.path.insert(0, '/home/emmanuel/code/kernellib')\n",
    "import numpy as np\n",
    "import matplotlib.pyplot as plt\n",
    "from sklearn.gaussian_process.kernels import RBF\n",
    "from kernellib.kernels import rbf_kernel\n",
    "from kernellib.krr import KernelRidge\n",
    "plt.style.use('ggplot')\n",
    "%matplotlib inline\n",
    "\n",
    "%load_ext memory_profiler\n",
    "%load_ext autoreload"
   ]
  },
  {
   "cell_type": "markdown",
   "metadata": {},
   "source": [
    "## Sample Data"
   ]
  },
  {
   "cell_type": "code",
   "execution_count": 4,
   "metadata": {},
   "outputs": [
    {
     "data": {
      "image/png": "[encoded data removed]",
      "text/plain": [
       "<Figure size 432x288 with 1 Axes>"
      ]
     },
     "metadata": {},
     "output_type": "display_data"
    }
   ],
   "source": [
    "def sample_data():\n",
    "    \"\"\"Gets some sample data.\"\"\"\n",
    "    d_dimensions = 1\n",
    "    n_samples = 50\n",
    "    noise_std = 0.1\n",
    "    seed = 123\n",
    "    rng = np.random.RandomState(seed)\n",
    "\n",
    "\n",
    "    n_train = 50\n",
    "    n_test = 5000\n",
    "    xtrain = np.linspace(-4, 5, n_train).reshape(n_train, 1)\n",
    "    xtest = np.linspace(-4, 5, n_test).reshape(n_test, 1)\n",
    "\n",
    "    f = lambda x: np.sin(x) * np.exp(0.2 * x)\n",
    "    ytrain = f(xtrain) + noise_std * rng.randn(n_train, 1)\n",
    "    ytest = f(xtest)\n",
    "\n",
    "    return xtrain, xtest, ytrain, ytest\n",
    "\n",
    "random_state = 0\n",
    "rng = np.random.RandomState(random_state)\n",
    "\n",
    "xtrain, xtest, ytrain, ytest = sample_data()\n",
    "\n",
    "fig, ax = plt.subplots()\n",
    "\n",
    "ax.scatter(xtrain, ytrain, color='r')\n",
    "ax.plot(xtest, ytest, color='k')\n",
    "\n",
    "plt.show()"
   ]
  },
  {
   "cell_type": "markdown",
   "metadata": {},
   "source": [
    "### ARD Kernel Function"
   ]
  },
  {
   "cell_type": "code",
   "execution_count": 5,
   "metadata": {},
   "outputs": [],
   "source": [
    "from sklearn.gaussian_process.kernels import RBF\n",
    "from kernellib.kernels import ard_kernel\n",
    "\n",
    "%autoreload 2"
   ]
  },
  {
   "cell_type": "code",
   "execution_count": 6,
   "metadata": {},
   "outputs": [],
   "source": [
    "K = ard_kernel(xtrain, length_scale=1.0)\n",
    "sk_ard_kernel = RBF(length_scale=1.0)\n",
    "K_sk = sk_ard_kernel(xtrain)\n",
    "\n",
    "np.testing.assert_array_almost_equal(K, K_sk, decimal=13)\n"
   ]
  },
  {
   "cell_type": "code",
   "execution_count": 7,
   "metadata": {},
   "outputs": [
    {
     "name": "stdout",
     "output_type": "stream",
     "text": [
      "114 µs ± 3.67 µs per loop (mean ± std. dev. of 10 runs, 10000 loops each)\n"
     ]
    }
   ],
   "source": [
    "%timeit -r 10 ard_kernel(xtrain, xtrain, length_scale=1.0)"
   ]
  },
  {
   "cell_type": "code",
   "execution_count": 8,
   "metadata": {},
   "outputs": [
    {
     "name": "stdout",
     "output_type": "stream",
     "text": [
      "80.4 µs ± 426 ns per loop (mean ± std. dev. of 10 runs, 10000 loops each)\n"
     ]
    }
   ],
   "source": [
    "%timeit -r 10 sk_ard_kernel(xtrain, xtrain)"
   ]
  },
  {
   "cell_type": "code",
   "execution_count": 9,
   "metadata": {},
   "outputs": [],
   "source": [
    "X = np.random.randn(5000, 50)"
   ]
  },
  {
   "cell_type": "code",
   "execution_count": 10,
   "metadata": {},
   "outputs": [
    {
     "name": "stdout",
     "output_type": "stream",
     "text": [
      "1.2 s ± 8.06 ms per loop (mean ± std. dev. of 7 runs, 1 loop each)\n"
     ]
    }
   ],
   "source": [
    "%timeit ard_kernel(X, length_scale=1.0)"
   ]
  },
  {
   "cell_type": "code",
   "execution_count": 11,
   "metadata": {},
   "outputs": [
    {
     "name": "stdout",
     "output_type": "stream",
     "text": [
      "680 ms ± 1.06 ms per loop (mean ± std. dev. of 7 runs, 1 loop each)\n"
     ]
    }
   ],
   "source": [
    "%timeit sk_ard_kernel(X)"
   ]
  },
  {
   "cell_type": "markdown",
   "metadata": {},
   "source": [
    "### GP Function"
   ]
  },
  {
   "cell_type": "code",
   "execution_count": 12,
   "metadata": {},
   "outputs": [
    {
     "name": "stdout",
     "output_type": "stream",
     "text": [
      "The autoreload extension is already loaded. To reload it, use:\n",
      "  %reload_ext autoreload\n"
     ]
    }
   ],
   "source": [
    "from sklearn.gaussian_process import GaussianProcessRegressor\n",
    "from sklearn.gaussian_process.kernels import (ConstantKernel as C, RBF, WhiteKernel)\n",
    "\n",
    "%load_ext autoreload"
   ]
  },
  {
   "cell_type": "code",
   "execution_count": 13,
   "metadata": {},
   "outputs": [
    {
     "data": {
      "text/plain": [
       "GaussianProcessRegressor(alpha=1e-10, copy_X_train=True,\n",
       "             kernel=1**2 * RBF(length_scale=1) + WhiteKernel(noise_level=1),\n",
       "             n_restarts_optimizer=5, normalize_y=True,\n",
       "             optimizer='fmin_l_bfgs_b', random_state=123)"
      ]
     },
     "execution_count": 13,
     "metadata": {},
     "output_type": "execute_result"
    }
   ],
   "source": [
    "kernel = C() * RBF() + WhiteKernel()\n",
    "gp_model = GaussianProcessRegressor(kernel=kernel, n_restarts_optimizer=5, random_state=123, normalize_y=True)\n",
    "gp_model.fit(xtrain, ytrain)"
   ]
  },
  {
   "cell_type": "code",
   "execution_count": 14,
   "metadata": {},
   "outputs": [
    {
     "data": {
      "image/png": "[encoded data removed]",
      "text/plain": [
       "<Figure size 432x288 with 1 Axes>"
      ]
     },
     "metadata": {},
     "output_type": "display_data"
    }
   ],
   "source": [
    "ypred = gp_model.predict(xtest)\n",
    "fig, ax = plt.subplots()\n",
    "\n",
    "ax.scatter(xtrain, ytrain, color='r')\n",
    "ax.plot(xtest, ypred, color='k')\n",
    "\n",
    "plt.show()"
   ]
  },
  {
   "cell_type": "markdown",
   "metadata": {},
   "source": [
    "## Derivative"
   ]
  },
  {
   "cell_type": "code",
   "execution_count": 15,
   "metadata": {},
   "outputs": [],
   "source": [
    "from kernellib.derivatives import ARDDerivative\n",
    "\n",
    "%autoreload 2"
   ]
  },
  {
   "cell_type": "code",
   "execution_count": 16,
   "metadata": {},
   "outputs": [
    {
     "name": "stdout",
     "output_type": "stream",
     "text": [
      "[0.86466304]\n",
      "[1.73323923]\n"
     ]
    }
   ],
   "source": [
    "ard_derivative = ARDDerivative(gp_model=gp_model)\n",
    "der = ard_derivative(xtest)\n",
    "point_sens = ard_derivative.sensitivity(xtest)\n",
    "dim_sens = ard_derivative.sensitivity(xtest, sample='dim')\n",
    "print(dim_sens)\n",
    "\n",
    "print(ard_derivative.length_scale)"
   ]
  },
  {
   "cell_type": "code",
   "execution_count": 17,
   "metadata": {},
   "outputs": [
    {
     "data": {
      "image/png": "[encoded data removed]",
      "text/plain": [
       "<Figure size 432x288 with 1 Axes>"
      ]
     },
     "metadata": {},
     "output_type": "display_data"
    }
   ],
   "source": [
    "fig, ax = plt.subplots()\n",
    "\n",
    "ax.scatter(xtrain, ytrain, color='r')\n",
    "ax.scatter(xtest, ypred, c=point_sens.reshape(-1, 1), cmap=plt.get_cmap('magma'), label='Predictions')\n",
    "ax.scatter(xtest, der,  label='Numba')\n",
    "\n",
    "ax.legend()\n",
    "plt.show()"
   ]
  },
  {
   "cell_type": "code",
   "execution_count": 73,
   "metadata": {},
   "outputs": [],
   "source": [
    "from sklearn.datasets import load_boston\n",
    "from sklearn.metrics import mean_absolute_error, mean_squared_error, r2_score\n",
    "from sklearn.model_selection import train_test_split\n",
    "import numpy as np"
   ]
  },
  {
   "cell_type": "code",
   "execution_count": 74,
   "metadata": {},
   "outputs": [
    {
     "name": "stdout",
     "output_type": "stream",
     "text": [
      "(404, 13) (102, 13)\n"
     ]
    }
   ],
   "source": [
    "X, y = load_boston().data, load_boston().target\n",
    "\n",
    "xtrain, xtest, ytrain, ytest = train_test_split(X, y, train_size=0.8, random_state=123)\n",
    "print(xtrain.shape, xtest.shape)"
   ]
  },
  {
   "cell_type": "code",
   "execution_count": 79,
   "metadata": {},
   "outputs": [
    {
     "name": "stdout",
     "output_type": "stream",
     "text": [
      "CPU times: user 59.3 s, sys: 7min 37s, total: 8min 36s\n",
      "Wall time: 14.4 s\n"
     ]
    }
   ],
   "source": [
    "%%time\n",
    "# Initialize GP Model\n",
    "kernel = C() * RBF() + WhiteKernel()\n",
    "gp_model = GaussianProcessRegressor(kernel=kernel, n_restarts_optimizer=20, random_state=None, normalize_y=True)\n",
    "gp_model.fit(xtrain, ytrain)\n",
    "ypred = gp_model.predict(xtest)"
   ]
  },
  {
   "cell_type": "code",
   "execution_count": 80,
   "metadata": {},
   "outputs": [
    {
     "name": "stdout",
     "output_type": "stream",
     "text": [
      "14.61593995606758 2.603261802954389 0.808490572824327\n"
     ]
    }
   ],
   "source": [
    "mse = mean_squared_error(ypred, ytest)\n",
    "mae = mean_absolute_error(ypred, ytest)\n",
    "r2 = r2_score(ypred, ytest)\n",
    "print(mse, mae, r2)"
   ]
  },
  {
   "cell_type": "code",
   "execution_count": 81,
   "metadata": {},
   "outputs": [],
   "source": [
    "from kernellib.derivatives import ARDDerivative\n",
    "\n",
    "%autoreload 2"
   ]
  },
  {
   "cell_type": "code",
   "execution_count": 82,
   "metadata": {},
   "outputs": [],
   "source": [
    "ard_derivative = ARDDerivative(gp_model=gp_model)\n",
    "der = ard_derivative(xtest)\n",
    "dim_sens = ard_derivative.sensitivity(xtest, sample='dim')"
   ]
  },
  {
   "cell_type": "code",
   "execution_count": 83,
   "metadata": {},
   "outputs": [
    {
     "data": {
      "image/png": "[encoded data removed]",
      "text/plain": [
       "<Figure size 432x288 with 1 Axes>"
      ]
     },
     "metadata": {},
     "output_type": "display_data"
    }
   ],
   "source": [
    "ind = np.arange(X.shape[1])  # the x locations for the groups\n",
    "width = .5       # the width of the bars\n",
    "\n",
    "fig, ax = plt.subplots()\n",
    "gpr = ax.bar(ind, dim_sens, width, color='r', label='ARD')\n",
    "\n",
    "plt.show()"
   ]
  },
  {
   "cell_type": "code",
   "execution_count": 84,
   "metadata": {},
   "outputs": [
    {
     "name": "stdout",
     "output_type": "stream",
     "text": [
      "CPU times: user 5min 20s, sys: 51min 55s, total: 57min 15s\n",
      "Wall time: 1min 36s\n"
     ]
    }
   ],
   "source": [
    "%%time\n",
    "# Initialize GP Model\n",
    "init_scale = [1.0] * xtrain.shape[1]\n",
    "kernel = C() * RBF(init_scale) + WhiteKernel()\n",
    "gp_model = GaussianProcessRegressor(kernel=kernel, n_restarts_optimizer=20, random_state=None, normalize_y=True)\n",
    "gp_model.fit(xtrain, ytrain)\n",
    "ypred = gp_model.predict(xtest)"
   ]
  },
  {
   "cell_type": "code",
   "execution_count": 85,
   "metadata": {},
   "outputs": [
    {
     "name": "stdout",
     "output_type": "stream",
     "text": [
      "28.09311717950738 3.0128161991149054 0.5587446582723312\n"
     ]
    }
   ],
   "source": [
    "mse = mean_squared_error(ypred, ytest)\n",
    "mae = mean_absolute_error(ypred, ytest)\n",
    "r2 = r2_score(ypred, ytest)\n",
    "print(mse, mae, r2)"
   ]
  },
  {
   "cell_type": "code",
   "execution_count": 86,
   "metadata": {},
   "outputs": [],
   "source": [
    "ard_derivative = ARDDerivative(gp_model=gp_model)\n",
    "der = ard_derivative(xtest)\n",
    "dim_sens = ard_derivative.sensitivity(xtest, sample='dim')"
   ]
  },
  {
   "cell_type": "code",
   "execution_count": 87,
   "metadata": {},
   "outputs": [
    {
     "data": {
      "image/png": "[encoded data removed]",
      "text/plain": [
       "<Figure size 432x288 with 1 Axes>"
      ]
     },
     "metadata": {},
     "output_type": "display_data"
    }
   ],
   "source": [
    "ind = np.arange(X.shape[1])  # the x locations for the groups\n",
    "width = .5       # the width of the bars\n",
    "\n",
    "fig, ax = plt.subplots()\n",
    "gpr = ax.bar(ind, dim_sens, width, color='r', label='ARD')\n",
    "\n",
    "plt.show()"
   ]
  },
  {
   "cell_type": "code",
   "execution_count": 88,
   "metadata": {},
   "outputs": [
    {
     "data": {
      "image/png": "[encoded data removed]",
      "text/plain": [
       "<Figure size 432x288 with 1 Axes>"
      ]
     },
     "metadata": {},
     "output_type": "display_data"
    }
   ],
   "source": [
    "ind = np.arange(X.shape[1])  # the x locations for the groups\n",
    "width = .5       # the width of the bars\n",
    "\n",
    "fig, ax = plt.subplots()\n",
    "gpr = ax.bar(ind, ard_derivative.length_scale, width, color='r', label='ARD')\n",
    "\n",
    "plt.show()"
   ]
  },
  {
   "cell_type": "code",
   "execution_count": null,
   "metadata": {},
   "outputs": [],
   "source": []
  }
 ],
 "metadata": {
  "kernelspec": {
   "display_name": "Python 3",
   "language": "python",
   "name": "python3"
  },
  "language_info": {
   "codemirror_mode": {
    "name": "ipython",
    "version": 3
   },
   "file_extension": ".py",
   "mimetype": "text/x-python",
   "name": "python",
   "nbconvert_exporter": "python",
   "pygments_lexer": "ipython3",
   "version": "3.6.6"
  }
 },
 "nbformat": 4,
 "nbformat_minor": 2
}
