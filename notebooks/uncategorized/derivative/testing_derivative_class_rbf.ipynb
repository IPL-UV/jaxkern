{
 "cells": [
  {
   "cell_type": "markdown",
   "metadata": {},
   "source": [
    "# Testing Derivative Class"
   ]
  },
  {
   "cell_type": "markdown",
   "metadata": {},
   "source": [
    "This notebook is where I test my new derivative class. There are two: \n",
    "\n",
    "1. This will take a KernelRidge model from a fully trained KRR model from the scikit-learn library that has been trained with my custom RBF kernel.\n",
    "2. This will take a GP model"
   ]
  },
  {
   "cell_type": "code",
   "execution_count": 1,
   "metadata": {},
   "outputs": [],
   "source": [
    "import warnings\n",
    "warnings.simplefilter('ignore')\n",
    "\n",
    "from dask.distributed import Client, LocalCluster\n",
    "from dask_jobqueue import SLURMCluster"
   ]
  },
  {
   "cell_type": "code",
   "execution_count": 3,
   "metadata": {},
   "outputs": [],
   "source": [
    "# cluster = LocalCluster(n_workers=1, \n",
    "#                        processes=False)\n",
    "\n",
    "cluster = SLURMCluster(memory=\"50GB\",\n",
    "                       env_extra=['export LANG=\"en_US.utf8\"',\n",
    "                                  'export LANGUAGE=\"en_US.utf8\"',\n",
    "                                  'export LC_ALL=\"en_US.utf8\"'],\n",
    "                       cores=1, job_cpu=16, walltime='3:00:00', name='derivative_test')\n",
    "# cluster = SLURMCluster(processes=1, cores=1, memory=\"150GB\",\n",
    "#                        job_cpu=24, walltime='3:00:00', name='cross_preds')\n",
    "cluster.scale(1)\n",
    "client = Client(cluster)\n",
    "# client = Client(address=\"nodo08:3008\")\n",
    "# client = Client(cluster)\n",
    "address = client.scheduler.address"
   ]
  },
  {
   "cell_type": "code",
   "execution_count": 69,
   "metadata": {},
   "outputs": [
    {
     "name": "stdout",
     "output_type": "stream",
     "text": [
      "tcp://192.168.2.18:51120\n"
     ]
    }
   ],
   "source": [
    "print(address)"
   ]
  },
  {
   "cell_type": "code",
   "execution_count": 70,
   "metadata": {},
   "outputs": [
    {
     "name": "stdout",
     "output_type": "stream",
     "text": [
      "The memory_profiler extension is already loaded. To reload it, use:\n",
      "  %reload_ext memory_profiler\n",
      "The autoreload extension is already loaded. To reload it, use:\n",
      "  %reload_ext autoreload\n"
     ]
    }
   ],
   "source": [
    "import sys\n",
    "sys.path.insert(0, '/home/emmanuel/code/kernellib')\n",
    "import numpy as np\n",
    "import matplotlib.pyplot as plt\n",
    "from sklearn.gaussian_process.kernels import RBF\n",
    "from kernellib.kernels import rbf_kernel\n",
    "from kernellib.krr import KernelRidge\n",
    "plt.style.use('ggplot')\n",
    "%matplotlib inline\n",
    "\n",
    "%load_ext memory_profiler\n",
    "%load_ext autoreload"
   ]
  },
  {
   "cell_type": "markdown",
   "metadata": {},
   "source": [
    "## Sample Data"
   ]
  },
  {
   "cell_type": "code",
   "execution_count": 71,
   "metadata": {},
   "outputs": [
    {
     "data": {
      "image/png": "[encoded data removed]",
      "text/plain": [
       "<Figure size 432x288 with 1 Axes>"
      ]
     },
     "metadata": {},
     "output_type": "display_data"
    }
   ],
   "source": [
    "def sample_data():\n",
    "    \"\"\"Gets some sample data.\"\"\"\n",
    "    d_dimensions = 1\n",
    "    n_samples = 50\n",
    "    noise_std = 0.1\n",
    "    seed = 123\n",
    "    rng = np.random.RandomState(seed)\n",
    "\n",
    "\n",
    "    n_train = 50\n",
    "    n_test = 5000\n",
    "    xtrain = np.linspace(-4, 5, n_train).reshape(n_train, 1)\n",
    "    xtest = np.linspace(-4, 5, n_test).reshape(n_test, 1)\n",
    "\n",
    "    f = lambda x: np.sin(x) * np.exp(0.2 * x)\n",
    "    ytrain = f(xtrain) + noise_std * rng.randn(n_train, 1)\n",
    "    ytest = f(xtest)\n",
    "\n",
    "    return xtrain, xtest, ytrain, ytest\n",
    "\n",
    "random_state = 0\n",
    "rng = np.random.RandomState(random_state)\n",
    "\n",
    "xtrain, xtest, ytrain, ytest = sample_data()\n",
    "\n",
    "fig, ax = plt.subplots()\n",
    "\n",
    "ax.scatter(xtrain, ytrain, color='r')\n",
    "ax.plot(xtest, ytest, color='k')\n",
    "\n",
    "plt.show()"
   ]
  },
  {
   "cell_type": "markdown",
   "metadata": {},
   "source": [
    "### RBF Kernel Function"
   ]
  },
  {
   "cell_type": "code",
   "execution_count": 72,
   "metadata": {},
   "outputs": [],
   "source": [
    "from sklearn.gaussian_process.kernels import RBF\n",
    "from kernellib.kernels import rbf_kernel\n",
    "\n",
    "%autoreload 2"
   ]
  },
  {
   "cell_type": "code",
   "execution_count": 73,
   "metadata": {},
   "outputs": [],
   "source": [
    "K = rbf_kernel(xtrain, length_scale=1.0)\n",
    "sk_rbf_kernel = RBF(length_scale=1.0)\n",
    "K_sk = sk_rbf_kernel(xtrain)\n",
    "\n",
    "np.testing.assert_array_almost_equal(K, K_sk, decimal=13)\n"
   ]
  },
  {
   "cell_type": "code",
   "execution_count": 18,
   "metadata": {},
   "outputs": [
    {
     "name": "stdout",
     "output_type": "stream",
     "text": [
      "135 µs ± 8.45 µs per loop (mean ± std. dev. of 10 runs, 10000 loops each)\n"
     ]
    }
   ],
   "source": [
    "%timeit -r 10 rbf_kernel(xtrain, xtrain, length_scale=1.0)"
   ]
  },
  {
   "cell_type": "code",
   "execution_count": 19,
   "metadata": {},
   "outputs": [
    {
     "name": "stdout",
     "output_type": "stream",
     "text": [
      "85.6 µs ± 2.61 µs per loop (mean ± std. dev. of 10 runs, 10000 loops each)\n"
     ]
    }
   ],
   "source": [
    "%timeit -r 10 sk_rbf_kernel(xtrain, xtrain)"
   ]
  },
  {
   "cell_type": "code",
   "execution_count": 20,
   "metadata": {},
   "outputs": [],
   "source": [
    "X = np.random.randn(5000, 50)"
   ]
  },
  {
   "cell_type": "code",
   "execution_count": 21,
   "metadata": {},
   "outputs": [
    {
     "name": "stdout",
     "output_type": "stream",
     "text": [
      "313 ms ± 8.54 ms per loop (mean ± std. dev. of 7 runs, 1 loop each)\n",
      "Compiler time: 0.21 s\n"
     ]
    }
   ],
   "source": [
    "%timeit rbf_kernel(X, length_scale=1.0)"
   ]
  },
  {
   "cell_type": "code",
   "execution_count": 22,
   "metadata": {},
   "outputs": [
    {
     "name": "stdout",
     "output_type": "stream",
     "text": [
      "701 ms ± 45 ms per loop (mean ± std. dev. of 7 runs, 1 loop each)\n"
     ]
    }
   ],
   "source": [
    "%timeit sk_rbf_kernel(X)"
   ]
  },
  {
   "cell_type": "markdown",
   "metadata": {},
   "source": [
    "### With My Custom Kernel Ridge Function"
   ]
  },
  {
   "cell_type": "code",
   "execution_count": 74,
   "metadata": {},
   "outputs": [
    {
     "name": "stdout",
     "output_type": "stream",
     "text": [
      "The autoreload extension is already loaded. To reload it, use:\n",
      "  %reload_ext autoreload\n"
     ]
    }
   ],
   "source": [
    "from kernellib.krr import KernelRidge\n",
    "\n",
    "%load_ext autoreload"
   ]
  },
  {
   "cell_type": "code",
   "execution_count": 75,
   "metadata": {},
   "outputs": [
    {
     "name": "stdout",
     "output_type": "stream",
     "text": [
      "(50, 1) (50, 1)\n"
     ]
    }
   ],
   "source": [
    "krr_model = KernelRidge(alpha=1.0, length_scale=1.0, signal_variance=1.0)\n",
    "print(xtrain.shape, ytrain.shape)\n",
    "krr_model.fit(xtrain, ytrain.reshape(-1,1))\n",
    "ypred = krr_model.predict(xtest)"
   ]
  },
  {
   "cell_type": "code",
   "execution_count": 76,
   "metadata": {},
   "outputs": [
    {
     "data": {
      "image/png": "[encoded data removed]",
      "text/plain": [
       "<Figure size 432x288 with 1 Axes>"
      ]
     },
     "metadata": {},
     "output_type": "display_data"
    }
   ],
   "source": [
    "fig, ax = plt.subplots()\n",
    "\n",
    "ax.scatter(xtrain, ytrain, color='r')\n",
    "ax.plot(xtest, ypred, color='k')\n",
    "\n",
    "plt.show()"
   ]
  },
  {
   "cell_type": "markdown",
   "metadata": {},
   "source": [
    "#### Using Grid Search"
   ]
  },
  {
   "cell_type": "code",
   "execution_count": 77,
   "metadata": {},
   "outputs": [],
   "source": [
    "from sklearn.model_selection import GridSearchCV"
   ]
  },
  {
   "cell_type": "code",
   "execution_count": 78,
   "metadata": {},
   "outputs": [
    {
     "name": "stdout",
     "output_type": "stream",
     "text": [
      "Fitting 3 folds for each of 1000 candidates, totalling 3000 fits\n"
     ]
    },
    {
     "name": "stderr",
     "output_type": "stream",
     "text": [
      "[Parallel(n_jobs=8)]: Done 160 tasks      | elapsed:    0.5s\n",
      "[Parallel(n_jobs=8)]: Done 2456 tasks      | elapsed:    3.9s\n"
     ]
    },
    {
     "name": "stdout",
     "output_type": "stream",
     "text": [
      "KernelRidge(alpha=0.001, length_scale=2.1544346900318834,\n",
      "      signal_variance=1.291549665014884)\n"
     ]
    },
    {
     "name": "stderr",
     "output_type": "stream",
     "text": [
      "[Parallel(n_jobs=8)]: Done 3000 out of 3000 | elapsed:    4.4s finished\n"
     ]
    }
   ],
   "source": [
    "param_grid = {\n",
    "    'signal_variance': np.logspace(-1, 1, 10),\n",
    "    'alpha': np.logspace(-3, 1, 10),\n",
    "    'length_scale': np.logspace(-1, 1, 10)\n",
    "}\n",
    "\n",
    "grid_clf = GridSearchCV(KernelRidge(), param_grid=param_grid, verbose=1, n_jobs=8, cv=3)\n",
    "grid_clf.fit(xtrain, ytrain);\n",
    "krr_model = grid_clf.best_estimator_\n",
    "print(krr_model)"
   ]
  },
  {
   "cell_type": "code",
   "execution_count": 79,
   "metadata": {},
   "outputs": [
    {
     "data": {
      "image/png": "[encoded data removed]",
      "text/plain": [
       "<Figure size 432x288 with 1 Axes>"
      ]
     },
     "metadata": {},
     "output_type": "display_data"
    }
   ],
   "source": [
    "ypred = krr_model.predict(xtest)\n",
    "der = krr_model.derivative(xtest)\n",
    "sens = krr_model.sensitivity(xtest)\n",
    "fig, ax = plt.subplots()\n",
    "\n",
    "ax.scatter(xtrain, ytrain, color='r')\n",
    "ax.plot(xtest, ypred, color='k')\n",
    "ax.scatter(xtest, der, c=sens.reshape(-1, 1), cmap=plt.get_cmap('magma'))\n",
    "\n",
    "plt.show()"
   ]
  },
  {
   "cell_type": "markdown",
   "metadata": {},
   "source": [
    "## Derivative"
   ]
  },
  {
   "cell_type": "code",
   "execution_count": 80,
   "metadata": {},
   "outputs": [],
   "source": [
    "from kernellib.derivatives import RBFDerivative\n",
    "\n",
    "%autoreload 2"
   ]
  },
  {
   "cell_type": "code",
   "execution_count": 81,
   "metadata": {},
   "outputs": [
    {
     "name": "stdout",
     "output_type": "stream",
     "text": [
      "[0.86842487]\n"
     ]
    }
   ],
   "source": [
    "rbf_derivative = RBFDerivative(krr_model=krr_model)\n",
    "der = rbf_derivative(xtest)\n",
    "point_sens = rbf_derivative.sensitivity(xtest)\n",
    "dim_sens = rbf_derivative.sensitivity(xtest, sample='dim')\n",
    "print(dim_sens)"
   ]
  },
  {
   "cell_type": "code",
   "execution_count": 82,
   "metadata": {},
   "outputs": [
    {
     "data": {
      "image/png": "[encoded data removed]",
      "text/plain": [
       "<Figure size 432x288 with 1 Axes>"
      ]
     },
     "metadata": {},
     "output_type": "display_data"
    }
   ],
   "source": [
    "fig, ax = plt.subplots()\n",
    "\n",
    "ax.scatter(xtrain, ytrain)\n",
    "# ax.scatter(xtest, der, label='Full')\n",
    "ax.scatter(xtest, der, c=point_sens.reshape(-1, 1), cmap=plt.get_cmap('magma'), label='Numba')\n",
    "\n",
    "ax.legend()\n",
    "plt.show()"
   ]
  },
  {
   "cell_type": "markdown",
   "metadata": {},
   "source": [
    "## 2D Example"
   ]
  },
  {
   "cell_type": "code",
   "execution_count": 83,
   "metadata": {},
   "outputs": [],
   "source": [
    "from sklearn.datasets import load_boston\n",
    "from sklearn.metrics import mean_absolute_error, mean_squared_error, r2_score\n",
    "from sklearn.model_selection import train_test_split\n",
    "import numpy as np"
   ]
  },
  {
   "cell_type": "code",
   "execution_count": 84,
   "metadata": {},
   "outputs": [
    {
     "name": "stdout",
     "output_type": "stream",
     "text": [
      "(404, 13) (102, 13)\n"
     ]
    }
   ],
   "source": [
    "X, y = load_boston().data, load_boston().target\n",
    "\n",
    "xtrain, xtest, ytrain, ytest = train_test_split(X, y, train_size=0.8, random_state=123)\n",
    "print(xtrain.shape, xtest.shape)"
   ]
  },
  {
   "cell_type": "code",
   "execution_count": 122,
   "metadata": {},
   "outputs": [
    {
     "name": "stdout",
     "output_type": "stream",
     "text": [
      "Fitting 3 folds for each of 2000 candidates, totalling 6000 fits\n"
     ]
    },
    {
     "name": "stderr",
     "output_type": "stream",
     "text": [
      "[Parallel(n_jobs=12)]: Done  26 tasks      | elapsed:    0.6s\n",
      "[Parallel(n_jobs=12)]: Done 176 tasks      | elapsed:    2.1s\n",
      "[Parallel(n_jobs=12)]: Done 426 tasks      | elapsed:    4.9s\n",
      "[Parallel(n_jobs=12)]: Done 780 tasks      | elapsed:    8.6s\n",
      "[Parallel(n_jobs=12)]: Done 1680 tasks      | elapsed:   18.4s\n",
      "[Parallel(n_jobs=12)]: Done 2780 tasks      | elapsed:   31.1s\n",
      "[Parallel(n_jobs=12)]: Done 4080 tasks      | elapsed:   47.6s\n",
      "[Parallel(n_jobs=12)]: Done 5580 tasks      | elapsed:  1.1min\n"
     ]
    },
    {
     "name": "stdout",
     "output_type": "stream",
     "text": [
      "KernelRidge(alpha=0.0001291549665014884, length_scale=2636.6508987303555,\n",
      "      signal_variance=27825.59402207126)\n",
      "CPU times: user 5.97 s, sys: 1.27 s, total: 7.24 s\n",
      "Wall time: 1min 9s\n"
     ]
    },
    {
     "name": "stderr",
     "output_type": "stream",
     "text": [
      "[Parallel(n_jobs=12)]: Done 6000 out of 6000 | elapsed:  1.1min finished\n"
     ]
    }
   ],
   "source": [
    "%%time \n",
    "\n",
    "param_grid = {\n",
    "    'signal_variance': np.logspace(0, 5, 10),\n",
    "    'alpha': np.logspace(-5, 5, 10),\n",
    "    'length_scale': np.logspace(-5, 5, 20)\n",
    "}\n",
    "\n",
    "grid_clf = GridSearchCV(KernelRidge(), param_grid=param_grid, verbose=1, n_jobs=12, cv=3)\n",
    "grid_clf.fit(xtrain, ytrain);\n",
    "krr_model = grid_clf.best_estimator_\n",
    "print(krr_model)"
   ]
  },
  {
   "cell_type": "code",
   "execution_count": 123,
   "metadata": {},
   "outputs": [
    {
     "name": "stdout",
     "output_type": "stream",
     "text": [
      "14.336122376903118 2.6499287969925818 0.7989489618878673\n"
     ]
    }
   ],
   "source": [
    "ypred = krr_model.predict(xtest)\n",
    "mse = mean_squared_error(ypred, ytest)\n",
    "mae = mean_absolute_error(ypred, ytest)\n",
    "r2 = r2_score(ypred, ytest)\n",
    "print(mse, mae, r2)"
   ]
  },
  {
   "cell_type": "code",
   "execution_count": 124,
   "metadata": {},
   "outputs": [],
   "source": [
    "from kernellib.derivatives import RBFDerivative\n",
    "\n",
    "%autoreload 2"
   ]
  },
  {
   "cell_type": "code",
   "execution_count": 125,
   "metadata": {},
   "outputs": [],
   "source": [
    "rbf_derivative = RBFDerivative(krr_model=krr_model)\n",
    "der = rbf_derivative(xtest)\n",
    "point_sens = rbf_derivative.sensitivity(xtest)\n",
    "dim_sens = rbf_derivative.sensitivity(xtest, sample='dim')"
   ]
  },
  {
   "cell_type": "code",
   "execution_count": 126,
   "metadata": {},
   "outputs": [
    {
     "data": {
      "image/png": "[encoded data removed]",
      "text/plain": [
       "<Figure size 432x288 with 1 Axes>"
      ]
     },
     "metadata": {},
     "output_type": "display_data"
    }
   ],
   "source": [
    "ind = np.arange(X.shape[1])  # the x locations for the groups\n",
    "width = .5       # the width of the bars\n",
    "\n",
    "fig, ax = plt.subplots()\n",
    "gpr = ax.bar(ind, dim_sens, width, color='r', label='ARD')\n",
    "\n",
    "plt.show()"
   ]
  },
  {
   "cell_type": "code",
   "execution_count": null,
   "metadata": {},
   "outputs": [],
   "source": []
  }
 ],
 "metadata": {
  "kernelspec": {
   "display_name": "Python 3",
   "language": "python",
   "name": "python3"
  },
  "language_info": {
   "codemirror_mode": {
    "name": "ipython",
    "version": 3
   },
   "file_extension": ".py",
   "mimetype": "text/x-python",
   "name": "python",
   "nbconvert_exporter": "python",
   "pygments_lexer": "ipython3",
   "version": "3.6.6"
  }
 },
 "nbformat": 4,
 "nbformat_minor": 2
}
