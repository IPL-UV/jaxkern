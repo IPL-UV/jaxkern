{
 "cells": [
  {
   "cell_type": "code",
   "execution_count": 1,
   "metadata": {},
   "outputs": [
    {
     "name": "stderr",
     "output_type": "stream",
     "text": [
      "/home/emmanuel/.conda/envs/sci_py36/lib/python3.6/importlib/_bootstrap.py:219: RuntimeWarning: numpy.dtype size changed, may indicate binary incompatibility. Expected 96, got 88\n",
      "  return f(*args, **kwds)\n",
      "/home/emmanuel/.conda/envs/sci_py36/lib/python3.6/importlib/_bootstrap.py:219: RuntimeWarning: numpy.dtype size changed, may indicate binary incompatibility. Expected 96, got 88\n",
      "  return f(*args, **kwds)\n"
     ]
    }
   ],
   "source": [
    "import numpy as np\n",
    "from sklearn.base import BaseEstimator, RegressorMixin, clone\n",
    "from sklearn.metrics.pairwise import rbf_kernel\n",
    "from sklearn.utils.validation import check_X_y, check_array, check_is_fitted\n",
    "import sys\n",
    "sys.path.insert(0,'/Users/eman/Documents/code_projects/kernellib/')\n",
    "\n",
    "import matplotlib.pyplot as plt\n",
    "%matplotlib inline"
   ]
  },
  {
   "cell_type": "code",
   "execution_count": 2,
   "metadata": {
    "code_folding": []
   },
   "outputs": [],
   "source": [
    "def sample_data():\n",
    "    \"\"\"Gets some sample data.\"\"\"\n",
    "    d_dimensions = 1\n",
    "    n_samples = 20\n",
    "    noise_std = 0.1\n",
    "    seed = 123\n",
    "    rng = np.random.RandomState(seed)\n",
    "\n",
    "\n",
    "    n_train = 20\n",
    "    n_test = 5000\n",
    "    xtrain = np.linspace(-4, 5, n_train).reshape(n_train, 1)\n",
    "    xtest = np.linspace(-4, 5, n_test).reshape(n_test, 1)\n",
    "\n",
    "    f = lambda x: np.sin(x) * np.exp(0.2 * x)\n",
    "    ytrain = f(xtrain) + noise_std * rng.randn(n_train, 1)\n",
    "    ytest = f(xtest)\n",
    "\n",
    "    return xtrain, xtest, ytrain, ytest"
   ]
  },
  {
   "cell_type": "code",
   "execution_count": 3,
   "metadata": {},
   "outputs": [],
   "source": [
    "random_state = 0\n",
    "rng = np.random.RandomState(random_state)\n",
    "\n",
    "x_train, x_test, y_train, y_test = sample_data()\n",
    "\n",
    "# # Training data is 11 points in [0,1] inclusive regularly spaced# Traini \n",
    "# x_train = np.linspace(0, 1, 25).reshape(-1, 1)\n",
    "\n",
    "# # True function is sin(2*pi*x) with Gaussian noise\n",
    "# y_train = np.sin(x_train * (4 * np.pi)) + rng.randn(x_train.shape[0], 1) * 0.3\n",
    "# y_train = np.squeeze(y_train)\n",
    "\n",
    "# x_test = np.linspace(0, 1, 1000).reshape(-1, 1)"
   ]
  },
  {
   "cell_type": "code",
   "execution_count": 4,
   "metadata": {},
   "outputs": [
    {
     "data": {
      "image/png": "[encoded data removed]",
      "text/plain": [
       "<Figure size 432x288 with 1 Axes>"
      ]
     },
     "metadata": {},
     "output_type": "display_data"
    }
   ],
   "source": [
    "fig, ax = plt.subplots()\n",
    "\n",
    "ax.scatter(x_train, y_train)\n",
    "\n",
    "plt.show()"
   ]
  },
  {
   "cell_type": "markdown",
   "metadata": {},
   "source": [
    "### ARD Kernel"
   ]
  },
  {
   "cell_type": "code",
   "execution_count": 5,
   "metadata": {},
   "outputs": [],
   "source": [
    "from sklearn.gaussian_process.kernels import RBF, WhiteKernel, ConstantKernel as C"
   ]
  },
  {
   "cell_type": "code",
   "execution_count": 6,
   "metadata": {},
   "outputs": [],
   "source": [
    "ard_kernel = C() * RBF() + WhiteKernel()"
   ]
  },
  {
   "cell_type": "markdown",
   "metadata": {},
   "source": [
    "## GPR"
   ]
  },
  {
   "cell_type": "code",
   "execution_count": 7,
   "metadata": {},
   "outputs": [],
   "source": [
    "from sklearn.gaussian_process import GaussianProcessRegressor"
   ]
  },
  {
   "cell_type": "code",
   "execution_count": 8,
   "metadata": {},
   "outputs": [
    {
     "name": "stdout",
     "output_type": "stream",
     "text": [
      "CPU times: user 1.65 s, sys: 9.81 s, total: 11.5 s\n",
      "Wall time: 570 ms\n"
     ]
    }
   ],
   "source": [
    "%%time\n",
    "gp_model = GaussianProcessRegressor(kernel=ard_kernel, n_restarts_optimizer=10, random_state=0)\n",
    "gp_model.fit(x_train, y_train)\n",
    "\n",
    "weights = gp_model.alpha_\n",
    "signal_variance = gp_model.kernel_.get_params()['k1__k1__constant_value']\n",
    "length_scale = np.array([gp_model.kernel_.get_params()['k1__k2__length_scale']])\n",
    "noise_likelihood = gp_model.kernel_.get_params()['k2__noise_level']\n",
    "K = gp_model.kernel_(x_test, x_train)\n",
    "\n",
    "y_pred = gp_model.predict(x_test)"
   ]
  },
  {
   "cell_type": "markdown",
   "metadata": {},
   "source": [
    "# Full Derivative Map"
   ]
  },
  {
   "cell_type": "markdown",
   "metadata": {},
   "source": [
    "[Nx dx] = size(x);\n",
    "[Ns ds] = size(sv);\n",
    "Kreg = kernel2(x,sv,sigma);\n",
    "% for p=1:Nx\n",
    "%     for q=1:Ns\n",
    "%         for xxx = 1:dx\n",
    "%             map0(xxx,p,q) = alpha(q) * (x(p,xxx)-sv(q,xxx)) * Kreg(p,q);\n",
    "%         end\n",
    "%     end\n",
    "% end"
   ]
  },
  {
   "cell_type": "markdown",
   "metadata": {},
   "source": [
    "map2 = zeros(dx,Nx,Ns);\n",
    "for p=1:Nx\n",
    "        map2(:,p,:) = (repmat(alpha,1,size(sv,2)) .* (repmat(x(p,:),size(sv,1),1)-sv) .* repmat(Kreg(p,:)',1,size(sv,2)))';\n",
    "        %p\n",
    "end"
   ]
  },
  {
   "cell_type": "code",
   "execution_count": 9,
   "metadata": {},
   "outputs": [],
   "source": [
    "# import sys\n",
    "# sys.path.insert(0, '/home/emmanuel/Drives/erc/code/kernellib')\n",
    "\n",
    "# from kernellib.derivatives import ard_derivative"
   ]
  },
  {
   "cell_type": "code",
   "execution_count": 10,
   "metadata": {},
   "outputs": [],
   "source": [
    "# print(np.ndim(x_test))"
   ]
  },
  {
   "cell_type": "markdown",
   "metadata": {},
   "source": [
    "## Pure Python"
   ]
  },
  {
   "cell_type": "code",
   "execution_count": 11,
   "metadata": {},
   "outputs": [],
   "source": [
    "def ard_full_py(x_train, x_function, K, weights, length_scale):\n",
    "    \n",
    "    n_test, d_dims = x_function.shape\n",
    "    n_train, d_dims = x_train.shape\n",
    "    \n",
    "    derivative = np.zeros(shape=(n_test, n_train, d_dims))\n",
    "    \n",
    "    constant = -np.power(length_scale, -2)\n",
    "    for itest in range(n_test):\n",
    "        for itrain in range(n_train):\n",
    "            for idim in range(d_dims):\n",
    "                derivative[itest, itrain, idim] = \\\n",
    "                    constant[idim] * weights[itrain] \\\n",
    "                    * (x_function[itest, idim] - x_train[itrain, idim]) \\\n",
    "                    * K[itest, itrain]\n",
    "        \n",
    "    return derivative"
   ]
  },
  {
   "cell_type": "code",
   "execution_count": 12,
   "metadata": {},
   "outputs": [
    {
     "name": "stdout",
     "output_type": "stream",
     "text": [
      "(5000, 1)\n"
     ]
    }
   ],
   "source": [
    "d1_map_py = ard_full_py(x_train, x_test, K, weights, length_scale)\n",
    "d1_der_py = d1_map_py.sum(axis=1)\n",
    "print(d1_der_py.shape)"
   ]
  },
  {
   "cell_type": "code",
   "execution_count": 13,
   "metadata": {},
   "outputs": [
    {
     "name": "stdout",
     "output_type": "stream",
     "text": [
      "519 ms ± 2.37 ms per loop (mean ± std. dev. of 7 runs, 1 loop each)\n"
     ]
    }
   ],
   "source": [
    "pyed = %timeit -o ard_full_py(x_train, x_test, K, weights, length_scale)"
   ]
  },
  {
   "cell_type": "code",
   "execution_count": 14,
   "metadata": {},
   "outputs": [
    {
     "data": {
      "image/png": "[encoded data removed]",
      "text/plain": [
       "<Figure size 432x288 with 1 Axes>"
      ]
     },
     "metadata": {},
     "output_type": "display_data"
    }
   ],
   "source": [
    "fig, ax = plt.subplots()\n",
    "\n",
    "ax.scatter(x_train, y_train, color='r', label='Training Data')\n",
    "ax.plot(x_test, y_pred, color='k', label='Predictions')\n",
    "ax.plot(x_test, d1_der_py, color='b', label='Derivatives')\n",
    "\n",
    "ax.legend()\n",
    "plt.show()"
   ]
  },
  {
   "cell_type": "markdown",
   "metadata": {
    "heading_collapsed": true
   },
   "source": [
    "#### Check Gradient"
   ]
  },
  {
   "cell_type": "code",
   "execution_count": 15,
   "metadata": {
    "hidden": true
   },
   "outputs": [],
   "source": [
    "from scipy.optimize import check_grad, approx_fprime"
   ]
  },
  {
   "cell_type": "code",
   "execution_count": 16,
   "metadata": {
    "code_folding": [],
    "hidden": true
   },
   "outputs": [
    {
     "ename": "NameError",
     "evalue": "name 'eps' is not defined",
     "output_type": "error",
     "traceback": [
      "\u001b[0;31m---------------------------------------------------------------------------\u001b[0m",
      "\u001b[0;31mNameError\u001b[0m                                 Traceback (most recent call last)",
      "\u001b[0;32m<ipython-input-16-23173f12093b>\u001b[0m in \u001b[0;36m<module>\u001b[0;34m()\u001b[0m\n\u001b[1;32m     10\u001b[0m \u001b[0md1_numerical\u001b[0m \u001b[0;34m=\u001b[0m \u001b[0mlist\u001b[0m\u001b[0;34m(\u001b[0m\u001b[0;34m)\u001b[0m\u001b[0;34m\u001b[0m\u001b[0m\n\u001b[1;32m     11\u001b[0m \u001b[0;32mfor\u001b[0m \u001b[0mi\u001b[0m \u001b[0;32min\u001b[0m \u001b[0mx_test\u001b[0m\u001b[0;34m:\u001b[0m\u001b[0;34m\u001b[0m\u001b[0m\n\u001b[0;32m---> 12\u001b[0;31m     \u001b[0md1_numerical\u001b[0m\u001b[0;34m.\u001b[0m\u001b[0mappend\u001b[0m\u001b[0;34m(\u001b[0m\u001b[0mapprox_fprime\u001b[0m\u001b[0;34m(\u001b[0m\u001b[0mi\u001b[0m\u001b[0;34m,\u001b[0m \u001b[0mmy_pred\u001b[0m\u001b[0;34m,\u001b[0m \u001b[0;34m[\u001b[0m\u001b[0meps\u001b[0m\u001b[0;34m]\u001b[0m\u001b[0;34m)\u001b[0m\u001b[0;34m)\u001b[0m\u001b[0;34m\u001b[0m\u001b[0m\n\u001b[0m\u001b[1;32m     13\u001b[0m \u001b[0;34m\u001b[0m\u001b[0m\n\u001b[1;32m     14\u001b[0m \u001b[0md1_numerical\u001b[0m \u001b[0;34m=\u001b[0m \u001b[0mnp\u001b[0m\u001b[0;34m.\u001b[0m\u001b[0marray\u001b[0m\u001b[0;34m(\u001b[0m\u001b[0md1_numerical\u001b[0m\u001b[0;34m)\u001b[0m\u001b[0;34m\u001b[0m\u001b[0m\n",
      "\u001b[0;31mNameError\u001b[0m: name 'eps' is not defined"
     ]
    }
   ],
   "source": [
    "def my_grad(X):\n",
    "    full_d = rbf_full_py(x_train, X.reshape(-1,1), K, weights, gamma)\n",
    "    d1 = full_d.sum(axis=1).flatten()\n",
    "    return d1\n",
    "\n",
    "def my_pred(X):\n",
    "    pred = krr_model.predict(X.reshape(-1, 1)).flatten()\n",
    "    return pred.flatten()\n",
    "\n",
    "d1_numerical = list()\n",
    "for i in x_test:\n",
    "    d1_numerical.append(approx_fprime(i, my_pred, [eps]))\n",
    "\n",
    "d1_numerical = np.array(d1_numerical)\n",
    "eps = np.sqrt(np.finfo(float).eps)\n",
    "\n",
    "x = np.linspace(0, 1, 100)\n",
    "\n",
    "errs = list()\n",
    "for i in x_test:\n",
    "    \n",
    "    errs.append(check_grad(my_pred, my_grad, i))\n",
    "\n",
    "    \n",
    "fig, ax = plt.subplots()\n",
    "\n",
    "ax.plot(x_test, d1_numerical)\n",
    "ax.plot(x_test, d1_der_py)\n",
    "plt.show()\n",
    "\n",
    "fig, ax = plt.subplots()\n",
    "\n",
    "ax.plot(x_test, np.array(errs))\n",
    "\n",
    "plt.show()"
   ]
  },
  {
   "cell_type": "markdown",
   "metadata": {},
   "source": [
    "## Numpy"
   ]
  },
  {
   "cell_type": "code",
   "execution_count": 17,
   "metadata": {},
   "outputs": [],
   "source": [
    "def ard_full_numpy(x_train, x_function, K, weights, gamma):\n",
    "\n",
    "    n_test, d_dims = x_function.shape\n",
    "    n_train, d_dims = x_train.shape\n",
    "    derivative = np.zeros(shape=(n_test, n_train, d_dims))\n",
    "    \n",
    "    constant = np.diag(-np.power(length_scale, -2))\n",
    "    \n",
    "    weights = np.tile(weights, (1, d_dims))\n",
    "    \n",
    "    for itest in range(n_test):\n",
    "        X = (np.tile(x_function[itest, :], (n_train, 1)) - x_train).dot(constant)\n",
    "        \n",
    "        term3 = np.tile(K[itest, :].T, (1, d_dims)).T\n",
    "        derivative[itest, :, :] = X * weights * term3\n",
    "\n",
    "    return derivative"
   ]
  },
  {
   "cell_type": "code",
   "execution_count": 18,
   "metadata": {},
   "outputs": [],
   "source": [
    "d1_map_np = ard_full_numpy(x_train, x_test, K,  weights, length_scale)"
   ]
  },
  {
   "cell_type": "code",
   "execution_count": 19,
   "metadata": {},
   "outputs": [
    {
     "name": "stdout",
     "output_type": "stream",
     "text": [
      "62.2 ms ± 209 µs per loop (mean ± std. dev. of 7 runs, 10 loops each)\n"
     ]
    }
   ],
   "source": [
    "npyed = %timeit -o ard_full_numpy(x_train, x_test, K, weights, length_scale)"
   ]
  },
  {
   "cell_type": "code",
   "execution_count": 20,
   "metadata": {},
   "outputs": [
    {
     "name": "stdout",
     "output_type": "stream",
     "text": [
      "Numpy Speed up:  8.30139604394509\n"
     ]
    }
   ],
   "source": [
    "print('Numpy Speed up: ', pyed.best / npyed.best)"
   ]
  },
  {
   "cell_type": "code",
   "execution_count": 21,
   "metadata": {},
   "outputs": [],
   "source": [
    "np.testing.assert_array_almost_equal(d1_map_py, d1_map_np, decimal=12)"
   ]
  },
  {
   "cell_type": "markdown",
   "metadata": {},
   "source": [
    "## Numba"
   ]
  },
  {
   "cell_type": "code",
   "execution_count": 22,
   "metadata": {},
   "outputs": [],
   "source": [
    "import numba\n",
    "from numba import jit, njit, prange"
   ]
  },
  {
   "cell_type": "code",
   "execution_count": 23,
   "metadata": {},
   "outputs": [],
   "source": [
    "@njit(fastmath=True)\n",
    "def ard_full_numba(x_train, x_function, K, weights, length_scale):\n",
    "    \n",
    "    n_test, d_dims = x_function.shape\n",
    "    n_train, d_dims = x_train.shape\n",
    "    \n",
    "    derivative = np.zeros(shape=(n_test, n_train, d_dims))\n",
    "    \n",
    "    constant = -np.power(length_scale, -2)\n",
    "    for idim in range(d_dims):\n",
    "        for itrain in range(n_train):\n",
    "            for itest in prange(n_test):\n",
    "                derivative[itest, itrain, idim] = \\\n",
    "                    constant[idim] * weights[itrain] \\\n",
    "                    * (x_function[itest, idim] - x_train[itrain, idim]) \\\n",
    "                    * K[itest, itrain]\n",
    "        \n",
    "    return derivative"
   ]
  },
  {
   "cell_type": "code",
   "execution_count": 24,
   "metadata": {},
   "outputs": [],
   "source": [
    "d1_map_numba = ard_full_numba(x_train, x_test, K, weights.flatten(), length_scale)"
   ]
  },
  {
   "cell_type": "code",
   "execution_count": 25,
   "metadata": {},
   "outputs": [
    {
     "name": "stdout",
     "output_type": "stream",
     "text": [
      "625 µs ± 136 ns per loop (mean ± std. dev. of 7 runs, 1000 loops each)\n"
     ]
    }
   ],
   "source": [
    "jitted = %timeit -o ard_full_numba(x_train, x_test, K, weights.flatten(), length_scale)"
   ]
  },
  {
   "cell_type": "code",
   "execution_count": 26,
   "metadata": {},
   "outputs": [
    {
     "name": "stdout",
     "output_type": "stream",
     "text": [
      "Jitted Speed up (Numpy):  99.07153437903861\n",
      "Numba Speed up (Python):  822.4320435617212\n"
     ]
    }
   ],
   "source": [
    "print('Jitted Speed up (Numpy): ', npyed.best / jitted.best)\n",
    "print('Numba Speed up (Python): ', pyed.best / jitted.best)"
   ]
  },
  {
   "cell_type": "code",
   "execution_count": 27,
   "metadata": {},
   "outputs": [],
   "source": [
    "np.testing.assert_array_almost_equal(d1_map_py, d1_map_numba, decimal=12)"
   ]
  },
  {
   "cell_type": "markdown",
   "metadata": {},
   "source": [
    "# Derivative"
   ]
  },
  {
   "cell_type": "markdown",
   "metadata": {},
   "source": [
    "## Pure Python"
   ]
  },
  {
   "cell_type": "code",
   "execution_count": 72,
   "metadata": {},
   "outputs": [],
   "source": [
    "def ard_derivative_py(x_train, x_function, K, weights, length_scale):\n",
    "    \n",
    "    n_test, d_dims = x_function.shape\n",
    "    n_train, d_dims = x_train.shape\n",
    "    \n",
    "    derivative = np.zeros(shape=(n_test, n_train, d_dims))\n",
    "    \n",
    "    constant = -np.power(length_scale, -2)\n",
    "    for itest in range(n_test):\n",
    "        for itrain in range(n_train):\n",
    "            for idim in range(d_dims):\n",
    "                derivative[itest, itrain, idim] = \\\n",
    "                    constant[idim] * weights[itrain] \\\n",
    "                    * (x_function[itest, idim] - x_train[itrain, idim]) \\\n",
    "                    * K[itest, itrain]\n",
    "    derivative = derivative.sum(axis=1)\n",
    "    return derivative"
   ]
  },
  {
   "cell_type": "code",
   "execution_count": 73,
   "metadata": {},
   "outputs": [],
   "source": [
    "d1_der_py = ard_derivative_py(x_train, x_test, K, weights, length_scale)"
   ]
  },
  {
   "cell_type": "code",
   "execution_count": 74,
   "metadata": {},
   "outputs": [
    {
     "name": "stdout",
     "output_type": "stream",
     "text": [
      "512 ms ± 2.79 ms per loop (mean ± std. dev. of 7 runs, 1 loop each)\n"
     ]
    }
   ],
   "source": [
    "pyedd = %timeit -o ard_derivative_py(x_train, x_test, K, weights, length_scale)"
   ]
  },
  {
   "cell_type": "markdown",
   "metadata": {
    "heading_collapsed": true
   },
   "source": [
    "#### Plot"
   ]
  },
  {
   "cell_type": "code",
   "execution_count": 75,
   "metadata": {
    "hidden": true
   },
   "outputs": [
    {
     "data": {
      "image/png": "[encoded data removed]",
      "text/plain": [
       "<Figure size 432x288 with 1 Axes>"
      ]
     },
     "metadata": {},
     "output_type": "display_data"
    }
   ],
   "source": [
    "fig, ax = plt.subplots()\n",
    "\n",
    "ax.scatter(x_train, y_train, color='r', label='Training Data')\n",
    "ax.plot(x_test, y_pred, color='k', label='Predictions')\n",
    "ax.plot(x_test, d1_der_py, color='b', label='Derivatives')\n",
    "\n",
    "ax.legend()\n",
    "plt.show()"
   ]
  },
  {
   "cell_type": "markdown",
   "metadata": {},
   "source": [
    "## Numpy"
   ]
  },
  {
   "cell_type": "markdown",
   "metadata": {},
   "source": [
    "#### Version I"
   ]
  },
  {
   "cell_type": "code",
   "execution_count": 76,
   "metadata": {},
   "outputs": [],
   "source": [
    "def ard_derivative_numpy1(x_train, x_function, K, weights, length_scale, sign):\n",
    "    if np.ndim(x_function) == 1:\n",
    "        x_function = x_function[np.newaxis, :]\n",
    "    if np.ndim(weights) == 1:\n",
    "        weights = weights[:, np.newaxis]\n",
    "    n_test, d_dims = x_function.shape\n",
    "    n_train, d_dims = x_train.shape\n",
    "    derivative = np.zeros(shape=(n_test, n_train, d_dims))\n",
    "    \n",
    "    constant = -2*gamma\n",
    "    \n",
    "    for itest in range(n_test):\n",
    "        term1 = (np.tile(x_function[itest, :], (n_train, 1)) - x_train)\n",
    "        term2 = np.tile(weights, (1, d_dims))\n",
    "        term3 = np.tile(K[itest, :].T, (1, d_dims)).T\n",
    "        derivative[itest, :, :] = term1 * term2 * term3\\\n",
    "\n",
    "    derivative = np.sum(derivative, axis=1)\n",
    "    return derivative"
   ]
  },
  {
   "cell_type": "code",
   "execution_count": null,
   "metadata": {},
   "outputs": [],
   "source": []
  },
  {
   "cell_type": "markdown",
   "metadata": {},
   "source": [
    "#### Version II"
   ]
  },
  {
   "cell_type": "code",
   "execution_count": 77,
   "metadata": {},
   "outputs": [],
   "source": [
    "def ard_derivative_np(x_train, x_function, K, weights, length_scale):\n",
    "    \n",
    "#     # check the sizes of x_train and x_test\n",
    "#     err_msg = \"xtrain and xtest d dimensions are not equivalent.\"\n",
    "#     np.testing.assert_equal(x_function.shape[1], x_train.shape[1], err_msg=err_msg)\n",
    "    \n",
    "#     # check the n_samples for x_train and weights are equal\n",
    "#     err_msg = \"Number of training samples for xtrain and weights are not equal.\"\n",
    "#     np.testing.assert_equal(x_train.shape[0], weights.shape[0], err_msg=err_msg)\n",
    "\n",
    "    \n",
    "    \n",
    "    n_test, n_dims = x_function.shape\n",
    "\n",
    "    derivative = np.zeros(shape=x_function.shape)\n",
    "    length_scale = np.diag(- np.power(length_scale, -2))\n",
    "    for itest in range(n_test):\n",
    "        derivative[itest, :] = np.dot(length_scale.dot((x_function[itest, :] - x_train).T),  \n",
    "                                      (K[itest, :].reshape(-1, 1) * weights))\n",
    "\n",
    "        \n",
    "    return derivative"
   ]
  },
  {
   "cell_type": "code",
   "execution_count": 78,
   "metadata": {},
   "outputs": [],
   "source": [
    "d1_der_np = ard_derivative_np(x_train, x_test, K, weights, length_scale)"
   ]
  },
  {
   "cell_type": "code",
   "execution_count": 79,
   "metadata": {},
   "outputs": [],
   "source": [
    "np.testing.assert_array_almost_equal(d1_der_py, d1_der_np, decimal=12)"
   ]
  },
  {
   "cell_type": "code",
   "execution_count": 80,
   "metadata": {},
   "outputs": [
    {
     "name": "stdout",
     "output_type": "stream",
     "text": [
      "144 µs ± 27.4 µs per loop (mean ± std. dev. of 7 runs, 1000 loops each)\n"
     ]
    }
   ],
   "source": [
    "npyedd = %timeit -o ard_derivative_np(x_train, x_train, K, weights, length_scale)"
   ]
  },
  {
   "cell_type": "code",
   "execution_count": 81,
   "metadata": {},
   "outputs": [
    {
     "name": "stdout",
     "output_type": "stream",
     "text": [
      "Numpy Speed up:  4092.709831749194\n"
     ]
    }
   ],
   "source": [
    "print('Numpy Speed up: ', pyedd.best / npyedd.best)"
   ]
  },
  {
   "cell_type": "code",
   "execution_count": 82,
   "metadata": {},
   "outputs": [],
   "source": [
    "np.testing.assert_array_almost_equal(d1_der_py, d1_der_np, decimal=12)"
   ]
  },
  {
   "cell_type": "markdown",
   "metadata": {
    "heading_collapsed": true
   },
   "source": [
    "#### Version II"
   ]
  },
  {
   "cell_type": "code",
   "execution_count": 287,
   "metadata": {
    "hidden": true
   },
   "outputs": [],
   "source": [
    "# def rbf_derivative_np2(x_train, x_function, K, weights, gamma):\n",
    "    \n",
    "# #     # check the sizes of x_train and x_test\n",
    "# #     err_msg = \"xtrain and xtest d dimensions are not equivalent.\"\n",
    "# #     np.testing.assert_equal(x_function.shape[1], x_train.shape[1], err_msg=err_msg)\n",
    "    \n",
    "# #     # check the n_samples for x_train and weights are equal\n",
    "# #     err_msg = \"Number of training samples for xtrain and weights are not equal.\"\n",
    "# #     np.testing.assert_equal(x_train.shape[0], weights.shape[0], err_msg=err_msg)\n",
    "\n",
    "    \n",
    "    \n",
    "#     n_test, n_dims = x_function.shape\n",
    "\n",
    "#     derivative = np.zeros(shape=x_function.shape)\n",
    "\n",
    "#     constant = - 2 * gamma\n",
    "# #     print(x_train.T.shape)\n",
    "# #     print(np.diag(weights.flatten()).shape, K.T.shape)\n",
    "# #     print(weights.T.shape, K.T.shape)\n",
    "#     derivative = x_train.T.dot(np.diag(weights.flatten()).dot(K.T) - np.diag(weights.T.dot(K.T))).T\n",
    "\n",
    "#     derivative *= constant\n",
    "        \n",
    "#     return derivative"
   ]
  },
  {
   "cell_type": "code",
   "execution_count": 288,
   "metadata": {
    "hidden": true
   },
   "outputs": [],
   "source": [
    "# d1_der_np2 = rbf_derivative_np2(x_train, x_train, K, weights, gamma)"
   ]
  },
  {
   "cell_type": "code",
   "execution_count": 289,
   "metadata": {
    "hidden": true
   },
   "outputs": [
    {
     "name": "stdout",
     "output_type": "stream",
     "text": [
      "185 µs ± 6.82 µs per loop (mean ± std. dev. of 7 runs, 1000 loops each)\n"
     ]
    }
   ],
   "source": [
    "# npyedd2 = %timeit -o rbf_derivative_np2(x_train, x_train, K, weights, gamma)"
   ]
  },
  {
   "cell_type": "code",
   "execution_count": 290,
   "metadata": {
    "hidden": true
   },
   "outputs": [
    {
     "name": "stdout",
     "output_type": "stream",
     "text": [
      "Numpy2 Speed up:  361.86849062941303\n"
     ]
    }
   ],
   "source": [
    "# print('Numpy2 Speed up: ', pyedd.best / npyedd2.best)"
   ]
  },
  {
   "cell_type": "code",
   "execution_count": 39,
   "metadata": {
    "hidden": true
   },
   "outputs": [],
   "source": [
    "# np.testing.assert_almost_equal(d1_der_py, d1_der_np2, decimal=3)"
   ]
  },
  {
   "cell_type": "markdown",
   "metadata": {},
   "source": [
    "## Numba"
   ]
  },
  {
   "cell_type": "code",
   "execution_count": null,
   "metadata": {},
   "outputs": [],
   "source": [
    "K[itest, :].reshape(-1, 1)"
   ]
  },
  {
   "cell_type": "code",
   "execution_count": 139,
   "metadata": {},
   "outputs": [],
   "source": [
    "@njit('double[:,:](double[:,:], double[:,:], double[:,:],double[:,:], double[:])', fastmath=True, nogil=False)\n",
    "def ard_derivative_numba(x_train, x_function, K, weights, length_scale):\n",
    "    \n",
    "#     # check the sizes of x_train and x_test\n",
    "#     err_msg = \"xtrain and xtest d dimensions are not equivalent.\"\n",
    "#     np.testing.assert_equal(x_function.shape[1], x_train.shape[1], err_msg=err_msg)\n",
    "    \n",
    "#     # check the n_samples for x_train and weights are equal\n",
    "#     err_msg = \"Number of training samples for xtrain and weights are not equal.\"\n",
    "#     np.testing.assert_equal(x_train.shape[0], weights.shape[0], err_msg=err_msg)\n",
    "\n",
    "    \n",
    "    \n",
    "    n_test, n_dims = x_function.shape\n",
    "\n",
    "    derivative = np.zeros(shape=x_function.shape)\n",
    "    \n",
    "    length_scale = np.diag(- np.power(length_scale, -2))\n",
    "\n",
    "    for itest in range(n_test):\n",
    "        derivative[itest, :] = np.dot(np.dot(length_scale, (x_function[itest, :] - x_train).T),  \n",
    "                                      (np.expand_dims(K[itest, :], axis=1) * weights))\n",
    "        \n",
    "    return derivative"
   ]
  },
  {
   "cell_type": "code",
   "execution_count": 140,
   "metadata": {},
   "outputs": [],
   "source": [
    "# ard_derivative_numba.inspect_types()"
   ]
  },
  {
   "cell_type": "code",
   "execution_count": 141,
   "metadata": {},
   "outputs": [
    {
     "name": "stdout",
     "output_type": "stream",
     "text": [
      "(20, 1) (5000, 1) (5000, 20) (20, 1) (1,)\n",
      "(5000, 1)\n"
     ]
    }
   ],
   "source": [
    "print(x_train.shape, x_test.shape, K.shape, weights.shape, length_scale.shape)\n",
    "d1_der_nmb = ard_derivative_numba(x_train, x_test, K, weights, length_scale)\n",
    "print(d1_der_nmb.shape)\n",
    "np.testing.assert_array_almost_equal(d1_der_py, d1_der_nmb, decimal=10)"
   ]
  },
  {
   "cell_type": "code",
   "execution_count": 142,
   "metadata": {},
   "outputs": [
    {
     "name": "stdout",
     "output_type": "stream",
     "text": [
      "15.6 µs ± 16.7 ns per loop (mean ± std. dev. of 10 runs, 100000 loops each)\n"
     ]
    }
   ],
   "source": [
    "jittedd = %timeit -o -r 10 ard_derivative_numba(x_train, x_train, K, weights, length_scale)"
   ]
  },
  {
   "cell_type": "code",
   "execution_count": 113,
   "metadata": {},
   "outputs": [
    {
     "name": "stdout",
     "output_type": "stream",
     "text": [
      "Numpy Speed up:  7.91833554415751\n",
      "Python Speed up:  32407.449732662546\n"
     ]
    }
   ],
   "source": [
    "print('Numpy Speed up: ', npyedd.best / jittedd.best)\n",
    "print('Python Speed up: ', pyedd.best / jittedd.best)"
   ]
  },
  {
   "cell_type": "code",
   "execution_count": 114,
   "metadata": {},
   "outputs": [],
   "source": [
    "np.testing.assert_array_almost_equal(d1_der_nmb, d1_der_np, decimal=12)"
   ]
  },
  {
   "cell_type": "markdown",
   "metadata": {},
   "source": [
    "# 2nd Map Derivative"
   ]
  },
  {
   "cell_type": "markdown",
   "metadata": {},
   "source": [
    "$$\\frac{\\partial^2f}{x^2}=2\\gamma \\left[2 \\gamma( x^j - y^j )^2 - 1  \\right] K(x,y)$$"
   ]
  },
  {
   "cell_type": "markdown",
   "metadata": {},
   "source": [
    "## Pure Python"
   ]
  },
  {
   "cell_type": "code",
   "execution_count": 328,
   "metadata": {},
   "outputs": [],
   "source": [
    "def ard_full2_py(x_train, x_function, K, weights, gamma):\n",
    "    \n",
    "    n_test, d_dims = x_function.shape\n",
    "    n_train, d_dims = x_train.shape\n",
    "    \n",
    "    derivative = np.zeros(shape=(n_test, n_train, d_dims))\n",
    "    \n",
    "    constant = np.power(1 / length_scale, 2)\n",
    "    \n",
    "    for idim in range(d_dims):\n",
    "        for itrain in range(n_train):\n",
    "            for itest in range(n_test):\n",
    "                derivative[itest, itrain, idim] = \\\n",
    "                    (constant[idim] + (constant[idim] * (x_function[itest, idim] - x_train[itrain, idim]))**2) \\\n",
    "                    * K[itest, itrain] * weights[itrain, 0]\n",
    "    \n",
    "    \n",
    "    return derivative"
   ]
  },
  {
   "cell_type": "code",
   "execution_count": 329,
   "metadata": {},
   "outputs": [
    {
     "name": "stdout",
     "output_type": "stream",
     "text": [
      "(5000, 1)\n"
     ]
    }
   ],
   "source": [
    "d2_map_py = ard_full2_py(x_train, x_test, K, weights, length_scale)\n",
    "d2_der_py = d2_map_py.sum(axis=1)\n",
    "print(d2_der_py.shape)"
   ]
  },
  {
   "cell_type": "code",
   "execution_count": 330,
   "metadata": {},
   "outputs": [],
   "source": [
    "# pyed2 = %timeit -o ard_full2_py(x_train, x_test, K, weights, length_scale)"
   ]
  },
  {
   "cell_type": "code",
   "execution_count": 331,
   "metadata": {},
   "outputs": [
    {
     "data": {
      "image/png": "[encoded data removed]",
      "text/plain": [
       "<Figure size 432x288 with 1 Axes>"
      ]
     },
     "metadata": {},
     "output_type": "display_data"
    }
   ],
   "source": [
    "fig, ax = plt.subplots()\n",
    "\n",
    "ax.scatter(x_train, y_train, color='r', label='Training Data')\n",
    "ax.plot(x_test, y_pred, color='k', label='Predictions')\n",
    "ax.plot(x_test, d1_der_py, color='b', label='1st Derivative')\n",
    "ax.plot(x_test, d2_der_py, color='g', label='2nd Derivative')\n",
    "\n",
    "\n",
    "ax.legend()\n",
    "plt.show()"
   ]
  },
  {
   "cell_type": "markdown",
   "metadata": {},
   "source": [
    "## Numpy"
   ]
  },
  {
   "cell_type": "code",
   "execution_count": 415,
   "metadata": {},
   "outputs": [],
   "source": [
    "def rbf_full2_numpy(x_train, x_function, K, weights, gamma):\n",
    "\n",
    "    n_test, d_dims = x_function.shape\n",
    "    n_train, d_dims = x_train.shape\n",
    "    derivative = np.zeros(shape=(n_test, n_train, d_dims))\n",
    "    \n",
    "    constant = 2*gamma\n",
    "    \n",
    "    term2 = np.tile(weights, (1, d_dims))\n",
    "    \n",
    "    for itest in range(n_test):\n",
    "        \n",
    "        term1 = constant * (np.tile(x_function[itest, :], (n_train, 1)) - x_train)**2 - 1\n",
    "#         print(term1.shape)\n",
    "        \n",
    "#         print(term2.shape)\n",
    "        term3 = np.tile(K[itest, :].T, (1, d_dims)).T\n",
    "#         print(term3.shape)\n",
    "        derivative[itest, :, :] = term1 * term2 * term3\n",
    "#         break\n",
    "\n",
    "    derivative *= constant\n",
    "    return derivative"
   ]
  },
  {
   "cell_type": "code",
   "execution_count": 416,
   "metadata": {},
   "outputs": [],
   "source": [
    "d2_map_np = rbf_full2_numpy(x_train, x_test, K,  weights, gamma)"
   ]
  },
  {
   "cell_type": "code",
   "execution_count": 417,
   "metadata": {},
   "outputs": [
    {
     "name": "stdout",
     "output_type": "stream",
     "text": [
      "75.2 ms ± 3.77 ms per loop (mean ± std. dev. of 7 runs, 10 loops each)\n"
     ]
    }
   ],
   "source": [
    "npyed2 = %timeit -o rbf_full2_numpy(x_train, x_test, K, weights, gamma)"
   ]
  },
  {
   "cell_type": "code",
   "execution_count": 418,
   "metadata": {},
   "outputs": [
    {
     "name": "stdout",
     "output_type": "stream",
     "text": [
      "Numpy Speed up:  2.0140130652693147\n"
     ]
    }
   ],
   "source": [
    "print('Numpy Speed up: ', pyed2.best / npyed2.best)"
   ]
  },
  {
   "cell_type": "code",
   "execution_count": 419,
   "metadata": {},
   "outputs": [],
   "source": [
    "np.testing.assert_array_almost_equal(d2_map_py, d2_map_np)"
   ]
  },
  {
   "cell_type": "markdown",
   "metadata": {},
   "source": [
    "## Numba"
   ]
  },
  {
   "cell_type": "code",
   "execution_count": null,
   "metadata": {},
   "outputs": [],
   "source": []
  },
  {
   "cell_type": "code",
   "execution_count": 242,
   "metadata": {},
   "outputs": [],
   "source": [
    "@njit(fastmath=True)\n",
    "def rbf_full2_numba(x_train, x_function, K, weights, length_scale):\n",
    "    \n",
    "    n_test, d_dims = x_function.shape\n",
    "    n_train, d_dims = x_train.shape\n",
    "    \n",
    "    derivative = np.zeros(shape=(n_test, n_train, d_dims))\n",
    "    \n",
    "    constant = -np.power(length_scale, -2)\n",
    "    for idim in range(d_dims):\n",
    "        for itrain in range(n_train):\n",
    "            for itest in prange(n_test):\n",
    "                derivative[itest, itrain, idim] = \\\n",
    "                     constantweights[itrain]\\\n",
    "                    * (constant * (x_function[itest, idim] - x_train[itrain, idim])**2 - 1) \\\n",
    "                    * K[itest, itrain]\n",
    "    \n",
    "    derivative *= constant\n",
    "    \n",
    "    return derivative"
   ]
  },
  {
   "cell_type": "code",
   "execution_count": 243,
   "metadata": {},
   "outputs": [
    {
     "ename": "TypingError",
     "evalue": "Failed at nopython (nopython frontend)\nUntyped global name 'constantweights': cannot determine Numba type of <class 'object'>\n\nFile \"<ipython-input-242-ba5680bbf283>\", line 13:\ndef rbf_full2_numba(x_train, x_function, K, weights, length_scale):\n    <source elided>\n            for itest in prange(n_test):\n                derivative[itest, itrain, idim] =                      constantweights[itrain]                    * (constant * (x_function[itest, idim] - x_train[itrain, idim])**2 - 1)                     * K[itest, itrain]\n                ^\n\nThis is not usually a problem with Numba itself but instead often caused by\nthe use of unsupported features or an issue in resolving types.\n\nTo see Python/NumPy features supported by the latest release of Numba visit:\nhttp://numba.pydata.org/numba-doc/dev/reference/pysupported.html\nand\nhttp://numba.pydata.org/numba-doc/dev/reference/numpysupported.html\n\nFor more information about typing errors and how to debug them visit:\nhttp://numba.pydata.org/numba-doc/latest/user/troubleshoot.html#my-code-doesn-t-compile\n\nIf you think your code should work with Numba, please report the error message\nand traceback, along with a minimal reproducer at:\nhttps://github.com/numba/numba/issues/new\n",
     "output_type": "error",
     "traceback": [
      "\u001b[0;31m---------------------------------------------------------------------------\u001b[0m",
      "\u001b[0;31mTypingError\u001b[0m                               Traceback (most recent call last)",
      "\u001b[0;32m<ipython-input-243-909b6da422ac>\u001b[0m in \u001b[0;36m<module>\u001b[0;34m()\u001b[0m\n\u001b[0;32m----> 1\u001b[0;31m \u001b[0md2_map_numba\u001b[0m \u001b[0;34m=\u001b[0m \u001b[0mrbf_full2_numba\u001b[0m\u001b[0;34m(\u001b[0m\u001b[0mx_train\u001b[0m\u001b[0;34m,\u001b[0m \u001b[0mx_test\u001b[0m\u001b[0;34m,\u001b[0m \u001b[0mK\u001b[0m\u001b[0;34m,\u001b[0m  \u001b[0mweights\u001b[0m\u001b[0;34m.\u001b[0m\u001b[0mflatten\u001b[0m\u001b[0;34m(\u001b[0m\u001b[0;34m)\u001b[0m\u001b[0;34m,\u001b[0m \u001b[0mgamma\u001b[0m\u001b[0;34m)\u001b[0m\u001b[0;34m\u001b[0m\u001b[0m\n\u001b[0m",
      "\u001b[0;32m~/anaconda3/envs/kernellib/lib/python3.6/site-packages/numba/dispatcher.py\u001b[0m in \u001b[0;36m_compile_for_args\u001b[0;34m(self, *args, **kws)\u001b[0m\n\u001b[1;32m    347\u001b[0m                 \u001b[0me\u001b[0m\u001b[0;34m.\u001b[0m\u001b[0mpatch_message\u001b[0m\u001b[0;34m(\u001b[0m\u001b[0mmsg\u001b[0m\u001b[0;34m)\u001b[0m\u001b[0;34m\u001b[0m\u001b[0m\n\u001b[1;32m    348\u001b[0m \u001b[0;34m\u001b[0m\u001b[0m\n\u001b[0;32m--> 349\u001b[0;31m             \u001b[0merror_rewrite\u001b[0m\u001b[0;34m(\u001b[0m\u001b[0me\u001b[0m\u001b[0;34m,\u001b[0m \u001b[0;34m'typing'\u001b[0m\u001b[0;34m)\u001b[0m\u001b[0;34m\u001b[0m\u001b[0m\n\u001b[0m\u001b[1;32m    350\u001b[0m         \u001b[0;32mexcept\u001b[0m \u001b[0merrors\u001b[0m\u001b[0;34m.\u001b[0m\u001b[0mUnsupportedError\u001b[0m \u001b[0;32mas\u001b[0m \u001b[0me\u001b[0m\u001b[0;34m:\u001b[0m\u001b[0;34m\u001b[0m\u001b[0m\n\u001b[1;32m    351\u001b[0m             \u001b[0;31m# Something unsupported is present in the user code, add help info\u001b[0m\u001b[0;34m\u001b[0m\u001b[0;34m\u001b[0m\u001b[0m\n",
      "\u001b[0;32m~/anaconda3/envs/kernellib/lib/python3.6/site-packages/numba/dispatcher.py\u001b[0m in \u001b[0;36merror_rewrite\u001b[0;34m(e, issue_type)\u001b[0m\n\u001b[1;32m    314\u001b[0m                 \u001b[0;32mraise\u001b[0m \u001b[0me\u001b[0m\u001b[0;34m\u001b[0m\u001b[0m\n\u001b[1;32m    315\u001b[0m             \u001b[0;32melse\u001b[0m\u001b[0;34m:\u001b[0m\u001b[0;34m\u001b[0m\u001b[0m\n\u001b[0;32m--> 316\u001b[0;31m                 \u001b[0mreraise\u001b[0m\u001b[0;34m(\u001b[0m\u001b[0mtype\u001b[0m\u001b[0;34m(\u001b[0m\u001b[0me\u001b[0m\u001b[0;34m)\u001b[0m\u001b[0;34m,\u001b[0m \u001b[0me\u001b[0m\u001b[0;34m,\u001b[0m \u001b[0;32mNone\u001b[0m\u001b[0;34m)\u001b[0m\u001b[0;34m\u001b[0m\u001b[0m\n\u001b[0m\u001b[1;32m    317\u001b[0m \u001b[0;34m\u001b[0m\u001b[0m\n\u001b[1;32m    318\u001b[0m         \u001b[0margtypes\u001b[0m \u001b[0;34m=\u001b[0m \u001b[0;34m[\u001b[0m\u001b[0;34m]\u001b[0m\u001b[0;34m\u001b[0m\u001b[0m\n",
      "\u001b[0;32m~/anaconda3/envs/kernellib/lib/python3.6/site-packages/numba/six.py\u001b[0m in \u001b[0;36mreraise\u001b[0;34m(tp, value, tb)\u001b[0m\n\u001b[1;32m    656\u001b[0m             \u001b[0mvalue\u001b[0m \u001b[0;34m=\u001b[0m \u001b[0mtp\u001b[0m\u001b[0;34m(\u001b[0m\u001b[0;34m)\u001b[0m\u001b[0;34m\u001b[0m\u001b[0m\n\u001b[1;32m    657\u001b[0m         \u001b[0;32mif\u001b[0m \u001b[0mvalue\u001b[0m\u001b[0;34m.\u001b[0m\u001b[0m__traceback__\u001b[0m \u001b[0;32mis\u001b[0m \u001b[0;32mnot\u001b[0m \u001b[0mtb\u001b[0m\u001b[0;34m:\u001b[0m\u001b[0;34m\u001b[0m\u001b[0m\n\u001b[0;32m--> 658\u001b[0;31m             \u001b[0;32mraise\u001b[0m \u001b[0mvalue\u001b[0m\u001b[0;34m.\u001b[0m\u001b[0mwith_traceback\u001b[0m\u001b[0;34m(\u001b[0m\u001b[0mtb\u001b[0m\u001b[0;34m)\u001b[0m\u001b[0;34m\u001b[0m\u001b[0m\n\u001b[0m\u001b[1;32m    659\u001b[0m         \u001b[0;32mraise\u001b[0m \u001b[0mvalue\u001b[0m\u001b[0;34m\u001b[0m\u001b[0m\n\u001b[1;32m    660\u001b[0m \u001b[0;34m\u001b[0m\u001b[0m\n",
      "\u001b[0;31mTypingError\u001b[0m: Failed at nopython (nopython frontend)\nUntyped global name 'constantweights': cannot determine Numba type of <class 'object'>\n\nFile \"<ipython-input-242-ba5680bbf283>\", line 13:\ndef rbf_full2_numba(x_train, x_function, K, weights, length_scale):\n    <source elided>\n            for itest in prange(n_test):\n                derivative[itest, itrain, idim] =                      constantweights[itrain]                    * (constant * (x_function[itest, idim] - x_train[itrain, idim])**2 - 1)                     * K[itest, itrain]\n                ^\n\nThis is not usually a problem with Numba itself but instead often caused by\nthe use of unsupported features or an issue in resolving types.\n\nTo see Python/NumPy features supported by the latest release of Numba visit:\nhttp://numba.pydata.org/numba-doc/dev/reference/pysupported.html\nand\nhttp://numba.pydata.org/numba-doc/dev/reference/numpysupported.html\n\nFor more information about typing errors and how to debug them visit:\nhttp://numba.pydata.org/numba-doc/latest/user/troubleshoot.html#my-code-doesn-t-compile\n\nIf you think your code should work with Numba, please report the error message\nand traceback, along with a minimal reproducer at:\nhttps://github.com/numba/numba/issues/new\n"
     ]
    }
   ],
   "source": [
    "d2_map_numba = rbf_full2_numba(x_train, x_test, K,  weights.flatten(), gamma)"
   ]
  },
  {
   "cell_type": "code",
   "execution_count": 422,
   "metadata": {},
   "outputs": [
    {
     "name": "stdout",
     "output_type": "stream",
     "text": [
      "790 µs ± 31.6 µs per loop (mean ± std. dev. of 7 runs, 1000 loops each)\n"
     ]
    }
   ],
   "source": [
    "jitted2 = %timeit -o rbf_full2_numba(x_train, x_test, K, weights.flatten(), gamma)"
   ]
  },
  {
   "cell_type": "code",
   "execution_count": 423,
   "metadata": {},
   "outputs": [
    {
     "name": "stdout",
     "output_type": "stream",
     "text": [
      "Python Speed up:  192.0840963113116\n",
      "Numpy Speed up:  95.37380845422969\n"
     ]
    }
   ],
   "source": [
    "print('Python Speed up: ', pyed2.best / jitted2.best)\n",
    "print('Numpy Speed up: ', npyed2.best / jitted2.best)"
   ]
  },
  {
   "cell_type": "code",
   "execution_count": null,
   "metadata": {},
   "outputs": [],
   "source": []
  }
 ],
 "metadata": {
  "kernelspec": {
   "display_name": "Python 3",
   "language": "python",
   "name": "python3"
  },
  "language_info": {
   "codemirror_mode": {
    "name": "ipython",
    "version": 3
   },
   "file_extension": ".py",
   "mimetype": "text/x-python",
   "name": "python",
   "nbconvert_exporter": "python",
   "pygments_lexer": "ipython3",
   "version": "3.6.6"
  },
  "toc": {
   "base_numbering": 1,
   "nav_menu": {},
   "number_sections": true,
   "sideBar": true,
   "skip_h1_title": false,
   "title_cell": "Table of Contents",
   "title_sidebar": "Contents",
   "toc_cell": false,
   "toc_position": {
    "height": "calc(100% - 180px)",
    "left": "10px",
    "top": "150px",
    "width": "186.771px"
   },
   "toc_section_display": true,
   "toc_window_display": true
  },
  "varInspector": {
   "cols": {
    "lenName": 16,
    "lenType": 16,
    "lenVar": 40
   },
   "kernels_config": {
    "python": {
     "delete_cmd_postfix": "",
     "delete_cmd_prefix": "del ",
     "library": "var_list.py",
     "varRefreshCmd": "print(var_dic_list())"
    },
    "r": {
     "delete_cmd_postfix": ") ",
     "delete_cmd_prefix": "rm(",
     "library": "var_list.r",
     "varRefreshCmd": "cat(var_dic_list()) "
    }
   },
   "types_to_exclude": [
    "module",
    "function",
    "builtin_function_or_method",
    "instance",
    "_Feature"
   ],
   "window_display": false
  }
 },
 "nbformat": 4,
 "nbformat_minor": 2
}
