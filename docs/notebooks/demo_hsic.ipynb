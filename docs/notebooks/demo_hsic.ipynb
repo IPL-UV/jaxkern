{
 "cells": [
  {
   "cell_type": "markdown",
   "metadata": {},
   "source": [
    "# HSIC Measures"
   ]
  },
  {
   "cell_type": "code",
   "execution_count": 1,
   "metadata": {},
   "outputs": [],
   "source": [
    "import sys\n",
    "sys.path.append(\"../../\")\n",
    "\n",
    "import jax\n",
    "import jax.numpy as np\n",
    "import numpy as onp\n",
    "import pandas as pd\n",
    "from jax.config import config\n",
    "config.update(\"jax_enable_x64\", False)\n",
    "\n",
    "\n",
    "# dependence measures\n",
    "from jaxkern.similarity.hsic import HSIC, CKA, HSICRBF, CKARBF, HSICRBFSampler, CKARBFSampler\n",
    "from jaxkern.kernels.linear import linear_kernel\n",
    "from jaxkern.kernels.stationary import rbf_kernel\n",
    "from jaxkern.kernels.utils import kernel_matrix\n",
    "from jaxkern.kernels.sigma import estimate_sigma_median\n",
    "from jaxkern.kernels.approx import RBFSampler\n",
    "from jaxkern.kernels.sigma import estimate_sigma_median\n",
    "\n",
    "from sklearn.preprocessing import StandardScaler\n",
    "\n",
    "# MATPLOTLIB Settings\n",
    "import matplotlib as mpl\n",
    "import matplotlib.pyplot as plt\n",
    "%matplotlib inline\n",
    "%config InlineBackend.figure_format = 'retina'\n",
    "\n",
    "# SEABORN SETTINGS\n",
    "import seaborn as sns\n",
    "sns.set_context(context='talk',font_scale=0.7)\n",
    "\n",
    "%load_ext autoreload\n",
    "%autoreload 2"
   ]
  },
  {
   "cell_type": "markdown",
   "metadata": {},
   "source": [
    "## Toy Data"
   ]
  },
  {
   "cell_type": "code",
   "execution_count": 2,
   "metadata": {},
   "outputs": [
    {
     "name": "stderr",
     "output_type": "stream",
     "text": [
      "WARNING:absl:No GPU/TPU found, falling back to CPU. (Set TF_CPP_MIN_LOG_LEVEL=0 and rerun for more info.)\n"
     ]
    },
    {
     "data": {
      "text/plain": [
       "<matplotlib.collections.PathCollection at 0x7fd3dc14ed60>"
      ]
     },
     "execution_count": 2,
     "metadata": {},
     "output_type": "execute_result"
    },
    {
     "data": {
      "image/png": "[encoded data removed]",
      "text/plain": [
       "<Figure size 432x288 with 1 Axes>"
      ]
     },
     "metadata": {
      "image/png": {
       "height": 255,
       "width": 378
      },
      "needs_background": "light"
     },
     "output_type": "display_data"
    }
   ],
   "source": [
    "# random state\n",
    "seed = 123\n",
    "rng = onp.random.RandomState(seed)\n",
    "\n",
    "# generate fake data\n",
    "n_samples = 500\n",
    "n_features = 1\n",
    "noise_y = 0.5\n",
    "\n",
    "X = rng.rand(n_samples, n_features)\n",
    "Y = 10 * X + noise_y * rng.randn(n_samples, n_features)\n",
    "\n",
    "X = StandardScaler().fit_transform(X)\n",
    "Y = StandardScaler().fit_transform(Y)\n",
    "\n",
    "X = np.array(X)\n",
    "Y = np.array(Y)\n",
    "\n",
    "plt.scatter(X, Y)"
   ]
  },
  {
   "cell_type": "markdown",
   "metadata": {},
   "source": [
    "## Similarity Measures"
   ]
  },
  {
   "cell_type": "markdown",
   "metadata": {},
   "source": [
    "## Similarity - Kernel-Based"
   ]
  },
  {
   "cell_type": "code",
   "execution_count": 3,
   "metadata": {},
   "outputs": [],
   "source": [
    "# initialize kernel\n",
    "lin_kern = jax.partial(kernel_matrix, linear_kernel)\n"
   ]
  },
  {
   "cell_type": "markdown",
   "metadata": {},
   "source": [
    "#### HSIC"
   ]
  },
  {
   "cell_type": "code",
   "execution_count": 4,
   "metadata": {},
   "outputs": [
    {
     "name": "stdout",
     "output_type": "stream",
     "text": [
      "HSIC: 0.9699\n"
     ]
    }
   ],
   "source": [
    "import objax\n",
    "\n",
    "# initialize HSIC\n",
    "hsic_clf = HSIC(lin_kern, lin_kern)\n",
    "\n",
    "hsic_val = hsic_clf(X, Y)\n",
    "\n",
    "print(f\"HSIC: {hsic_val:.4f}\")"
   ]
  },
  {
   "cell_type": "markdown",
   "metadata": {},
   "source": [
    "#### Normalized Variant (CKA)\n",
    "\n",
    "HSIC can be difficult to interpret because it's not and it's not consistent (i.e. there is no approximate monotonic function that can describe HSIC as it grows). The HSIC metric is somewhat similar to the covariance matrix, we need to normalize by the sizes of the individual matrices."
   ]
  },
  {
   "cell_type": "code",
   "execution_count": 5,
   "metadata": {},
   "outputs": [
    {
     "name": "stdout",
     "output_type": "stream",
     "text": [
      "CKA: 0.9700\n"
     ]
    }
   ],
   "source": [
    "# initialize HSIC\n",
    "cka_clf = CKA(lin_kern, lin_kern)\n",
    "\n",
    "cka_val = cka_clf(X, Y)\n",
    "\n",
    "print(f\"CKA: {cka_val:.4f}\")"
   ]
  },
  {
   "cell_type": "markdown",
   "metadata": {},
   "source": [
    "### HSIC, RBF Kernel"
   ]
  },
  {
   "cell_type": "code",
   "execution_count": 6,
   "metadata": {},
   "outputs": [
    {
     "name": "stdout",
     "output_type": "stream",
     "text": [
      "0.72456807 0.719218\n",
      "HSIC (rbf): 0.1130\n",
      "CPU times: user 853 ms, sys: 24.3 ms, total: 877 ms\n",
      "Wall time: 845 ms\n"
     ]
    }
   ],
   "source": [
    "%%time\n",
    "from jaxkern.kernels.stationary import RBF\n",
    "\n",
    "# estimate the length scale\n",
    "length_scale_X = estimate_sigma_median(X[:1000], X[:1000])\n",
    "length_scale_Y = estimate_sigma_median(Y[:1000], Y[:1000])\n",
    "\n",
    "print(length_scale_X, length_scale_Y)\n",
    "\n",
    "# create the kernel matrix\n",
    "rbf_kern_X = jax.partial(kernel_matrix, jax.partial(rbf_kernel, length_scale_X, 1.0))\n",
    "rbf_kern_Y = jax.partial(kernel_matrix, jax.partial(rbf_kernel, length_scale_Y, 1.0))\n",
    "\n",
    "\n",
    "hsic_rbf_clf = HSIC(\n",
    "    kernel_X=rbf_kern_X, \n",
    "    kernel_Y=rbf_kern_Y,\n",
    ")\n",
    "\n",
    "hsic_val = hsic_rbf_clf(X, Y)\n",
    "\n",
    "print(f\"HSIC (rbf): {hsic_val:.4f}\")"
   ]
  },
  {
   "cell_type": "code",
   "execution_count": 7,
   "metadata": {},
   "outputs": [
    {
     "name": "stdout",
     "output_type": "stream",
     "text": [
      "CKA (rbf): 0.9383\n",
      "CPU times: user 46.3 ms, sys: 14.2 ms, total: 60.4 ms\n",
      "Wall time: 28.6 ms\n"
     ]
    }
   ],
   "source": [
    "%%time\n",
    "cka_rbf_clf = CKA(\n",
    "    kernel_X=rbf_kern_X, \n",
    "    kernel_Y=rbf_kern_Y,\n",
    ")\n",
    "\n",
    "cka_val = cka_rbf_clf(X, Y)\n",
    "\n",
    "print(f\"CKA (rbf): {cka_val:.4f}\")"
   ]
  },
  {
   "cell_type": "markdown",
   "metadata": {},
   "source": [
    "### Convenience Function (RBF)\n",
    "\n",
    "Everyone tends to use the RBF kernel because it is the easiest to use. Especially in unsupervised scenarios where we cannot actually learn the kernel parameters."
   ]
  },
  {
   "cell_type": "code",
   "execution_count": 8,
   "metadata": {},
   "outputs": [
    {
     "name": "stdout",
     "output_type": "stream",
     "text": [
      "HSIC (rbf): 0.1136\n",
      "CPU times: user 316 ms, sys: 32 ms, total: 348 ms\n",
      "Wall time: 307 ms\n"
     ]
    }
   ],
   "source": [
    "%%time\n",
    "\n",
    "hsic_rbf_clf = HSICRBF(\n",
    "    sigma_x=estimate_sigma_median, \n",
    "    sigma_y=estimate_sigma_median,\n",
    ")\n",
    "\n",
    "hsic_val = hsic_rbf_clf(X, Y)\n",
    "\n",
    "print(f\"HSIC (rbf): {hsic_val:.4f}\")"
   ]
  },
  {
   "cell_type": "code",
   "execution_count": 9,
   "metadata": {},
   "outputs": [
    {
     "name": "stdout",
     "output_type": "stream",
     "text": [
      "0.72456807 0.719218\n",
      "nHSIC (rbf): 0.9383\n",
      "CPU times: user 364 ms, sys: 28.9 ms, total: 393 ms\n",
      "Wall time: 329 ms\n"
     ]
    }
   ],
   "source": [
    "%%time\n",
    "\n",
    "nhsic_rbf_clf = CKARBF(\n",
    "    sigma_x=estimate_sigma_median, \n",
    "    sigma_y=estimate_sigma_median,\n",
    "    bias=True\n",
    ")\n",
    "\n",
    "nhsic_val = nhsic_rbf_clf(X, Y)\n",
    "print(nhsic_rbf_clf.sigma_x_, nhsic_rbf_clf.sigma_y_)\n",
    "print(f\"nHSIC (rbf): {nhsic_val:.4f}\")"
   ]
  },
  {
   "cell_type": "code",
   "execution_count": 10,
   "metadata": {},
   "outputs": [],
   "source": [
    "from jaxkern.kernels.sigma import estimate_sigma_median_kth"
   ]
  },
  {
   "cell_type": "code",
   "execution_count": 18,
   "metadata": {},
   "outputs": [
    {
     "name": "stdout",
     "output_type": "stream",
     "text": [
      "0.075444035 0.07336891\n",
      "nHSIC (rbf, kth=0.15): 0.3772\n",
      "0.2959211 0.28885612\n",
      "nHSIC (rbf, kth=0.3): 0.8110\n",
      "0.8324282 0.8229587\n",
      "nHSIC (rbf, kth=0.5): 0.9469\n",
      "2.2329373 2.129347\n",
      "nHSIC (rbf, kth=0.7): 0.9713\n",
      "4.125067 4.072429\n",
      "nHSIC (rbf, kth=0.85): 0.9921\n"
     ]
    }
   ],
   "source": [
    "for ik in [0.15, 0.3, 0.5, 0.7, 0.85]:\n",
    "\n",
    "    est_k = jax.partial(estimate_sigma_median_kth, percent=ik)\n",
    "    nhsic_rbf_clf = CKARBF(\n",
    "        sigma_x=est_k, \n",
    "        sigma_y=est_k,\n",
    "        bias=False\n",
    "    )\n",
    "\n",
    "    nhsic_val = nhsic_rbf_clf(X, Y)\n",
    "    print(nhsic_rbf_clf.sigma_x_, nhsic_rbf_clf.sigma_y_)\n",
    "    print(f\"nHSIC (rbf, kth={ik}): {nhsic_val:.4f}\")"
   ]
  },
  {
   "cell_type": "markdown",
   "metadata": {},
   "source": [
    "## HSIC, RBF Sampler"
   ]
  },
  {
   "cell_type": "code",
   "execution_count": 12,
   "metadata": {},
   "outputs": [],
   "source": [
    "n_samples = 100_000\n",
    "\n",
    "X_s = rng.rand(n_samples, 1)\n",
    "Y_s = X_s + 0.05 * rng.randn(n_samples, 1)\n",
    "\n",
    "X_s = np.array(X_s)\n",
    "Y_s = np.array(Y_s)"
   ]
  },
  {
   "cell_type": "code",
   "execution_count": 13,
   "metadata": {},
   "outputs": [
    {
     "name": "stdout",
     "output_type": "stream",
     "text": [
      "HSIC (rff): 0.0666\n",
      "CPU times: user 9.67 s, sys: 758 ms, total: 10.4 s\n",
      "Wall time: 3.19 s\n"
     ]
    }
   ],
   "source": [
    "%%time\n",
    "\n",
    "\n",
    "n_rff = 500\n",
    "\n",
    "hsic_rff_clf = HSICRBFSampler(\n",
    "    length_scale_X=estimate_sigma_median, \n",
    "    length_scale_Y=estimate_sigma_median,\n",
    "    n_rff=n_rff\n",
    ")\n",
    "\n",
    "\n",
    "\n",
    "hsic_val = hsic_rff_clf(X_s, Y_s)\n",
    "\n",
    "print(f\"HSIC (rff): {hsic_val:.4f}\")"
   ]
  },
  {
   "cell_type": "code",
   "execution_count": 14,
   "metadata": {},
   "outputs": [
    {
     "name": "stdout",
     "output_type": "stream",
     "text": [
      "CKA (rff): 0.7491\n",
      "CPU times: user 15.2 s, sys: 1.59 s, total: 16.8 s\n",
      "Wall time: 2.04 s\n"
     ]
    }
   ],
   "source": [
    "%%time\n",
    "\n",
    "\n",
    "cka_rff_clf = CKARBFSampler(\n",
    "    length_scale_X=estimate_sigma_median, \n",
    "    length_scale_Y=estimate_sigma_median,\n",
    "    n_rff=n_rff\n",
    ")\n",
    "cka_val = cka_rff_clf(X_s, Y_s)\n",
    "\n",
    "print(f\"CKA (rff): {cka_val:.4f}\")"
   ]
  },
  {
   "cell_type": "code",
   "execution_count": 17,
   "metadata": {},
   "outputs": [
    {
     "name": "stdout",
     "output_type": "stream",
     "text": [
      "nHSIC (rbf, kth=0.15): 0.0778\n",
      "nHSIC (rbf, kth=0.3): 0.4149\n",
      "nHSIC (rbf, kth=0.5): 0.7911\n",
      "nHSIC (rbf, kth=0.7): 0.9492\n",
      "nHSIC (rbf, kth=0.85): 0.9685\n"
     ]
    }
   ],
   "source": [
    "for ik in [0.15, 0.3, 0.5, 0.7, 0.85]:\n",
    "\n",
    "    est_k = jax.partial(estimate_sigma_median_kth, percent=ik)\n",
    "    nhsic_rbf_clf = CKARBFSampler(\n",
    "        length_scale_X=est_k, \n",
    "        length_scale_Y=est_k,\n",
    "        n_rff=n_rff\n",
    "    )\n",
    "\n",
    "    nhsic_val = nhsic_rbf_clf(X_s, Y_s)\n",
    "    print(f\"nHSIC (rff, kth={ik}): {nhsic_val:.4f}\")"
   ]
  },
  {
   "cell_type": "code",
   "execution_count": null,
   "metadata": {},
   "outputs": [],
   "source": []
  }
 ],
 "metadata": {
  "kernelspec": {
   "display_name": "Python [conda env:.conda-jaxkern]",
   "language": "python",
   "name": "conda-env-.conda-jaxkern-py"
  },
  "language_info": {
   "codemirror_mode": {
    "name": "ipython",
    "version": 3
   },
   "file_extension": ".py",
   "mimetype": "text/x-python",
   "name": "python",
   "nbconvert_exporter": "python",
   "pygments_lexer": "ipython3",
   "version": "3.8.5"
  }
 },
 "nbformat": 4,
 "nbformat_minor": 4
}
