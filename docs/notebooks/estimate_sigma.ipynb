{
 "cells": [
  {
   "cell_type": "markdown",
   "metadata": {},
   "source": [
    "# Code Review I - Different Sigma Scales\n",
    "\n",
    "This notebook features all of the functions necessary to estimate different length scales. We will look at 2 methods and break this review into two parts:\n",
    "\n",
    "1. The sigma estimator (scott, silverman, median, mean)\n",
    "2. The configuration (same length scales, separate length scales, one length scale per dimension)"
   ]
  },
  {
   "cell_type": "code",
   "execution_count": 25,
   "metadata": {},
   "outputs": [],
   "source": [
    "import sys, os\n",
    "\n",
    "# Insert path to model directory,.\n",
    "cwd = os.getcwd()\n",
    "path = f\"{cwd}/../../src\"\n",
    "sys.path.insert(0, path)\n",
    "\n",
    "import numpy as np\n",
    "import pandas as pd\n",
    "from functools import partial\n",
    "\n",
    "# toy datasets\n",
    "from data.distribution import DataParams, Inputs\n",
    "\n",
    "# Plotting Procedures\n",
    "import matplotlib\n",
    "import matplotlib.pyplot as plt\n",
    "import seaborn as sns\n",
    "plt.style.use(['seaborn-paper'])\n",
    "\n",
    "# Insert path to package,.\n",
    "pysim_path = f\"/home/emmanuel/code/pysim/\"\n",
    "sys.path.insert(0, pysim_path)"
   ]
  },
  {
   "cell_type": "markdown",
   "metadata": {},
   "source": [
    "## Part I - Estimate Sigma\n",
    "\n",
    "For this first part, we will need to look at how we estimate sigma. I will use the following methods:\n",
    "\n",
    "* Silverman\n",
    "* Scot\n",
    "* Mean\n",
    "* Median"
   ]
  },
  {
   "cell_type": "markdown",
   "metadata": {},
   "source": [
    "### Data\n",
    "\n",
    "For this review, we will be using the distribution loader and we will take the T-Student distribution. We will look at 2 dimensions with 100 samples."
   ]
  },
  {
   "cell_type": "markdown",
   "metadata": {},
   "source": [
    "### Helper Functions\n",
    "\n",
    "* 2D Scatter Plot with Marginal distributions as histograms"
   ]
  },
  {
   "cell_type": "code",
   "execution_count": 2,
   "metadata": {},
   "outputs": [],
   "source": [
    "def plot_2d_data(X):\n",
    "    fig  = plt.figure()\n",
    "\n",
    "    g = sns.jointplot(\n",
    "        x=X[:, 0],\n",
    "        y=X[:, 1],\n",
    "    )\n",
    "    plt.tight_layout()\n",
    "    plt.show()\n",
    "    \n",
    "def plot_1d_data(X):\n",
    "    fig, ax = plt.subplots()\n",
    "    ax.hist(X)\n",
    "    \n"
   ]
  },
  {
   "cell_type": "markdown",
   "metadata": {},
   "source": [
    "We initialize a DataParameters `namedtuple`. It contains all of the parameters we need to generate our dataset. I chose a `namedTuple` because it is immutable so it won't be overwritten once we've called it within our functions. It also has a method to actually provide the data given the parameters, `generate_data`."
   ]
  },
  {
   "cell_type": "code",
   "execution_count": 3,
   "metadata": {},
   "outputs": [
    {
     "data": {
      "image/png": "[encoded data removed]",
      "text/plain": [
       "<Figure size 460.8x316.8 with 1 Axes>"
      ]
     },
     "metadata": {
      "needs_background": "light"
     },
     "output_type": "display_data"
    },
    {
     "data": {
      "image/png": "[encoded data removed]",
      "text/plain": [
       "<Figure size 460.8x316.8 with 1 Axes>"
      ]
     },
     "metadata": {
      "needs_background": "light"
     },
     "output_type": "display_data"
    }
   ],
   "source": [
    "# initialize the data generator\n",
    "dist_data = DataParams(\n",
    "    dataset='tstudent',\n",
    "    trial=1,\n",
    "    std=2,\n",
    "    nu=7,\n",
    "    samples=500,\n",
    "    dimensions=2\n",
    ")\n",
    "inputs = dist_data.generate_data()\n",
    "\n",
    "# Plot the Distribution\n",
    "plot_1d_data(inputs.X[:, 0])\n",
    "plot_1d_data(inputs.X[:, 1])"
   ]
  },
  {
   "cell_type": "markdown",
   "metadata": {},
   "source": [
    "As we can see, these are clearly two different distributions and we would like to see how the different estimators work."
   ]
  },
  {
   "cell_type": "markdown",
   "metadata": {},
   "source": [
    "### Estimator I - Scotts Method\n",
    "\n",
    "$$\n",
    "\\text{scott} = N^{- \\frac{1}{D + 4}}\n",
    "$$\n",
    "\n",
    "where $N$ is the number of samples and $D$ is the number of data points.\n",
    "\n",
    "**Source**:\n",
    "\n",
    "* [Scipy Website](https://docs.scipy.org/doc/scipy/reference/generated/scipy.stats.gaussian_kde.html)\n",
    "\n",
    "According to the formula, we aren't actually calculating anything to do with the distance. So we will get the same value for both datasets.\n",
    "\n",
    "This is easy to calculate in numpy.\n"
   ]
  },
  {
   "cell_type": "code",
   "execution_count": 4,
   "metadata": {},
   "outputs": [],
   "source": [
    "def scotts_factor(X: np.ndarray) -> float:\n",
    "    \"\"\"Scotts Method to estimate the length scale of the \n",
    "    rbf kernel.\n",
    "    \n",
    "        factor = n**(-1./(d+4))\n",
    "    \n",
    "    Parameters\n",
    "    ----------\n",
    "    X : np.ndarry\n",
    "        Input array\n",
    "    \n",
    "    Returns\n",
    "    -------\n",
    "    factor : float\n",
    "        the length scale estimated\n",
    "    \n",
    "    \"\"\"\n",
    "    n_samples, n_features = X.shape\n",
    "    \n",
    "    return np.power(n_samples, - 1 / (n_features + 4.))"
   ]
  },
  {
   "cell_type": "code",
   "execution_count": 5,
   "metadata": {},
   "outputs": [
    {
     "name": "stdout",
     "output_type": "stream",
     "text": [
      "(0.2885399811814427, 0.2885399811814427)\n"
     ]
    }
   ],
   "source": [
    "sigmas = {}\n",
    "\n",
    "sigmas['scott'] = (\n",
    "    scotts_factor(inputs.X[:, 0][:, None]), \n",
    "    scotts_factor(inputs.Y[:, 0][:, None])\n",
    ")\n",
    "\n",
    "# check same value\n",
    "assert sigmas['scott'][0] == sigmas['scott'][1]\n",
    "print(sigmas['scott'])"
   ]
  },
  {
   "cell_type": "markdown",
   "metadata": {},
   "source": [
    "### Estimator II - Silverman\n",
    "\n",
    "This is a slight different interpretation but very similar.\n",
    "\n",
    "$$\n",
    "\\text{silverman} = \\left( \\frac{N * (D+2)}{4} \\right)^{- \\frac{1}{D + 4}}\n",
    "$$"
   ]
  },
  {
   "cell_type": "code",
   "execution_count": 6,
   "metadata": {},
   "outputs": [],
   "source": [
    "def silvermans_factor(X: np.ndarray) -> float:\n",
    "    \"\"\"Silvermans method used to estimate the length scale\n",
    "    of the rbf kernel.\n",
    "    \n",
    "    factor = (n * (d + 2) / 4.)**(-1. / (d + 4)).\n",
    "    \n",
    "    Parameters\n",
    "    ----------\n",
    "    X : np.ndarray,\n",
    "        Input array\n",
    "    \n",
    "    Returns\n",
    "    -------\n",
    "    factor : float\n",
    "        the length scale estimated\n",
    "    \"\"\"\n",
    "    n_samples, n_features = X.shape\n",
    "    \n",
    "    base = ( n_samples * (n_features + 2.) ) / 4.\n",
    "    \n",
    "    return np.power(base, - 1 / (n_features + 4.))"
   ]
  },
  {
   "cell_type": "code",
   "execution_count": 7,
   "metadata": {},
   "outputs": [
    {
     "name": "stdout",
     "output_type": "stream",
     "text": [
      "(0.30562842716315974, 0.30562842716315974)\n"
     ]
    }
   ],
   "source": [
    "sigmas = {}\n",
    "\n",
    "sigmas['silverman'] = (\n",
    "    silvermans_factor(inputs.X[:, 0][:, None]), \n",
    "    silvermans_factor(inputs.Y[:, 0][:, None])\n",
    ")\n",
    "\n",
    "# check same value\n",
    "assert sigmas['silverman'][0] == sigmas['silverman'][1]\n",
    "\n",
    "print(sigmas['silverman'])"
   ]
  },
  {
   "cell_type": "markdown",
   "metadata": {},
   "source": [
    "### Method III - Mean/Median Distance Heuristic\n",
    "\n",
    "The heuristic is the 'mean distance between the points of the domain'. The full formula is:\n",
    "\n",
    "$$\n",
    "\\nu = \\sqrt{\\frac{H_n}{2}}\n",
    "$$\n",
    "\n",
    "where $H_n = \\text{Med}\\left\\{ ||X_{n,i} - X_{n,j}||^2 | 1 \\leq i < j \\leq n \\right\\}$ and $\\text{Med}$ is the empirical median. We can also use the **Mean** as well. We can obtain this by:\n",
    "\n",
    "1. Calculating the squareform euclidean distance of all points in our dataset\n",
    "2. Order them in increasing order\n",
    "3. Set $H_n$ to be the central element if $n(n-1)/2$ is odd or the mean if $n(n-1)/2$ is even.\n",
    "\n",
    "**Note**: some authors just use $\\sqrt{H_n}$.\n",
    "\n",
    "**Source**: \n",
    "\n",
    "* Large Sample Analysis of the Median Heuristic - Garreau et al. (2018) - [PDF](https://arxiv.org/pdf/1707.07269.pdf)\n",
    "> In particular, look at equation 2. They talk about how to find the heuristic as well as some asymptoptic properties.\n",
    "* The Mean and Median Criterion for Automatic Kernel Bandwidth Selection for Support Vector Data Description - Chaudhuri et. al. (2017) - [arxiv](https://arxiv.org/pdf/1708.05106.pdf)\n",
    "\n",
    "In other papers, they have defined others but I have yet to see too many people actually exploring the space of solutions. It's mostly swept under the rug.\n",
    "\n",
    "For our example, I have done the simple calculation of using squared euclidean distances."
   ]
  },
  {
   "cell_type": "code",
   "execution_count": 8,
   "metadata": {},
   "outputs": [],
   "source": [
    "from scipy.spatial.distance import pdist, squareform\n"
   ]
  },
  {
   "cell_type": "code",
   "execution_count": 9,
   "metadata": {},
   "outputs": [
    {
     "name": "stdout",
     "output_type": "stream",
     "text": [
      "0.8120777689523777 0.6372118050351774\n"
     ]
    },
    {
     "data": {
      "text/plain": [
       "<matplotlib.legend.Legend at 0x7fa42064a550>"
      ]
     },
     "execution_count": 9,
     "metadata": {},
     "output_type": "execute_result"
    },
    {
     "data": {
      "image/png": "[encoded data removed]",
      "text/plain": [
       "<Figure size 864x360 with 2 Axes>"
      ]
     },
     "metadata": {
      "needs_background": "light"
     },
     "output_type": "display_data"
    }
   ],
   "source": [
    "# get the squared euclidean distances\n",
    "dists = np.sort(pdist(inputs.X[:, 0][:, None], 'sqeuclidean'))\n",
    "xs = np.linspace(0, 1, len(dists))\n",
    "\n",
    "\n",
    "fig, ax = plt.subplots(nrows=1, ncols=2, figsize=(12, 5))\n",
    "\n",
    "ax[0].plot(dists)\n",
    "# ax[0].plot(np.sort(dists.ravel()))\n",
    "bins = np.logspace(np.log10(1e-1),np.log10(1e2))\n",
    "ax[1].hist(dists, bins=bins, range=(0, 20))\n",
    "\n",
    "# ================\n",
    "# Median Distance\n",
    "# ================\n",
    "med_dist = np.median(dists)\n",
    "\n",
    "# Plot on graph\n",
    "idx = np.argwhere(dists < med_dist)[-1]\n",
    "point = dists[dists < med_dist][-1]\n",
    "\n",
    "ax[0].scatter(idx, point, marker='.', s=500, color='black', label='Median Distance')\n",
    "ax[1].axvline(med_dist, linewidth=2, zorder=3, color='black', linestyle='dashed', label='Median Distance')\n",
    "\n",
    "# ================\n",
    "# Median Heuristic\n",
    "# ================\n",
    "heuristic = np.sqrt(med_dist / 2)\n",
    "\n",
    "idx = np.argwhere(dists < heuristic)[-1]\n",
    "point = dists[dists < heuristic][-1]\n",
    "\n",
    "print(med_dist, heuristic)\n",
    "\n",
    "\n",
    "ax[0].scatter(idx, point, marker='x', s=300, color='blue', label=r'Median Heuristic, $\\sqrt{\\frac{D^2}{2}}$')\n",
    "ax[1].axvline(heuristic, linewidth=2, zorder=3, color='blue', linestyle='dashed', label='Median Heuristic')\n",
    "\n",
    "\n",
    "# ================\n",
    "# Mean Distance\n",
    "# ================\n",
    "mean_dist = np.mean(dists)\n",
    "\n",
    "# Plot on graph\n",
    "idx = np.argwhere(dists < mean_dist)[-1]\n",
    "point = dists[dists < mean_dist][-1]\n",
    "ax[0].scatter(idx, point, marker='.', s=500, color='red', label='Mean Distance')\n",
    "ax[1].axvline(mean_dist, linewidth=2, zorder=3, color='red', linestyle='dashed', label='Mean Distance')\n",
    "\n",
    "\n",
    "# ================\n",
    "# Mean Heuristic\n",
    "# ================\n",
    "heuristic = np.sqrt(mean_dist / 2)\n",
    "\n",
    "# Plot on graph\n",
    "idx = np.argwhere(dists < heuristic)[-1]\n",
    "point = dists[dists < heuristic][-1]\n",
    "ax[0].scatter(idx, point, marker='x', s=300, color='orange', label=r'Mean Heuristic, $\\sqrt{\\frac{D^2}{2}}$')\n",
    "ax[1].axvline(heuristic, linewidth=2, zorder=3, color='orange', linestyle='dashed', label='Mean Heuristic')\n",
    "\n",
    "\n",
    "ax[0].set_yscale('log')\n",
    "ax[1].set_xscale('log')\n",
    "ax[0].legend(fontsize=12)\n",
    "ax[1].legend(fontsize=12)"
   ]
  },
  {
   "cell_type": "markdown",
   "metadata": {},
   "source": [
    "### Method III - Inherited Distance Measure\n",
    "\n",
    "This is a distance measure that is new to me. It is the median/mean of the distances to the $k-th$ neighbour of the dataset. So essentially, we take \n",
    "\n",
    "1. Calculate the squareform of the matrix\n",
    "2. Sort the matrix in ascending order\n",
    "3. Take the kth distance\n",
    "4. Take the median or mean of this columns\n"
   ]
  },
  {
   "cell_type": "code",
   "execution_count": 10,
   "metadata": {},
   "outputs": [],
   "source": [
    "def kth_distance(dists: np.ndarray, percent: float) -> np.ndarray:\n",
    "    \n",
    "    # kth distance calculation (50%)\n",
    "    kth_sample = int(percent * dists.shape[0])\n",
    "    \n",
    "    # take the Kth neighbours of that distance\n",
    "    k_dist = dists[:, kth_sample]\n",
    "    \n",
    "    return k_dist"
   ]
  },
  {
   "cell_type": "code",
   "execution_count": 12,
   "metadata": {},
   "outputs": [],
   "source": [
    "# get the sorted square form of the squared euclidean distances\n",
    "dists1 = np.sort(squareform(pdist(inputs.X[:, 0][:, None], 'sqeuclidean')))\n",
    "dists2 = np.sort(squareform(pdist(inputs.X[:, 1][:, None], 'sqeuclidean')))\n",
    "\n",
    "# check the shape\n",
    "assert dists1.shape[0] == inputs.X[:, 0].shape[0]\n",
    "# np.testing.assert_array_almost_equal(dists, dists2)\n",
    "\n",
    "# kth distance calculation (50%)\n",
    "kth_sample = int(0.5 * dists1.shape[0])\n",
    "\n",
    "# take the Kth neighbour of that distance\n",
    "k_dist1 = dists1[:, kth_sample]\n",
    "k_dist2 = dists2[:, kth_sample]\n",
    "\n",
    "# take the mean or median distance\n",
    "median_dist1 = np.median(k_dist1)\n",
    "median_dist2 = np.median(k_dist2)"
   ]
  },
  {
   "cell_type": "markdown",
   "metadata": {},
   "source": [
    "#### Demo - Different K Distances"
   ]
  },
  {
   "cell_type": "code",
   "execution_count": 14,
   "metadata": {},
   "outputs": [
    {
     "data": {
      "text/plain": [
       "<matplotlib.legend.Legend at 0x7fa420121fd0>"
      ]
     },
     "execution_count": 14,
     "metadata": {},
     "output_type": "execute_result"
    },
    {
     "data": {
      "image/png": "[encoded data removed]",
      "text/plain": [
       "<Figure size 360x720 with 2 Axes>"
      ]
     },
     "metadata": {
      "needs_background": "light"
     },
     "output_type": "display_data"
    }
   ],
   "source": [
    "\n",
    "fig, ax = plt.subplots(nrows=2, ncols=1, figsize=(5, 10))\n",
    "\n",
    "# ax[0].plot(np.sort(dists.ravel()))\n",
    "bins = np.logspace(np.log10(1e-2),np.log10(1e3))\n",
    "ax[0].hist(dists1.ravel(), bins=bins, density=True)\n",
    "ax[1].hist(dists2.ravel(), bins=bins, density=True)\n",
    "\n",
    "# ==============================\n",
    "# Median Distance (50% Samples)\n",
    "# ==============================\n",
    "percent = 0.50\n",
    "med_dist = np.median(kth_distance(dists1, percent))\n",
    "label = f\"50% Samples, {med_dist:.2f}\"\n",
    "ax[0].axvline(med_dist, linewidth=2, zorder=3, color='black', linestyle='dashed', label=label)\n",
    "\n",
    "percent = 0.50\n",
    "med_dist = np.median(kth_distance(dists2, percent))\n",
    "label = f\"50% Samples, {med_dist:.2f}\"\n",
    "ax[1].axvline(med_dist, linewidth=2, zorder=3, color='black', linestyle='dashed', label=label)\n",
    "\n",
    "# ==============================\n",
    "# Median Distance (20% Samples)\n",
    "# ==============================\n",
    "percent = 0.20\n",
    "med_dist = np.median(kth_distance(dists1, percent))\n",
    "label = f\"20% Samples, {med_dist:.2f}\"\n",
    "ax[0].axvline(med_dist, linewidth=2, zorder=3, color='blue', linestyle='dashed', label=label)\n",
    "\n",
    "percent = 0.20\n",
    "med_dist = np.median(kth_distance(dists2, percent))\n",
    "label = f\"20% Samples, {med_dist:.2f}\"\n",
    "ax[1].axvline(med_dist, linewidth=2, zorder=3, color='blue', linestyle='dashed', label=label)\n",
    "\n",
    "# ==============================\n",
    "# Median Distance (80% Samples)\n",
    "# ==============================\n",
    "percent = 0.80\n",
    "med_dist = np.median(kth_distance(dists1, percent))\n",
    "label = f\"80% Samples, {med_dist:.2f}\"\n",
    "ax[0].axvline(med_dist, linewidth=2, zorder=3, color='red', linestyle='dashed', label=label)\n",
    "\n",
    "percent = 0.80\n",
    "med_dist = np.median(kth_distance(dists2, percent))\n",
    "label = f\"80% Samples, {med_dist:.2f}\"\n",
    "ax[1].axvline(med_dist, linewidth=2, zorder=3, color='red', linestyle='dashed', label=label)\n",
    "\n",
    "# ==============================\n",
    "# Median Distance (15% Samples)\n",
    "# ==============================\n",
    "percent = 0.15\n",
    "med_dist = np.median(kth_distance(dists1, percent))\n",
    "label = f\"15% Samples, {med_dist:.2f}\"\n",
    "ax[0].axvline(med_dist, linewidth=2, zorder=3, color='orange', linestyle='dashed', label=label)\n",
    "\n",
    "percent = 0.15\n",
    "med_dist = np.median(kth_distance(dists2, percent))\n",
    "label = f\"15% Samples, {med_dist:.2f}\"\n",
    "ax[1].axvline(med_dist, linewidth=2, zorder=3, color='orange', linestyle='dashed', label=label)\n",
    "\n",
    "\n",
    "ax[0].set_xscale('log')\n",
    "ax[1].set_xscale('log')\n",
    "ax[0].legend(fontsize=12)\n",
    "ax[1].legend(fontsize=12)"
   ]
  },
  {
   "cell_type": "markdown",
   "metadata": {},
   "source": [
    "## Part II - Different Sigma Configurations\n",
    "\n",
    "So now, we will look at the different ways we can calculate the sigma values. The options are:\n",
    "\n",
    "1. 1 Sigma Value for both $\\sigma_{XY}$\n",
    "2. 1 Sigma Value per dataset $\\sigma_X, \\sigma_Y$\n",
    "3. 1 Sigma Value per dataset per dimension $\\sigma_{X_d}, \\sigma_{Y_d}$"
   ]
  },
  {
   "cell_type": "code",
   "execution_count": 15,
   "metadata": {},
   "outputs": [],
   "source": [
    "def sigma_estimate(X: np.ndarray, method: str='scott'):\n",
    "    \n",
    "    if method == 'silverman':\n",
    "        return silvermans_factor(X)\n",
    "    elif method == 'scott':\n",
    "        return scotts_factor(X)\n",
    "    else:\n",
    "        raise ValueError(f\"Unrecognized distance measure: {method}\")"
   ]
  },
  {
   "cell_type": "markdown",
   "metadata": {},
   "source": [
    "### Data\n",
    "\n",
    "We will revist the distribution except now we will look at the joint plot."
   ]
  },
  {
   "cell_type": "code",
   "execution_count": 16,
   "metadata": {},
   "outputs": [
    {
     "data": {
      "text/plain": [
       "<Figure size 460.8x316.8 with 0 Axes>"
      ]
     },
     "metadata": {},
     "output_type": "display_data"
    },
    {
     "data": {
      "image/png": "[encoded data removed]",
      "text/plain": [
       "<Figure size 432x432 with 3 Axes>"
      ]
     },
     "metadata": {
      "needs_background": "light"
     },
     "output_type": "display_data"
    }
   ],
   "source": [
    "# initialize the data generator\n",
    "dist_data = DataParams(\n",
    "    dataset='tstudent',\n",
    "    trial=1,\n",
    "    std=2,\n",
    "    nu=7,\n",
    "    samples=500,\n",
    "    dimensions=2\n",
    ")\n",
    "inputs = dist_data.generate_data()\n",
    "\n",
    "# Plot the Distribution\n",
    "plot_2d_data(inputs.X)\n"
   ]
  },
  {
   "cell_type": "markdown",
   "metadata": {},
   "source": [
    "#### Scott n Silverman"
   ]
  },
  {
   "cell_type": "code",
   "execution_count": 17,
   "metadata": {},
   "outputs": [
    {
     "name": "stdout",
     "output_type": "stream",
     "text": [
      "Sigma Per (X,Y): 0.3550,0.3550\n",
      "Sigma Same (XY): 0.3550\n",
      "Sigma Per Dimension (X,Y):\n",
      "[0.2885399811814427, 0.2885399811814427],\n",
      "[0.2885399811814427, 0.2885399811814427]\n"
     ]
    }
   ],
   "source": [
    "# scotts method\n",
    "sigmas = {}\n",
    "\n",
    "# 1 sigma per dataset\n",
    "sigma_x = sigma_estimate(inputs.X, 'scott')\n",
    "sigma_y = sigma_estimate(inputs.Y, 'scott')\n",
    "print(f\"Sigma Per (X,Y): {sigma_x:.4f},{sigma_y:.4f}\")\n",
    "\n",
    "# 1 sigma for both\n",
    "sigma_xy = np.mean([sigma_x, sigma_y])\n",
    "print(f\"Sigma Same (XY): {sigma_xy:.4f}\")\n",
    "\n",
    "# 1 sigma per dimensions\n",
    "sigma_x = [sigma_estimate(ix.reshape(-1,1), 'scott') for ix in inputs.X.T]\n",
    "sigma_y = [sigma_estimate(iy.reshape(-1,1), 'scott')  for iy in inputs.Y.T]\n",
    "print(f\"Sigma Per Dimension (X,Y):\\n{sigma_x},\\n{sigma_y}\")"
   ]
  },
  {
   "cell_type": "markdown",
   "metadata": {},
   "source": [
    "This makes sense as we get the same $\\sigma$ value for both $X,Y$ because they don't take into consideration any aspects of the individual datasets. Only the number of samples and dimensions. There is a difference between per dimension because we have changed the dimension parameter, but there is no difference between datasets.\n",
    "\n",
    "We expect to see the same thing for silverman"
   ]
  },
  {
   "cell_type": "code",
   "execution_count": 18,
   "metadata": {},
   "outputs": [
    {
     "name": "stdout",
     "output_type": "stream",
     "text": [
      "Sigma Per (X,Y): 0.3550,0.3550\n",
      "Sigma Same (XY): 0.3550\n",
      "Sigma Per Dimension (X,Y):\n",
      "[0.30562842716315974, 0.30562842716315974],\n",
      "[0.30562842716315974, 0.30562842716315974]\n"
     ]
    }
   ],
   "source": [
    "# silvermans method\n",
    "\n",
    "# 1 sigma per dataset\n",
    "sigma_x = sigma_estimate(inputs.X, 'silverman')\n",
    "sigma_y = sigma_estimate(inputs.Y, 'silverman')\n",
    "print(f\"Sigma Per (X,Y): {sigma_x:.4f},{sigma_y:.4f}\")\n",
    "\n",
    "# 1 sigma for both\n",
    "sigma_xy = np.mean([sigma_x, sigma_y])\n",
    "print(f\"Sigma Same (XY): {sigma_xy:.4f}\")\n",
    "\n",
    "# 1 sigma per dimensions\n",
    "sigma_x = [sigma_estimate(ix.reshape(-1,1), 'silverman') for ix in inputs.X.T]\n",
    "sigma_y = [sigma_estimate(iy.reshape(-1,1), 'silverman') for iy in inputs.Y.T]\n",
    "print(f\"Sigma Per Dimension (X,Y):\\n{sigma_x},\\n{sigma_y}\")"
   ]
  },
  {
   "cell_type": "markdown",
   "metadata": {},
   "source": [
    "So the pattern is the same as scott: there are different values if we change the number of input dimensions, but we get the same values across datasets with the same number of samples and dimensions.\n",
    "\n",
    "**Note**: it looks a little fishy that the $\\sigma_{XY}$ is the same for Scott and Silverman. But that's because in 2D, the measures are equivalent because the base factor of $\\frac{N(D+2)}{4}$ is equal to $N$ if $D=2$. The exponent is the same for both estimators. Example in 3 dimensions: "
   ]
  },
  {
   "cell_type": "code",
   "execution_count": 19,
   "metadata": {},
   "outputs": [
    {
     "name": "stdout",
     "output_type": "stream",
     "text": [
      "Scott - Sigma Per (X,Y): 0.4116,0.4116\n",
      "Silverman - Sigma Per (X,Y): 0.3986,0.3986\n"
     ]
    }
   ],
   "source": [
    "# initialize the data generator\n",
    "dist_data = DataParams(\n",
    "    dataset='tstudent',\n",
    "    trial=1,\n",
    "    std=2,\n",
    "    nu=7,\n",
    "    samples=500,\n",
    "    dimensions=3\n",
    ")\n",
    "temp_input = dist_data.generate_data()\n",
    "\n",
    "# 1 sigma per dataset\n",
    "sigma_x = sigma_estimate(temp_input.X, 'scott')\n",
    "sigma_y = sigma_estimate(temp_input.Y, 'scott')\n",
    "print(f\"Scott - Sigma Per (X,Y): {sigma_x:.4f},{sigma_y:.4f}\")\n",
    "\n",
    "# 1 sigma per dataset\n",
    "sigma_x = sigma_estimate(temp_input.X, 'silverman')\n",
    "sigma_y = sigma_estimate(temp_input.Y, 'silverman')\n",
    "print(f\"Silverman - Sigma Per (X,Y): {sigma_x:.4f},{sigma_y:.4f}\")"
   ]
  },
  {
   "cell_type": "markdown",
   "metadata": {},
   "source": [
    "We see that they are different."
   ]
  },
  {
   "cell_type": "markdown",
   "metadata": {},
   "source": [
    "#### Median, Mean Heuristic\n",
    "\n",
    "So now I'm going to update my function so that we have the option to add the median and mean heuristic."
   ]
  },
  {
   "cell_type": "code",
   "execution_count": 20,
   "metadata": {},
   "outputs": [],
   "source": [
    "def sigma_estimate(X: np.ndarray, method: str='median', heuristic: bool=False):\n",
    "    \n",
    "    # get the squared euclidean distances\n",
    "    if method == 'silverman':\n",
    "        return silvermans_factor(X)\n",
    "    elif method == 'scott':\n",
    "        return scotts_factor(X)\n",
    "    else:\n",
    "        dists = np.sort(pdist(X, 'sqeuclidean'))\n",
    "    \n",
    "    if method == 'median':\n",
    "        sigma = np.median(dists)\n",
    "    elif method == 'mean':\n",
    "        sigma = np.mean(dists)\n",
    "    else:\n",
    "        raise ValueError(f\"Unrecognized distance measure: {method}\")\n",
    "    \n",
    "    if heuristic:\n",
    "        sigma = np.sqrt(sigma / 2)\n",
    "    return sigma"
   ]
  },
  {
   "cell_type": "code",
   "execution_count": 21,
   "metadata": {},
   "outputs": [
    {
     "name": "stdout",
     "output_type": "stream",
     "text": [
      "Sigma Per (X,Y): 4.0080,4.0080\n",
      "Sigma Same (XY): 4.0080\n",
      "Sigma Per Dimension (X,Y):\n",
      "[2.004008016032065, 2.004008016032064],\n",
      "[2.0040080160320635, 2.0040080160320644]\n"
     ]
    }
   ],
   "source": [
    "# 1 sigma per dataset\n",
    "sigma_x = sigma_estimate(inputs.X, 'mean')\n",
    "sigma_y = sigma_estimate(inputs.Y, 'mean')\n",
    "print(f\"Sigma Per (X,Y): {sigma_x:.4f},{sigma_y:.4f}\")\n",
    "\n",
    "# 1 sigma for both\n",
    "sigma_xy = np.mean([sigma_x, sigma_y])\n",
    "print(f\"Sigma Same (XY): {sigma_xy:.4f}\")\n",
    "\n",
    "# 1 sigma per dimensions\n",
    "sigma_x = [sigma_estimate(ix.reshape(-1,1), 'mean') for ix in inputs.X.T]\n",
    "sigma_y = [sigma_estimate(iy.reshape(-1,1), 'mean')  for iy in inputs.Y.T]\n",
    "print(f\"Sigma Per Dimension (X,Y):\\n{sigma_x},\\n{sigma_y}\")"
   ]
  },
  {
   "cell_type": "code",
   "execution_count": 22,
   "metadata": {},
   "outputs": [
    {
     "name": "stdout",
     "output_type": "stream",
     "text": [
      "Sigma Per (X,Y): 2.5684,2.7045\n",
      "Sigma Same (XY): 2.6364\n",
      "Sigma Per Dimension (X,Y):\n",
      "[0.8120777689523777, 0.854339231759148],\n",
      "[0.90660872358859, 0.8619837864110205]\n"
     ]
    }
   ],
   "source": [
    "# 1 sigma per dataset\n",
    "sigma_x = sigma_estimate(inputs.X, 'median')\n",
    "sigma_y = sigma_estimate(inputs.Y, 'median')\n",
    "print(f\"Sigma Per (X,Y): {sigma_x:.4f},{sigma_y:.4f}\")\n",
    "\n",
    "# 1 sigma for both\n",
    "sigma_xy = np.mean([sigma_x, sigma_y])\n",
    "print(f\"Sigma Same (XY): {sigma_xy:.4f}\")\n",
    "\n",
    "# 1 sigma per dimensions\n",
    "sigma_x = [sigma_estimate(ix.reshape(-1,1), 'median') for ix in inputs.X.T]\n",
    "sigma_y = [sigma_estimate(iy.reshape(-1,1), 'median')  for iy in inputs.Y.T]\n",
    "print(f\"Sigma Per Dimension (X,Y):\\n{sigma_x},\\n{sigma_y}\")"
   ]
  },
  {
   "cell_type": "markdown",
   "metadata": {},
   "source": [
    "So we see that the median distance does distinguish been the dimensions where as the mean does not. So if we want some differences, it might be worth it to go with the median as a heuristic.."
   ]
  },
  {
   "cell_type": "markdown",
   "metadata": {},
   "source": [
    "#### Median - Kth Distance"
   ]
  },
  {
   "cell_type": "code",
   "execution_count": 23,
   "metadata": {},
   "outputs": [],
   "source": [
    "from typing import Optional\n",
    "\n",
    "def sigma_estimate(\n",
    "    X: np.ndarray, \n",
    "    method: str='median', \n",
    "    percent: Optional[int]=None, \n",
    "    heuristic: bool=False\n",
    ") -> float:\n",
    "    \n",
    "    # get the squared euclidean distances\n",
    "    if method == 'silverman':\n",
    "        return silvermans_factor(X)\n",
    "    elif method == 'scott':\n",
    "        return scotts_factor(X)\n",
    "    elif percent is not None:\n",
    "        kth_sample = int((percent/100) * X.shape[0])\n",
    "        dists = np.sort(squareform(pdist(X, 'sqeuclidean')))[:, kth_sample]\n",
    "#         print(dists.shape, dists.min(), dists.max())\n",
    "    else:\n",
    "        dists = np.sort(pdist(X, 'sqeuclidean'))\n",
    "#         print(dists.shape, dists.min(), dists.max())\n",
    "        \n",
    "    \n",
    "    if method == 'median':\n",
    "        sigma = np.median(dists)\n",
    "    elif method == 'mean':\n",
    "        sigma = np.mean(dists)\n",
    "    else:\n",
    "        raise ValueError(f\"Unrecognized distance measure: {method}\")\n",
    "    \n",
    "    if heuristic:\n",
    "        sigma = np.sqrt(sigma / 2)\n",
    "    return sigma"
   ]
  },
  {
   "cell_type": "code",
   "execution_count": 26,
   "metadata": {},
   "outputs": [
    {
     "name": "stdout",
     "output_type": "stream",
     "text": [
      "15% Samples\n",
      "20% Samples\n",
      "50% Samples\n",
      "80% Samples\n"
     ]
    }
   ],
   "source": [
    "percentages = [15, 20, 50, 80]\n",
    "results_df = pd.DataFrame()\n",
    "\n",
    "for ipercent in percentages:\n",
    "    \n",
    "    print(f\"{ipercent}% Samples\")\n",
    "    # 1 sigma per dataset\n",
    "    sigma_x = sigma_estimate(inputs.X, 'mean', ipercent)\n",
    "    sigma_y = sigma_estimate(inputs.Y, 'mean', ipercent)\n",
    "\n",
    "    # 1 sigma for both\n",
    "    sigma_xy = np.mean([sigma_x, sigma_y])\n",
    "\n",
    "    # 1 sigma per dimensions\n",
    "    sigma_x_d = [sigma_estimate(ix.reshape(-1,1), 'mean', ipercent) for ix in inputs.X.T]\n",
    "    sigma_y_d = [sigma_estimate(iy.reshape(-1,1), 'mean', ipercent)  for iy in inputs.Y.T]\n",
    "    results_df = results_df.append({\n",
    "        'percent': ipercent,\n",
    "        'sigma_xy': sigma_xy,\n",
    "        'sigma_x': sigma_x,\n",
    "        'sigma_y': sigma_y,\n",
    "        'sigma_xd': sigma_x_d,\n",
    "        'sigma_yd': sigma_y_d,\n",
    "    }, ignore_index=True)"
   ]
  },
  {
   "cell_type": "code",
   "execution_count": 27,
   "metadata": {},
   "outputs": [
    {
     "data": {
      "text/html": [
       "<div>\n",
       "<style scoped>\n",
       "    .dataframe tbody tr th:only-of-type {\n",
       "        vertical-align: middle;\n",
       "    }\n",
       "\n",
       "    .dataframe tbody tr th {\n",
       "        vertical-align: top;\n",
       "    }\n",
       "\n",
       "    .dataframe thead th {\n",
       "        text-align: right;\n",
       "    }\n",
       "</style>\n",
       "<table border=\"1\" class=\"dataframe\">\n",
       "  <thead>\n",
       "    <tr style=\"text-align: right;\">\n",
       "      <th></th>\n",
       "      <th>percent</th>\n",
       "      <th>sigma_x</th>\n",
       "      <th>sigma_xd</th>\n",
       "      <th>sigma_xy</th>\n",
       "      <th>sigma_y</th>\n",
       "      <th>sigma_yd</th>\n",
       "    </tr>\n",
       "  </thead>\n",
       "  <tbody>\n",
       "    <tr>\n",
       "      <th>0</th>\n",
       "      <td>15.0</td>\n",
       "      <td>1.020389</td>\n",
       "      <td>[0.24642895567240075, 0.23416783817803644]</td>\n",
       "      <td>1.017655</td>\n",
       "      <td>1.014922</td>\n",
       "      <td>[0.20299456942386293, 0.24035251603377777]</td>\n",
       "    </tr>\n",
       "    <tr>\n",
       "      <th>1</th>\n",
       "      <td>20.0</td>\n",
       "      <td>1.300021</td>\n",
       "      <td>[0.3523831447752424, 0.33390768867246945]</td>\n",
       "      <td>1.293269</td>\n",
       "      <td>1.286516</td>\n",
       "      <td>[0.3235887727904833, 0.3303919311440132]</td>\n",
       "    </tr>\n",
       "    <tr>\n",
       "      <th>2</th>\n",
       "      <td>50.0</td>\n",
       "      <td>3.074741</td>\n",
       "      <td>[1.2359792869486763, 1.2295046539405399]</td>\n",
       "      <td>3.089403</td>\n",
       "      <td>3.104064</td>\n",
       "      <td>[1.2550121778882104, 1.2382606065547748]</td>\n",
       "    </tr>\n",
       "    <tr>\n",
       "      <th>3</th>\n",
       "      <td>80.0</td>\n",
       "      <td>6.042370</td>\n",
       "      <td>[3.1447792239531553, 3.2164324641215707]</td>\n",
       "      <td>6.144976</td>\n",
       "      <td>6.247582</td>\n",
       "      <td>[3.2078125520953207, 3.147628845075649]</td>\n",
       "    </tr>\n",
       "  </tbody>\n",
       "</table>\n",
       "</div>"
      ],
      "text/plain": [
       "   percent   sigma_x                                    sigma_xd  sigma_xy  \\\n",
       "0     15.0  1.020389  [0.24642895567240075, 0.23416783817803644]  1.017655   \n",
       "1     20.0  1.300021   [0.3523831447752424, 0.33390768867246945]  1.293269   \n",
       "2     50.0  3.074741    [1.2359792869486763, 1.2295046539405399]  3.089403   \n",
       "3     80.0  6.042370    [3.1447792239531553, 3.2164324641215707]  6.144976   \n",
       "\n",
       "    sigma_y                                    sigma_yd  \n",
       "0  1.014922  [0.20299456942386293, 0.24035251603377777]  \n",
       "1  1.286516    [0.3235887727904833, 0.3303919311440132]  \n",
       "2  3.104064    [1.2550121778882104, 1.2382606065547748]  \n",
       "3  6.247582     [3.2078125520953207, 3.147628845075649]  "
      ]
     },
     "execution_count": 27,
     "metadata": {},
     "output_type": "execute_result"
    }
   ],
   "source": [
    "results_df"
   ]
  },
  {
   "cell_type": "markdown",
   "metadata": {},
   "source": [
    "And again, we get different values of that median estimate based on the 'knn' distance. And it changes depending upon the dimension as well."
   ]
  },
  {
   "cell_type": "code",
   "execution_count": null,
   "metadata": {},
   "outputs": [],
   "source": []
  }
 ],
 "metadata": {
  "kernelspec": {
   "display_name": "Python [conda env:.conda-hsic_align]",
   "language": "python",
   "name": "conda-env-.conda-hsic_align-py"
  },
  "language_info": {
   "codemirror_mode": {
    "name": "ipython",
    "version": 3
   },
   "file_extension": ".py",
   "mimetype": "text/x-python",
   "name": "python",
   "nbconvert_exporter": "python",
   "pygments_lexer": "ipython3",
   "version": "3.8.2"
  }
 },
 "nbformat": 4,
 "nbformat_minor": 4
}
